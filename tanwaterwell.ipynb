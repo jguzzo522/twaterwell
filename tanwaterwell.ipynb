{
 "cells": [
  {
   "cell_type": "markdown",
   "id": "7031b938-b7fe-48f1-80a1-2d1983265105",
   "metadata": {},
   "source": [
    "## Tanzania's Waterwell Problem \n",
    "by Jessica Guzzo \n",
    "\n",
    "This project aims to address the water crisis in Tanzania by predicting, when and where a water-well will be non-functional. Having non-functional water-wells is a very serious problem for the Tanzanian citizens. Water is a vital resource, and without a proper source, death can occur. This project should help the Tanzanian government, by giving them advance notice of where malfunctioning water-wells are, and allowing the government to allocate the necessary resources to mitigate the crisis. \n",
    "\n"
   ]
  },
  {
   "cell_type": "code",
   "execution_count": 1,
   "id": "ac1900c1-2be2-479d-b4fb-f01c3fec8ae6",
   "metadata": {},
   "outputs": [],
   "source": [
    "#Importing libraries needed for project\n",
    "import matplotlib.pyplot as plt\n",
    "from matplotlib.pylab import rcParams\n",
    "import seaborn as sns\n",
    "import pandas as pd\n",
    "import numpy as np\n",
    "import sys\n",
    "\n",
    "import sklearn as sk\n",
    "from sklearn import metrics\n",
    "from sklearn.model_selection import train_test_split, ShuffleSplit, learning_curve, GridSearchCV\n",
    "from sklearn.impute import SimpleImputer\n",
    "from sklearn.preprocessing import StandardScaler\n",
    "from sklearn.feature_selection import SelectKBest\n",
    "from sklearn.pipeline import Pipeline\n",
    "from sklearn.metrics import classification_report, confusion_matrix\n",
    "from sklearn.ensemble import RandomForestClassifier, GradientBoostingClassifier\n",
    "from sklearn.linear_model import LogisticRegression\n",
    "from sklearn.svm import SVC\n"
   ]
  },
  {
   "cell_type": "code",
   "execution_count": 2,
   "id": "1d7ee9ff-d040-4f77-8239-1cb1e602e92c",
   "metadata": {},
   "outputs": [
    {
     "name": "stdout",
     "output_type": "stream",
     "text": [
      "\n",
      "Training Set Labels:\n",
      "      id    status_group\n",
      "0  69572      functional\n",
      "1   8776      functional\n",
      "2  34310      functional\n",
      "3  67743  non functional\n",
      "4  19728      functional\n",
      "\n",
      "Training Set Values:\n",
      "      id  amount_tsh date_recorded        funder  gps_height     installer  \\\n",
      "0  69572      6000.0    2011-03-14         Roman        1390         Roman   \n",
      "1   8776         0.0    2013-03-06       Grumeti        1399       GRUMETI   \n",
      "2  34310        25.0    2013-02-25  Lottery Club         686  World vision   \n",
      "3  67743         0.0    2013-01-28        Unicef         263        UNICEF   \n",
      "4  19728         0.0    2011-07-13   Action In A           0       Artisan   \n",
      "\n",
      "   longitude   latitude              wpt_name  num_private  ... payment_type  \\\n",
      "0  34.938093  -9.856322                  none            0  ...     annually   \n",
      "1  34.698766  -2.147466              Zahanati            0  ...    never pay   \n",
      "2  37.460664  -3.821329           Kwa Mahundi            0  ...   per bucket   \n",
      "3  38.486161 -11.155298  Zahanati Ya Nanyumbu            0  ...    never pay   \n",
      "4  31.130847  -1.825359               Shuleni            0  ...    never pay   \n",
      "\n",
      "  water_quality quality_group      quantity  quantity_group  \\\n",
      "0          soft          good        enough          enough   \n",
      "1          soft          good  insufficient    insufficient   \n",
      "2          soft          good        enough          enough   \n",
      "3          soft          good           dry             dry   \n",
      "4          soft          good      seasonal        seasonal   \n",
      "\n",
      "                 source           source_type  source_class  \\\n",
      "0                spring                spring   groundwater   \n",
      "1  rainwater harvesting  rainwater harvesting       surface   \n",
      "2                   dam                   dam       surface   \n",
      "3           machine dbh              borehole   groundwater   \n",
      "4  rainwater harvesting  rainwater harvesting       surface   \n",
      "\n",
      "               waterpoint_type waterpoint_type_group  \n",
      "0           communal standpipe    communal standpipe  \n",
      "1           communal standpipe    communal standpipe  \n",
      "2  communal standpipe multiple    communal standpipe  \n",
      "3  communal standpipe multiple    communal standpipe  \n",
      "4           communal standpipe    communal standpipe  \n",
      "\n",
      "[5 rows x 40 columns]\n"
     ]
    }
   ],
   "source": [
    "#Loading the two dataframes that will be used\n",
    "\n",
    "# Load the CSV files into pandas DataFrames\n",
    "trainingsetlabels = pd.read_csv('/Users/jguzzo522/Desktop/twaterwell/trainingsetlabels.csv')\n",
    "trainingsetvalues = pd.read_csv('/Users/jguzzo522/Desktop/twaterwell/trainingsetvalues.csv')\n",
    "\n",
    "# Display the loaded datasets\n",
    "\n",
    "print(\"\\nTraining Set Labels:\")\n",
    "print(trainingsetlabels.head())\n",
    "print(\"\\nTraining Set Values:\")\n",
    "print(trainingsetvalues.head())\n"
   ]
  },
  {
   "cell_type": "code",
   "execution_count": 3,
   "id": "b80ec94c-287e-4cb7-8851-1fb26d94d2fb",
   "metadata": {},
   "outputs": [
    {
     "name": "stdout",
     "output_type": "stream",
     "text": [
      "Number of unique IDs in Training Set Labels: 59400\n",
      "Number of unique IDs in Training Set Values: 59400\n"
     ]
    }
   ],
   "source": [
    "# Check the number of unique IDs in each dataset\n",
    "training_labels_ids = set(trainingsetlabels['id'])\n",
    "training_values_ids = set(trainingsetvalues['id'])\n",
    "\n",
    "\n",
    "print(\"Number of unique IDs in Training Set Labels:\", len(training_labels_ids))\n",
    "print(\"Number of unique IDs in Training Set Values:\", len(training_values_ids))\n"
   ]
  },
  {
   "cell_type": "markdown",
   "id": "ac5f75bb-dc0e-4f8a-b14d-010dd7776670",
   "metadata": {},
   "source": [
    "## Merging Training Set Values \n",
    "\n",
    "In order to analyze the data, a single dataset was created by merging 'training_labels_ids' and 'training_values_ids'. Merging the data, allows for a simplified process and allows for a single model to predict the functionality of water-wells. We can do this by viewing the impact of different features, and seeing how they impact the 'status_group' (water functionality). This will allow the government of Tanzania, to make faster repairs to water-wells in need.\n"
   ]
  },
  {
   "cell_type": "code",
   "execution_count": 4,
   "id": "42f0b9eb-c04f-45a5-a5df-be925a4ab993",
   "metadata": {},
   "outputs": [
    {
     "name": "stdout",
     "output_type": "stream",
     "text": [
      "          id  amount_tsh date_recorded           funder  gps_height  \\\n",
      "0      69572      6000.0    2011-03-14            Roman        1390   \n",
      "1       8776         0.0    2013-03-06          Grumeti        1399   \n",
      "2      34310        25.0    2013-02-25     Lottery Club         686   \n",
      "3      67743         0.0    2013-01-28           Unicef         263   \n",
      "4      19728         0.0    2011-07-13      Action In A           0   \n",
      "...      ...         ...           ...              ...         ...   \n",
      "59395  60739        10.0    2013-05-03  Germany Republi        1210   \n",
      "59396  27263      4700.0    2011-05-07      Cefa-njombe        1212   \n",
      "59397  37057         0.0    2011-04-11              NaN           0   \n",
      "59398  31282         0.0    2011-03-08            Malec           0   \n",
      "59399  26348         0.0    2011-03-23       World Bank         191   \n",
      "\n",
      "          installer  longitude   latitude              wpt_name  num_private  \\\n",
      "0             Roman  34.938093  -9.856322                  none            0   \n",
      "1           GRUMETI  34.698766  -2.147466              Zahanati            0   \n",
      "2      World vision  37.460664  -3.821329           Kwa Mahundi            0   \n",
      "3            UNICEF  38.486161 -11.155298  Zahanati Ya Nanyumbu            0   \n",
      "4           Artisan  31.130847  -1.825359               Shuleni            0   \n",
      "...             ...        ...        ...                   ...          ...   \n",
      "59395           CES  37.169807  -3.253847   Area Three Namba 27            0   \n",
      "59396          Cefa  35.249991  -9.070629     Kwa Yahona Kuvala            0   \n",
      "59397           NaN  34.017087  -8.750434               Mashine            0   \n",
      "59398          Musa  35.861315  -6.378573                Mshoro            0   \n",
      "59399         World  38.104048  -6.747464       Kwa Mzee Lugawa            0   \n",
      "\n",
      "       ... water_quality quality_group      quantity  quantity_group  \\\n",
      "0      ...          soft          good        enough          enough   \n",
      "1      ...          soft          good  insufficient    insufficient   \n",
      "2      ...          soft          good        enough          enough   \n",
      "3      ...          soft          good           dry             dry   \n",
      "4      ...          soft          good      seasonal        seasonal   \n",
      "...    ...           ...           ...           ...             ...   \n",
      "59395  ...          soft          good        enough          enough   \n",
      "59396  ...          soft          good        enough          enough   \n",
      "59397  ...      fluoride      fluoride        enough          enough   \n",
      "59398  ...          soft          good  insufficient    insufficient   \n",
      "59399  ...         salty         salty        enough          enough   \n",
      "\n",
      "                     source           source_type source_class  \\\n",
      "0                    spring                spring  groundwater   \n",
      "1      rainwater harvesting  rainwater harvesting      surface   \n",
      "2                       dam                   dam      surface   \n",
      "3               machine dbh              borehole  groundwater   \n",
      "4      rainwater harvesting  rainwater harvesting      surface   \n",
      "...                     ...                   ...          ...   \n",
      "59395                spring                spring  groundwater   \n",
      "59396                 river            river/lake      surface   \n",
      "59397           machine dbh              borehole  groundwater   \n",
      "59398          shallow well          shallow well  groundwater   \n",
      "59399          shallow well          shallow well  groundwater   \n",
      "\n",
      "                   waterpoint_type waterpoint_type_group    status_group  \n",
      "0               communal standpipe    communal standpipe      functional  \n",
      "1               communal standpipe    communal standpipe      functional  \n",
      "2      communal standpipe multiple    communal standpipe      functional  \n",
      "3      communal standpipe multiple    communal standpipe  non functional  \n",
      "4               communal standpipe    communal standpipe      functional  \n",
      "...                            ...                   ...             ...  \n",
      "59395           communal standpipe    communal standpipe      functional  \n",
      "59396           communal standpipe    communal standpipe      functional  \n",
      "59397                    hand pump             hand pump      functional  \n",
      "59398                    hand pump             hand pump      functional  \n",
      "59399                    hand pump             hand pump      functional  \n",
      "\n",
      "[59400 rows x 41 columns]\n"
     ]
    }
   ],
   "source": [
    "import pandas as pd\n",
    "\n",
    "# Load the CSV files into pandas DataFrames\n",
    "training_set_labels = pd.read_csv('/Users/jguzzo522/Desktop/twaterwell/trainingsetlabels.csv')\n",
    "training_set_values = pd.read_csv('/Users/jguzzo522/Desktop/twaterwell/trainingsetvalues.csv')\n",
    "\n",
    "# Merge the datasets on the 'id' column\n",
    "merged_data = pd.merge(training_set_values, training_set_labels, on='id', how='inner')\n",
    "\n",
    "# Display the merged dataset\n",
    "print(merged_data)\n"
   ]
  },
  {
   "cell_type": "code",
   "execution_count": 5,
   "id": "9b589f62-97d8-4196-9b9e-32c2c09a5dc1",
   "metadata": {},
   "outputs": [
    {
     "data": {
      "text/html": [
       "<div>\n",
       "<style scoped>\n",
       "    .dataframe tbody tr th:only-of-type {\n",
       "        vertical-align: middle;\n",
       "    }\n",
       "\n",
       "    .dataframe tbody tr th {\n",
       "        vertical-align: top;\n",
       "    }\n",
       "\n",
       "    .dataframe thead th {\n",
       "        text-align: right;\n",
       "    }\n",
       "</style>\n",
       "<table border=\"1\" class=\"dataframe\">\n",
       "  <thead>\n",
       "    <tr style=\"text-align: right;\">\n",
       "      <th></th>\n",
       "      <th>id</th>\n",
       "      <th>amount_tsh</th>\n",
       "      <th>date_recorded</th>\n",
       "      <th>funder</th>\n",
       "      <th>gps_height</th>\n",
       "      <th>installer</th>\n",
       "      <th>longitude</th>\n",
       "      <th>latitude</th>\n",
       "      <th>wpt_name</th>\n",
       "      <th>num_private</th>\n",
       "      <th>...</th>\n",
       "      <th>water_quality</th>\n",
       "      <th>quality_group</th>\n",
       "      <th>quantity</th>\n",
       "      <th>quantity_group</th>\n",
       "      <th>source</th>\n",
       "      <th>source_type</th>\n",
       "      <th>source_class</th>\n",
       "      <th>waterpoint_type</th>\n",
       "      <th>waterpoint_type_group</th>\n",
       "      <th>status_group</th>\n",
       "    </tr>\n",
       "  </thead>\n",
       "  <tbody>\n",
       "    <tr>\n",
       "      <th>0</th>\n",
       "      <td>69572</td>\n",
       "      <td>6000.0</td>\n",
       "      <td>2011-03-14</td>\n",
       "      <td>Roman</td>\n",
       "      <td>1390</td>\n",
       "      <td>Roman</td>\n",
       "      <td>34.938093</td>\n",
       "      <td>-9.856322</td>\n",
       "      <td>none</td>\n",
       "      <td>0</td>\n",
       "      <td>...</td>\n",
       "      <td>soft</td>\n",
       "      <td>good</td>\n",
       "      <td>enough</td>\n",
       "      <td>enough</td>\n",
       "      <td>spring</td>\n",
       "      <td>spring</td>\n",
       "      <td>groundwater</td>\n",
       "      <td>communal standpipe</td>\n",
       "      <td>communal standpipe</td>\n",
       "      <td>functional</td>\n",
       "    </tr>\n",
       "    <tr>\n",
       "      <th>1</th>\n",
       "      <td>8776</td>\n",
       "      <td>0.0</td>\n",
       "      <td>2013-03-06</td>\n",
       "      <td>Grumeti</td>\n",
       "      <td>1399</td>\n",
       "      <td>GRUMETI</td>\n",
       "      <td>34.698766</td>\n",
       "      <td>-2.147466</td>\n",
       "      <td>Zahanati</td>\n",
       "      <td>0</td>\n",
       "      <td>...</td>\n",
       "      <td>soft</td>\n",
       "      <td>good</td>\n",
       "      <td>insufficient</td>\n",
       "      <td>insufficient</td>\n",
       "      <td>rainwater harvesting</td>\n",
       "      <td>rainwater harvesting</td>\n",
       "      <td>surface</td>\n",
       "      <td>communal standpipe</td>\n",
       "      <td>communal standpipe</td>\n",
       "      <td>functional</td>\n",
       "    </tr>\n",
       "    <tr>\n",
       "      <th>2</th>\n",
       "      <td>34310</td>\n",
       "      <td>25.0</td>\n",
       "      <td>2013-02-25</td>\n",
       "      <td>Lottery Club</td>\n",
       "      <td>686</td>\n",
       "      <td>World vision</td>\n",
       "      <td>37.460664</td>\n",
       "      <td>-3.821329</td>\n",
       "      <td>Kwa Mahundi</td>\n",
       "      <td>0</td>\n",
       "      <td>...</td>\n",
       "      <td>soft</td>\n",
       "      <td>good</td>\n",
       "      <td>enough</td>\n",
       "      <td>enough</td>\n",
       "      <td>dam</td>\n",
       "      <td>dam</td>\n",
       "      <td>surface</td>\n",
       "      <td>communal standpipe multiple</td>\n",
       "      <td>communal standpipe</td>\n",
       "      <td>functional</td>\n",
       "    </tr>\n",
       "    <tr>\n",
       "      <th>3</th>\n",
       "      <td>67743</td>\n",
       "      <td>0.0</td>\n",
       "      <td>2013-01-28</td>\n",
       "      <td>Unicef</td>\n",
       "      <td>263</td>\n",
       "      <td>UNICEF</td>\n",
       "      <td>38.486161</td>\n",
       "      <td>-11.155298</td>\n",
       "      <td>Zahanati Ya Nanyumbu</td>\n",
       "      <td>0</td>\n",
       "      <td>...</td>\n",
       "      <td>soft</td>\n",
       "      <td>good</td>\n",
       "      <td>dry</td>\n",
       "      <td>dry</td>\n",
       "      <td>machine dbh</td>\n",
       "      <td>borehole</td>\n",
       "      <td>groundwater</td>\n",
       "      <td>communal standpipe multiple</td>\n",
       "      <td>communal standpipe</td>\n",
       "      <td>non functional</td>\n",
       "    </tr>\n",
       "    <tr>\n",
       "      <th>4</th>\n",
       "      <td>19728</td>\n",
       "      <td>0.0</td>\n",
       "      <td>2011-07-13</td>\n",
       "      <td>Action In A</td>\n",
       "      <td>0</td>\n",
       "      <td>Artisan</td>\n",
       "      <td>31.130847</td>\n",
       "      <td>-1.825359</td>\n",
       "      <td>Shuleni</td>\n",
       "      <td>0</td>\n",
       "      <td>...</td>\n",
       "      <td>soft</td>\n",
       "      <td>good</td>\n",
       "      <td>seasonal</td>\n",
       "      <td>seasonal</td>\n",
       "      <td>rainwater harvesting</td>\n",
       "      <td>rainwater harvesting</td>\n",
       "      <td>surface</td>\n",
       "      <td>communal standpipe</td>\n",
       "      <td>communal standpipe</td>\n",
       "      <td>functional</td>\n",
       "    </tr>\n",
       "  </tbody>\n",
       "</table>\n",
       "<p>5 rows × 41 columns</p>\n",
       "</div>"
      ],
      "text/plain": [
       "      id  amount_tsh date_recorded        funder  gps_height     installer  \\\n",
       "0  69572      6000.0    2011-03-14         Roman        1390         Roman   \n",
       "1   8776         0.0    2013-03-06       Grumeti        1399       GRUMETI   \n",
       "2  34310        25.0    2013-02-25  Lottery Club         686  World vision   \n",
       "3  67743         0.0    2013-01-28        Unicef         263        UNICEF   \n",
       "4  19728         0.0    2011-07-13   Action In A           0       Artisan   \n",
       "\n",
       "   longitude   latitude              wpt_name  num_private  ... water_quality  \\\n",
       "0  34.938093  -9.856322                  none            0  ...          soft   \n",
       "1  34.698766  -2.147466              Zahanati            0  ...          soft   \n",
       "2  37.460664  -3.821329           Kwa Mahundi            0  ...          soft   \n",
       "3  38.486161 -11.155298  Zahanati Ya Nanyumbu            0  ...          soft   \n",
       "4  31.130847  -1.825359               Shuleni            0  ...          soft   \n",
       "\n",
       "  quality_group      quantity  quantity_group                source  \\\n",
       "0          good        enough          enough                spring   \n",
       "1          good  insufficient    insufficient  rainwater harvesting   \n",
       "2          good        enough          enough                   dam   \n",
       "3          good           dry             dry           machine dbh   \n",
       "4          good      seasonal        seasonal  rainwater harvesting   \n",
       "\n",
       "            source_type source_class              waterpoint_type  \\\n",
       "0                spring  groundwater           communal standpipe   \n",
       "1  rainwater harvesting      surface           communal standpipe   \n",
       "2                   dam      surface  communal standpipe multiple   \n",
       "3              borehole  groundwater  communal standpipe multiple   \n",
       "4  rainwater harvesting      surface           communal standpipe   \n",
       "\n",
       "  waterpoint_type_group    status_group  \n",
       "0    communal standpipe      functional  \n",
       "1    communal standpipe      functional  \n",
       "2    communal standpipe      functional  \n",
       "3    communal standpipe  non functional  \n",
       "4    communal standpipe      functional  \n",
       "\n",
       "[5 rows x 41 columns]"
      ]
     },
     "execution_count": 5,
     "metadata": {},
     "output_type": "execute_result"
    }
   ],
   "source": [
    "\n",
    "# Display the first few rows of the merged dataset\n",
    "merged_data.head()\n",
    "\n"
   ]
  },
  {
   "cell_type": "markdown",
   "id": "bedd2eeb-75c2-45f8-9a83-39fd1adaeaad",
   "metadata": {},
   "source": [
    "## Exploring the data\n"
   ]
  },
  {
   "cell_type": "code",
   "execution_count": 6,
   "id": "e7067276-0d40-4921-9149-23dacde6d305",
   "metadata": {},
   "outputs": [
    {
     "name": "stdout",
     "output_type": "stream",
     "text": [
      "id                       59400\n",
      "amount_tsh                  98\n",
      "date_recorded              356\n",
      "funder                    1897\n",
      "gps_height                2428\n",
      "installer                 2145\n",
      "longitude                57516\n",
      "latitude                 57517\n",
      "wpt_name                 37400\n",
      "num_private                 65\n",
      "basin                        9\n",
      "subvillage               19287\n",
      "region                      21\n",
      "region_code                 27\n",
      "district_code               20\n",
      "lga                        125\n",
      "ward                      2092\n",
      "population                1049\n",
      "public_meeting               2\n",
      "recorded_by                  1\n",
      "scheme_management           12\n",
      "scheme_name               2696\n",
      "permit                       2\n",
      "construction_year           55\n",
      "extraction_type             18\n",
      "extraction_type_group       13\n",
      "extraction_type_class        7\n",
      "management                  12\n",
      "management_group             5\n",
      "payment                      7\n",
      "payment_type                 7\n",
      "water_quality                8\n",
      "quality_group                6\n",
      "quantity                     5\n",
      "quantity_group               5\n",
      "source                      10\n",
      "source_type                  7\n",
      "source_class                 3\n",
      "waterpoint_type              7\n",
      "waterpoint_type_group        6\n",
      "status_group                 3\n",
      "dtype: int64\n"
     ]
    }
   ],
   "source": [
    "# Get the number of unique values for each column in the merged dataset\n",
    "unique_values_counts = merged_data.nunique()\n",
    "\n",
    "# Display the number of unique values for each column\n",
    "print(unique_values_counts)\n"
   ]
  },
  {
   "cell_type": "markdown",
   "id": "5e90421b-86a9-448b-9975-eccb553b9df9",
   "metadata": {},
   "source": [
    "| Column                | Description                                                   |\n",
    "|-----------------------|---------------------------------------------------------------|\n",
    "| id                    | Unique identifier for each water point                        |\n",
    "| amount_tsh            | Total static head (amount of water available at water point)  |\n",
    "| date_recorded         | Date the information was entered into the database            |\n",
    "| funder                | Organization that funded the well                             |\n",
    "| gps_height            | Elevation of the water point                                  |\n",
    "| installer             | Organization that installed the well                          |\n",
    "| longitude             | Geographic longitude of the water point                       |\n",
    "| latitude              | Geographic latitude of the water point                        |\n",
    "| wpt_name              | Name of the water point                                       |\n",
    "| num_private           | Private individuals or entities associated with the well      |\n",
    "| basin                 | Geographic water basin                                        |\n",
    "| subvillage            | Subvillage where the water point is located                   |\n",
    "| region                | Geographic region                                             |\n",
    "| region_code           | Coded form of the geographic region                           |\n",
    "| district_code         | Coded form of the geographic district                         |\n",
    "| lga                   | Local Government Area                                         |\n",
    "| ward                  | Geographic ward                                               |\n",
    "| population            | Estimated population using the water point                    |\n",
    "| public_meeting        | If there was a public meeting about the water point           |\n",
    "| recorded_by           | Entity that entered the data into the database                |\n",
    "| scheme_management     | Organization managing the water scheme                        |\n",
    "| scheme_name           | Name of the water scheme                                      |\n",
    "| permit                | If the water point is permitted                               |\n",
    "| construction_year     | Year the water point was constructed                          |\n",
    "| extraction_type       | The kind of extraction the water point uses                   |\n",
    "| extraction_type_group | Group classification of the extraction type                   |\n",
    "| extraction_type_class | Class classification of the extraction type                   |\n",
    "| management            | How the water point is managed                                |\n",
    "| management_group      | Group classification of management                            |\n",
    "| payment               | The payment structure for the water point                     |\n",
    "| payment_type          | Type of payment                                               |\n",
    "| water_quality         | Quality of the water                                          |\n",
    "| quality_group         | Group classification of water quality                         |\n",
    "| quantity              | The quantity of water available                               |\n",
    "| quantity_group        | Group classification of water quantity                        |\n",
    "| source                | The source of the water                                       |\n",
    "| source_type           | Type of source                                                |\n",
    "| source_class          | Class of water source                                         |\n",
    "| waterpoint_type       | The kind of water point                                       |\n",
    "| waterpoint_type_group | Group classification of the water point type                  |\n",
    "| status_group          | The functionality status of the water point                   |\n",
    "\n"
   ]
  },
  {
   "cell_type": "markdown",
   "id": "4c044782-a5ad-4dbd-8c36-fdfa30cc6742",
   "metadata": {},
   "source": [
    "## Converting the Dependent Variable 'status_group' from Trinary to Binary\n",
    "\n",
    "The values of 'status_group', were adjusted from a Trinary value of 'functional', 'function_needs_repair', and 'non-functional', to a binary classification of 'functional' , and 'non-functional'. The group that was labeled as repair, was added to the 'functional' category. \n",
    "\n"
   ]
  },
  {
   "cell_type": "code",
   "execution_count": 7,
   "id": "888e9bc4-75d6-4042-91bd-28fc1624f7c5",
   "metadata": {},
   "outputs": [
    {
     "data": {
      "image/png": "[encoded data removed]",
      "text/plain": [
       "<Figure size 800x600 with 1 Axes>"
      ]
     },
     "metadata": {},
     "output_type": "display_data"
    }
   ],
   "source": [
    "import matplotlib.pyplot as plt\n",
    "import seaborn as sns\n",
    "\n",
    "# Set the color palette for each category\n",
    "color_palette = {'functional': 'green', 'functional needs repair': 'blue', 'non functional': 'red'}\n",
    "\n",
    "# Set figure size\n",
    "plt.figure(figsize=(8, 6))\n",
    "\n",
    "# Plot the counts of each category with custom colors\n",
    "sns.countplot(data=merged_data, x='status_group', palette=color_palette)\n",
    "\n",
    "# Add labels and title\n",
    "plt.title('Distribution of Status Group')\n",
    "plt.xlabel('Status Group')\n",
    "plt.ylabel('Count')\n",
    "\n",
    "# Show plot\n",
    "plt.show()\n"
   ]
  },
  {
   "cell_type": "code",
   "execution_count": 8,
   "id": "41018aaf-0227-4c03-b8e2-e141384f1d74",
   "metadata": {},
   "outputs": [],
   "source": [
    "# Combine 'functional' and 'functional needs repair' as positive class\n",
    "merged_data['status_group_binary'] = np.where(\n",
    "    merged_data['status_group'].isin(['functional', 'functional needs repair']), 1, 0\n",
    ")\n",
    "\n",
    "# Drop the original 'status_group' column\n",
    "merged_data.drop(columns=['status_group'], inplace=True)"
   ]
  },
  {
   "cell_type": "code",
   "execution_count": 9,
   "id": "df63acbc-0d27-40a6-880d-b9d7aa00c24c",
   "metadata": {},
   "outputs": [
    {
     "data": {
      "image/png": "[encoded data removed]",
      "text/plain": [
       "<Figure size 800x600 with 1 Axes>"
      ]
     },
     "metadata": {},
     "output_type": "display_data"
    }
   ],
   "source": [
    "import matplotlib.pyplot as plt\n",
    "import seaborn as sns\n",
    "\n",
    "# Set figure size\n",
    "plt.figure(figsize=(8, 6))\n",
    "\n",
    "# Define color palette\n",
    "color_palette = {1: 'green', 0: 'red'}\n",
    "\n",
    "# Plot the counts of each category with custom colors\n",
    "sns.countplot(data=merged_data, x='status_group_binary', palette=color_palette)\n",
    "\n",
    "# Set the x-axis tick labels\n",
    "plt.xticks(ticks=[1, 0], labels=['Functional', 'Non-Functional'])\n",
    "\n",
    "# Add labels and title\n",
    "plt.title('Distribution of Status Group')\n",
    "plt.xlabel('Status Group')\n",
    "plt.ylabel('Count')\n",
    "\n",
    "# Show plot\n",
    "plt.show()\n"
   ]
  },
  {
   "cell_type": "markdown",
   "id": "eeffb24a-3260-47ad-bd1a-63794c838a2a",
   "metadata": {},
   "source": [
    "## Removal of \"columns\n",
    "\n",
    " #### Funder \n",
    "The column \"funder\" contains 1897 values. Attempting to analyze how 1897 different values would be very time-consuming and might not provide significant insights due to the sheer volume of categories. In order to preserve time, we decided to remove this column. \n",
    "\n"
   ]
  },
  {
   "cell_type": "code",
   "execution_count": 10,
   "id": "8ab47bbd-4d7d-4864-8d9f-6b35a47c93d4",
   "metadata": {},
   "outputs": [
    {
     "name": "stdout",
     "output_type": "stream",
     "text": [
      "Number of unique values: 1897\n",
      "Unique values:\n",
      "['Roman' 'Grumeti' 'Lottery Club' ... 'Dina' 'Brown' 'Samlo']\n"
     ]
    }
   ],
   "source": [
    "# Count the number of unique values\n",
    "num_unique_values = merged_data['funder'].nunique()\n",
    "\n",
    "# Display the number of unique values\n",
    "print(\"Number of unique values:\", num_unique_values)\n",
    "\n",
    "# Display the unique values\n",
    "unique_values = merged_data['funder'].unique()\n",
    "print(\"Unique values:\")\n",
    "print(unique_values)\n"
   ]
  },
  {
   "cell_type": "code",
   "execution_count": 11,
   "id": "2b7ceb27-22f7-41ef-839f-b53c6e4f529b",
   "metadata": {},
   "outputs": [],
   "source": [
    "# Drop the \"funder\" column\n",
    "merged_data.drop(columns=['funder'], inplace=True)\n"
   ]
  },
  {
   "cell_type": "markdown",
   "id": "d4605677-0c5a-4056-9bed-cb72c89c974c",
   "metadata": {},
   "source": [
    "#### 'Subvillage'"
   ]
  },
  {
   "cell_type": "markdown",
   "id": "09dd3358-9014-44b9-b3e0-91a9336a03d9",
   "metadata": {},
   "source": [
    "Similarly to the 'funder' column, the 'subvillage' column had a tremendous amount of unique values (19,287). While knowing were the water-wells are non-functional is important, there were other columns in the dataset that could provide the geographic information needed. The 'subvillage' column was removed to improve the models predictive ability. \n"
   ]
  },
  {
   "cell_type": "code",
   "execution_count": 12,
   "id": "cafa0ea9-ecd1-4267-9985-869e327702a9",
   "metadata": {},
   "outputs": [],
   "source": [
    "# Drop the \"subvillage\" column\n",
    "merged_data.drop(columns=['subvillage'], inplace=True)\n"
   ]
  },
  {
   "cell_type": "markdown",
   "id": "889cd6c6-99a1-4f6e-a26c-2e75f3ad2f01",
   "metadata": {},
   "source": [
    "#### 'Wpt_name'"
   ]
  },
  {
   "cell_type": "markdown",
   "id": "cd7e693a-d5b1-47d8-a1c5-b76773540d2a",
   "metadata": {},
   "source": [
    "Another column with a large amount of unique vales was 'Wpt_name' (37,400). There are too many unique values to provide predictive value. This column was removed. "
   ]
  },
  {
   "cell_type": "code",
   "execution_count": 13,
   "id": "b7f9d956-49f5-47a4-af52-27c017771f84",
   "metadata": {},
   "outputs": [],
   "source": [
    "# Drop the \"wpt_name\" column\n",
    "merged_data.drop(columns=['wpt_name'], inplace=True)\n"
   ]
  },
  {
   "cell_type": "markdown",
   "id": "3a431c0d-b789-4e73-b12c-60c561e46f89",
   "metadata": {},
   "source": [
    "#### 'scheme_management' and 'scheme_name'\n",
    "Investigation into columns  'scheme_management' and 'scheme_name', indicated that these were duplicate values. Both of these columns represented the group responsible for operating the water-well. However, 'scheme_management had only 12 unique values, where 'scheme_name' had 2696 values. To make the data more managble, 'scheme_name' was removed. \n"
   ]
  },
  {
   "cell_type": "code",
   "execution_count": 14,
   "id": "04a06e62-b7a6-4756-a009-768bfbcc826b",
   "metadata": {},
   "outputs": [],
   "source": [
    "# Drop the \"scheme_name\" column\n",
    "merged_data.drop(columns=['scheme_name'], inplace=True)"
   ]
  },
  {
   "cell_type": "markdown",
   "id": "55b61226-667a-4981-a02b-1c7927ed8bfc",
   "metadata": {},
   "source": [
    "#### 'Installer\n",
    "\n",
    "Similar to other columns, 'installer' had a vast number of unique values (2,146). For this reason to simplify the dataset this column was removed from analysis.\n"
   ]
  },
  {
   "cell_type": "code",
   "execution_count": 15,
   "id": "3a88d0c2-fa0f-4ff5-8b27-e15b877ff601",
   "metadata": {},
   "outputs": [
    {
     "name": "stdout",
     "output_type": "stream",
     "text": [
      "Number of unique installers: 2146\n",
      "Unique installers: ['Roman' 'GRUMETI' 'World vision' 'UNICEF' 'Artisan' 'DWE' 'DWSP'\n",
      " 'Water Aid' 'Private' 'DANIDA']\n"
     ]
    }
   ],
   "source": [
    "# Check the number of unique values in the 'installer' column\n",
    "num_unique_installers = len(merged_data['installer'].unique())\n",
    "print(\"Number of unique installers:\", num_unique_installers)\n",
    "\n",
    "# Display some of the unique values in the 'installer' column\n",
    "unique_installers = merged_data['installer'].unique()\n",
    "print(\"Unique installers:\", unique_installers[:10])  # Displaying the first 10 unique values\n"
   ]
  },
  {
   "cell_type": "code",
   "execution_count": 16,
   "id": "4e75c6c2-60b2-4f85-96e0-ea2e99527e95",
   "metadata": {},
   "outputs": [],
   "source": [
    "# Drop the \"installer\" column\n",
    "merged_data.drop(columns=['installer'], inplace=True)\n"
   ]
  },
  {
   "cell_type": "markdown",
   "id": "7df280d3-a6de-4cef-b01a-06dc283e896d",
   "metadata": {},
   "source": [
    "#### 'Mangement' and 'management_group'\n",
    "\n",
    "The columns management' and 'management_group' are duplicate columns. One of these columns needed to be removed. The 'management' column had 12 unique values, while the 'managment_group' only had 5 unique values. It was decided to remove the 'management_group' column because the 'management' column had a manageable amount of values and offered more unique values, which could help the Tanzanian government pinpoint the problem. "
   ]
  },
  {
   "cell_type": "code",
   "execution_count": 17,
   "id": "296765d4-954f-4a39-9fa3-bb44b7ba9592",
   "metadata": {},
   "outputs": [
    {
     "name": "stdout",
     "output_type": "stream",
     "text": [
      "Unique values in 'management':\n",
      "['vwc' 'wug' 'other' 'private operator' 'water board' 'wua' 'company'\n",
      " 'water authority' 'parastatal' 'unknown' 'other - school' 'trust']\n",
      "\n",
      "Unique values in 'management_group':\n",
      "['user-group' 'other' 'commercial' 'parastatal' 'unknown']\n"
     ]
    }
   ],
   "source": [
    "unique_management_values = merged_data['management'].unique()\n",
    "unique_management_group_values = merged_data['management_group'].unique()\n",
    "\n",
    "print(\"Unique values in 'management':\")\n",
    "print(unique_management_values)\n",
    "\n",
    "print(\"\\nUnique values in 'management_group':\")\n",
    "print(unique_management_group_values)\n"
   ]
  },
  {
   "cell_type": "code",
   "execution_count": 18,
   "id": "17cf6fa8-a588-45be-86db-12b275291d90",
   "metadata": {},
   "outputs": [],
   "source": [
    "# Drop the \"managment\" column\n",
    "merged_data.drop(columns=['management'], inplace=True)"
   ]
  },
  {
   "cell_type": "markdown",
   "id": "fdc56f61-4332-4145-9ec1-600081eb3ad7",
   "metadata": {},
   "source": [
    "#### 'Waterpoint_type_group' \n",
    "\n",
    "While reviewing the 'waterpoint_type' and 'waterpoint_type_group' columns, it's was clear that these were duplicate columns that represented categories of water points . However, 'waterpoint_type' provides more detailed distinctions with seven  values, while 'waterpoint_type_group' only has 6 categories. By keeping the column with slightly more categories, it is hopeful that we can provide the Tanzanian government with more insights. For this reason 'waterpoint_type_group' was removed.\n"
   ]
  },
  {
   "cell_type": "code",
   "execution_count": 19,
   "id": "5ae2ded8-39f9-4c13-bd73-c4b8de561517",
   "metadata": {},
   "outputs": [
    {
     "name": "stdout",
     "output_type": "stream",
     "text": [
      "Unique values in 'waterpoint_type':\n",
      "['communal standpipe' 'communal standpipe multiple' 'hand pump' 'other'\n",
      " 'improved spring' 'cattle trough' 'dam']\n",
      "\n",
      "Unique values in 'waterpoint_type_group':\n",
      "['communal standpipe' 'hand pump' 'other' 'improved spring'\n",
      " 'cattle trough' 'dam']\n"
     ]
    }
   ],
   "source": [
    "# Unique values in 'waterpoint_type'\n",
    "print(\"Unique values in 'waterpoint_type':\")\n",
    "print(merged_data['waterpoint_type'].unique())\n",
    "\n",
    "# Unique values in 'waterpoint_type_group'\n",
    "print(\"\\nUnique values in 'waterpoint_type_group':\")\n",
    "print(merged_data['waterpoint_type_group'].unique())\n"
   ]
  },
  {
   "cell_type": "code",
   "execution_count": 20,
   "id": "1fc784a5-adc9-49f2-bdbe-ad6015f65adc",
   "metadata": {},
   "outputs": [],
   "source": [
    "# Drop the \"waterpoint_type_group\" column\n",
    "merged_data.drop(columns=['waterpoint_type_group'], inplace=True)"
   ]
  },
  {
   "cell_type": "markdown",
   "id": "483e5089-49a3-423d-9cf1-295b4c21aae6",
   "metadata": {},
   "source": [
    "#### 'Quantity_group'\n",
    "Upon examination, it was clear these two columns were identical. Therefore it was appropriate to remove one column and so 'quantity_group' was dropped."
   ]
  },
  {
   "cell_type": "code",
   "execution_count": 21,
   "id": "38769ef7-3cd5-4b9b-b0af-d3afd0ac6a39",
   "metadata": {},
   "outputs": [
    {
     "name": "stdout",
     "output_type": "stream",
     "text": [
      "Unique values in 'quantity':\n",
      "['enough' 'insufficient' 'dry' 'seasonal' 'unknown']\n",
      "\n",
      "Unique values in 'quantity_group':\n",
      "['enough' 'insufficient' 'dry' 'seasonal' 'unknown']\n",
      "Number of NaN values in 'quantity': 0\n",
      "Number of NaN values in 'quantity_group': 0\n"
     ]
    }
   ],
   "source": [
    "print(\"Unique values in 'quantity':\")\n",
    "print(merged_data['quantity'].unique())\n",
    "\n",
    "print(\"\\nUnique values in 'quantity_group':\")\n",
    "print(merged_data['quantity_group'].unique())\n",
    "print(\"Number of NaN values in 'quantity':\", merged_data['quantity'].isna().sum())\n",
    "print(\"Number of NaN values in 'quantity_group':\", merged_data['quantity_group'].isna().sum())\n",
    "\n"
   ]
  },
  {
   "cell_type": "code",
   "execution_count": 22,
   "id": "95a80a31-988f-47f1-8921-59f37bd19da0",
   "metadata": {},
   "outputs": [],
   "source": [
    "# Drop the \"quantity_group\" column\n",
    "merged_data.drop(columns=['quantity_group'], inplace=True)"
   ]
  },
  {
   "cell_type": "markdown",
   "id": "653d630c-dad4-478e-87d6-31d06a00d145",
   "metadata": {},
   "source": [
    "#### 'Quality_group' \n",
    "\n",
    "The values in the 'water_quality and 'quality_group' columns, are duplicate columns. They represent the quality of water. However, 'water_quality' is more detailed  with eight unique values, while 'quality_group' only has six categories. This column seems significant in predicting water-well functionality and for this reason, it was deemed reasonable to keep the column with more detailed values. The column 'quality_group' was removed from the dataset. \n"
   ]
  },
  {
   "cell_type": "code",
   "execution_count": 23,
   "id": "49dd679e-f07d-49b0-b182-52513dcd1ade",
   "metadata": {},
   "outputs": [
    {
     "name": "stdout",
     "output_type": "stream",
     "text": [
      "Unique values in 'water_quality':\n",
      "['soft' 'salty' 'milky' 'unknown' 'fluoride' 'coloured' 'salty abandoned'\n",
      " 'fluoride abandoned']\n",
      "\n",
      "Unique values in 'quality_group':\n",
      "['good' 'salty' 'milky' 'unknown' 'fluoride' 'colored']\n",
      "Number of NaN values in 'water_quality': 0\n",
      "Number of NaN values in 'quality_group': 0\n"
     ]
    }
   ],
   "source": [
    "print(\"Unique values in 'water_quality':\")\n",
    "print(merged_data['water_quality'].unique())\n",
    "\n",
    "print(\"\\nUnique values in 'quality_group':\")\n",
    "print(merged_data['quality_group'].unique())\n",
    "print(\"Number of NaN values in 'water_quality':\", merged_data['water_quality'].isna().sum())\n",
    "print(\"Number of NaN values in 'quality_group':\", merged_data['quality_group'].isna().sum())\n"
   ]
  },
  {
   "cell_type": "code",
   "execution_count": 24,
   "id": "4e72672f-9b5a-4f38-a9fc-bd54c6ee529f",
   "metadata": {},
   "outputs": [
    {
     "name": "stdout",
     "output_type": "stream",
     "text": [
      "Number of 'unknown' values in 'water_quality': 1876\n",
      "Number of 'unknown' values in 'quality_group': 1876\n"
     ]
    }
   ],
   "source": [
    "# Count occurrences of 'unknown' in 'water_quality'\n",
    "unknown_water_quality_count = merged_data['water_quality'].value_counts().get('unknown', 0)\n",
    "\n",
    "# Count occurrences of 'unknown' in 'quality_group'\n",
    "unknown_quality_group_count = merged_data['quality_group'].value_counts().get('unknown', 0)\n",
    "\n",
    "print(\"Number of 'unknown' values in 'water_quality':\", unknown_water_quality_count)\n",
    "print(\"Number of 'unknown' values in 'quality_group':\", unknown_quality_group_count)\n"
   ]
  },
  {
   "cell_type": "code",
   "execution_count": 25,
   "id": "2a31cc6d-8e44-4918-b4cc-962a9f4c893c",
   "metadata": {},
   "outputs": [],
   "source": [
    "# Drop the \"quantity_group\" column\n",
    "merged_data.drop(columns=['quality_group'], inplace=True)"
   ]
  },
  {
   "cell_type": "markdown",
   "id": "6f02650a-b02b-48cf-99d6-d639b7ffe7cc",
   "metadata": {},
   "source": [
    "#### 'recorded_by'"
   ]
  },
  {
   "cell_type": "markdown",
   "id": "1b058301-41c4-46c7-93d9-fd42325d958d",
   "metadata": {},
   "source": [
    "This column contains only one value. This means there is no possible distinctions between groups, and therefore this column was removed."
   ]
  },
  {
   "cell_type": "code",
   "execution_count": 26,
   "id": "0821deee-e181-4eed-8028-a57263b7168a",
   "metadata": {},
   "outputs": [],
   "source": [
    "# Drop the 'recorded_by' column\n",
    "merged_data.drop(columns=['recorded_by'], inplace=True)\n"
   ]
  },
  {
   "cell_type": "markdown",
   "id": "7dbc682a-5acd-4710-85fc-256015341943",
   "metadata": {},
   "source": [
    "#### 'payment_type'\n",
    "Upon examination, it was clear these two columns were identical. Therefore it was appropriate to remove one column and so 'payment_type' was dropped."
   ]
  },
  {
   "cell_type": "code",
   "execution_count": 27,
   "id": "d9f371d3-786a-4570-aa34-2525c3b19c6b",
   "metadata": {},
   "outputs": [
    {
     "name": "stdout",
     "output_type": "stream",
     "text": [
      "Unique values in 'payment':\n",
      "['pay annually' 'never pay' 'pay per bucket' 'unknown'\n",
      " 'pay when scheme fails' 'other' 'pay monthly']\n",
      "\n",
      "Unique values in 'payment_type':\n",
      "['annually' 'never pay' 'per bucket' 'unknown' 'on failure' 'other'\n",
      " 'monthly']\n",
      "Number of NaN values in 'payment': 0\n",
      "Number of NaN values in 'payment_type': 0\n"
     ]
    }
   ],
   "source": [
    "print(\"Unique values in 'payment':\")\n",
    "print(merged_data['payment'].unique())\n",
    "\n",
    "print(\"\\nUnique values in 'payment_type':\")\n",
    "print(merged_data['payment_type'].unique())\n",
    "print(\"Number of NaN values in 'payment':\", merged_data['payment'].isna().sum())\n",
    "print(\"Number of NaN values in 'payment_type':\", merged_data['payment_type'].isna().sum())\n"
   ]
  },
  {
   "cell_type": "code",
   "execution_count": 28,
   "id": "7acf3dac-00a9-4f9b-8465-b6804b752272",
   "metadata": {},
   "outputs": [],
   "source": [
    "# Drop the \"payment_type\" column\n",
    "merged_data.drop(columns=['payment_type'], inplace=True)"
   ]
  },
  {
   "cell_type": "markdown",
   "id": "bcdc9180-bfb5-4924-9adb-0b835f67137c",
   "metadata": {},
   "source": [
    "#### 'Source_type' and 'Source_class'\n",
    "\n",
    "These columns both represent the source of water. One of these columns was removed becasue it was deemed redundant. 'Source_type' was retained because this column had more unique values(7) than did 'source_class' (3). \n",
    "\n",
    "Considering the potential significance of the distinctions between different sources of water, it may be beneficial to retain the column with more information ('source') and drop the other two column with fewer unique values ('source_type' and 'source_class). "
   ]
  },
  {
   "cell_type": "code",
   "execution_count": 29,
   "id": "59a43524-2d36-4cbf-97fd-43060cd864fb",
   "metadata": {},
   "outputs": [
    {
     "name": "stdout",
     "output_type": "stream",
     "text": [
      "Unique values in 'source_type':\n",
      "['spring' 'rainwater harvesting' 'dam' 'borehole' 'other' 'shallow well'\n",
      " 'river/lake']\n",
      "Unique values in 'source':\n",
      "['spring' 'rainwater harvesting' 'dam' 'machine dbh' 'other'\n",
      " 'shallow well' 'river' 'hand dtw' 'lake' 'unknown']\n",
      "Unique values in 'source_class':\n",
      "['groundwater' 'surface' 'unknown']\n"
     ]
    }
   ],
   "source": [
    "# Unique values for source_type\n",
    "print(\"Unique values in 'source_type':\")\n",
    "print(merged_data['source_type'].unique())\n",
    "\n",
    "# Unique values for source\n",
    "print(\"Unique values in 'source':\")\n",
    "print(merged_data['source'].unique())\n",
    "\n",
    "\n",
    "# Unique values for source_class\n",
    "print(\"Unique values in 'source_class':\")\n",
    "print(merged_data['source_class'].unique())"
   ]
  },
  {
   "cell_type": "code",
   "execution_count": 30,
   "id": "c1b00551-9f0f-4293-8853-679f0d5273d1",
   "metadata": {},
   "outputs": [],
   "source": [
    "# Drop the 'source_type' column\n",
    "merged_data.drop(columns=['source_type'], inplace=True)\n",
    "# Drop the 'source_class' column\n",
    "merged_data.drop(columns=['source_class'], inplace=True)"
   ]
  },
  {
   "cell_type": "markdown",
   "id": "95600a90-d874-46e3-99a8-41e7bb48e68e",
   "metadata": {},
   "source": [
    "#### 'Extraction_type_group' and 'Extraction_type_class'\n",
    "\n",
    "After reviewing it was evident that the 'extraction_type' column provides a more detailed categorization with a wider range of variables compared to 'extraction_type_group' and 'extraction_type_class'. While 'extraction_type' contains 18 unique values, 'extraction_type_group' and 'extraction_type_class' have fewer categories, potentially resulting in less detailed information. For this reason we retained 'extraction_type'.\n"
   ]
  },
  {
   "cell_type": "code",
   "execution_count": 31,
   "id": "e14ecc72-93f7-49d0-a819-b962102f3772",
   "metadata": {},
   "outputs": [
    {
     "name": "stdout",
     "output_type": "stream",
     "text": [
      "Unique values in 'extraction_type':\n",
      "['gravity' 'submersible' 'swn 80' 'nira/tanira' 'india mark ii' 'other'\n",
      " 'ksb' 'mono' 'windmill' 'afridev' 'other - rope pump' 'india mark iii'\n",
      " 'other - swn 81' 'other - play pump' 'cemo' 'climax' 'walimi'\n",
      " 'other - mkulima/shinyanga']\n",
      "\n",
      "Unique values in 'extraction_type_group':\n",
      "['gravity' 'submersible' 'swn 80' 'nira/tanira' 'india mark ii' 'other'\n",
      " 'mono' 'wind-powered' 'afridev' 'rope pump' 'india mark iii'\n",
      " 'other handpump' 'other motorpump']\n",
      "\n",
      "Unique values in 'extraction_type_class':\n",
      "['gravity' 'submersible' 'handpump' 'other' 'motorpump' 'wind-powered'\n",
      " 'rope pump']\n"
     ]
    }
   ],
   "source": [
    "# Unique values in 'extraction_type'\n",
    "print(\"Unique values in 'extraction_type':\")\n",
    "print(merged_data['extraction_type'].unique())\n",
    "\n",
    "# Unique values in 'extraction_type_group'\n",
    "print(\"\\nUnique values in 'extraction_type_group':\")\n",
    "print(merged_data['extraction_type_group'].unique())\n",
    "\n",
    "# Unique values in 'extraction_type_class'\n",
    "print(\"\\nUnique values in 'extraction_type_class':\")\n",
    "print(merged_data['extraction_type_class'].unique())\n"
   ]
  },
  {
   "cell_type": "code",
   "execution_count": 32,
   "id": "a681daab-dd1f-4734-9d9a-8b1ffd1b93b9",
   "metadata": {},
   "outputs": [],
   "source": [
    "# Drop 'extraction_type_group' and 'extraction_type_class'\n",
    "merged_data.drop(columns=['extraction_type_group', 'extraction_type_class'], inplace=True)\n"
   ]
  },
  {
   "cell_type": "code",
   "execution_count": 33,
   "id": "b89e06b2-8ea6-4d8d-819b-9a1d311caf9a",
   "metadata": {},
   "outputs": [
    {
     "name": "stdout",
     "output_type": "stream",
     "text": [
      "Unique values in 'region_code':\n",
      "[11 20 21 90 18  4 17 14 60 10  3 15 19 16 80  1  6  2 12 13  5  7 99 24\n",
      "  9  8 40]\n",
      "\n",
      "Unique values in 'district_code':\n",
      "[ 5  2  4 63  1  8  3  6 43  7 23 33 53 62 60 30 13  0 80 67]\n"
     ]
    }
   ],
   "source": [
    "print(\"Unique values in 'region_code':\")\n",
    "print(merged_data['region_code'].unique())\n",
    "\n",
    "print(\"\\nUnique values in 'district_code':\")\n",
    "print(merged_data['district_code'].unique())\n"
   ]
  },
  {
   "cell_type": "code",
   "execution_count": 34,
   "id": "af4f1ddf-5fcd-4cd1-aa19-f580073de0ec",
   "metadata": {},
   "outputs": [
    {
     "data": {
      "text/html": [
       "<div>\n",
       "<style scoped>\n",
       "    .dataframe tbody tr th:only-of-type {\n",
       "        vertical-align: middle;\n",
       "    }\n",
       "\n",
       "    .dataframe tbody tr th {\n",
       "        vertical-align: top;\n",
       "    }\n",
       "\n",
       "    .dataframe thead th {\n",
       "        text-align: right;\n",
       "    }\n",
       "</style>\n",
       "<table border=\"1\" class=\"dataframe\">\n",
       "  <thead>\n",
       "    <tr style=\"text-align: right;\">\n",
       "      <th></th>\n",
       "      <th>id</th>\n",
       "      <th>amount_tsh</th>\n",
       "      <th>date_recorded</th>\n",
       "      <th>gps_height</th>\n",
       "      <th>longitude</th>\n",
       "      <th>latitude</th>\n",
       "      <th>num_private</th>\n",
       "      <th>basin</th>\n",
       "      <th>region</th>\n",
       "      <th>region_code</th>\n",
       "      <th>...</th>\n",
       "      <th>permit</th>\n",
       "      <th>construction_year</th>\n",
       "      <th>extraction_type</th>\n",
       "      <th>management_group</th>\n",
       "      <th>payment</th>\n",
       "      <th>water_quality</th>\n",
       "      <th>quantity</th>\n",
       "      <th>source</th>\n",
       "      <th>waterpoint_type</th>\n",
       "      <th>status_group_binary</th>\n",
       "    </tr>\n",
       "  </thead>\n",
       "  <tbody>\n",
       "    <tr>\n",
       "      <th>0</th>\n",
       "      <td>69572</td>\n",
       "      <td>6000.0</td>\n",
       "      <td>2011-03-14</td>\n",
       "      <td>1390</td>\n",
       "      <td>34.938093</td>\n",
       "      <td>-9.856322</td>\n",
       "      <td>0</td>\n",
       "      <td>Lake Nyasa</td>\n",
       "      <td>Iringa</td>\n",
       "      <td>11</td>\n",
       "      <td>...</td>\n",
       "      <td>False</td>\n",
       "      <td>1999</td>\n",
       "      <td>gravity</td>\n",
       "      <td>user-group</td>\n",
       "      <td>pay annually</td>\n",
       "      <td>soft</td>\n",
       "      <td>enough</td>\n",
       "      <td>spring</td>\n",
       "      <td>communal standpipe</td>\n",
       "      <td>1</td>\n",
       "    </tr>\n",
       "    <tr>\n",
       "      <th>1</th>\n",
       "      <td>8776</td>\n",
       "      <td>0.0</td>\n",
       "      <td>2013-03-06</td>\n",
       "      <td>1399</td>\n",
       "      <td>34.698766</td>\n",
       "      <td>-2.147466</td>\n",
       "      <td>0</td>\n",
       "      <td>Lake Victoria</td>\n",
       "      <td>Mara</td>\n",
       "      <td>20</td>\n",
       "      <td>...</td>\n",
       "      <td>True</td>\n",
       "      <td>2010</td>\n",
       "      <td>gravity</td>\n",
       "      <td>user-group</td>\n",
       "      <td>never pay</td>\n",
       "      <td>soft</td>\n",
       "      <td>insufficient</td>\n",
       "      <td>rainwater harvesting</td>\n",
       "      <td>communal standpipe</td>\n",
       "      <td>1</td>\n",
       "    </tr>\n",
       "    <tr>\n",
       "      <th>2</th>\n",
       "      <td>34310</td>\n",
       "      <td>25.0</td>\n",
       "      <td>2013-02-25</td>\n",
       "      <td>686</td>\n",
       "      <td>37.460664</td>\n",
       "      <td>-3.821329</td>\n",
       "      <td>0</td>\n",
       "      <td>Pangani</td>\n",
       "      <td>Manyara</td>\n",
       "      <td>21</td>\n",
       "      <td>...</td>\n",
       "      <td>True</td>\n",
       "      <td>2009</td>\n",
       "      <td>gravity</td>\n",
       "      <td>user-group</td>\n",
       "      <td>pay per bucket</td>\n",
       "      <td>soft</td>\n",
       "      <td>enough</td>\n",
       "      <td>dam</td>\n",
       "      <td>communal standpipe multiple</td>\n",
       "      <td>1</td>\n",
       "    </tr>\n",
       "    <tr>\n",
       "      <th>3</th>\n",
       "      <td>67743</td>\n",
       "      <td>0.0</td>\n",
       "      <td>2013-01-28</td>\n",
       "      <td>263</td>\n",
       "      <td>38.486161</td>\n",
       "      <td>-11.155298</td>\n",
       "      <td>0</td>\n",
       "      <td>Ruvuma / Southern Coast</td>\n",
       "      <td>Mtwara</td>\n",
       "      <td>90</td>\n",
       "      <td>...</td>\n",
       "      <td>True</td>\n",
       "      <td>1986</td>\n",
       "      <td>submersible</td>\n",
       "      <td>user-group</td>\n",
       "      <td>never pay</td>\n",
       "      <td>soft</td>\n",
       "      <td>dry</td>\n",
       "      <td>machine dbh</td>\n",
       "      <td>communal standpipe multiple</td>\n",
       "      <td>0</td>\n",
       "    </tr>\n",
       "    <tr>\n",
       "      <th>4</th>\n",
       "      <td>19728</td>\n",
       "      <td>0.0</td>\n",
       "      <td>2011-07-13</td>\n",
       "      <td>0</td>\n",
       "      <td>31.130847</td>\n",
       "      <td>-1.825359</td>\n",
       "      <td>0</td>\n",
       "      <td>Lake Victoria</td>\n",
       "      <td>Kagera</td>\n",
       "      <td>18</td>\n",
       "      <td>...</td>\n",
       "      <td>True</td>\n",
       "      <td>0</td>\n",
       "      <td>gravity</td>\n",
       "      <td>other</td>\n",
       "      <td>never pay</td>\n",
       "      <td>soft</td>\n",
       "      <td>seasonal</td>\n",
       "      <td>rainwater harvesting</td>\n",
       "      <td>communal standpipe</td>\n",
       "      <td>1</td>\n",
       "    </tr>\n",
       "  </tbody>\n",
       "</table>\n",
       "<p>5 rows × 26 columns</p>\n",
       "</div>"
      ],
      "text/plain": [
       "      id  amount_tsh date_recorded  gps_height  longitude   latitude  \\\n",
       "0  69572      6000.0    2011-03-14        1390  34.938093  -9.856322   \n",
       "1   8776         0.0    2013-03-06        1399  34.698766  -2.147466   \n",
       "2  34310        25.0    2013-02-25         686  37.460664  -3.821329   \n",
       "3  67743         0.0    2013-01-28         263  38.486161 -11.155298   \n",
       "4  19728         0.0    2011-07-13           0  31.130847  -1.825359   \n",
       "\n",
       "   num_private                    basin   region  region_code  ...  permit  \\\n",
       "0            0               Lake Nyasa   Iringa           11  ...   False   \n",
       "1            0            Lake Victoria     Mara           20  ...    True   \n",
       "2            0                  Pangani  Manyara           21  ...    True   \n",
       "3            0  Ruvuma / Southern Coast   Mtwara           90  ...    True   \n",
       "4            0            Lake Victoria   Kagera           18  ...    True   \n",
       "\n",
       "  construction_year extraction_type  management_group         payment  \\\n",
       "0              1999         gravity        user-group    pay annually   \n",
       "1              2010         gravity        user-group       never pay   \n",
       "2              2009         gravity        user-group  pay per bucket   \n",
       "3              1986     submersible        user-group       never pay   \n",
       "4                 0         gravity             other       never pay   \n",
       "\n",
       "  water_quality      quantity                source  \\\n",
       "0          soft        enough                spring   \n",
       "1          soft  insufficient  rainwater harvesting   \n",
       "2          soft        enough                   dam   \n",
       "3          soft           dry           machine dbh   \n",
       "4          soft      seasonal  rainwater harvesting   \n",
       "\n",
       "               waterpoint_type status_group_binary  \n",
       "0           communal standpipe                   1  \n",
       "1           communal standpipe                   1  \n",
       "2  communal standpipe multiple                   1  \n",
       "3  communal standpipe multiple                   0  \n",
       "4           communal standpipe                   1  \n",
       "\n",
       "[5 rows x 26 columns]"
      ]
     },
     "execution_count": 34,
     "metadata": {},
     "output_type": "execute_result"
    }
   ],
   "source": [
    "# Display the first few rows of the merged dataset\n",
    "merged_data.head()\n"
   ]
  },
  {
   "cell_type": "markdown",
   "id": "0f878e5d-865a-4c16-8b0c-171336524dd7",
   "metadata": {},
   "source": [
    "#### 'Ward' and 'lga'\n",
    "\n",
    "These columns had alot of individual values, and distric code had less. The geographical information was obtainied by the region instead. "
   ]
  },
  {
   "cell_type": "code",
   "execution_count": 35,
   "id": "bbbea2ec-43cb-4cdf-ae9e-e3589d318b06",
   "metadata": {},
   "outputs": [],
   "source": [
    "# Drop 'ward' and 'lga'\n",
    "merged_data.drop(columns=['ward', 'lga'], inplace=True)\n"
   ]
  },
  {
   "cell_type": "code",
   "execution_count": 36,
   "id": "1b9951c4-18b2-4226-8da1-0893132d9275",
   "metadata": {},
   "outputs": [
    {
     "data": {
      "text/html": [
       "<div>\n",
       "<style scoped>\n",
       "    .dataframe tbody tr th:only-of-type {\n",
       "        vertical-align: middle;\n",
       "    }\n",
       "\n",
       "    .dataframe tbody tr th {\n",
       "        vertical-align: top;\n",
       "    }\n",
       "\n",
       "    .dataframe thead th {\n",
       "        text-align: right;\n",
       "    }\n",
       "</style>\n",
       "<table border=\"1\" class=\"dataframe\">\n",
       "  <thead>\n",
       "    <tr style=\"text-align: right;\">\n",
       "      <th></th>\n",
       "      <th>id</th>\n",
       "      <th>amount_tsh</th>\n",
       "      <th>date_recorded</th>\n",
       "      <th>gps_height</th>\n",
       "      <th>longitude</th>\n",
       "      <th>latitude</th>\n",
       "      <th>num_private</th>\n",
       "      <th>basin</th>\n",
       "      <th>region</th>\n",
       "      <th>region_code</th>\n",
       "      <th>...</th>\n",
       "      <th>permit</th>\n",
       "      <th>construction_year</th>\n",
       "      <th>extraction_type</th>\n",
       "      <th>management_group</th>\n",
       "      <th>payment</th>\n",
       "      <th>water_quality</th>\n",
       "      <th>quantity</th>\n",
       "      <th>source</th>\n",
       "      <th>waterpoint_type</th>\n",
       "      <th>status_group_binary</th>\n",
       "    </tr>\n",
       "  </thead>\n",
       "  <tbody>\n",
       "    <tr>\n",
       "      <th>0</th>\n",
       "      <td>69572</td>\n",
       "      <td>6000.0</td>\n",
       "      <td>2011-03-14</td>\n",
       "      <td>1390</td>\n",
       "      <td>34.938093</td>\n",
       "      <td>-9.856322</td>\n",
       "      <td>0</td>\n",
       "      <td>Lake Nyasa</td>\n",
       "      <td>Iringa</td>\n",
       "      <td>11</td>\n",
       "      <td>...</td>\n",
       "      <td>False</td>\n",
       "      <td>1999</td>\n",
       "      <td>gravity</td>\n",
       "      <td>user-group</td>\n",
       "      <td>pay annually</td>\n",
       "      <td>soft</td>\n",
       "      <td>enough</td>\n",
       "      <td>spring</td>\n",
       "      <td>communal standpipe</td>\n",
       "      <td>1</td>\n",
       "    </tr>\n",
       "    <tr>\n",
       "      <th>1</th>\n",
       "      <td>8776</td>\n",
       "      <td>0.0</td>\n",
       "      <td>2013-03-06</td>\n",
       "      <td>1399</td>\n",
       "      <td>34.698766</td>\n",
       "      <td>-2.147466</td>\n",
       "      <td>0</td>\n",
       "      <td>Lake Victoria</td>\n",
       "      <td>Mara</td>\n",
       "      <td>20</td>\n",
       "      <td>...</td>\n",
       "      <td>True</td>\n",
       "      <td>2010</td>\n",
       "      <td>gravity</td>\n",
       "      <td>user-group</td>\n",
       "      <td>never pay</td>\n",
       "      <td>soft</td>\n",
       "      <td>insufficient</td>\n",
       "      <td>rainwater harvesting</td>\n",
       "      <td>communal standpipe</td>\n",
       "      <td>1</td>\n",
       "    </tr>\n",
       "    <tr>\n",
       "      <th>2</th>\n",
       "      <td>34310</td>\n",
       "      <td>25.0</td>\n",
       "      <td>2013-02-25</td>\n",
       "      <td>686</td>\n",
       "      <td>37.460664</td>\n",
       "      <td>-3.821329</td>\n",
       "      <td>0</td>\n",
       "      <td>Pangani</td>\n",
       "      <td>Manyara</td>\n",
       "      <td>21</td>\n",
       "      <td>...</td>\n",
       "      <td>True</td>\n",
       "      <td>2009</td>\n",
       "      <td>gravity</td>\n",
       "      <td>user-group</td>\n",
       "      <td>pay per bucket</td>\n",
       "      <td>soft</td>\n",
       "      <td>enough</td>\n",
       "      <td>dam</td>\n",
       "      <td>communal standpipe multiple</td>\n",
       "      <td>1</td>\n",
       "    </tr>\n",
       "    <tr>\n",
       "      <th>3</th>\n",
       "      <td>67743</td>\n",
       "      <td>0.0</td>\n",
       "      <td>2013-01-28</td>\n",
       "      <td>263</td>\n",
       "      <td>38.486161</td>\n",
       "      <td>-11.155298</td>\n",
       "      <td>0</td>\n",
       "      <td>Ruvuma / Southern Coast</td>\n",
       "      <td>Mtwara</td>\n",
       "      <td>90</td>\n",
       "      <td>...</td>\n",
       "      <td>True</td>\n",
       "      <td>1986</td>\n",
       "      <td>submersible</td>\n",
       "      <td>user-group</td>\n",
       "      <td>never pay</td>\n",
       "      <td>soft</td>\n",
       "      <td>dry</td>\n",
       "      <td>machine dbh</td>\n",
       "      <td>communal standpipe multiple</td>\n",
       "      <td>0</td>\n",
       "    </tr>\n",
       "    <tr>\n",
       "      <th>4</th>\n",
       "      <td>19728</td>\n",
       "      <td>0.0</td>\n",
       "      <td>2011-07-13</td>\n",
       "      <td>0</td>\n",
       "      <td>31.130847</td>\n",
       "      <td>-1.825359</td>\n",
       "      <td>0</td>\n",
       "      <td>Lake Victoria</td>\n",
       "      <td>Kagera</td>\n",
       "      <td>18</td>\n",
       "      <td>...</td>\n",
       "      <td>True</td>\n",
       "      <td>0</td>\n",
       "      <td>gravity</td>\n",
       "      <td>other</td>\n",
       "      <td>never pay</td>\n",
       "      <td>soft</td>\n",
       "      <td>seasonal</td>\n",
       "      <td>rainwater harvesting</td>\n",
       "      <td>communal standpipe</td>\n",
       "      <td>1</td>\n",
       "    </tr>\n",
       "  </tbody>\n",
       "</table>\n",
       "<p>5 rows × 24 columns</p>\n",
       "</div>"
      ],
      "text/plain": [
       "      id  amount_tsh date_recorded  gps_height  longitude   latitude  \\\n",
       "0  69572      6000.0    2011-03-14        1390  34.938093  -9.856322   \n",
       "1   8776         0.0    2013-03-06        1399  34.698766  -2.147466   \n",
       "2  34310        25.0    2013-02-25         686  37.460664  -3.821329   \n",
       "3  67743         0.0    2013-01-28         263  38.486161 -11.155298   \n",
       "4  19728         0.0    2011-07-13           0  31.130847  -1.825359   \n",
       "\n",
       "   num_private                    basin   region  region_code  ...  permit  \\\n",
       "0            0               Lake Nyasa   Iringa           11  ...   False   \n",
       "1            0            Lake Victoria     Mara           20  ...    True   \n",
       "2            0                  Pangani  Manyara           21  ...    True   \n",
       "3            0  Ruvuma / Southern Coast   Mtwara           90  ...    True   \n",
       "4            0            Lake Victoria   Kagera           18  ...    True   \n",
       "\n",
       "   construction_year extraction_type management_group         payment  \\\n",
       "0               1999         gravity       user-group    pay annually   \n",
       "1               2010         gravity       user-group       never pay   \n",
       "2               2009         gravity       user-group  pay per bucket   \n",
       "3               1986     submersible       user-group       never pay   \n",
       "4                  0         gravity            other       never pay   \n",
       "\n",
       "   water_quality      quantity                source  \\\n",
       "0           soft        enough                spring   \n",
       "1           soft  insufficient  rainwater harvesting   \n",
       "2           soft        enough                   dam   \n",
       "3           soft           dry           machine dbh   \n",
       "4           soft      seasonal  rainwater harvesting   \n",
       "\n",
       "               waterpoint_type status_group_binary  \n",
       "0           communal standpipe                   1  \n",
       "1           communal standpipe                   1  \n",
       "2  communal standpipe multiple                   1  \n",
       "3  communal standpipe multiple                   0  \n",
       "4           communal standpipe                   1  \n",
       "\n",
       "[5 rows x 24 columns]"
      ]
     },
     "execution_count": 36,
     "metadata": {},
     "output_type": "execute_result"
    }
   ],
   "source": [
    "# Display the first few rows of the merged dataset\n",
    "merged_data.head()\n",
    "\n",
    "\n"
   ]
  },
  {
   "cell_type": "code",
   "execution_count": 37,
   "id": "82b027b6-8e7c-46a3-8d8d-25e6416b3d3b",
   "metadata": {},
   "outputs": [
    {
     "name": "stdout",
     "output_type": "stream",
     "text": [
      "Columns in merged_data: ['id', 'amount_tsh', 'date_recorded', 'gps_height', 'longitude', 'latitude', 'num_private', 'basin', 'region', 'region_code', 'district_code', 'population', 'public_meeting', 'scheme_management', 'permit', 'construction_year', 'extraction_type', 'management_group', 'payment', 'water_quality', 'quantity', 'source', 'waterpoint_type', 'status_group_binary']\n"
     ]
    }
   ],
   "source": [
    "# Get the list of columns for merged_data\n",
    "merged_data_columns = merged_data.columns.tolist()\n",
    "\n",
    "\n",
    "\n",
    "# Display the columns for both datasets\n",
    "print(\"Columns in merged_data:\", merged_data_columns)\n",
    "\n"
   ]
  },
  {
   "cell_type": "markdown",
   "id": "d9e12159-69a9-412e-80dd-9c0d9c2869d5",
   "metadata": {},
   "source": [
    "## Reviewing Datasets for Missing and Duplicate Data\n",
    "\n",
    "Reviewing the datasets for missing or duplicate data is important to ensure data reliability. "
   ]
  },
  {
   "cell_type": "code",
   "execution_count": 38,
   "id": "01640b52-ab54-42b3-8554-6ab979a0339b",
   "metadata": {},
   "outputs": [
    {
     "name": "stdout",
     "output_type": "stream",
     "text": [
      "Missing values in merged_data:\n",
      "id                        0\n",
      "amount_tsh                0\n",
      "date_recorded             0\n",
      "gps_height                0\n",
      "longitude                 0\n",
      "latitude                  0\n",
      "num_private               0\n",
      "basin                     0\n",
      "region                    0\n",
      "region_code               0\n",
      "district_code             0\n",
      "population                0\n",
      "public_meeting         3334\n",
      "scheme_management      3877\n",
      "permit                 3056\n",
      "construction_year         0\n",
      "extraction_type           0\n",
      "management_group          0\n",
      "payment                   0\n",
      "water_quality             0\n",
      "quantity                  0\n",
      "source                    0\n",
      "waterpoint_type           0\n",
      "status_group_binary       0\n",
      "dtype: int64\n",
      "Number of duplicate rows in merged_data: 0\n"
     ]
    }
   ],
   "source": [
    "# Count missing values in merged_data\n",
    "missing_merged_data = merged_data.isnull().sum()\n",
    "print(\"Missing values in merged_data:\")\n",
    "print(missing_merged_data)\n",
    "# Check for duplicates in merged_data\n",
    "duplicate_rows = merged_data.duplicated()\n",
    "print(\"Number of duplicate rows in merged_data:\", duplicate_rows.sum())\n"
   ]
  },
  {
   "cell_type": "markdown",
   "id": "2c909df8-99b3-4a82-a06a-53ba564a9c42",
   "metadata": {},
   "source": [
    "## 'Construction_year'\n",
    "\n",
    "The 'constuction_year' column seemed logically important. As many buildings, or projects created many decades ago, often need repair. However, the data have 20,709 missing values. To address this issue, KNN (K-Nearest Neighbors) imputation was employed. This is a technique used in Data Science to address missing values by considering the values of similar neighbor data points rows. Then using the value in this case 'neighbors=5', the method analysis the similarities of columns, and replaces the unknown 'construction', with a best estimated value.\n",
    "\n",
    "After addressing missing values in the construction_year column with KNN imputation, we decided to create sub-catagories of decades. These sub-catagories were created to make the data more readable. It also allows for easier interpretation, and allocation of resources. For instance the data indicate older water-wells are significantly more likley to be non-functional. The Tanzanian government could look ad this catagory amd easily identify potential problems. \n"
   ]
  },
  {
   "cell_type": "code",
   "execution_count": 39,
   "id": "501b0e45-3afe-4f04-8dda-10f904c5fb0b",
   "metadata": {},
   "outputs": [
    {
     "name": "stdout",
     "output_type": "stream",
     "text": [
      "Construction Years:\n",
      "0       20709\n",
      "1960      102\n",
      "1961       21\n",
      "1962       30\n",
      "1963       85\n",
      "1964       40\n",
      "1965       19\n",
      "1966       17\n",
      "1967       88\n",
      "1968       77\n",
      "1969       59\n",
      "1970      411\n",
      "1971      145\n",
      "1972      708\n",
      "1973      184\n",
      "1974      676\n",
      "1975      437\n",
      "1976      414\n",
      "1977      202\n",
      "1978     1037\n",
      "1979      192\n",
      "1980      811\n",
      "1981      238\n",
      "1982      744\n",
      "1983      488\n",
      "1984      779\n",
      "1985      945\n",
      "1986      434\n",
      "1987      302\n",
      "1988      521\n",
      "1989      316\n",
      "1990      954\n",
      "1991      324\n",
      "1992      640\n",
      "1993      608\n",
      "1994      738\n",
      "1995     1014\n",
      "1996      811\n",
      "1997      644\n",
      "1998      966\n",
      "1999      979\n",
      "2000     2091\n",
      "2001      540\n",
      "2002     1075\n",
      "2003     1286\n",
      "2004     1123\n",
      "2005     1011\n",
      "2006     1471\n",
      "2007     1587\n",
      "2008     2613\n",
      "2009     2533\n",
      "2010     2645\n",
      "2011     1256\n",
      "2012     1084\n",
      "2013      176\n",
      "Name: construction_year, dtype: int64\n"
     ]
    }
   ],
   "source": [
    "construction_years = merged_data['construction_year'].value_counts().sort_index()\n",
    "print(\"Construction Years:\")\n",
    "print(construction_years)\n"
   ]
  },
  {
   "cell_type": "code",
   "execution_count": 40,
   "id": "7fa5634d-8211-4a3e-a52b-2f3a4e55751e",
   "metadata": {},
   "outputs": [
    {
     "name": "stdout",
     "output_type": "stream",
     "text": [
      "['1990s' '2010s' '2000s' '1980s' 'Unknown' '1970s' '1960s']\n"
     ]
    }
   ],
   "source": [
    "from sklearn.impute import KNNImputer\n",
    "\n",
    "# Step 1: Perform KNN imputation on the construction_year column\n",
    "imputer = KNNImputer(n_neighbors=5)  \n",
    "\n",
    "# Replace missing values with NaN\n",
    "merged_data.loc[merged_data['construction_year'] == 0, 'construction_year'] = np.nan\n",
    "\n",
    "# Apply KNN imputation\n",
    "merged_data_imputed = imputer.fit_transform(merged_data[['construction_year']])\n",
    "\n",
    "# Replace the original construction year column with the imputed values\n",
    "merged_data['construction_year'] = merged_data_imputed\n",
    "\n",
    "# Step 2: Categorize construction years into decades\n",
    "# Define the ranges for each decade\n",
    "decade_ranges = {\n",
    "    '1960s': range(1960, 1970),\n",
    "    '1970s': range(1970, 1980),\n",
    "    '1980s': range(1980, 1990),\n",
    "    '1990s': range(1990, 2000),\n",
    "    '2000s': range(2000, 2010),\n",
    "    '2010s': range(2010, 2020)\n",
    "}\n",
    "\n",
    "# Function to categorize construction years into decades\n",
    "def categorize_decade(year):\n",
    "    for decade, year_range in decade_ranges.items():\n",
    "        if year in year_range:\n",
    "            return decade\n",
    "    return 'Unknown'\n",
    "\n",
    "# Create a new column for the decade\n",
    "merged_data['decade_construction'] = merged_data['construction_year'].apply(categorize_decade)\n",
    "\n",
    "# Display the unique values in the new decade column\n",
    "unique_decades = merged_data['decade_construction'].unique()\n",
    "print(unique_decades)\n"
   ]
  },
  {
   "cell_type": "code",
   "execution_count": 41,
   "id": "2fca14da-d177-4704-99db-61e99d9c6494",
   "metadata": {},
   "outputs": [
    {
     "name": "stdout",
     "output_type": "stream",
     "text": [
      "Count of Construction Years by Decade:\n",
      "1990s: 28387\n",
      "2010s: 5161\n",
      "2000s: 15330\n",
      "1980s: 5578\n",
      "Unknown: 0\n",
      "1970s: 4406\n",
      "1960s: 538\n"
     ]
    }
   ],
   "source": [
    "# Round the construction years to the nearest whole number\n",
    "merged_data['construction_year'] = round(merged_data['construction_year'])\n",
    "\n",
    "# Recategorize construction years into decades\n",
    "merged_data['decade_construction'] = merged_data['construction_year'].apply(categorize_decade)\n",
    "\n",
    "# Display the count of construction years falling into each decade\n",
    "print(\"Count of Construction Years by Decade:\")\n",
    "for decade in unique_decades:\n",
    "    count = merged_data[merged_data['decade_construction'] == decade].shape[0]\n",
    "    print(f\"{decade}: {count}\")"
   ]
  },
  {
   "cell_type": "markdown",
   "id": "61ac98cd-3985-4f96-abb4-b85591d3e47a",
   "metadata": {},
   "source": [
    "## Visualization of Functional vs Non-Functional Water Wells Based on Decade of Construction\n",
    "\n",
    "In this chart a stacked bar graph was created to show the percentage of functional versus non-function water-wells in each decade. The blue part of the bar shows the percentage of functional water wells, and the red part shows the non-functional water wells. This chart indicates that older water-wells created in the 1960's-1980's all have more non-functional water-wells than functional. Newer wells performed the best with water-wells in the 2010's having a functional rate around 80%. "
   ]
  },
  {
   "cell_type": "code",
   "execution_count": 42,
   "id": "e6445b86-864b-4181-8d71-31056fdff2a5",
   "metadata": {},
   "outputs": [
    {
     "data": {
      "image/png": "[encoded data removed]",
      "text/plain": [
       "<Figure size 1200x800 with 1 Axes>"
      ]
     },
     "metadata": {},
     "output_type": "display_data"
    }
   ],
   "source": [
    "import matplotlib.pyplot as plt\n",
    "\n",
    "# Calculate the total count of wells for each decade category\n",
    "decade_total_counts = merged_data['decade_construction'].value_counts()\n",
    "\n",
    "# Group the dataset by decade category and status group, then count the number of wells in each group\n",
    "decade_status_counts = merged_data.groupby(['decade_construction', 'status_group_binary']).size().unstack(fill_value=0)\n",
    "\n",
    "# Calculate the percentage of functional and non-functional wells within each decade category\n",
    "decade_percentages = decade_status_counts.div(decade_total_counts, axis=0) * 100\n",
    "\n",
    "# Extract decades and status groups\n",
    "decades = decade_percentages.index\n",
    "status_groups = decade_percentages.columns\n",
    "\n",
    "# Define bar width\n",
    "bar_width = 0.4\n",
    "index = range(len(decades))\n",
    "\n",
    "# Plotting\n",
    "plt.figure(figsize=(12, 8))\n",
    "\n",
    "# Plot stacked bars for functional and non-functional wells for each decade category\n",
    "plt.bar(index, decade_percentages[1], bar_width, color='b', label='Functional')\n",
    "plt.bar(index, decade_percentages[0], bar_width, color='r', bottom=decade_percentages[1], label='Non-Functional')\n",
    "\n",
    "# Add labels, title, legend, and adjust layout\n",
    "plt.xlabel('Decade of Construction')\n",
    "plt.ylabel('Percentage')\n",
    "plt.title('Percentage of Functional and Non-Functional Wells by Decade of Construction')\n",
    "plt.xticks(index, decades)\n",
    "plt.legend()\n",
    "plt.tight_layout()\n",
    "plt.show()\n",
    "\n"
   ]
  },
  {
   "cell_type": "code",
   "execution_count": 43,
   "id": "dcd5ed50-eba2-46c5-ac77-34f372f1319b",
   "metadata": {},
   "outputs": [
    {
     "name": "stdout",
     "output_type": "stream",
     "text": [
      "Total number of values in each column:\n",
      "id                     59400\n",
      "amount_tsh             59400\n",
      "date_recorded          59400\n",
      "gps_height             59400\n",
      "longitude              59400\n",
      "latitude               59400\n",
      "num_private            59400\n",
      "basin                  59400\n",
      "region                 59400\n",
      "region_code            59400\n",
      "district_code          59400\n",
      "population             59400\n",
      "public_meeting         56066\n",
      "scheme_management      55523\n",
      "permit                 56344\n",
      "construction_year      59400\n",
      "extraction_type        59400\n",
      "management_group       59400\n",
      "payment                59400\n",
      "water_quality          59400\n",
      "quantity               59400\n",
      "source                 59400\n",
      "waterpoint_type        59400\n",
      "status_group_binary    59400\n",
      "decade_construction    59400\n",
      "dtype: int64\n",
      "\n",
      "Percentage of missing values:\n",
      "{'public_meeting': 5.612794612794613, 'scheme_management': 6.526936026936027, 'permit': 5.144781144781145}\n"
     ]
    }
   ],
   "source": [
    "# Total number of values in each column\n",
    "total_values = len(merged_data)\n",
    "column_value_counts = merged_data.count()\n",
    "\n",
    "# Percentage of missing values for public_meeting, scheme_management, and permit\n",
    "missing_percentages = {\n",
    "    'public_meeting': (total_values - column_value_counts['public_meeting']) / total_values * 100,\n",
    "    'scheme_management': (total_values - column_value_counts['scheme_management']) / total_values * 100,\n",
    "    'permit': (total_values - column_value_counts['permit']) / total_values * 100\n",
    "}\n",
    "\n",
    "print(\"Total number of values in each column:\")\n",
    "print(column_value_counts)\n",
    "print(\"\\nPercentage of missing values:\")\n",
    "print(missing_percentages)\n"
   ]
  },
  {
   "cell_type": "markdown",
   "id": "7280a77c-e432-4f8a-ae2c-8276f3996e23",
   "metadata": {},
   "source": [
    "## Data Cleaning\n",
    "\n",
    "After further review, I decided to drop rows with missing values in the columns `public_meeting`, `scheme_management`, and `permit`. Although these missing values constituted a small percentage of the remaining data, it was necessary to ensure the reliability of the dataset for analysis and modeling purposes.\n",
    "\n",
    "The decision to drop rows with missing values was made after careful consideration of the potential impact on the integrity of the data and the significance of the missing values relative to the size of the dataset.\n",
    "\n",
    "Additionaly, 'construction_year' was dropped because this column was transformed into decade_constuction'.\n"
   ]
  },
  {
   "cell_type": "code",
   "execution_count": 44,
   "id": "ad7ab041-efd7-4d1c-b985-e796b2670070",
   "metadata": {},
   "outputs": [],
   "source": [
    "# Drop rows with missing values in specified columns\n",
    "merged_data.drop(['public_meeting', 'scheme_management', 'construction_year', 'permit'], axis=1, inplace=True)\n",
    "\n"
   ]
  },
  {
   "cell_type": "markdown",
   "id": "92a7534c-344f-408c-b219-427edc89bb93",
   "metadata": {},
   "source": [
    "There were no apparent outliers or missing data points in the 'date_recorded' column. However, a detailed review revealed a limited variety of years represented in the data, diminishing its utility for our analysis. Consequently, this column was excluded from the dataset to streamline our focus on more impactful variables. Future analysis may revisit this decision, especially to explore the potential effects of seasonal variations on our findings. Incorporating 'date_recorded' in a refined model could offer insights into temporal factors influencing the dataset, warranting further investigation."
   ]
  },
  {
   "cell_type": "code",
   "execution_count": 45,
   "id": "dfc4b46e-92d2-459a-95b6-7cc90b267d64",
   "metadata": {},
   "outputs": [],
   "source": [
    "# Drop 'date_recorded\n",
    "\n",
    "merged_data.drop(columns=['date_recorded'], inplace=True)\n"
   ]
  },
  {
   "cell_type": "markdown",
   "id": "8a0fdea7-8c0e-495d-9e74-a1e7f7c1e768",
   "metadata": {},
   "source": [
    "## Exploring 'gps_height'\n",
    "In our dataset's exploration, we initially analyzed the frequency distribution of GPS heights using a histogram, uncovering a wide range of elevation values. Given the broad spectrum of GPS heights, we introduced a categorization scheme to simplify the data and aid in our analysis. The GPS heights were divided into the following subcategories based on their elevation in meters:\n",
    "\n",
    "0 and below: Represents water points at sea level or below.\n",
    "0-500: Water points situated at elevations up to 500 meters.\n",
    "500-1000: Elevations ranging from 501 to 1000 meters.\n",
    "1000-1500: Elevations from 1001 to 1500 meters.\n",
    "1500-2000: Elevations between 1501 and 2000 meters.\n",
    "2000+: Water points located at elevations above 2000 meters.\n",
    "This categorization enables a more manageable analysis, facilitating an examination of how GPS height impacts water point functionality and accessibility. By segmenting the water wells into these distinct elevation bands, we can more precisely assess the relationship between a water point's location's elevation and its operational status, potentially uncovering insights into environmental or infrastructural factors that influence water availability and quality."
   ]
  },
  {
   "cell_type": "code",
   "execution_count": 46,
   "id": "c388d1dc-7943-4f38-a1af-baab23e8561a",
   "metadata": {},
   "outputs": [
    {
     "name": "stdout",
     "output_type": "stream",
     "text": [
      "Gps Height Merged:\n",
      "-90      1\n",
      "-63      2\n",
      "-59      1\n",
      "-57      1\n",
      "-55      1\n",
      "        ..\n",
      " 2623    1\n",
      " 2626    2\n",
      " 2627    1\n",
      " 2628    1\n",
      " 2770    1\n",
      "Name: gps_height, Length: 2428, dtype: int64\n"
     ]
    }
   ],
   "source": [
    " \n",
    "gps_height_merged = merged_data['gps_height'].value_counts().sort_index()\n",
    "print(\"Gps Height Merged:\")\n",
    "print(gps_height_merged)"
   ]
  },
  {
   "cell_type": "code",
   "execution_count": 47,
   "id": "c059ff2b-7f7b-49d7-89e5-42a47378c916",
   "metadata": {},
   "outputs": [
    {
     "data": {
      "image/png": "[encoded data removed]",
      "text/plain": [
       "<Figure size 1000x600 with 1 Axes>"
      ]
     },
     "metadata": {},
     "output_type": "display_data"
    }
   ],
   "source": [
    "import matplotlib.pyplot as plt\n",
    "\n",
    "# Plot histogram of GPS heights\n",
    "plt.figure(figsize=(10, 6))\n",
    "plt.hist(merged_data['gps_height'], bins=20, color='skyblue', edgecolor='black')\n",
    "plt.xlabel('GPS Height')\n",
    "plt.ylabel('Frequency')\n",
    "plt.title('Histogram of GPS Heights of Merged Data')\n",
    "plt.grid(True)\n",
    "plt.show()"
   ]
  },
  {
   "cell_type": "code",
   "execution_count": 48,
   "id": "0148e955-820c-48f1-a49f-63c12f7758f6",
   "metadata": {},
   "outputs": [],
   "source": [
    "# Define function to categorize GPS heights into subcategories\n",
    "def categorize_gps_heightm(height):\n",
    "    if height <= 0:\n",
    "        return '0 and below'\n",
    "    elif height <= 500:\n",
    "        return '0-500'\n",
    "    elif height <= 1000:\n",
    "        return '500-1000'\n",
    "    elif height <= 1500:\n",
    "        return '1000-1500'\n",
    "    elif height <= 2000:\n",
    "        return '1500-2000'\n",
    "    else:\n",
    "        return '2000+'\n",
    "\n",
    "\n"
   ]
  },
  {
   "cell_type": "markdown",
   "id": "c8a7ca0e-bf49-487a-8cec-3deb53a7e3b9",
   "metadata": {},
   "source": [
    "## Percentage of Functional and Non-Functional Wells by GPS Height Category\n",
    "This chart visualizes the relationship between the functionality of water wells and their GPS height, categorizing wells into functional and non-functional based on their elevation. It employs a stacked bar graph to display the proportions of functional versus non-functional wells across various GPS height categories, illustrating how elevation potentially influences well performance. The visualization aims to provide insights into trends and patterns that might affect water resource management strategies.\n",
    "\n",
    "This chart visualizes the relationship between the functionality of water wells and their GPS height, categorizing wells into functional and non-functional based on their elevation. It employs a stacked bar graph to display the proportions of functional versus non-functional wells across various GPS height categories, illustrating how elevation potentially influences well performance. The visualization reveals a general trend where increased GPS height correlates with higher functionality rates among wells. Notably, wells at the lowest elevation (0 meters and below) exhibit a slightly higher functionality rate compared to those in the 0-500 meter range. This pattern suggests that while elevation is a significant factor in well functionality, other environmental or management factors may also play crucial roles. The insights from this analysis could inform water resource management strategies, emphasizing the need to consider a variety of factors in maintaining and improving well functionality."
   ]
  },
  {
   "cell_type": "code",
   "execution_count": 49,
   "id": "41b183d5-14af-42e4-a873-d797bb1b7c13",
   "metadata": {},
   "outputs": [
    {
     "ename": "KeyError",
     "evalue": "'gps_height_categorym'",
     "output_type": "error",
     "traceback": [
      "\u001b[0;31m---------------------------------------------------------------------------\u001b[0m",
      "\u001b[0;31mKeyError\u001b[0m                                  Traceback (most recent call last)",
      "Cell \u001b[0;32mIn[49], line 2\u001b[0m\n\u001b[1;32m      1\u001b[0m \u001b[38;5;66;03m# Group the data by GPS height category and status group, then count the number of wells in each group\u001b[39;00m\n\u001b[0;32m----> 2\u001b[0m gps_height_status_counts \u001b[38;5;241m=\u001b[39m \u001b[43mmerged_data\u001b[49m\u001b[38;5;241;43m.\u001b[39;49m\u001b[43mgroupby\u001b[49m\u001b[43m(\u001b[49m\u001b[43m[\u001b[49m\u001b[38;5;124;43m'\u001b[39;49m\u001b[38;5;124;43mgps_height_categorym\u001b[39;49m\u001b[38;5;124;43m'\u001b[39;49m\u001b[43m,\u001b[49m\u001b[43m \u001b[49m\u001b[38;5;124;43m'\u001b[39;49m\u001b[38;5;124;43mstatus_group_binary\u001b[39;49m\u001b[38;5;124;43m'\u001b[39;49m\u001b[43m]\u001b[49m\u001b[43m)\u001b[49m\u001b[38;5;241m.\u001b[39msize()\u001b[38;5;241m.\u001b[39munstack(fill_value\u001b[38;5;241m=\u001b[39m\u001b[38;5;241m0\u001b[39m)\n\u001b[1;32m      4\u001b[0m \u001b[38;5;66;03m# Calculate the total counts for each GPS height category\u001b[39;00m\n\u001b[1;32m      5\u001b[0m total_counts_by_category \u001b[38;5;241m=\u001b[39m gps_height_status_counts\u001b[38;5;241m.\u001b[39msum(axis\u001b[38;5;241m=\u001b[39m\u001b[38;5;241m1\u001b[39m)\n",
      "File \u001b[0;32m~/anaconda3/envs/learn-env/lib/python3.8/site-packages/pandas/core/frame.py:6511\u001b[0m, in \u001b[0;36mDataFrame.groupby\u001b[0;34m(self, by, axis, level, as_index, sort, group_keys, squeeze, observed, dropna)\u001b[0m\n\u001b[1;32m   6508\u001b[0m     \u001b[38;5;28;01mraise\u001b[39;00m \u001b[38;5;167;01mTypeError\u001b[39;00m(\u001b[38;5;124m\"\u001b[39m\u001b[38;5;124mYou have to supply one of \u001b[39m\u001b[38;5;124m'\u001b[39m\u001b[38;5;124mby\u001b[39m\u001b[38;5;124m'\u001b[39m\u001b[38;5;124m and \u001b[39m\u001b[38;5;124m'\u001b[39m\u001b[38;5;124mlevel\u001b[39m\u001b[38;5;124m'\u001b[39m\u001b[38;5;124m\"\u001b[39m)\n\u001b[1;32m   6509\u001b[0m axis \u001b[38;5;241m=\u001b[39m \u001b[38;5;28mself\u001b[39m\u001b[38;5;241m.\u001b[39m_get_axis_number(axis)\n\u001b[0;32m-> 6511\u001b[0m \u001b[38;5;28;01mreturn\u001b[39;00m \u001b[43mDataFrameGroupBy\u001b[49m\u001b[43m(\u001b[49m\n\u001b[1;32m   6512\u001b[0m \u001b[43m    \u001b[49m\u001b[43mobj\u001b[49m\u001b[38;5;241;43m=\u001b[39;49m\u001b[38;5;28;43mself\u001b[39;49m\u001b[43m,\u001b[49m\n\u001b[1;32m   6513\u001b[0m \u001b[43m    \u001b[49m\u001b[43mkeys\u001b[49m\u001b[38;5;241;43m=\u001b[39;49m\u001b[43mby\u001b[49m\u001b[43m,\u001b[49m\n\u001b[1;32m   6514\u001b[0m \u001b[43m    \u001b[49m\u001b[43maxis\u001b[49m\u001b[38;5;241;43m=\u001b[39;49m\u001b[43maxis\u001b[49m\u001b[43m,\u001b[49m\n\u001b[1;32m   6515\u001b[0m \u001b[43m    \u001b[49m\u001b[43mlevel\u001b[49m\u001b[38;5;241;43m=\u001b[39;49m\u001b[43mlevel\u001b[49m\u001b[43m,\u001b[49m\n\u001b[1;32m   6516\u001b[0m \u001b[43m    \u001b[49m\u001b[43mas_index\u001b[49m\u001b[38;5;241;43m=\u001b[39;49m\u001b[43mas_index\u001b[49m\u001b[43m,\u001b[49m\n\u001b[1;32m   6517\u001b[0m \u001b[43m    \u001b[49m\u001b[43msort\u001b[49m\u001b[38;5;241;43m=\u001b[39;49m\u001b[43msort\u001b[49m\u001b[43m,\u001b[49m\n\u001b[1;32m   6518\u001b[0m \u001b[43m    \u001b[49m\u001b[43mgroup_keys\u001b[49m\u001b[38;5;241;43m=\u001b[39;49m\u001b[43mgroup_keys\u001b[49m\u001b[43m,\u001b[49m\n\u001b[1;32m   6519\u001b[0m \u001b[43m    \u001b[49m\u001b[43msqueeze\u001b[49m\u001b[38;5;241;43m=\u001b[39;49m\u001b[43msqueeze\u001b[49m\u001b[43m,\u001b[49m\n\u001b[1;32m   6520\u001b[0m \u001b[43m    \u001b[49m\u001b[43mobserved\u001b[49m\u001b[38;5;241;43m=\u001b[39;49m\u001b[43mobserved\u001b[49m\u001b[43m,\u001b[49m\n\u001b[1;32m   6521\u001b[0m \u001b[43m    \u001b[49m\u001b[43mdropna\u001b[49m\u001b[38;5;241;43m=\u001b[39;49m\u001b[43mdropna\u001b[49m\u001b[43m,\u001b[49m\n\u001b[1;32m   6522\u001b[0m \u001b[43m\u001b[49m\u001b[43m)\u001b[49m\n",
      "File \u001b[0;32m~/anaconda3/envs/learn-env/lib/python3.8/site-packages/pandas/core/groupby/groupby.py:525\u001b[0m, in \u001b[0;36m_GroupBy.__init__\u001b[0;34m(self, obj, keys, axis, level, grouper, exclusions, selection, as_index, sort, group_keys, squeeze, observed, mutated, dropna)\u001b[0m\n\u001b[1;32m    522\u001b[0m \u001b[38;5;28;01mif\u001b[39;00m grouper \u001b[38;5;129;01mis\u001b[39;00m \u001b[38;5;28;01mNone\u001b[39;00m:\n\u001b[1;32m    523\u001b[0m     \u001b[38;5;28;01mfrom\u001b[39;00m \u001b[38;5;21;01mpandas\u001b[39;00m\u001b[38;5;21;01m.\u001b[39;00m\u001b[38;5;21;01mcore\u001b[39;00m\u001b[38;5;21;01m.\u001b[39;00m\u001b[38;5;21;01mgroupby\u001b[39;00m\u001b[38;5;21;01m.\u001b[39;00m\u001b[38;5;21;01mgrouper\u001b[39;00m \u001b[38;5;28;01mimport\u001b[39;00m get_grouper\n\u001b[0;32m--> 525\u001b[0m     grouper, exclusions, obj \u001b[38;5;241m=\u001b[39m \u001b[43mget_grouper\u001b[49m\u001b[43m(\u001b[49m\n\u001b[1;32m    526\u001b[0m \u001b[43m        \u001b[49m\u001b[43mobj\u001b[49m\u001b[43m,\u001b[49m\n\u001b[1;32m    527\u001b[0m \u001b[43m        \u001b[49m\u001b[43mkeys\u001b[49m\u001b[43m,\u001b[49m\n\u001b[1;32m    528\u001b[0m \u001b[43m        \u001b[49m\u001b[43maxis\u001b[49m\u001b[38;5;241;43m=\u001b[39;49m\u001b[43maxis\u001b[49m\u001b[43m,\u001b[49m\n\u001b[1;32m    529\u001b[0m \u001b[43m        \u001b[49m\u001b[43mlevel\u001b[49m\u001b[38;5;241;43m=\u001b[39;49m\u001b[43mlevel\u001b[49m\u001b[43m,\u001b[49m\n\u001b[1;32m    530\u001b[0m \u001b[43m        \u001b[49m\u001b[43msort\u001b[49m\u001b[38;5;241;43m=\u001b[39;49m\u001b[43msort\u001b[49m\u001b[43m,\u001b[49m\n\u001b[1;32m    531\u001b[0m \u001b[43m        \u001b[49m\u001b[43mobserved\u001b[49m\u001b[38;5;241;43m=\u001b[39;49m\u001b[43mobserved\u001b[49m\u001b[43m,\u001b[49m\n\u001b[1;32m    532\u001b[0m \u001b[43m        \u001b[49m\u001b[43mmutated\u001b[49m\u001b[38;5;241;43m=\u001b[39;49m\u001b[38;5;28;43mself\u001b[39;49m\u001b[38;5;241;43m.\u001b[39;49m\u001b[43mmutated\u001b[49m\u001b[43m,\u001b[49m\n\u001b[1;32m    533\u001b[0m \u001b[43m        \u001b[49m\u001b[43mdropna\u001b[49m\u001b[38;5;241;43m=\u001b[39;49m\u001b[38;5;28;43mself\u001b[39;49m\u001b[38;5;241;43m.\u001b[39;49m\u001b[43mdropna\u001b[49m\u001b[43m,\u001b[49m\n\u001b[1;32m    534\u001b[0m \u001b[43m    \u001b[49m\u001b[43m)\u001b[49m\n\u001b[1;32m    536\u001b[0m \u001b[38;5;28mself\u001b[39m\u001b[38;5;241m.\u001b[39mobj \u001b[38;5;241m=\u001b[39m obj\n\u001b[1;32m    537\u001b[0m \u001b[38;5;28mself\u001b[39m\u001b[38;5;241m.\u001b[39maxis \u001b[38;5;241m=\u001b[39m obj\u001b[38;5;241m.\u001b[39m_get_axis_number(axis)\n",
      "File \u001b[0;32m~/anaconda3/envs/learn-env/lib/python3.8/site-packages/pandas/core/groupby/grouper.py:781\u001b[0m, in \u001b[0;36mget_grouper\u001b[0;34m(obj, key, axis, level, sort, observed, mutated, validate, dropna)\u001b[0m\n\u001b[1;32m    779\u001b[0m         in_axis, name, level, gpr \u001b[38;5;241m=\u001b[39m \u001b[38;5;28;01mFalse\u001b[39;00m, \u001b[38;5;28;01mNone\u001b[39;00m, gpr, \u001b[38;5;28;01mNone\u001b[39;00m\n\u001b[1;32m    780\u001b[0m     \u001b[38;5;28;01melse\u001b[39;00m:\n\u001b[0;32m--> 781\u001b[0m         \u001b[38;5;28;01mraise\u001b[39;00m \u001b[38;5;167;01mKeyError\u001b[39;00m(gpr)\n\u001b[1;32m    782\u001b[0m \u001b[38;5;28;01melif\u001b[39;00m \u001b[38;5;28misinstance\u001b[39m(gpr, Grouper) \u001b[38;5;129;01mand\u001b[39;00m gpr\u001b[38;5;241m.\u001b[39mkey \u001b[38;5;129;01mis\u001b[39;00m \u001b[38;5;129;01mnot\u001b[39;00m \u001b[38;5;28;01mNone\u001b[39;00m:\n\u001b[1;32m    783\u001b[0m     \u001b[38;5;66;03m# Add key to exclusions\u001b[39;00m\n\u001b[1;32m    784\u001b[0m     exclusions\u001b[38;5;241m.\u001b[39mappend(gpr\u001b[38;5;241m.\u001b[39mkey)\n",
      "\u001b[0;31mKeyError\u001b[0m: 'gps_height_categorym'"
     ]
    }
   ],
   "source": [
    "# Group the data by GPS height category and status group, then count the number of wells in each group\n",
    "gps_height_status_counts = merged_data.groupby(['gps_height_categorym', 'status_group_binary']).size().unstack(fill_value=0)\n",
    "\n",
    "# Calculate the total counts for each GPS height category\n",
    "total_counts_by_category = gps_height_status_counts.sum(axis=1)\n",
    "\n",
    "# Calculate the percentage of functional and non-functional wells in each category\n",
    "percentage_gps_height_status = (gps_height_status_counts.div(total_counts_by_category, axis=0) * 100)\n"
   ]
  },
  {
   "cell_type": "code",
   "execution_count": null,
   "id": "38562b95-e627-4d25-a406-4afdc567e81d",
   "metadata": {},
   "outputs": [],
   "source": [
    "# Define the desired order for GPS height categories\n",
    "categories_order = ['0 and below', '0-500', '500-1000', '1000-1500', '1500-2000', '2000+']\n",
    "\n",
    "# Reindex your DataFrame to reflect this order for the calculation\n",
    "percentage_gps_height_status_ordered = percentage_gps_height_status.reindex(categories_order)\n",
    "\n",
    "# Extract the ordered categories for plotting\n",
    "categories_ordered = percentage_gps_height_status_ordered.index\n",
    "\n",
    "# Plot setup\n",
    "bar_width = 0.5  # Use a full bar width for stacking\n",
    "index = np.arange(len(categories_ordered))\n",
    "\n",
    "plt.figure(figsize=(12, 8))\n",
    "\n",
    "# Plot stacked bars for functional and non-functional wells\n",
    "# Note: For stacked bars, the 'bottom' parameter determines where the top of the previous bar ends\n",
    "plt.bar(index, percentage_gps_height_status_ordered[1], bar_width, color='b', label='Functional')\n",
    "plt.bar(index, percentage_gps_height_status_ordered[0], bar_width, bottom=percentage_gps_height_status_ordered[1], color='r', label='Non-Functional')\n",
    "\n",
    "# Add labels, title, legend, and adjust layout\n",
    "plt.xlabel('GPS Height Category')\n",
    "plt.ylabel('Percentage')\n",
    "plt.title('Percentage of Functional and Non-Functional Wells by GPS Height Category (Stacked)')\n",
    "plt.xticks(index, categories_ordered, rotation=45)  # Labeling x-axis ticks with categories in order\n",
    "plt.legend()\n",
    "plt.tight_layout()\n",
    "plt.show()\n"
   ]
  },
  {
   "cell_type": "code",
   "execution_count": null,
   "id": "8bc307c2-92ab-490c-8d99-bd60746c1157",
   "metadata": {},
   "outputs": [],
   "source": [
    "# Check the counts of functional and non-functional wells for each status\n",
    "status_counts = merged_data['status_group_binary'].value_counts()\n",
    "print(status_counts)\n"
   ]
  },
  {
   "cell_type": "markdown",
   "id": "f324425a-93c6-4830-93c6-72a6bfb7153f",
   "metadata": {},
   "source": [
    "## Analysis of 'amount_tsh': Total Static Head in Water Wells\n",
    "The 'amount_tsh' variable, representing the total static head or the amount of water available in the wells, was subjected to a detailed statistical analysis to understand its distribution and identify outliers. Summary statistics and percentile analysis were utilized to gauge the variability and outlier presence within this dataset.\n",
    "\n",
    "Summary Statistics and Outlier Detection\n",
    "Summary Statistics:\n",
    "\n",
    "The dataset comprises 49,841 observations.\n",
    "The mean 'amount_tsh' is approximately 352.22, with a substantial standard deviation of 2793.45, indicating wide variance.\n",
    "The minimum recorded value is 0, which is plausible as many wells may not have available water. The maximum value observed is 250,000 TSH, showcasing extreme variability in water availability across wells.\n",
    "75% of the data have 'amount_tsh' values at or below 30 TSH, revealing that a significant portion of wells have low to no water availability."
   ]
  },
  {
   "cell_type": "code",
   "execution_count": null,
   "id": "d71048a4-2fe5-4bfe-a552-f6cb8955806a",
   "metadata": {},
   "outputs": [],
   "source": [
    "import matplotlib.pyplot as plt\n",
    "\n",
    "# Summary statistics\n",
    "summary_stats = merged_data['amount_tsh'].describe()\n",
    "print(\"Summary Statistics for amount_tsh:\")\n",
    "print(summary_stats)\n",
    "\n",
    "import matplotlib.pyplot as plt\n",
    "\n",
    "import seaborn as sns\n",
    "\n",
    "# Define the percentiles of interest\n",
    "percentiles = [75, 95, 97, 99]\n",
    "\n",
    "# Calculate the specified percentiles for amount_tsh\n",
    "percentile_values = merged_data['amount_tsh'].quantile([p / 100 for p in percentiles])\n",
    "\n",
    "# Create a boxplot\n",
    "plt.figure(figsize=(10, 6))\n",
    "sns.boxplot(x=merged_data['amount_tsh'])\n",
    "plt.xticks(ticks=range(len(percentiles)), labels=[f'{p}th percentile\\n({int(value)} TSH)' for p, value in zip(percentiles, percentile_values)])\n",
    "plt.xlabel('Percentile')\n",
    "plt.ylabel('Amount of Water Available (TSH)')\n",
    "plt.title('Boxplot of Amount of Water Available (TSH) Across Percentiles')\n",
    "plt.grid(True, linestyle='--', alpha=0.7)\n",
    "plt.show()\n",
    "\n",
    "\n"
   ]
  },
  {
   "cell_type": "markdown",
   "id": "1505819d-7beb-4c6d-8540-47e598ad0c67",
   "metadata": {},
   "source": [
    "### Outlier Analysis:\n",
    "\n",
    "Outliers were identified using percentile thresholds (75th, 95th, 97th, and 99th percentiles), revealing a considerable number of observations beyond these markers, indicating the presence of extreme values in the distribution.\n",
    "Beyond the 75th percentile, 12,334 observations are considered outliers, underscoring the skewed nature of this variable towards lower 'amount_tsh' values."
   ]
  },
  {
   "cell_type": "code",
   "execution_count": null,
   "id": "39f957d0-0233-46c2-b464-bd73018705e7",
   "metadata": {},
   "outputs": [],
   "source": [
    "# Calculate the number of outliers beyond each specified percentile\n",
    "outliers_counts = [merged_data[merged_data['amount_tsh'] > merged_data['amount_tsh'].quantile(p / 100)].shape[0] for p in percentiles]\n",
    "\n",
    "# Print the number of outliers\n",
    "for p, outliers_count in zip(percentiles, outliers_counts):\n",
    "    print(f'Number of outliers beyond the {p}th percentile: {outliers_count}')\n"
   ]
  },
  {
   "cell_type": "markdown",
   "id": "56520b1a-81ea-4ed4-8c22-27c6deff9670",
   "metadata": {},
   "source": [
    "Given the potential for wells to have a 'amount_tsh' of 0 (indicating no water availability) and the significant variance observed in the dataset, no observations were removed. The presence of high 'amount_tsh' values, while seemingly outliers, could represent wells with substantial water availability, essential for the analysis.\n",
    "\n",
    "This careful consideration highlights the complexity of managing and interpreting water resource data, where both extremely low and high values carry crucial information about water availability and access.\n",
    "\n",
    "Visualization\n",
    "A boxplot was generated to visually represent the distribution of 'amount_tsh' across specified percentiles, offering a clear view of the data's spread and the concentration of outliers. This visualization aids in understanding the variable's distribution at a glance, reinforcing the statistical findings."
   ]
  },
  {
   "cell_type": "code",
   "execution_count": null,
   "id": "1cc5cd8e-eda6-4f24-abea-9aa80f9f0ba6",
   "metadata": {},
   "outputs": [],
   "source": [
    "import matplotlib.pyplot as plt\n",
    "\n",
    "# Set figure size\n",
    "plt.figure(figsize=(10, 6))\n",
    "\n",
    "# Plot the histogram\n",
    "plt.hist(merged_data['amount_tsh'], bins=100, color='skyblue', edgecolor='black')\n",
    "\n",
    "# Add labels and title\n",
    "plt.title('Distribution of Amount TSH')\n",
    "plt.xlabel('Amount TSH')\n",
    "plt.ylabel('Frequency')\n",
    "\n",
    "# Show plot\n",
    "plt.show()\n"
   ]
  },
  {
   "cell_type": "markdown",
   "id": "b21f0fd3-a843-4116-adce-7df85bf49577",
   "metadata": {},
   "source": [
    "## Exploring 'population'\n",
    "The initial data inspection revealed a significant number of instances where the population value is recorded as 0, specifically 18,088 cases. Recognizing the potential impact of such inaccuracies on our analysis, I employed a strategy to address these zero values, aiming for a more accurate representation of the population data."
   ]
  },
  {
   "cell_type": "code",
   "execution_count": null,
   "id": "88a96b3a-e405-489a-8aed-3ae9c4194f61",
   "metadata": {},
   "outputs": [],
   "source": [
    "# Check for missing values in the population column\n",
    "missing_population = merged_data['population'].isnull().sum()\n",
    "print(\"Number of missing values in population:\", missing_population)\n",
    "\n",
    "# Inspect unique values in the population column\n",
    "unique_population = merged_data['population'].unique()\n",
    "print(\"Unique population:\", unique_population)\n",
    "\n",
    "\n"
   ]
  },
  {
   "cell_type": "code",
   "execution_count": null,
   "id": "57e5b106-3aef-436d-a80e-67a66749cf8c",
   "metadata": {},
   "outputs": [],
   "source": [
    "# Count the number of instances where population is 0\n",
    "population_zero_count = (merged_data['population'] == 0).sum()\n",
    "print(\"Number of instances where population is 0:\", population_zero_count)\n"
   ]
  },
  {
   "cell_type": "markdown",
   "id": "b15570a2-7403-4e2a-abf7-5e9295f93a52",
   "metadata": {},
   "source": [
    "To address missing values in the `population` column, I opted to utilize KNN (K-Nearest Neighbors) imputation. KNN imputation is a technique used to estimate missing values in a dataset by considering the values of nearby data points. \n",
    "\n",
    "In this context, KNN imputation will estimate the missing population based on the population of neighboring data points. By leveraging the similarity of neighboring observations, KNN imputation provides a reasonable approximation of the missing values.\n",
    "\n"
   ]
  },
  {
   "cell_type": "code",
   "execution_count": null,
   "id": "a47ce4df-6c43-4c83-9dd6-7bda75f2d8f9",
   "metadata": {},
   "outputs": [],
   "source": [
    "#checking to see if any population still has 0\n",
    "\n",
    "from sklearn.impute import KNNImputer\n",
    "\n",
    "# Create a KNNImputer object\n",
    "imputer = KNNImputer(n_neighbors=5)  \n",
    "\n",
    "# Select the columns containing continuous variables\n",
    "continuous_columns = ['population']  \n",
    "# Replace missing values with NaN\n",
    "merged_data.loc[merged_data['population'] == 0, 'population'] = np.nan\n",
    "\n",
    "# Apply KNN imputation\n",
    "merged_data_imputed = imputer.fit_transform(merged_data[continuous_columns])\n",
    "\n",
    "# Replace the original population column with the imputed values\n",
    "merged_data['population'] = merged_data_imputed\n",
    "\n",
    "# Check the results\n",
    "print(merged_data['population'].isnull().sum())  # Ensure there are no missing values remaining"
   ]
  },
  {
   "cell_type": "code",
   "execution_count": null,
   "id": "6352aed8-1183-4e2a-a832-b36020c36c37",
   "metadata": {},
   "outputs": [],
   "source": [
    "# Count the number of instances where population is 0\n",
    "population_zero_count = (merged_data['population'] == 0).sum()\n",
    "print(\"Number of instances where population is 0:\", population_zero_count)\n"
   ]
  },
  {
   "cell_type": "markdown",
   "id": "b0582985-7c3c-404a-baa8-053567d268bb",
   "metadata": {},
   "source": [
    "## Water Wells in Tanzania: Spatial Analysis\n",
    "\n",
    "By filtering out data points with longitude and latitude outside Tanzania's bounds, we eliminated outliers. Three distinct maps were generated to visualize the distribution of functional, non-functional, and both categories of water wells. Although these maps don't identify the causes behind the need for repairs, they provide valuable insights for governmental planning on where to allocate repair resources.\n"
   ]
  },
  {
   "cell_type": "code",
   "execution_count": null,
   "id": "0ce63ba9-a891-4e9a-9159-5f3cad13f579",
   "metadata": {},
   "outputs": [],
   "source": [
    "# Count the number of instances where longitude and latitude is 0\n",
    "longitude_zero_count = (merged_data['longitude'] == 0).sum()\n",
    "print(\"Number of instances where longitude is 0:\", longitude_zero_count)# Count the number of instances where longitude is 0\n",
    "latitude_zero_count = (merged_data['latitude'] == 0).sum()\n",
    "print(\"Number of instances where latitude is 0:\", latitude_zero_count)\n"
   ]
  },
  {
   "cell_type": "code",
   "execution_count": null,
   "id": "cf3c8fe6-9c97-476a-b48a-7fa7e080230f",
   "metadata": {},
   "outputs": [],
   "source": [
    "# Filter the dataset to get the latitude and longitude of functional and non-functional wells\n",
    "functional_wells = merged_data[merged_data['status_group_binary'] == 1]\n",
    "non_functional_wells = merged_data[merged_data['status_group_binary'] == 0]\n",
    "\n",
    "# Get the counts of functional and non-functional wells\n",
    "functional_count = merged_data['status_group_binary'].value_counts()[1]\n",
    "non_functional_count = merged_data['status_group_binary'].value_counts()[0]\n",
    "\n",
    "print(\"Number of Functional Wells:\", functional_count)\n",
    "print(\"Number of Non-Functional Wells:\", non_functional_count)\n",
    "\n"
   ]
  },
  {
   "cell_type": "code",
   "execution_count": null,
   "id": "ae56d7c4-c8c6-458f-a02d-bfb3f9f27d08",
   "metadata": {},
   "outputs": [],
   "source": [
    "# Define the latitude and longitude ranges for Tanzania\n",
    "latitude_range = (-11.7, -0.5)\n",
    "longitude_range = (29.4, 40.5)\n",
    "\n",
    "# Filter the data to include only the rows within the specified latitude and longitude ranges\n",
    "merged_data = merged_data[\n",
    "    (merged_data['latitude'] >= latitude_range[0]) & (merged_data['latitude'] <= latitude_range[1]) &\n",
    "    (merged_data['longitude'] >= longitude_range[0]) & (merged_data['longitude'] <= longitude_range[1])\n",
    "]\n"
   ]
  },
  {
   "cell_type": "code",
   "execution_count": null,
   "id": "f7016314-56bc-46cf-b041-cd1ec73bc6df",
   "metadata": {},
   "outputs": [],
   "source": [
    "\n",
    "\n",
    "# Summary statistics for latitude and longitude after filtering\n",
    "print(\"\\nAfter filtering:\")\n",
    "print(merged_data[['latitude', 'longitude']].describe())\n"
   ]
  },
  {
   "cell_type": "code",
   "execution_count": null,
   "id": "ae7e2106-ecaa-4c7d-8966-b7db963d0f05",
   "metadata": {},
   "outputs": [],
   "source": [
    "# Set the coordinate reference system (CRS) to WGS84\n",
    "gdf.crs = \"EPSG:4326\"\n",
    "\n",
    "# Plot functional wells with adjusted alpha for transparency\n",
    "fig, ax = plt.subplots(figsize=(10, 6))\n",
    "gdf[gdf['status_group_binary'] == 1].plot(ax=ax, marker='o', color='green', markersize=5, alpha=0.2, label='Functional')  # Adjust alpha here\n",
    "plt.title('Functional Water Wells in Tanzania')\n",
    "plt.xlabel('Longitude')\n",
    "plt.ylabel('Latitude')\n",
    "plt.legend()\n",
    "plt.show()\n",
    "\n",
    "# Plot non-functional wells with adjusted alpha for transparency\n",
    "fig, ax = plt.subplots(figsize=(10, 6))\n",
    "gdf[gdf['status_group_binary'] == 0].plot(ax=ax, marker='x', color='red', markersize=5, alpha=0.7, label='Non-Functional')  # Adjust alpha here\n",
    "plt.title('Non-Functional Water Wells in Tanzania')\n",
    "plt.xlabel('Longitude')\n",
    "plt.ylabel('Latitude')\n",
    "plt.legend()\n",
    "plt.show()\n",
    "\n",
    "# Plot both functional and non-functional wells with adjusted alpha for transparency\n",
    "fig, ax = plt.subplots(figsize=(10, 6))\n",
    "gdf[gdf['status_group_binary'] == 1].plot(ax=ax, marker='o', color='green', markersize=1, alpha=0.5, label='Functional')  # Adjust alpha here for functional\n",
    "gdf[gdf['status_group_binary'] == 0].plot(ax=ax, marker='x', color='red', markersize=1, alpha=0.7, label='Non-Functional')  # Adjust alpha here for non-functional\n",
    "plt.title('Water Wells in Tanzania (Functional and Non-Functional)')\n",
    "plt.xlabel('Longitude')\n",
    "plt.ylabel('Latitude')\n",
    "plt.legend()\n",
    "plt.show()\n"
   ]
  },
  {
   "cell_type": "markdown",
   "id": "f3dbe7f3-de97-4d4d-8efc-018a70cf036e",
   "metadata": {},
   "source": [
    "## Assessment of Zero Values in GPS Height Data\n",
    "Upon discovering a significant number of zero values in the GPS height data, further investigation was conducted to determine their validity.\n",
    "\n",
    "A histogram was created to visualize the distribution of zero values in the GPS height data.\n",
    "The visualization indicated that the number of zero values is relatively equal to other values in the distribution.\n",
    "\n",
    "Based on the visual analysis, it was concluded that the zero values in the GPS height data appear to be valid and distributed similarly to other values. Therefore, the decision was made not to remove these values from the dataset.\n"
   ]
  },
  {
   "cell_type": "code",
   "execution_count": null,
   "id": "379ad4c7-b5b5-4401-85f3-35bcfa4ec621",
   "metadata": {},
   "outputs": [],
   "source": [
    "import seaborn as sns\n",
    "import matplotlib.pyplot as plt\n",
    "\n",
    "# Filter out zero GPS height values\n",
    "non_zero_gps_height = merged_data[merged_data['gps_height'] != 0]\n",
    "\n",
    "# Plot histogram\n",
    "plt.figure(figsize=(10, 6))\n",
    "sns.histplot(data=non_zero_gps_height, x='gps_height', bins=30, kde=True)\n",
    "plt.title('Distribution of GPS Height Values ')\n",
    "plt.xlabel('GPS Height')\n",
    "plt.ylabel('Frequency')\n",
    "plt.show()\n"
   ]
  },
  {
   "cell_type": "code",
   "execution_count": null,
   "id": "6162b704-9770-4272-b193-224e77859100",
   "metadata": {},
   "outputs": [],
   "source": [
    "# Count the number of instances where  0 is present in the columns\n",
    "basin_zero_count = (merged_data['basin'] == 0).sum()\n",
    "print(\"Number of instances where basin is 0:\", basin_zero_count)\n",
    "region_zero_count = (merged_data['region'] == 0).sum()\n",
    "print(\"Number of instances where region is 0:\", region_zero_count)\n",
    "region_code_zero_code = (merged_data['region_code'] == 0).sum()\n",
    "print(\"Number of instances where region_code is 0:\", region_code_zero_code)"
   ]
  },
  {
   "cell_type": "code",
   "execution_count": null,
   "id": "39831e57-8696-4b37-9174-17d9dfcbfe98",
   "metadata": {},
   "outputs": [],
   "source": [
    "# Count the number of instances where  0 is present in the columns\n",
    "extraction_type_zero_code = (merged_data['extraction_type'] == 0).sum()\n",
    "print(\"Number of instances where extraction_type is 0:\", extraction_type_zero_code)\n",
    "management_group_zero_code = (merged_data['management_group'] == 0).sum()\n",
    "print(\"Number of instances where mangement_group is 0:\", management_group_zero_code)"
   ]
  },
  {
   "cell_type": "markdown",
   "id": "536c4ec5-98f9-4f1e-9401-99e2c939e4fb",
   "metadata": {},
   "source": [
    "## Reviewing Remaining Columns"
   ]
  },
  {
   "cell_type": "code",
   "execution_count": null,
   "id": "b3923ba4-64d5-444e-bc79-48ef8dab663d",
   "metadata": {},
   "outputs": [],
   "source": [
    "# Check the data types of each column\n",
    "print(merged_data.dtypes)\n"
   ]
  },
  {
   "cell_type": "markdown",
   "id": "47074a67-61e5-4e34-8503-93eb77e1d269",
   "metadata": {},
   "source": [
    "### Searching for Categorical Data"
   ]
  },
  {
   "cell_type": "code",
   "execution_count": null,
   "id": "7c679557-107b-494c-bb22-cfbb8b62dc93",
   "metadata": {},
   "outputs": [],
   "source": [
    "# Select categorical columns\n",
    "categorical_columns = merged_data.select_dtypes(include=['object']).columns.tolist()\n",
    "print(categorical_columns)\n"
   ]
  },
  {
   "cell_type": "markdown",
   "id": "0b98f33d-15ae-42ac-81a9-061c310ed478",
   "metadata": {},
   "source": [
    "## Ordinal Encoding of Decade of Construction\n",
    "\n",
    "### Objective\n",
    "The goal was to transform the `decade_construction` column, which categorizes the construction decade of water wells, from a categorical to an ordinal format. This conversion is crucial for machine learning models that require numerical input and can benefit from the inherent order within the data.\n",
    "\n",
    "### Process\n",
    "1. **Identification of Categorical Data**: Started by selecting columns with data type 'object' to identify all categorical columns within the dataset.\n",
    "2. **Handling Missing Values**: Noted the presence of NaN values in `decade_construction` and filled these with 'Unknown' to maintain data integrity without discarding rows.\n",
    "3. **Setting Categories**: Defined an explicit order for the decades (from '1960s' to '2010s', including 'Unknown') to reflect the chronological sequence, which is essential for ordinal encoding.\n",
    "4. **Ordinal Encoding**: Utilized `OrdinalEncoder` from `sklearn.preprocessing` to convert the textual decade categories into ordered numerical values. This step transforms the inherently categorical information into a format that numerical algorithms can process, preserving the temporal order.\n",
    "\n",
    "### Rationale\n",
    "Ordinal encoding is preferred here because the construction decade of water wells is inherently ordered; newer wells might have different characteristics and failure rates compared to older ones. Representing decades as ordered numbers allows algorithms to understand and leverage this order, potentially improving predictive performance when forecasting well functionality or repair needs.\n",
    "\n",
    "### Verification\n",
    "Confirmed the successful encoding by displaying the unique categories and their corresponding encoded values. Also, printed a mapping of each decade to its ordinal value to ensure the encoding reflects the intended chronological order.\n",
    "\n",
    "This approach empowers the dataset for more sophisticated analyses, where the construction decade can play a significant role in predictive modeling, offering insights into trends and influences of well construction over time.\n"
   ]
  },
  {
   "cell_type": "code",
   "execution_count": null,
   "id": "7ff6b38e-b728-4814-9d5e-6569da203669",
   "metadata": {},
   "outputs": [],
   "source": [
    "print(\"NaNs in 'decade_construction' before Ordinal Encoding:\", merged_data['decade_construction'].isnull().sum())\n"
   ]
  },
  {
   "cell_type": "code",
   "execution_count": null,
   "id": "d7d6ea03-d008-41d4-8f00-7e1cf8dadef5",
   "metadata": {},
   "outputs": [],
   "source": [
    "merged_data['decade_construction'].fillna('Unknown', inplace=True)\n",
    "\n",
    "# Verify categories are correctly set, including 'Unknown' if used\n",
    "print(\"Unique categories in 'decade_construction':\", merged_data['decade_construction'].unique())\n"
   ]
  },
  {
   "cell_type": "code",
   "execution_count": null,
   "id": "63337c28-8582-455f-ad1e-785def3a055a",
   "metadata": {},
   "outputs": [],
   "source": [
    "from sklearn.preprocessing import OrdinalEncoder\n",
    "\n",
    "# Define categories \n",
    "categories = [['1960s', '1970s', '1980s', '1990s', '2000s', '2010s', 'Unknown']]  \n",
    "\n",
    "# Initialize the OrdinalEncoder with the defined categories\n",
    "ordinal_encoder = OrdinalEncoder(categories=categories)\n",
    "\n",
    "# Fit and transform 'decade_construction'\n",
    "merged_data['decade_construction_ordinal'] = ordinal_encoder.fit_transform(merged_data[['decade_construction']])\n"
   ]
  },
  {
   "cell_type": "code",
   "execution_count": null,
   "id": "0ab60420-a301-489c-a4e9-1f25f8a46125",
   "metadata": {},
   "outputs": [],
   "source": [
    "# Display unique decades and their encoded values\n",
    "unique_decades = merged_data['decade_construction'].unique()\n",
    "unique_encoded_values = merged_data['decade_construction_ordinal'].unique()\n",
    "\n",
    "print(\"Unique Decades:\", unique_decades)\n",
    "print(\"Unique Encoded Values:\", unique_encoded_values)\n",
    "\n",
    "# Optionally, to see a mapping of decade to its ordinal encoding\n",
    "decade_encoding_mapping = merged_data[['decade_construction', 'decade_construction_ordinal']].drop_duplicates().sort_values(by='decade_construction_ordinal')\n",
    "print(decade_encoding_mapping)\n"
   ]
  },
  {
   "cell_type": "code",
   "execution_count": null,
   "id": "1ca4dab5-6c56-4b23-9f56-b27c591a360e",
   "metadata": {},
   "outputs": [],
   "source": [
    "# Exclude 'decade_construction' from the list of columns to dummy encode\n",
    "categorical_columns.remove('decade_construction')  \n",
    "\n",
    "# Now, dummy encode the remaining categorical columns\n",
    "merged_data_encoded = pd.get_dummies(merged_data, columns=categorical_columns)\n",
    "\n",
    "# Display the encoded dataset\n",
    "print(merged_data_encoded.head())\n",
    "\n"
   ]
  },
  {
   "cell_type": "code",
   "execution_count": null,
   "id": "d840e247-f2c8-4757-b08c-b25f86e58d52",
   "metadata": {},
   "outputs": [],
   "source": [
    "print(merged_data_encoded.columns)\n"
   ]
  },
  {
   "cell_type": "markdown",
   "id": "cb3b2bc1-9a84-4369-86b0-25c9e53de1b5",
   "metadata": {},
   "source": [
    "Model 1 : Decision Tree Classifier\n",
    "\n",
    "Before applying machine learning models, the dataset was divided into features (X) and the target variable (y). The features include all data points except for the status_group_binary, which serves as the target variable indicating the functionality of water wells.\n",
    "\n",
    "The dataset was then split into training and testing sets, allocating 80% for training and 20% for testing. This split ensures a fair evaluation of the model's performance on unseen data, crucial for assessing its generalizability and effectiveness in real-world predictions.\n",
    "\n",
    "Training Set: Used to train the model, allowing it to learn the relationship between features and the target variable.\n",
    "Testing Set: Used to evaluate the model, providing an unbiased assessment of its performance on new, unseen data.\n",
    "\n",
    "This preparation step is essential, laying the groundwork for applying and evaluating various machine learning models, including Random Forest and XGBoost.\n",
    "\n",
    "\n"
   ]
  },
  {
   "cell_type": "code",
   "execution_count": null,
   "id": "299544e7-13f0-4e0e-8899-6a0c60b312f4",
   "metadata": {},
   "outputs": [],
   "source": [
    "from sklearn.model_selection import train_test_split\n",
    "\n",
    "# Split the data into features (X) and target variable (y)\n",
    "X = merged_data_encoded.drop(columns=['status_group_binary'])\n",
    "y = merged_data_encoded['status_group_binary']\n",
    "\n",
    "# Split the data into training and testing sets (80% train, 20% test)\n",
    "X_train, X_test, y_train, y_test = train_test_split(X, y, test_size=0.2, random_state=42)\n",
    "\n",
    "# Check the shapes of the train and test sets\n",
    "print(\"Shape of X_train:\", X_train.shape)\n",
    "print(\"Shape of X_test:\", X_test.shape)\n",
    "print(\"Shape of y_train:\", y_train.shape)\n",
    "print(\"Shape of y_test:\", y_test.shape)\n",
    "\n",
    "\n"
   ]
  },
  {
   "cell_type": "markdown",
   "id": "3dcaf588-fc55-4565-a1cc-d1860c117e9b",
   "metadata": {},
   "source": [
    "We encoded categorical variables to numerical format using one-hot encoding and then split the data into training and testing sets. Next, we initialized and trained a decision tree classifier. Finally, we made predictions on the test set."
   ]
  },
  {
   "cell_type": "code",
   "execution_count": null,
   "id": "b29ac3be-760d-4752-86af-b7cf7479aa87",
   "metadata": {},
   "outputs": [],
   "source": [
    "from sklearn.model_selection import train_test_split\n",
    "from sklearn.tree import DecisionTreeClassifier\n",
    "import pandas as pd\n",
    "\n",
    "# One-hot encode categorical variables\n",
    "X_encoded = pd.get_dummies(X, drop_first=True)\n",
    "\n",
    "# Split the encoded data into training and testing sets\n",
    "X_train_encoded, X_test_encoded, y_train, y_test = train_test_split(X_encoded, y, test_size=0.2, random_state=42)\n",
    "\n",
    "# Initialize the decision tree classifier\n",
    "decision_tree = DecisionTreeClassifier(random_state=42)\n",
    "\n",
    "# Train the decision tree classifier on the training data\n",
    "decision_tree.fit(X_train_encoded, y_train)\n",
    "\n",
    "# Predict the target variable for the test set\n",
    "y_pred = decision_tree.predict(X_test_encoded)\n",
    "\n",
    "# Now, let's print the columns of your original dataset for clarity\n",
    "print(merged_data_encoded.columns)\n",
    "\n",
    "# And check the shapes of the train and test sets again to ensure everything is as expected\n",
    "print(\"Shape of X_train_encoded:\", X_train_encoded.shape)\n",
    "print(\"Shape of X_test_encoded:\", X_test_encoded.shape)\n",
    "print(\"Shape of y_train:\", y_train.shape)\n",
    "print(\"Shape of y_test:\", y_test.shape)\n"
   ]
  },
  {
   "cell_type": "markdown",
   "id": "cd11ba3e-ae0b-4683-8fb5-94fc87fbc71a",
   "metadata": {},
   "source": [
    "## Model 1 Perfromance\n",
    "\n",
    "Accuracy: The model achieved an accuracy of approximately 80.24%, indicating the proportion of correctly classified instances out of the total samples.\n",
    "\n",
    "Confusion Matrix:\n",
    "\n",
    "True Negative (TN): 3334 instances were correctly classified as negative (0).\n",
    "False Negative (FN): 1092 instances were falsely classified as negative (0).\n",
    "False Positive (FP): 1184 instances were falsely classified as positive (1).\n",
    "True Positive (TP): 5908 instances were correctly classified as positive (1).\n",
    "Classification Report:\n",
    "\n",
    "Precision: Precision is the ratio of correctly predicted positive observations to the total predicted positives. In this case, precision for class 0 is 0.74, and for class 1 is 0.84.\n",
    "Recall: Recall is the ratio of correctly predicted positive observations to all actual positives. For class 0, recall is 0.75, and for class 1, it is 0.83.\n",
    "F1-score: The F1-score is the harmonic mean of precision and recall. It provides a balance between precision and recall. The weighted average F1-score is approximately 0.80.\n",
    "Support: The number of actual occurrences of each class in the specified dataset.\n",
    "ROC AUC Score: The ROC AUC score measures the model's ability to discriminate between positive and negative classes. In this case, the ROC AUC score is approximately 0.793, indicating a strong discriminatory ability.\n",
    "\n",
    "Overall Assessment: The model demonstrates decent performance in classifying the target variable based on the provided features, with a balanced performance across classes. However, there's room for improvement, particularly in reducing false negatives and false positives for better precision and recall."
   ]
  },
  {
   "cell_type": "code",
   "execution_count": null,
   "id": "4c7dd939-5906-4036-9938-32a6645232f8",
   "metadata": {},
   "outputs": [],
   "source": [
    "from sklearn.metrics import accuracy_score, confusion_matrix, classification_report, roc_auc_score\n",
    "\n",
    "# Calculate accuracy\n",
    "accuracy = accuracy_score(y_test, y_pred)\n",
    "print(\"Accuracy:\", accuracy)\n",
    "\n",
    "# Calculate confusion matrix\n",
    "conf_matrix = confusion_matrix(y_test, y_pred)\n",
    "print(\"Confusion Matrix:\\n\", conf_matrix)\n",
    "\n",
    "# Calculate classification report\n",
    "class_report = classification_report(y_test, y_pred)\n",
    "print(\"Classification Report:\\n\", class_report)\n",
    "\n",
    "# Calculate ROC AUC score (if binary classification)\n",
    "if len(np.unique(y_train)) == 2:\n",
    "    roc_auc = roc_auc_score(y_test, y_pred)\n",
    "    print(\"ROC AUC Score:\", roc_auc)\n"
   ]
  },
  {
   "cell_type": "markdown",
   "id": "7d91e299-c6a2-4614-bb5f-bad101a0ef3b",
   "metadata": {},
   "source": [
    "The confusion matrix heatmap visually represents the classification results of the model. Along the x-axis are the predicted labels, while the y-axis shows the true labels. Each cell in the heatmap indicates the number of instances classified accordingly. The majority of instances lie along the diagonal, indicating correct predictions, while off-diagonal cells represent misclassifications. The color intensity reflects the frequency of predictions, with darker shades indicating higher counts. This visualization provides a clear overview of the model's performance in terms of true positive, false positive, true negative, and false negative classifications.\n"
   ]
  },
  {
   "cell_type": "code",
   "execution_count": null,
   "id": "7dbee222-f694-4e64-a8d5-8dace5d615c7",
   "metadata": {},
   "outputs": [],
   "source": [
    "import matplotlib.pyplot as plt\n",
    "import seaborn as sns\n",
    "\n",
    "# Plot confusion matrix\n",
    "plt.figure(figsize=(8, 6))\n",
    "sns.heatmap(conf_matrix, annot=True, fmt='d', cmap='Blues', cbar=False)\n",
    "plt.xlabel('Predicted Labels')\n",
    "plt.ylabel('True Labels')\n",
    "plt.title('Confusion Matrix')\n",
    "plt.show()\n"
   ]
  },
  {
   "cell_type": "markdown",
   "id": "f20186ae-da98-4fc0-a8e8-64a1abb399cd",
   "metadata": {},
   "source": [
    "# Model 2 Random Forest\n",
    "\n",
    "## Random Forest Classifier Model Summary\n",
    "\n",
    "### Model Training and Testing\n",
    "- The dataset was one-hot encoded to convert non-numeric columns into a format suitable for model training.\n",
    "- The encoded data was split into training and testing sets with an 80-20 split, using a `random_state` of 42 for reproducibility.\n",
    "- A Random Forest classifier was initialized with 100 estimators and trained on the encoded training data.\n",
    "- The model was then used to make predictions on the test data.\n",
    "\n"
   ]
  },
  {
   "cell_type": "code",
   "execution_count": null,
   "id": "130145a1-a7fb-4518-ade9-85099228130b",
   "metadata": {},
   "outputs": [],
   "source": [
    "\n",
    "\n",
    "# Initialize the Random Forest classifier\n",
    "rf_clf = RandomForestClassifier(n_estimators=100, random_state=42)\n",
    "\n",
    "# Train the classifier on the training data\n",
    "rf_clf.fit(X_train_encoded, y_train)\n",
    "\n",
    "# Make predictions on the test data\n",
    "y_pred_rf = rf_clf.predict(X_test_encoded)\n",
    "\n",
    "\n"
   ]
  },
  {
   "cell_type": "markdown",
   "id": "8d0d6ba7-d3f7-43ce-83e2-a1ec4b5c883a",
   "metadata": {},
   "source": [
    "## Results of Model 2 Random Forest\n",
    "### Accuracy: \n",
    "The model achieved an accuracy of 85.47%, indicating the proportion of correctly classified instances out of the total samples.\n",
    "\n",
    "### Confusion Matrix:\n",
    "\n",
    "True Negative (TN): 3387 instances were correctly classified as negative (0).\n",
    "False Negative (FN): 635 instances were falsely classified as negative (0).\n",
    "False Positive (FP): 1039 instances were falsely classified as positive (1).\n",
    "True Positive (TP): 6457 instances were correctly classified as positive (1).\n",
    "\n",
    "\n",
    "### Precision: \n",
    "Precision is the ratio of correctly predicted positive observations to the total predicted positives. In this case, precision for class 0 is 0.84, and for class 1 is 0.86.\n",
    "\n",
    "### Recall: \n",
    "Recall is the ratio of correctly predicted positive observations to all actual positives. For class 0, recall is 0.77, and for class 1, it is 0.91.\n",
    "\n",
    "### F1-score: \n",
    "The F1-score is the harmonic mean of precision and recall. It provides a balance between precision and recall. The weighted average F1-score is approximately 0.85.\n",
    "\n",
    "ROC AUC Score: The ROC AUC score measures the model's ability to discriminate between positive and negative classes. In this case, the ROC AUC score is approximately 0.838, indicating a strong discriminatory ability.\n",
    "\n",
    "Overall Assessment: The Random Forest classifier demonstrated a high level of accuracy and a strong ability to discriminate between classes, as evidenced by the ROC AUC score. The precision, recall, and F1-score across both classes indicate a balanced performance, though there's room for improvement in reducing false positives and false negatives.\n"
   ]
  },
  {
   "cell_type": "code",
   "execution_count": null,
   "id": "d6e3e154-e919-4d48-9b1a-20acffe0d986",
   "metadata": {},
   "outputs": [],
   "source": [
    "from sklearn.metrics import accuracy_score, confusion_matrix, classification_report, roc_auc_score\n",
    "\n",
    "# Calculate accuracy\n",
    "accuracy = accuracy_score(y_test, y_pred_rf)\n",
    "print(\"Accuracy:\", accuracy)\n",
    "\n",
    "# Calculate confusion matrix\n",
    "conf_matrix = confusion_matrix(y_test, y_pred_rf)\n",
    "print(\"Confusion Matrix:\\n\", conf_matrix)\n",
    "\n",
    "# Calculate classification report\n",
    "class_report = classification_report(y_test, y_pred_rf)\n",
    "print(\"Classification Report:\\n\", class_report)\n",
    "\n",
    "# Calculate ROC AUC score (if binary classification)\n",
    "if len(np.unique(y_train)) == 2:\n",
    "    roc_auc = roc_auc_score(y_test, y_pred_rf)\n",
    "    print(\"ROC AUC Score:\", roc_auc)\n"
   ]
  },
  {
   "cell_type": "code",
   "execution_count": null,
   "id": "78274071-a6f8-4d6e-b327-955d68ac4239",
   "metadata": {},
   "outputs": [],
   "source": [
    "import matplotlib.pyplot as plt\n",
    "import seaborn as sns\n",
    "\n",
    "# Plot confusion matrix\n",
    "plt.figure(figsize=(8, 6))\n",
    "sns.heatmap(conf_matrix, annot=True, fmt='d', cmap='Blues', cbar=False)\n",
    "plt.xlabel('Predicted Labels')\n",
    "plt.ylabel('True Labels')\n",
    "plt.title('Confusion Matrix')\n",
    "plt.show()\n"
   ]
  },
  {
   "cell_type": "markdown",
   "id": "70199ecd-405f-4311-b424-3d62a9e375a1",
   "metadata": {},
   "source": [
    "# Feature Importance Analysis with Random Forest Classifier\n",
    "\n",
    "In this analysis, we aim to determine the importance of features in a predictive model, particularly using the Random Forest Classifier. Feature importance helps in understanding which features contribute the most to the predictive power of the model.\n",
    "\n",
    "## Code Description\n",
    "\n",
    "The provided Python code performs the following steps:\n",
    "\n",
    "1. **Feature Importance Calculation**: The feature importances are extracted from the trained Random Forest Classifier (`rf_clf`). These importances reflect the contribution of each feature to the model's predictive performance.\n",
    "\n",
    "2. **Visualization**: The feature importances are sorted in descending order and displayed as a bar plot to visualize the most important features. This helps in identifying the key variables driving the model's predictions.\n",
    "\n",
    "## Important Values\n",
    "\n",
    "The most important features (top N) are determined based on their importance scores. Here are some of the most important features:\n",
    "\n",
    "1. **Latitude**: Importance Score - 0.112\n",
    "2. **Longitude**: Importance Score - 0.110\n",
    "3. **Quantity (Dry)**: Importance Score - 0.090\n",
    "4. **GPS Height**: Importance Score - 0.056\n",
    "\n",
    "## Output Visualization\n",
    "\n",
    "The bar plot illustrates the top N important features and their respective importance scores. Each feature is represented on the y-axis, while the importance score is depicted on the x-axis. This visualization provides a clear understanding of the relative importance of different features in the model.\n",
    "\n"
   ]
  },
  {
   "cell_type": "code",
   "execution_count": null,
   "id": "1d3866f2-515f-487d-8b2f-38efc0c646f7",
   "metadata": {},
   "outputs": [],
   "source": [
    "# Extract feature importances\n",
    "importances = rf_clf.feature_importances_\n",
    "\n",
    "# Convert feature importances into a pandas Series for easy manipulation and visualization\n",
    "feature_importances = pd.Series(importances, index=X_train_encoded.columns)\n",
    "\n",
    "# Sort the feature importances in descending order\n",
    "sorted_feature_importances = feature_importances.sort_values(ascending=False)\n",
    "\n",
    "# Display the sorted feature importances\n",
    "print(\"Feature Importances:\\n\", sorted_feature_importances)\n",
    "\n",
    "import matplotlib.pyplot as plt\n",
    "\n",
    "# Select the top N features, for example top 20\n",
    "top_n = 20\n",
    "top_n_features = sorted_feature_importances[:top_n]\n",
    "\n",
    "# Plotting\n",
    "plt.figure(figsize=(10, 6))\n",
    "top_n_features.plot(kind='barh')\n",
    "plt.title(f'Top {top_n} Important Features')\n",
    "plt.xlabel('Importance Score')\n",
    "plt.ylabel('Features')\n",
    "plt.show()\n",
    "\n"
   ]
  },
  {
   "cell_type": "markdown",
   "id": "7510f742-f8e8-4cce-b5e8-444193a0e991",
   "metadata": {},
   "source": [
    "# Model 3: XGBoost Classifier\n",
    "\n",
    "## XGBoost Classifier Model Summary\n",
    "\n",
    "### Model Training and Testing\n",
    "- The dataset was one-hot encoded to convert non-numeric columns into a format suitable for model training.\n",
    "- The encoded data was split into training and testing sets with an 80-20 split, using a `random_state` of 42 for reproducibility.\n",
    "- An XGBoost classifier was initialized with default parameters and trained on the encoded training data.\n",
    "- The model was then used to make predictions on the test data.\n",
    "\n",
    "### Model 3 Performance\n",
    "Accuracy: The model achieved an accuracy of 84.37% on the test set. It predicted 3124 true negatives, 1302 false positives, 498 false negatives, and 6594 true positives.\n",
    "\n",
    "Precision and Recall: The model exhibited high precision and recall, particularly for class 1, indicating a strong ability to predict the target variable.\n",
    "\n",
    "ROC AUC Score: The model achieved a ROC AUC score of 0.818, indicating a strong discriminatory ability between the positive and negative classes.\n",
    "\n",
    "Interpretation\n",
    "The XGBoost classifier demonstrated a high level of accuracy and a strong ability to discriminate between classes, as evidenced by the ROC AUC score. The precision, recall, and F1-score across both classes indicate a balanced performance, though there's room for improvement in reducing false positives and false negatives.\n",
    "\n",
    "Feature Importance Analysis with XGBoost Classifier\n",
    "In this analysis, we aimed to determine the importance of features in the predictive model using the XGBoost Classifier. Feature importance helps in understanding which features contribute the most to the predictive power of the model.\n",
    "\n",
    "Accuracy: 0.844\n",
    "\n",
    "\n",
    "\n",
    "\n",
    "\n",
    "\n",
    "\n"
   ]
  },
  {
   "cell_type": "code",
   "execution_count": null,
   "id": "46510677-dbfc-429c-b076-369d83041139",
   "metadata": {},
   "outputs": [],
   "source": [
    "import xgboost as xgb\n",
    "from sklearn.model_selection import train_test_split\n",
    "from sklearn.metrics import accuracy_score, confusion_matrix, classification_report, roc_auc_score\n",
    "\n",
    "\n",
    "\n",
    "# Initialize the XGBoost classifier\n",
    "xgb_clf = xgb.XGBClassifier(random_state=42, eval_metric='logloss')\n",
    "\n",
    "# Train the classifier on the training data\n",
    "xgb_clf.fit(X_train_encoded, y_train)\n",
    "\n",
    "# Make predictions on the test data\n",
    "y_pred_xgb = xgb_clf.predict(X_test_encoded)\n",
    "\n",
    "# Calculate accuracy\n",
    "accuracy_xgb = accuracy_score(y_test, y_pred_xgb)\n",
    "print(\"Accuracy:\", accuracy_xgb)\n",
    "\n",
    "# Calculate confusion matrix\n",
    "conf_matrix_xgb = confusion_matrix(y_test, y_pred_xgb)\n",
    "print(\"Confusion Matrix:\\n\", conf_matrix_xgb)\n",
    "\n",
    "# Calculate classification report\n",
    "class_report_xgb = classification_report(y_test, y_pred_xgb)\n",
    "print(\"Classification Report:\\n\", class_report_xgb)\n",
    "\n",
    "# Calculate ROC AUC score (if binary classification)\n",
    "if len(np.unique(y_train)) == 2:\n",
    "    roc_auc_xgb = roc_auc_score(y_test, y_pred_xgb)\n",
    "    print(\"ROC AUC Score:\", roc_auc_xgb)\n"
   ]
  },
  {
   "cell_type": "code",
   "execution_count": null,
   "id": "7aa80b28-372f-4cab-a3ec-b4fb0ded224e",
   "metadata": {},
   "outputs": [],
   "source": [
    "import matplotlib.pyplot as plt\n",
    "import seaborn as sns\n",
    "\n",
    "conf_matrix_xgb = confusion_matrix(y_test, y_pred_xgb)\n",
    "\n",
    "# Plotting the confusion matrix\n",
    "plt.figure(figsize=(8, 6))\n",
    "sns.heatmap(conf_matrix_xgb, annot=True, fmt='d', cmap='Blues', cbar=False)\n",
    "plt.xlabel('Predicted Labels')\n",
    "plt.ylabel('True Labels')\n",
    "plt.title('Confusion Matrix for XGBoost Model')\n",
    "plt.show()\n"
   ]
  },
  {
   "cell_type": "markdown",
   "id": "9e33cf1e-a7db-41a5-aa18-10721c0d8591",
   "metadata": {},
   "source": [
    "# Important Values\n",
    "\n",
    "The most important features (top N) are determined based on their importance scores. Here are some of the most important features:\n",
    "\n",
    "1. **quantitiy_dry**: Importance Score - 0.220\n",
    "2. **waterpoint_type_other**: Importance Score - 0.086\n",
    "3. **extraction_type_other**: Importance Score - 0.432\n",
    "4. **region_Mara**: Importance Score - 0.033\n",
    "\n",
    "## Output Visualization\n",
    "\n",
    "The bar plot illustrates the top N important features and their respective importance scores. Each feature is represented on the y-axis, while the importance score is depicted on the x-axis. This visualization provides a clear understanding of the relative importance of different features in the model."
   ]
  },
  {
   "cell_type": "code",
   "execution_count": null,
   "id": "56c64729-4c26-494b-bb26-b2f925466be4",
   "metadata": {},
   "outputs": [],
   "source": [
    "import pandas as pd\n",
    "import matplotlib.pyplot as plt\n",
    "\n",
    "# Extract feature importances\n",
    "importances_xgb = xgb_clf.feature_importances_\n",
    "\n",
    "# Convert feature importances into a pandas Series for easy manipulation and visualization\n",
    "feature_importances_xgb = pd.Series(importances_xgb, index=X_train_encoded.columns)\n",
    "\n",
    "# Sort the feature importances in descending order\n",
    "sorted_feature_importances_xgb = feature_importances_xgb.sort_values(ascending=False)\n",
    "\n",
    "# Display the sorted feature importances\n",
    "print(\"Feature Importances:\\n\", sorted_feature_importances_xgb)\n"
   ]
  },
  {
   "cell_type": "code",
   "execution_count": null,
   "id": "ce3f17e5-270c-4f80-859d-b3f926d5bc1b",
   "metadata": {},
   "outputs": [],
   "source": [
    "# Select the top N features, for example, top 20\n",
    "top_n = 20\n",
    "top_n_features_xgb = sorted_feature_importances_xgb[:top_n]\n",
    "\n",
    "# Plotting\n",
    "plt.figure(figsize=(10, 6))\n",
    "top_n_features_xgb.plot(kind='barh')\n",
    "plt.title(f'Top {top_n} Important Features for XGBoost')\n",
    "plt.xlabel('Importance Score')\n",
    "plt.ylabel('Features')\n",
    "plt.gca().invert_yaxis()  # Invert y-axis to have the most important feature on top\n",
    "plt.show()\n"
   ]
  },
  {
   "cell_type": "markdown",
   "id": "b29aed93-3df2-4e40-a61c-9049d55b6f52",
   "metadata": {},
   "source": [
    "## Model 4: Gradient Boosting Classifier\n",
    "\n",
    "### Gradient Boosting Classifier Model Summary\n",
    "\n",
    "#### Model Training and Testing\n",
    "- The dataset was one-hot encoded to convert non-numeric columns into a format suitable for model training.\n",
    "- The encoded data was split into training and testing sets with an 80-20 split, using a `random_state` of 42 for reproducibility.\n",
    "- A Gradient Boosting classifier was initialized and trained on the encoded training data.\n",
    "- The model was then used to make predictions on the test data.\n",
    "\n",
    "#### Model 4 Performance\n",
    "\n",
    "- **Accuracy**: The model achieved an accuracy of 79.81% on the test set.\n",
    "\n",
    "### Classification Report\n",
    "\n",
    "The classification report provides details about precision, recall, and F1-score for each class:\n",
    "\n",
    "### ROC AUC Score\n",
    "\n",
    "The ROC AUC score measures the model's ability to discriminate between positive and negative classes. In this case, the ROC AUC score is approximately 0.756.\n",
    "\n",
    "### Feature Importances for Gradient Boosting Classifier\n",
    "\n",
    "The feature importances for the Gradient Boosting Classifier are as follows:\n",
    "\n",
    "- **quantity_dry**: 0.390077\n",
    "- **waterpoint_type_other**: 0.124052\n",
    "- **extraction_type_other**: 0.077586\n",
    "- **decade_construction_ordinal**: 0.061608\n",
    "- **amount_tsh**: 0.049068\n",
    "  ...\n",
    "\n",
    "These importances indicate the contribution of each feature to the predictive power of the model. Features with higher importances are more influential in making predictions, while features with lower importances have less impact.\n",
    "\n"
   ]
  },
  {
   "cell_type": "code",
   "execution_count": null,
   "id": "fa1290ce-9586-4c22-a21d-43179fcc56b5",
   "metadata": {},
   "outputs": [],
   "source": [
    "from sklearn.ensemble import GradientBoostingClassifier\n",
    "from sklearn.metrics import accuracy_score, confusion_matrix, classification_report, roc_auc_score\n",
    "\n",
    "# Initialize the Gradient Boosting classifier\n",
    "gbm_clf = GradientBoostingClassifier(random_state=42)\n",
    "\n",
    "# Train the classifier on the training data\n",
    "gbm_clf.fit(X_train_encoded, y_train)\n",
    "\n",
    "# Make predictions on the test data\n",
    "y_pred_gbm = gbm_clf.predict(X_test_encoded)\n",
    "\n",
    "# Evaluate the classifier\n",
    "# Calculate accuracy\n",
    "accuracy_gbm = accuracy_score(y_test, y_pred_gbm)\n",
    "print(\"Accuracy:\", accuracy_gbm)\n",
    "\n",
    "# Calculate confusion matrix\n",
    "conf_matrix_gbm = confusion_matrix(y_test, y_pred_gbm)\n",
    "print(\"Confusion Matrix:\\n\", conf_matrix_gbm)\n",
    "\n",
    "# Calculate classification report\n",
    "class_report_gbm = classification_report(y_test, y_pred_gbm)\n",
    "print(\"Classification Report:\\n\", class_report_gbm)\n",
    "\n",
    "# Calculate ROC AUC score (if binary classification)\n",
    "if len(np.unique(y_train)) == 2:\n",
    "    roc_auc_gbm = roc_auc_score(y_test, y_pred_gbm)\n",
    "    print(\"ROC AUC Score:\", roc_auc_gbm)\n"
   ]
  },
  {
   "cell_type": "code",
   "execution_count": null,
   "id": "8bfa0b2f-d785-4748-b832-a65c6719a754",
   "metadata": {},
   "outputs": [],
   "source": [
    "# Extract feature importances\n",
    "feature_importances_gbm = gbm_clf.feature_importances_\n",
    "\n",
    "# Convert feature importances into a pandas Series for easy manipulation and visualization\n",
    "import pandas as pd\n",
    "feature_importances_gbm_series = pd.Series(feature_importances_gbm, index=X_train_encoded.columns)\n",
    "\n",
    "# Sort the feature importances in descending order\n",
    "sorted_feature_importances_gbm = feature_importances_gbm_series.sort_values(ascending=False)\n",
    "\n",
    "# Print the sorted feature importances\n",
    "print(\"Feature Importances:\\n\", sorted_feature_importances_gbm)\n"
   ]
  },
  {
   "cell_type": "code",
   "execution_count": null,
   "id": "b595e5dd-03ab-41d5-8893-c693d1e14558",
   "metadata": {},
   "outputs": [],
   "source": [
    "# Select the top N features\n",
    "top_n = 5\n",
    "top_n_features_gbm_clf = sorted_feature_importances_gbm[:top_n]\n",
    "\n",
    "# Plotting\n",
    "plt.figure(figsize=(10, 6))\n",
    "# Use 'bar' instead of 'barh' for a vertical bar chart\n",
    "top_n_features_gbm_clf.plot(kind='bar')\n",
    "plt.title(f'Top {top_n} Important Features for Gradient Boost')\n",
    "plt.ylabel('Importance Score')  # This is now the y-axis\n",
    "plt.xlabel('Features')          # This is now the x-axis\n",
    "\n",
    "# Here you might want to rotate the x-axis labels to make them readable\n",
    "plt.xticks(rotation=90)\n",
    "\n",
    "plt.show()\n",
    "\n"
   ]
  },
  {
   "cell_type": "code",
   "execution_count": null,
   "id": "cf5ae3f5-07fb-4a2f-89bf-5e9fe63d3888",
   "metadata": {},
   "outputs": [],
   "source": [
    "import matplotlib.pyplot as plt\n",
    "import seaborn as sns\n",
    "\n",
    "# Plot the confusion matrix\n",
    "plt.figure(figsize=(8, 6))\n",
    "sns.heatmap(conf_matrix_gbm, annot=True, fmt=\"d\", cmap=\"Blues\", cbar=False)\n",
    "plt.xlabel('Predicted Label')\n",
    "plt.ylabel('True Label')\n",
    "plt.title('Confusion Matrix for GBM Model')\n",
    "plt.show()\n"
   ]
  },
  {
   "cell_type": "markdown",
   "id": "420906b0-a160-48ed-8ddf-28b262cf5926",
   "metadata": {},
   "source": [
    "## Model 5 Logistic Regression"
   ]
  },
  {
   "cell_type": "markdown",
   "id": "49bc7f72-3ba4-4b74-8907-9bbb81f89c36",
   "metadata": {},
   "source": [
    "### Logistic Regression Model Summary\n",
    "\n",
    "#### Model Training and Testing\n",
    "- The logistic regression model was trained using the encoded training data.\n",
    "- Predictions were made on the test data using a threshold of 0.5.\n",
    "\n",
    "#### Model Performance\n",
    "- **Precision**: 0.729\n",
    "- **Accuracy**: 0.722\n",
    "\n",
    "\n"
   ]
  },
  {
   "cell_type": "code",
   "execution_count": null,
   "id": "32d2bf35-abd8-4808-8352-1e16dbd5ed4b",
   "metadata": {},
   "outputs": [],
   "source": [
    "from sklearn.linear_model import LogisticRegression\n",
    "from sklearn.metrics import precision_score, accuracy_score, confusion_matrix, classification_report\n",
    "import matplotlib.pyplot as plt\n",
    "import seaborn as sns\n",
    "\n",
    "\n"
   ]
  },
  {
   "cell_type": "code",
   "execution_count": null,
   "id": "840c9fd2-d13f-4a91-adc8-99d848cbf242",
   "metadata": {},
   "outputs": [],
   "source": [
    "# Initialize and train the Logistic Regression model\n",
    "log_reg = LogisticRegression(random_state=42, max_iter=1000)\n",
    "log_reg.fit(X_train_encoded, y_train)\n",
    "\n",
    "# Predict probabilities for the test set\n",
    "y_probs = log_reg.predict_proba(X_test_encoded)[:, 1]\n",
    "\n",
    "# Apply the threshold (default: 0.5) to make predictions\n",
    "y_pred = (y_probs > 0.5).astype(int)\n",
    "\n",
    "# Evaluate the model\n",
    "precision = precision_score(y_test, y_pred)\n",
    "accuracy = accuracy_score(y_test, y_pred)\n",
    "conf_matrix = confusion_matrix(y_test, y_pred)\n",
    "class_report = classification_report(y_test, y_pred)\n",
    "\n",
    "# Print evaluation metrics\n",
    "print(\"Precision:\", precision)\n",
    "print(\"Accuracy:\", accuracy)\n",
    "print(\"Confusion Matrix:\\n\", conf_matrix)\n",
    "print(\"Classification Report:\\n\", class_report)\n",
    "\n",
    "# Plot the confusion matrix\n",
    "plt.figure(figsize=(8, 6))\n",
    "sns.heatmap(conf_matrix, annot=True, fmt=\"d\", cmap=\"Blues\", cbar=False)\n",
    "plt.xlabel('Predicted Label')\n",
    "plt.ylabel('True Label')\n",
    "plt.title('Confusion Matrix for Logistic Regression Model')\n",
    "plt.show()\n"
   ]
  },
  {
   "cell_type": "markdown",
   "id": "49c49049-efa1-4795-8c90-15d1b017118e",
   "metadata": {},
   "source": [
    "## Model Comparision \n",
    "\n",
    "Rationale for Model Selection\n",
    "Based on the performance metrics and the project requirements, Model 4: Gradient Boosting Classifier, demonstrates the most promising results for predicting non-functioning water wells correctly. Here's the rationale:\n",
    "\n",
    "False Negatives: Model 4 has the lowest number of false negatives (428) among all models. Since the goal is to minimize the misclassification of non-functioning wells as functioning, reducing false negatives is crucial.\n",
    "\n",
    "Recall: Model 4 achieves the highest recall score (0.94) among all models. Recall measures the proportion of actual positives that were correctly identified by the model. In this case, it indicates that Model 4 effectively identifies a high percentage of non-functioning wells.\n",
    "\n",
    "Accuracy: Although Model 4 has a slightly lower accuracy compared to Model 2, its emphasis on correctly identifying non-functioning wells makes it a more suitable choice for the project's objective.\n",
    "\n",
    "Therefore, Model 4 is recommended for deployment in predicting the status of water wells, particularly focusing on minimizing false negatives to ensure effective maintenance and management of water resources."
   ]
  },
  {
   "cell_type": "markdown",
   "id": "f9f312d7-31a8-4423-87b6-a0ceaf68d687",
   "metadata": {},
   "source": [
    "| Model   | Precision | Recall | F1 Score | Support Class 0 | Support Class 1 | True Positive | True Negative | False Positive | False Negative | Accuracy |\n",
    "|---------|-----------|--------|----------|------------------|------------------|----------------|----------------|------------------|------------------|-----------|\n",
    "| Model 2 Random Forest | 0.85      | 0.91   | 0.89     | 3387             | 6457             | 6457           | 3387           | 1039             | 635              | 0.85      |\n",
    "| Model 3: XGBoost Classifier | 0.84      | 0.93   | 0.88     | 3124             | 6594             | 6594           | 3124           | 1302             | 498              | 0.84      |\n",
    "| Model 4: Gradient Boosting Classifier | 0.78      | 0.94   | 0.85     | 2529             | 6664             | 6664           | 2529           | 1897             | 428              | 0.80      |\n",
    "| Model 5: Logistic Regression | 0.73      | 0.87   | 0.79     | 2134             | 6178             | 6178           | 2134           | 2292             | 914              | 0.72      |\n"
   ]
  },
  {
   "cell_type": "markdown",
   "id": "d7232a98-a80c-422d-abe9-111a1990bb24",
   "metadata": {},
   "source": [
    "# Visualizing Key Factors in Water Well Functionality\n",
    "\n",
    "Baesed on the important features discovered in Model 4, visualizations were created. \n",
    "\n",
    "## Quantity\n",
    "\n",
    "The first visualization highlights the critical role of water quantity in well functionality, demonstrating that wells labeled as 'dry' are functional only about 5% of the time. Similarly, wells with an 'unknown' water quantity are functional in only around 25% of cases, underscoring the urgency for the Tanzanian government to address water scarcity, particularly in areas with dry wells. This focused approach is crucial for mitigating the water crisis effectively. This graph provides a clear directive for policy and intervention strategies aimed at improving water access and sustainability."
   ]
  },
  {
   "cell_type": "code",
   "execution_count": null,
   "id": "59f31801-8cb0-4a0d-836a-5ef540303e24",
   "metadata": {},
   "outputs": [],
   "source": [
    "categories = ['quantity_dry', 'quantity_enough', 'quantity_unknown', 'quantity_seasonal', 'quantity_insufficient']\n",
    "status_column = 'status_group_binary'\n",
    "\n",
    "# Initialize a DataFrame to hold the percentage of functional/non-functional for each category\n",
    "percentage_summary = pd.DataFrame(index=categories, columns=['Functional', 'Non-Functional'])\n",
    "\n",
    "for category in categories:\n",
    "    # Filter the DataFrame for the current category\n",
    "    filtered_df = merged_data_encoded[merged_data_encoded[category] == 1]\n",
    "    \n",
    "    # Calculate the percentage of functional/non-functional wells in this category\n",
    "    status_counts = filtered_df[status_column].value_counts(normalize=True) * 100\n",
    "    percentage_summary.loc[category, 'Functional'] = status_counts.get(1, 0)  # Get 1 (functional) count, default to 0 if not present\n",
    "    percentage_summary.loc[category, 'Non-Functional'] = status_counts.get(0, 0)  # Get 0 (non-functional) count\n",
    "\n",
    "# Convert the summary DataFrame to numeric types for plotting\n",
    "percentage_summary = percentage_summary.astype(float)\n",
    "\n",
    "# Plot setup\n",
    "plt.figure(figsize=(12, 8))\n",
    "categories_index = np.arange(len(categories))\n",
    "bar_width = 0.35\n",
    "\n",
    "# Plotting\n",
    "plt.bar(categories_index, percentage_summary['Functional'], bar_width, label='Functional', color='b')\n",
    "plt.bar(categories_index, percentage_summary['Non-Functional'], bar_width, bottom=percentage_summary['Functional'], label='Non-Functional', color='r')\n",
    "\n",
    "# Add labels, title, legend, and adjust layout\n",
    "plt.xlabel('Water Quantity Categories')\n",
    "plt.ylabel('Percentage')\n",
    "plt.title('Functional and Non-Functional Wells by Water Quantity Categories')\n",
    "plt.xticks(categories_index, categories, rotation=45, ha=\"right\")\n",
    "plt.legend()\n",
    "plt.tight_layout()\n",
    "plt.show()\n"
   ]
  },
  {
   "cell_type": "code",
   "execution_count": null,
   "id": "d33ed6ca-59a8-411f-8804-dd8ab6d7cfde",
   "metadata": {},
   "outputs": [],
   "source": [
    "# Filter for columns starting with 'waterpoint'\n",
    "quantity_feature_importances2 = sorted_feature_importances_gbm[sorted_feature_importances_gbm.index.str.startswith('waterpoint')]\n",
    "\n",
    "# Print the filtered feature importances\n",
    "print(\"Filtered Feature Importances for 'waterpoint':\\n\", quantity_feature_importances2)\n",
    "\n",
    "\n"
   ]
  },
  {
   "cell_type": "markdown",
   "id": "2294c4bc-b835-489b-95db-41fa56b02709",
   "metadata": {},
   "source": [
    "## Waterpoint\n",
    "This visualization underscores the significant impact of water point types on well functionality. It highlights that water points categorized as 'other' have the lowest functionality rate, approximately 20%, indicating urgent attention is required. In contrast, communal standpipes perform notably better, though the variation within this category is significant. For example, communal standpipes (single) show satisfactory functionality, while communal standpipes (multiple) exhibit reduced effectiveness. This distinction suggests a need for the government to scrutinize the categorization of 'other' water points further and consider converting them to more reliable types, like the more effective communal standpipe model. Implementing targeted improvements based on these insights could significantly enhance water accessibility and reliability across communities."
   ]
  },
  {
   "cell_type": "code",
   "execution_count": null,
   "id": "87fed8fb-704e-49e3-b34e-8a533eac48fe",
   "metadata": {},
   "outputs": [],
   "source": [
    "categories = ['waterpoint_type_other', 'waterpoint_type_communal standpipe multiple', 'waterpoint_type_communal standpipe', 'waterpoint_type_improved spring', 'waterpoint_type_cattle trough','waterpoint_type_dam' , 'waterpoint_type_hand pump' ]\n",
    "status_column = 'status_group_binary'\n",
    "\n",
    "# Initialize a DataFrame to hold the percentage of functional/non-functional for each category\n",
    "percentage_summary = pd.DataFrame(index=categories, columns=['Functional', 'Non-Functional'])\n",
    "\n",
    "for category in categories:\n",
    "    # Filter the DataFrame for the current category\n",
    "    filtered_df = merged_data_encoded[merged_data_encoded[category] == 1]\n",
    "    \n",
    "    # Calculate the percentage of functional/non-functional wells in this category\n",
    "    status_counts = filtered_df[status_column].value_counts(normalize=True) * 100\n",
    "    percentage_summary.loc[category, 'Functional'] = status_counts.get(1, 0)  # Get 1 (functional) count, default to 0 if not present\n",
    "    percentage_summary.loc[category, 'Non-Functional'] = status_counts.get(0, 0)  # Get 0 (non-functional) count\n",
    "\n",
    "# Convert the summary DataFrame to numeric types for plotting\n",
    "percentage_summary = percentage_summary.astype(float)\n",
    "\n",
    "# Plot setup\n",
    "plt.figure(figsize=(12, 8))\n",
    "categories_index = np.arange(len(categories))\n",
    "bar_width = 0.35\n",
    "\n",
    "# Plotting\n",
    "plt.bar(categories_index, percentage_summary['Functional'], bar_width, label='Functional', color='b')\n",
    "plt.bar(categories_index, percentage_summary['Non-Functional'], bar_width, bottom=percentage_summary['Functional'], label='Non-Functional', color='r')\n",
    "\n",
    "# Add labels, title, legend, and adjust layout\n",
    "plt.xlabel('Water Point Type Categories')\n",
    "plt.ylabel('Percentage')\n",
    "plt.title('Functional and Non-Functional Wells by Water Point Types')\n",
    "plt.xticks(categories_index, categories, rotation=45, ha=\"right\")\n",
    "plt.legend()\n",
    "plt.tight_layout()\n",
    "plt.show()\n"
   ]
  },
  {
   "cell_type": "markdown",
   "id": "6d0e34cd-68d6-4ccf-bc0c-262fd04a0066",
   "metadata": {},
   "source": [
    "### Decade of Construction\n",
    "\n",
    "This visualization illustrates the critical need for refurbishing older water wells in Tanzania. Data reveals a clear trend: the older the well, particularly those constructed in the 1960s, 1970s, and 1980s, the less likely it is to function adequately, with functionality rates falling below 50%. In contrast, wells built more recently demonstrate significantly better performance. Allocating resources towards the modernization of these older wells could markedly improve overall water availability, offering a tangible strategy for the Tanzanian government to boost water production and reliability."
   ]
  },
  {
   "cell_type": "code",
   "execution_count": null,
   "id": "bd750fa5-6009-4c5d-8e5a-c20e7cdb23da",
   "metadata": {},
   "outputs": [],
   "source": [
    "# Counting the occurrences of each ordinal value in the actual data\n",
    "ordinal_counts_actual = merged_data['decade_construction_ordinal'].value_counts().sort_index()\n",
    "\n",
    "# Display the counts for each ordinal value\n",
    "print(ordinal_counts_actual)\n"
   ]
  },
  {
   "cell_type": "code",
   "execution_count": null,
   "id": "f0492f1d-ae3c-429e-bb3c-4d8b9746687d",
   "metadata": {},
   "outputs": [],
   "source": [
    "decade_labels = {\n",
    "    0.0: '1960s',\n",
    "    1.0: '1970s',\n",
    "    2.0: '1980s',\n",
    "    3.0: '1990s',\n",
    "    4.0: '2000s',\n",
    "    5.0: '2010s'\n",
    "}\n",
    "\n",
    "summary = merged_data.groupby('decade_construction_ordinal')['status_group_binary'].value_counts(normalize=True).unstack().fillna(0) * 100\n",
    "\n",
    "import matplotlib.pyplot as plt\n",
    "import numpy as np\n",
    "\n",
    "# Plot setup\n",
    "bar_width = 0.5  # Use a full bar width for stacking\n",
    "categories_ordered = np.array(list(decade_labels.values()))  # Decade labels in order\n",
    "index = np.arange(len(categories_ordered))\n",
    "\n",
    "plt.figure(figsize=(12, 8))\n",
    "\n",
    "plt.bar(index, summary[1], bar_width, color='b', label='Functional')\n",
    "plt.bar(index, summary[0], bar_width, bottom=summary[1], color='r', label='Non-Functional')\n",
    "\n",
    "# Add labels, title, legend, and adjust layout\n",
    "plt.xlabel('Decade of Construction')\n",
    "plt.ylabel('Percentage')\n",
    "plt.title('Percentage of Functional and Non-Functional Wells by Decade of Construction (Stacked)')\n",
    "plt.xticks(index, categories_ordered, rotation=45)  # Use the decade labels here\n",
    "plt.legend()\n",
    "plt.tight_layout()\n",
    "plt.show()\n",
    "\n"
   ]
  },
  {
   "cell_type": "markdown",
   "id": "aa559f71-12b5-4d5c-860d-83b24be16f9d",
   "metadata": {},
   "source": [
    "# Recommendations \n",
    "\n",
    "The Tanzanian government should prioritize the following:\n",
    "\n",
    "* Quantity Dry/Communal Standpipe Multiple\n",
    "* Decade 1960-1990\n",
    "* Water point type Other \n",
    "\n",
    "By prioritizing these wells, the Tanzanian government can allocate resources to fixing, or updating these wells. It is essential to have functional water-wells for the population of Tanzania. \n",
    "\n",
    "## Limitations\n",
    "\n",
    "Although the dataset analyzed was comprehensive, it was not possible to examine every variable in detail. Notably, factors such as the well's funder or management entity, which could significantly impact water production, were not fully explored. For instance, cost-cutting measures by certain funders may compromise well quality, and some management companies may neglect necessary maintenance, impacting functionality. Without detailed analysis of these aspects, it's challenging to draw definitive conclusions about their impact on water well functionality.\n",
    "\n",
    "In addition further examination of geographical features may prove important. This project did not directly distinguish between city water-wells and remote water-wells. \n",
    "\n",
    "\n"
   ]
  },
  {
   "cell_type": "markdown",
   "id": "4ed9de24-73f0-49c9-a7ec-c0edf3da4bb7",
   "metadata": {},
   "source": [
    "# Addtional information"
   ]
  },
  {
   "cell_type": "markdown",
   "id": "af79fd03-a3b9-44bd-80a4-8e5a60b660aa",
   "metadata": {},
   "source": [
    "For a detailed analysis, see the [README](https://github.com/jguzzo522/twaterwell/blob/main/README.md).\n",
    "For more insights, review the [Tanzanian Water Wells 2 PDF](https://github.com/jguzzo522/twaterwell/blob/main/Tanzanian%20Water%20Wells%202.pdf).\n"
   ]
  },
  {
   "cell_type": "code",
   "execution_count": null,
   "id": "ddd03443-92dc-4c0a-8628-5174c41bd449",
   "metadata": {},
   "outputs": [],
   "source": []
  }
 ],
 "metadata": {
  "kernelspec": {
   "display_name": "Python 3 (ipykernel)",
   "language": "python",
   "name": "python3"
  },
  "language_info": {
   "codemirror_mode": {
    "name": "ipython",
    "version": 3
   },
   "file_extension": ".py",
   "mimetype": "text/x-python",
   "name": "python",
   "nbconvert_exporter": "python",
   "pygments_lexer": "ipython3",
   "version": "3.8.16"
  }
 },
 "nbformat": 4,
 "nbformat_minor": 5
}
