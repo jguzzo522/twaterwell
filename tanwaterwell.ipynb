{
 "cells": [
  {
   "cell_type": "markdown",
   "id": "7031b938-b7fe-48f1-80a1-2d1983265105",
   "metadata": {},
   "source": [
    "## Tanzania's Waterwell Problem\n",
    "This project aims to provide an overview of the water well situation in Tanzania to the Tanzanian government. The focus is on mitigating a water crisis by predicting water wells that will soon be in need of repair and planning future water well locations for maximum effectiveness.\n"
   ]
  },
  {
   "cell_type": "code",
   "execution_count": 1,
   "id": "ac1900c1-2be2-479d-b4fb-f01c3fec8ae6",
   "metadata": {},
   "outputs": [],
   "source": [
    "import matplotlib.pyplot as plt\n",
    "from matplotlib.pylab import rcParams\n",
    "import seaborn as sns\n",
    "import pandas as pd\n",
    "import numpy as np\n",
    "import sys\n",
    "\n",
    "import sklearn as sk\n",
    "from sklearn import metrics\n",
    "from sklearn.model_selection import train_test_split, ShuffleSplit, learning_curve, GridSearchCV\n",
    "from sklearn.impute import SimpleImputer\n",
    "from sklearn.preprocessing import StandardScaler\n",
    "from sklearn.feature_selection import SelectKBest\n",
    "from sklearn.pipeline import Pipeline\n",
    "from sklearn.metrics import classification_report, confusion_matrix\n",
    "from sklearn.ensemble import RandomForestClassifier, GradientBoostingClassifier\n",
    "from sklearn.linear_model import LogisticRegression\n",
    "from sklearn.svm import SVC\n"
   ]
  },
  {
   "cell_type": "code",
   "execution_count": 2,
   "id": "1d7ee9ff-d040-4f77-8239-1cb1e602e92c",
   "metadata": {},
   "outputs": [
    {
     "name": "stdout",
     "output_type": "stream",
     "text": [
      "\n",
      "Training Set Labels:\n",
      "      id    status_group\n",
      "0  69572      functional\n",
      "1   8776      functional\n",
      "2  34310      functional\n",
      "3  67743  non functional\n",
      "4  19728      functional\n",
      "\n",
      "Training Set Values:\n",
      "      id  amount_tsh date_recorded        funder  gps_height     installer  \\\n",
      "0  69572      6000.0    2011-03-14         Roman        1390         Roman   \n",
      "1   8776         0.0    2013-03-06       Grumeti        1399       GRUMETI   \n",
      "2  34310        25.0    2013-02-25  Lottery Club         686  World vision   \n",
      "3  67743         0.0    2013-01-28        Unicef         263        UNICEF   \n",
      "4  19728         0.0    2011-07-13   Action In A           0       Artisan   \n",
      "\n",
      "   longitude   latitude              wpt_name  num_private  ... payment_type  \\\n",
      "0  34.938093  -9.856322                  none            0  ...     annually   \n",
      "1  34.698766  -2.147466              Zahanati            0  ...    never pay   \n",
      "2  37.460664  -3.821329           Kwa Mahundi            0  ...   per bucket   \n",
      "3  38.486161 -11.155298  Zahanati Ya Nanyumbu            0  ...    never pay   \n",
      "4  31.130847  -1.825359               Shuleni            0  ...    never pay   \n",
      "\n",
      "  water_quality quality_group      quantity  quantity_group  \\\n",
      "0          soft          good        enough          enough   \n",
      "1          soft          good  insufficient    insufficient   \n",
      "2          soft          good        enough          enough   \n",
      "3          soft          good           dry             dry   \n",
      "4          soft          good      seasonal        seasonal   \n",
      "\n",
      "                 source           source_type  source_class  \\\n",
      "0                spring                spring   groundwater   \n",
      "1  rainwater harvesting  rainwater harvesting       surface   \n",
      "2                   dam                   dam       surface   \n",
      "3           machine dbh              borehole   groundwater   \n",
      "4  rainwater harvesting  rainwater harvesting       surface   \n",
      "\n",
      "               waterpoint_type waterpoint_type_group  \n",
      "0           communal standpipe    communal standpipe  \n",
      "1           communal standpipe    communal standpipe  \n",
      "2  communal standpipe multiple    communal standpipe  \n",
      "3  communal standpipe multiple    communal standpipe  \n",
      "4           communal standpipe    communal standpipe  \n",
      "\n",
      "[5 rows x 40 columns]\n"
     ]
    }
   ],
   "source": [
    "import pandas as pd\n",
    "\n",
    "# Load the CSV files into pandas DataFrames\n",
    "trainingsetlabels = pd.read_csv('/Users/jguzzo522/Desktop/WATERWELL/trainingsetlabels.csv')\n",
    "trainingsetvalues = pd.read_csv('/Users/jguzzo522/Desktop/WATERWELL/trainingsetvalues.csv')\n",
    "\n",
    "# Display the loaded datasets\n",
    "\n",
    "print(\"\\nTraining Set Labels:\")\n",
    "print(trainingsetlabels.head())\n",
    "print(\"\\nTraining Set Values:\")\n",
    "print(trainingsetvalues.head())\n"
   ]
  },
  {
   "cell_type": "code",
   "execution_count": 3,
   "id": "b80ec94c-287e-4cb7-8851-1fb26d94d2fb",
   "metadata": {},
   "outputs": [
    {
     "name": "stdout",
     "output_type": "stream",
     "text": [
      "Number of unique IDs in Training Set Labels: 59400\n",
      "Number of unique IDs in Training Set Values: 59400\n"
     ]
    }
   ],
   "source": [
    "# Check the number of unique IDs in each dataset\n",
    "training_labels_ids = set(trainingsetlabels['id'])\n",
    "training_values_ids = set(trainingsetvalues['id'])\n",
    "\n",
    "\n",
    "print(\"Number of unique IDs in Training Set Labels:\", len(training_labels_ids))\n",
    "print(\"Number of unique IDs in Training Set Values:\", len(training_values_ids))\n"
   ]
  },
  {
   "cell_type": "markdown",
   "id": "ac5f75bb-dc0e-4f8a-b14d-010dd7776670",
   "metadata": {},
   "source": [
    "## Merging Training Set Values\n",
    "\n",
    "The training set values were merged to create a unified dataset, combining the features with the corresponding target variable. This consolidation facilitates easier interpretation and comparison of the data, streamlining the analysis process.\n",
    "\n",
    "### Benefits of Merging:\n",
    "- Simplifies analysis by providing a single dataset with all relevant information.\n",
    "- Enables better insights into the relationships between features and the target variable.\n",
    "- Facilitates the development and evaluation of predictive models.\n",
    "\n",
    "By merging the training set values with the labels, we can now analyze the impact of different features on the condition of water wells in Tanzania more effectively. This allows us to identify key factors influencing well functionality and prioritize maintenance efforts accordingly.\n"
   ]
  },
  {
   "cell_type": "code",
   "execution_count": 4,
   "id": "42f0b9eb-c04f-45a5-a5df-be925a4ab993",
   "metadata": {},
   "outputs": [
    {
     "name": "stdout",
     "output_type": "stream",
     "text": [
      "          id  amount_tsh date_recorded           funder  gps_height  \\\n",
      "0      69572      6000.0    2011-03-14            Roman        1390   \n",
      "1       8776         0.0    2013-03-06          Grumeti        1399   \n",
      "2      34310        25.0    2013-02-25     Lottery Club         686   \n",
      "3      67743         0.0    2013-01-28           Unicef         263   \n",
      "4      19728         0.0    2011-07-13      Action In A           0   \n",
      "...      ...         ...           ...              ...         ...   \n",
      "59395  60739        10.0    2013-05-03  Germany Republi        1210   \n",
      "59396  27263      4700.0    2011-05-07      Cefa-njombe        1212   \n",
      "59397  37057         0.0    2011-04-11              NaN           0   \n",
      "59398  31282         0.0    2011-03-08            Malec           0   \n",
      "59399  26348         0.0    2011-03-23       World Bank         191   \n",
      "\n",
      "          installer  longitude   latitude              wpt_name  num_private  \\\n",
      "0             Roman  34.938093  -9.856322                  none            0   \n",
      "1           GRUMETI  34.698766  -2.147466              Zahanati            0   \n",
      "2      World vision  37.460664  -3.821329           Kwa Mahundi            0   \n",
      "3            UNICEF  38.486161 -11.155298  Zahanati Ya Nanyumbu            0   \n",
      "4           Artisan  31.130847  -1.825359               Shuleni            0   \n",
      "...             ...        ...        ...                   ...          ...   \n",
      "59395           CES  37.169807  -3.253847   Area Three Namba 27            0   \n",
      "59396          Cefa  35.249991  -9.070629     Kwa Yahona Kuvala            0   \n",
      "59397           NaN  34.017087  -8.750434               Mashine            0   \n",
      "59398          Musa  35.861315  -6.378573                Mshoro            0   \n",
      "59399         World  38.104048  -6.747464       Kwa Mzee Lugawa            0   \n",
      "\n",
      "       ... water_quality quality_group      quantity  quantity_group  \\\n",
      "0      ...          soft          good        enough          enough   \n",
      "1      ...          soft          good  insufficient    insufficient   \n",
      "2      ...          soft          good        enough          enough   \n",
      "3      ...          soft          good           dry             dry   \n",
      "4      ...          soft          good      seasonal        seasonal   \n",
      "...    ...           ...           ...           ...             ...   \n",
      "59395  ...          soft          good        enough          enough   \n",
      "59396  ...          soft          good        enough          enough   \n",
      "59397  ...      fluoride      fluoride        enough          enough   \n",
      "59398  ...          soft          good  insufficient    insufficient   \n",
      "59399  ...         salty         salty        enough          enough   \n",
      "\n",
      "                     source           source_type source_class  \\\n",
      "0                    spring                spring  groundwater   \n",
      "1      rainwater harvesting  rainwater harvesting      surface   \n",
      "2                       dam                   dam      surface   \n",
      "3               machine dbh              borehole  groundwater   \n",
      "4      rainwater harvesting  rainwater harvesting      surface   \n",
      "...                     ...                   ...          ...   \n",
      "59395                spring                spring  groundwater   \n",
      "59396                 river            river/lake      surface   \n",
      "59397           machine dbh              borehole  groundwater   \n",
      "59398          shallow well          shallow well  groundwater   \n",
      "59399          shallow well          shallow well  groundwater   \n",
      "\n",
      "                   waterpoint_type waterpoint_type_group    status_group  \n",
      "0               communal standpipe    communal standpipe      functional  \n",
      "1               communal standpipe    communal standpipe      functional  \n",
      "2      communal standpipe multiple    communal standpipe      functional  \n",
      "3      communal standpipe multiple    communal standpipe  non functional  \n",
      "4               communal standpipe    communal standpipe      functional  \n",
      "...                            ...                   ...             ...  \n",
      "59395           communal standpipe    communal standpipe      functional  \n",
      "59396           communal standpipe    communal standpipe      functional  \n",
      "59397                    hand pump             hand pump      functional  \n",
      "59398                    hand pump             hand pump      functional  \n",
      "59399                    hand pump             hand pump      functional  \n",
      "\n",
      "[59400 rows x 41 columns]\n"
     ]
    }
   ],
   "source": [
    "import pandas as pd\n",
    "\n",
    "# Load the CSV files into pandas DataFrames\n",
    "training_set_labels = pd.read_csv('/Users/jguzzo522/Desktop/WATERWELL/trainingsetlabels.csv')\n",
    "training_set_values = pd.read_csv('/Users/jguzzo522/Desktop/WATERWELL/trainingsetvalues.csv')\n",
    "\n",
    "# Merge the datasets on the 'id' column\n",
    "merged_data = pd.merge(training_set_values, training_set_labels, on='id', how='inner')\n",
    "\n",
    "# Display the merged dataset\n",
    "print(merged_data)\n"
   ]
  },
  {
   "cell_type": "code",
   "execution_count": 5,
   "id": "9b589f62-97d8-4196-9b9e-32c2c09a5dc1",
   "metadata": {},
   "outputs": [
    {
     "data": {
      "text/html": [
       "<div>\n",
       "<style scoped>\n",
       "    .dataframe tbody tr th:only-of-type {\n",
       "        vertical-align: middle;\n",
       "    }\n",
       "\n",
       "    .dataframe tbody tr th {\n",
       "        vertical-align: top;\n",
       "    }\n",
       "\n",
       "    .dataframe thead th {\n",
       "        text-align: right;\n",
       "    }\n",
       "</style>\n",
       "<table border=\"1\" class=\"dataframe\">\n",
       "  <thead>\n",
       "    <tr style=\"text-align: right;\">\n",
       "      <th></th>\n",
       "      <th>id</th>\n",
       "      <th>amount_tsh</th>\n",
       "      <th>date_recorded</th>\n",
       "      <th>funder</th>\n",
       "      <th>gps_height</th>\n",
       "      <th>installer</th>\n",
       "      <th>longitude</th>\n",
       "      <th>latitude</th>\n",
       "      <th>wpt_name</th>\n",
       "      <th>num_private</th>\n",
       "      <th>...</th>\n",
       "      <th>water_quality</th>\n",
       "      <th>quality_group</th>\n",
       "      <th>quantity</th>\n",
       "      <th>quantity_group</th>\n",
       "      <th>source</th>\n",
       "      <th>source_type</th>\n",
       "      <th>source_class</th>\n",
       "      <th>waterpoint_type</th>\n",
       "      <th>waterpoint_type_group</th>\n",
       "      <th>status_group</th>\n",
       "    </tr>\n",
       "  </thead>\n",
       "  <tbody>\n",
       "    <tr>\n",
       "      <th>0</th>\n",
       "      <td>69572</td>\n",
       "      <td>6000.0</td>\n",
       "      <td>2011-03-14</td>\n",
       "      <td>Roman</td>\n",
       "      <td>1390</td>\n",
       "      <td>Roman</td>\n",
       "      <td>34.938093</td>\n",
       "      <td>-9.856322</td>\n",
       "      <td>none</td>\n",
       "      <td>0</td>\n",
       "      <td>...</td>\n",
       "      <td>soft</td>\n",
       "      <td>good</td>\n",
       "      <td>enough</td>\n",
       "      <td>enough</td>\n",
       "      <td>spring</td>\n",
       "      <td>spring</td>\n",
       "      <td>groundwater</td>\n",
       "      <td>communal standpipe</td>\n",
       "      <td>communal standpipe</td>\n",
       "      <td>functional</td>\n",
       "    </tr>\n",
       "    <tr>\n",
       "      <th>1</th>\n",
       "      <td>8776</td>\n",
       "      <td>0.0</td>\n",
       "      <td>2013-03-06</td>\n",
       "      <td>Grumeti</td>\n",
       "      <td>1399</td>\n",
       "      <td>GRUMETI</td>\n",
       "      <td>34.698766</td>\n",
       "      <td>-2.147466</td>\n",
       "      <td>Zahanati</td>\n",
       "      <td>0</td>\n",
       "      <td>...</td>\n",
       "      <td>soft</td>\n",
       "      <td>good</td>\n",
       "      <td>insufficient</td>\n",
       "      <td>insufficient</td>\n",
       "      <td>rainwater harvesting</td>\n",
       "      <td>rainwater harvesting</td>\n",
       "      <td>surface</td>\n",
       "      <td>communal standpipe</td>\n",
       "      <td>communal standpipe</td>\n",
       "      <td>functional</td>\n",
       "    </tr>\n",
       "    <tr>\n",
       "      <th>2</th>\n",
       "      <td>34310</td>\n",
       "      <td>25.0</td>\n",
       "      <td>2013-02-25</td>\n",
       "      <td>Lottery Club</td>\n",
       "      <td>686</td>\n",
       "      <td>World vision</td>\n",
       "      <td>37.460664</td>\n",
       "      <td>-3.821329</td>\n",
       "      <td>Kwa Mahundi</td>\n",
       "      <td>0</td>\n",
       "      <td>...</td>\n",
       "      <td>soft</td>\n",
       "      <td>good</td>\n",
       "      <td>enough</td>\n",
       "      <td>enough</td>\n",
       "      <td>dam</td>\n",
       "      <td>dam</td>\n",
       "      <td>surface</td>\n",
       "      <td>communal standpipe multiple</td>\n",
       "      <td>communal standpipe</td>\n",
       "      <td>functional</td>\n",
       "    </tr>\n",
       "    <tr>\n",
       "      <th>3</th>\n",
       "      <td>67743</td>\n",
       "      <td>0.0</td>\n",
       "      <td>2013-01-28</td>\n",
       "      <td>Unicef</td>\n",
       "      <td>263</td>\n",
       "      <td>UNICEF</td>\n",
       "      <td>38.486161</td>\n",
       "      <td>-11.155298</td>\n",
       "      <td>Zahanati Ya Nanyumbu</td>\n",
       "      <td>0</td>\n",
       "      <td>...</td>\n",
       "      <td>soft</td>\n",
       "      <td>good</td>\n",
       "      <td>dry</td>\n",
       "      <td>dry</td>\n",
       "      <td>machine dbh</td>\n",
       "      <td>borehole</td>\n",
       "      <td>groundwater</td>\n",
       "      <td>communal standpipe multiple</td>\n",
       "      <td>communal standpipe</td>\n",
       "      <td>non functional</td>\n",
       "    </tr>\n",
       "    <tr>\n",
       "      <th>4</th>\n",
       "      <td>19728</td>\n",
       "      <td>0.0</td>\n",
       "      <td>2011-07-13</td>\n",
       "      <td>Action In A</td>\n",
       "      <td>0</td>\n",
       "      <td>Artisan</td>\n",
       "      <td>31.130847</td>\n",
       "      <td>-1.825359</td>\n",
       "      <td>Shuleni</td>\n",
       "      <td>0</td>\n",
       "      <td>...</td>\n",
       "      <td>soft</td>\n",
       "      <td>good</td>\n",
       "      <td>seasonal</td>\n",
       "      <td>seasonal</td>\n",
       "      <td>rainwater harvesting</td>\n",
       "      <td>rainwater harvesting</td>\n",
       "      <td>surface</td>\n",
       "      <td>communal standpipe</td>\n",
       "      <td>communal standpipe</td>\n",
       "      <td>functional</td>\n",
       "    </tr>\n",
       "  </tbody>\n",
       "</table>\n",
       "<p>5 rows × 41 columns</p>\n",
       "</div>"
      ],
      "text/plain": [
       "      id  amount_tsh date_recorded        funder  gps_height     installer  \\\n",
       "0  69572      6000.0    2011-03-14         Roman        1390         Roman   \n",
       "1   8776         0.0    2013-03-06       Grumeti        1399       GRUMETI   \n",
       "2  34310        25.0    2013-02-25  Lottery Club         686  World vision   \n",
       "3  67743         0.0    2013-01-28        Unicef         263        UNICEF   \n",
       "4  19728         0.0    2011-07-13   Action In A           0       Artisan   \n",
       "\n",
       "   longitude   latitude              wpt_name  num_private  ... water_quality  \\\n",
       "0  34.938093  -9.856322                  none            0  ...          soft   \n",
       "1  34.698766  -2.147466              Zahanati            0  ...          soft   \n",
       "2  37.460664  -3.821329           Kwa Mahundi            0  ...          soft   \n",
       "3  38.486161 -11.155298  Zahanati Ya Nanyumbu            0  ...          soft   \n",
       "4  31.130847  -1.825359               Shuleni            0  ...          soft   \n",
       "\n",
       "  quality_group      quantity  quantity_group                source  \\\n",
       "0          good        enough          enough                spring   \n",
       "1          good  insufficient    insufficient  rainwater harvesting   \n",
       "2          good        enough          enough                   dam   \n",
       "3          good           dry             dry           machine dbh   \n",
       "4          good      seasonal        seasonal  rainwater harvesting   \n",
       "\n",
       "            source_type source_class              waterpoint_type  \\\n",
       "0                spring  groundwater           communal standpipe   \n",
       "1  rainwater harvesting      surface           communal standpipe   \n",
       "2                   dam      surface  communal standpipe multiple   \n",
       "3              borehole  groundwater  communal standpipe multiple   \n",
       "4  rainwater harvesting      surface           communal standpipe   \n",
       "\n",
       "  waterpoint_type_group    status_group  \n",
       "0    communal standpipe      functional  \n",
       "1    communal standpipe      functional  \n",
       "2    communal standpipe      functional  \n",
       "3    communal standpipe  non functional  \n",
       "4    communal standpipe      functional  \n",
       "\n",
       "[5 rows x 41 columns]"
      ]
     },
     "execution_count": 5,
     "metadata": {},
     "output_type": "execute_result"
    }
   ],
   "source": [
    "\n",
    "# Display the first few rows of the merged dataset\n",
    "merged_data.head()\n",
    "\n"
   ]
  },
  {
   "cell_type": "code",
   "execution_count": 6,
   "id": "b662d52d-a65c-46eb-b513-04acd7f51b4c",
   "metadata": {},
   "outputs": [
    {
     "name": "stdout",
     "output_type": "stream",
     "text": [
      "          id  amount_tsh date_recorded                  funder  gps_height  \\\n",
      "0      50785         0.0    2013-02-04                    Dmdd        1996   \n",
      "1      51630         0.0    2013-02-04  Government Of Tanzania        1569   \n",
      "2      17168         0.0    2013-02-01                     NaN        1567   \n",
      "3      45559         0.0    2013-01-22              Finn Water         267   \n",
      "4      49871       500.0    2013-03-27                  Bruder        1260   \n",
      "...      ...         ...           ...                     ...         ...   \n",
      "14845  39307         0.0    2011-02-24                  Danida          34   \n",
      "14846  18990      1000.0    2011-03-21                    Hiap           0   \n",
      "14847  28749         0.0    2013-03-04                     NaN        1476   \n",
      "14848  33492         0.0    2013-02-18                 Germany         998   \n",
      "14849  68707         0.0    2013-02-13  Government Of Tanzania         481   \n",
      "\n",
      "        installer  longitude   latitude                 wpt_name  num_private  \\\n",
      "0            DMDD  35.290799  -4.059696  Dinamu Secondary School            0   \n",
      "1             DWE  36.656709  -3.309214                  Kimnyak            0   \n",
      "2             NaN  34.767863  -5.004344           Puma Secondary            0   \n",
      "3      FINN WATER  38.058046  -9.418672           Kwa Mzee Pange            0   \n",
      "4          BRUDER  35.006123 -10.950412          Kwa Mzee Turuka            0   \n",
      "...           ...        ...        ...                      ...          ...   \n",
      "14845          Da  38.852669  -6.582841                Kwambwezi            0   \n",
      "14846        HIAP  37.451633  -5.350428         Bonde La Mkondoa            0   \n",
      "14847         NaN  34.739804  -4.585587                  Bwawani            0   \n",
      "14848         DWE  35.432732 -10.584159                 Kwa John            0   \n",
      "14849  Government  34.765054 -11.226012         Kwa Mzee Chagala            0   \n",
      "\n",
      "       ... payment_type water_quality quality_group      quantity  \\\n",
      "0      ...    never pay          soft          good      seasonal   \n",
      "1      ...    never pay          soft          good  insufficient   \n",
      "2      ...    never pay          soft          good  insufficient   \n",
      "3      ...      unknown          soft          good           dry   \n",
      "4      ...      monthly          soft          good        enough   \n",
      "...    ...          ...           ...           ...           ...   \n",
      "14845  ...    never pay          soft          good        enough   \n",
      "14846  ...     annually         salty         salty  insufficient   \n",
      "14847  ...    never pay          soft          good  insufficient   \n",
      "14848  ...    never pay          soft          good  insufficient   \n",
      "14849  ...    never pay          soft          good           dry   \n",
      "\n",
      "       quantity_group                source           source_type  \\\n",
      "0            seasonal  rainwater harvesting  rainwater harvesting   \n",
      "1        insufficient                spring                spring   \n",
      "2        insufficient  rainwater harvesting  rainwater harvesting   \n",
      "3                 dry          shallow well          shallow well   \n",
      "4              enough                spring                spring   \n",
      "...               ...                   ...                   ...   \n",
      "14845          enough                 river            river/lake   \n",
      "14846    insufficient          shallow well          shallow well   \n",
      "14847    insufficient                   dam                   dam   \n",
      "14848    insufficient                 river            river/lake   \n",
      "14849             dry                spring                spring   \n",
      "\n",
      "       source_class     waterpoint_type waterpoint_type_group  \n",
      "0           surface               other                 other  \n",
      "1       groundwater  communal standpipe    communal standpipe  \n",
      "2           surface               other                 other  \n",
      "3       groundwater               other                 other  \n",
      "4       groundwater  communal standpipe    communal standpipe  \n",
      "...             ...                 ...                   ...  \n",
      "14845       surface  communal standpipe    communal standpipe  \n",
      "14846   groundwater           hand pump             hand pump  \n",
      "14847       surface  communal standpipe    communal standpipe  \n",
      "14848       surface  communal standpipe    communal standpipe  \n",
      "14849   groundwater  communal standpipe    communal standpipe  \n",
      "\n",
      "[14850 rows x 40 columns]\n"
     ]
    }
   ],
   "source": [
    "# Load the test set values dataset\n",
    "test_set_values = pd.read_csv('/Users/jguzzo522/Desktop/WATERWELL/testsetvalues.csv')\n",
    "\n",
    "# Print out the test set values dataset\n",
    "print(test_set_values)\n"
   ]
  },
  {
   "cell_type": "markdown",
   "id": "bedd2eeb-75c2-45f8-9a83-39fd1adaeaad",
   "metadata": {},
   "source": [
    "## Exploring the data\n"
   ]
  },
  {
   "cell_type": "code",
   "execution_count": 7,
   "id": "e7067276-0d40-4921-9149-23dacde6d305",
   "metadata": {},
   "outputs": [
    {
     "name": "stdout",
     "output_type": "stream",
     "text": [
      "id                       59400\n",
      "amount_tsh                  98\n",
      "date_recorded              356\n",
      "funder                    1897\n",
      "gps_height                2428\n",
      "installer                 2145\n",
      "longitude                57516\n",
      "latitude                 57517\n",
      "wpt_name                 37400\n",
      "num_private                 65\n",
      "basin                        9\n",
      "subvillage               19287\n",
      "region                      21\n",
      "region_code                 27\n",
      "district_code               20\n",
      "lga                        125\n",
      "ward                      2092\n",
      "population                1049\n",
      "public_meeting               2\n",
      "recorded_by                  1\n",
      "scheme_management           12\n",
      "scheme_name               2696\n",
      "permit                       2\n",
      "construction_year           55\n",
      "extraction_type             18\n",
      "extraction_type_group       13\n",
      "extraction_type_class        7\n",
      "management                  12\n",
      "management_group             5\n",
      "payment                      7\n",
      "payment_type                 7\n",
      "water_quality                8\n",
      "quality_group                6\n",
      "quantity                     5\n",
      "quantity_group               5\n",
      "source                      10\n",
      "source_type                  7\n",
      "source_class                 3\n",
      "waterpoint_type              7\n",
      "waterpoint_type_group        6\n",
      "status_group                 3\n",
      "dtype: int64\n"
     ]
    }
   ],
   "source": [
    "# Get the number of unique values for each column in the merged dataset\n",
    "unique_values_counts = merged_data.nunique()\n",
    "\n",
    "# Display the number of unique values for each column\n",
    "print(unique_values_counts)\n"
   ]
  },
  {
   "cell_type": "markdown",
   "id": "4c044782-a5ad-4dbd-8c36-fdfa30cc6742",
   "metadata": {},
   "source": [
    "## Changing the Dependent Variable 'status_group' from a t to a Binary \n",
    "\n",
    "This makes the dataset more manageable and will allow for for ROC Curves, and F1 scores\n",
    "Merging of 'Functional' and 'Function Needs Repair'\n",
    "\n"
   ]
  },
  {
   "cell_type": "code",
   "execution_count": 8,
   "id": "888e9bc4-75d6-4042-91bd-28fc1624f7c5",
   "metadata": {},
   "outputs": [
    {
     "data": {
      "image/png": "[encoded data removed]",
      "text/plain": [
       "<Figure size 800x600 with 1 Axes>"
      ]
     },
     "metadata": {},
     "output_type": "display_data"
    }
   ],
   "source": [
    "import matplotlib.pyplot as plt\n",
    "import seaborn as sns\n",
    "\n",
    "# Set the color palette for each category\n",
    "color_palette = {'functional': 'green', 'functional needs repair': 'blue', 'non functional': 'red'}\n",
    "\n",
    "# Set figure size\n",
    "plt.figure(figsize=(8, 6))\n",
    "\n",
    "# Plot the counts of each category with custom colors\n",
    "sns.countplot(data=merged_data, x='status_group', palette=color_palette)\n",
    "\n",
    "# Add labels and title\n",
    "plt.title('Distribution of Status Group')\n",
    "plt.xlabel('Status Group')\n",
    "plt.ylabel('Count')\n",
    "\n",
    "# Show plot\n",
    "plt.show()\n"
   ]
  },
  {
   "cell_type": "code",
   "execution_count": 9,
   "id": "41018aaf-0227-4c03-b8e2-e141384f1d74",
   "metadata": {},
   "outputs": [],
   "source": [
    "# Combine 'functional' and 'functional needs repair' as positive class\n",
    "merged_data['status_group_binary'] = np.where(\n",
    "    merged_data['status_group'].isin(['functional', 'functional needs repair']), 1, 0\n",
    ")\n",
    "\n",
    "# Drop the original 'status_group' column\n",
    "merged_data.drop(columns=['status_group'], inplace=True)"
   ]
  },
  {
   "cell_type": "code",
   "execution_count": 10,
   "id": "df63acbc-0d27-40a6-880d-b9d7aa00c24c",
   "metadata": {},
   "outputs": [
    {
     "data": {
      "image/png": "[encoded data removed]",
      "text/plain": [
       "<Figure size 800x600 with 1 Axes>"
      ]
     },
     "metadata": {},
     "output_type": "display_data"
    }
   ],
   "source": [
    "import matplotlib.pyplot as plt\n",
    "import seaborn as sns\n",
    "\n",
    "# Set figure size\n",
    "plt.figure(figsize=(8, 6))\n",
    "\n",
    "# Define color palette\n",
    "color_palette = {1: 'green', 0: 'red'}\n",
    "\n",
    "# Plot the counts of each category with custom colors\n",
    "sns.countplot(data=merged_data, x='status_group_binary', palette=color_palette)\n",
    "\n",
    "# Set the x-axis tick labels\n",
    "plt.xticks(ticks=[1, 0], labels=['Functional', 'Non-Functional'])\n",
    "\n",
    "# Add labels and title\n",
    "plt.title('Distribution of Status Group')\n",
    "plt.xlabel('Status Group')\n",
    "plt.ylabel('Count')\n",
    "\n",
    "# Show plot\n",
    "plt.show()\n"
   ]
  },
  {
   "cell_type": "markdown",
   "id": "eeffb24a-3260-47ad-bd1a-63794c838a2a",
   "metadata": {},
   "source": [
    "## Removal of \"columns\n",
    "\n",
    "#### Funder\n",
    "The column \"funder\" contains a large number of unique values (1897). Attempting to analyze how 1897 different companies or individuals funded the water wells would be very time-consuming and might not provide significant insights due to the sheer volume of categories. Therefore, we have opted to remove the \"funder_x\" variable from our dataset to streamline our analysis and focus on other variables with potentially more significant impact on our predictive modeling.\n",
    "\n"
   ]
  },
  {
   "cell_type": "code",
   "execution_count": 11,
   "id": "8ab47bbd-4d7d-4864-8d9f-6b35a47c93d4",
   "metadata": {},
   "outputs": [
    {
     "name": "stdout",
     "output_type": "stream",
     "text": [
      "Number of unique values: 1897\n",
      "Unique values:\n",
      "['Roman' 'Grumeti' 'Lottery Club' ... 'Dina' 'Brown' 'Samlo']\n"
     ]
    }
   ],
   "source": [
    "# Count the number of unique values\n",
    "num_unique_values = merged_data['funder'].nunique()\n",
    "\n",
    "# Display the number of unique values\n",
    "print(\"Number of unique values:\", num_unique_values)\n",
    "\n",
    "# Display the unique values\n",
    "unique_values = merged_data['funder'].unique()\n",
    "print(\"Unique values:\")\n",
    "print(unique_values)\n"
   ]
  },
  {
   "cell_type": "code",
   "execution_count": 12,
   "id": "2b7ceb27-22f7-41ef-839f-b53c6e4f529b",
   "metadata": {},
   "outputs": [],
   "source": [
    "# Drop the \"funder\" column\n",
    "merged_data.drop(columns=['funder'], inplace=True)\n"
   ]
  },
  {
   "cell_type": "markdown",
   "id": "d4605677-0c5a-4056-9bed-cb72c89c974c",
   "metadata": {},
   "source": [
    "#### 'Subvillage'"
   ]
  },
  {
   "cell_type": "markdown",
   "id": "09dd3358-9014-44b9-b3e0-91a9336a03d9",
   "metadata": {},
   "source": [
    "In the initial exploration of our dataset, we identified the \"subvillage\" feature, which represents the geographic location of each waterpoint at a subvillage level. However, upon closer examination, we observed that this feature contains a large number of unique values (19,287). While capturing detailed geographic information is important for understanding the distribution of waterpoints, including such granular data in our predictive modeling may not yield meaningful insights and could introduce unnecessary complexity to our analysis.\n"
   ]
  },
  {
   "cell_type": "code",
   "execution_count": 13,
   "id": "cafa0ea9-ecd1-4267-9985-869e327702a9",
   "metadata": {},
   "outputs": [],
   "source": [
    "# Drop the \"subvillage\" column\n",
    "merged_data.drop(columns=['subvillage'], inplace=True)\n"
   ]
  },
  {
   "cell_type": "markdown",
   "id": "889cd6c6-99a1-4f6e-a26c-2e75f3ad2f01",
   "metadata": {},
   "source": [
    "#### 'Wpt_name'"
   ]
  },
  {
   "cell_type": "markdown",
   "id": "cd7e693a-d5b1-47d8-a1c5-b76773540d2a",
   "metadata": {},
   "source": [
    "The \"wpt_name\" column contains a large number of unique values (37,400), representing different names of waterpoints. Similar to the decision to drop the \"subvillage\" column, the high cardinality of this feature could potentially lead to overfitting, increased model complexity, and reduced interpretability without significantly enhancing predictive performance. Given the sheer number of distinct names and the potential for noise or redundancy in the data, it's prudent to exclude this column from our analysis to maintain simplicity and focus on features with more meaningful predictive value."
   ]
  },
  {
   "cell_type": "code",
   "execution_count": 14,
   "id": "b7f9d956-49f5-47a4-af52-27c017771f84",
   "metadata": {},
   "outputs": [],
   "source": [
    "# Drop the \"wpt_name\" column\n",
    "merged_data.drop(columns=['wpt_name'], inplace=True)\n"
   ]
  },
  {
   "cell_type": "markdown",
   "id": "3a431c0d-b789-4e73-b12c-60c561e46f89",
   "metadata": {},
   "source": [
    "#### 'Scheme_name'"
   ]
  },
  {
   "cell_type": "markdown",
   "id": "76588798-b61d-4831-99f5-7e7f1bf6f3d6",
   "metadata": {},
   "source": [
    "Upon examining the dataset, it is evident that both 'scheme_management' and 'scheme_name' represent the entity responsible for operating the waterpoint. However, 'scheme_management' contains only 12 unique values, whereas 'scheme_name' has 2696 unique values. Given that 'scheme_management' provides a more concise categorization with fewer unique values, we have decided to retain this variable and drop 'scheme_name' for simplicity and ease of analysis."
   ]
  },
  {
   "cell_type": "code",
   "execution_count": 15,
   "id": "04a06e62-b7a6-4756-a009-768bfbcc826b",
   "metadata": {},
   "outputs": [],
   "source": [
    "# Drop the \"scheme_name\" column\n",
    "merged_data.drop(columns=['scheme_name'], inplace=True)"
   ]
  },
  {
   "cell_type": "markdown",
   "id": "55b61226-667a-4981-a02b-1c7927ed8bfc",
   "metadata": {},
   "source": [
    "#### 'Installer'\n",
    "The 'installer' column contains a large number of unique values (2146), indicating a wide variety of organizations or individuals responsible for installing waterpoints. Analyzing each unique installer would be cumbersome and may not significantly contribute to our predictive modeling efforts. Furthermore, the identity of the installer might not have a direct impact on the functionality of waterpoints. Therefore, removing this column streamlines our dataset, focusing on more relevant features for predictive modeling."
   ]
  },
  {
   "cell_type": "code",
   "execution_count": 16,
   "id": "3a88d0c2-fa0f-4ff5-8b27-e15b877ff601",
   "metadata": {},
   "outputs": [
    {
     "name": "stdout",
     "output_type": "stream",
     "text": [
      "Number of unique installers: 2146\n",
      "Unique installers: ['Roman' 'GRUMETI' 'World vision' 'UNICEF' 'Artisan' 'DWE' 'DWSP'\n",
      " 'Water Aid' 'Private' 'DANIDA']\n"
     ]
    }
   ],
   "source": [
    "# Check the number of unique values in the 'installer' column\n",
    "num_unique_installers = len(merged_data['installer'].unique())\n",
    "print(\"Number of unique installers:\", num_unique_installers)\n",
    "\n",
    "# Display some of the unique values in the 'installer' column\n",
    "unique_installers = merged_data['installer'].unique()\n",
    "print(\"Unique installers:\", unique_installers[:10])  # Displaying the first 10 unique values\n"
   ]
  },
  {
   "cell_type": "code",
   "execution_count": 17,
   "id": "4e75c6c2-60b2-4f85-96e0-ea2e99527e95",
   "metadata": {},
   "outputs": [],
   "source": [
    "# Drop the \"installer\" column\n",
    "merged_data.drop(columns=['installer'], inplace=True)\n"
   ]
  },
  {
   "cell_type": "markdown",
   "id": "7df280d3-a6de-4cef-b01a-06dc283e896d",
   "metadata": {},
   "source": [
    "#### 'Mangement'\n",
    "Upon examining the dataset, it became apparent that both 'management' and 'management_group' convey information about the entity responsible for operating the waterpoint. However, 'management' encompasses a wider range of specific entities, resulting in 12 unique values, while 'management_group' provides a broader categorization with 5 unique values. Given that 'management_group' offers a more generalized classification and is easier to interpret, especially for predictive modeling, we have chosen to retain it and discard 'management'. This decision streamlines the dataset, making it more manageable for analysis and modeling purposes."
   ]
  },
  {
   "cell_type": "code",
   "execution_count": 18,
   "id": "296765d4-954f-4a39-9fa3-bb44b7ba9592",
   "metadata": {},
   "outputs": [
    {
     "name": "stdout",
     "output_type": "stream",
     "text": [
      "Unique values in 'management':\n",
      "['vwc' 'wug' 'other' 'private operator' 'water board' 'wua' 'company'\n",
      " 'water authority' 'parastatal' 'unknown' 'other - school' 'trust']\n",
      "\n",
      "Unique values in 'management_group':\n",
      "['user-group' 'other' 'commercial' 'parastatal' 'unknown']\n"
     ]
    }
   ],
   "source": [
    "unique_management_values = merged_data['management'].unique()\n",
    "unique_management_group_values = merged_data['management_group'].unique()\n",
    "\n",
    "print(\"Unique values in 'management':\")\n",
    "print(unique_management_values)\n",
    "\n",
    "print(\"\\nUnique values in 'management_group':\")\n",
    "print(unique_management_group_values)\n"
   ]
  },
  {
   "cell_type": "code",
   "execution_count": 19,
   "id": "17cf6fa8-a588-45be-86db-12b275291d90",
   "metadata": {},
   "outputs": [],
   "source": [
    "# Drop the \"managment\" column\n",
    "merged_data.drop(columns=['management'], inplace=True)"
   ]
  },
  {
   "cell_type": "markdown",
   "id": "fdc56f61-4332-4145-9ec1-600081eb3ad7",
   "metadata": {},
   "source": [
    "#### 'Waterpoint_type_group'\n",
    "\n",
    "Upon examining the unique values in the 'waterpoint_type' and 'waterpoint_type_group' columns, it's apparent that both columns represent categories of waterpoints, but 'waterpoint_type' provides more detailed distinctions with seven unique values, while 'waterpoint_type_group' aggregates these into six categories.\n",
    "\n",
    "Considering the potential significance of the distinctions between different types of waterpoints, it may be beneficial to retain the column with more granular information ('waterpoint_type') and drop the column with fewer unique values ('waterpoint_type_group'). By doing so, we maintain a more detailed representation of the types of waterpoints in the dataset, which could potentially offer more insights during analysis or modeling.\n",
    "\n",
    "Therefore, we have decided to drop the 'waterpoint_type_group' column to streamline the dataset while preserving the detailed categorization provided by the 'waterpoint_type' column.\n"
   ]
  },
  {
   "cell_type": "code",
   "execution_count": 20,
   "id": "5ae2ded8-39f9-4c13-bd73-c4b8de561517",
   "metadata": {},
   "outputs": [
    {
     "name": "stdout",
     "output_type": "stream",
     "text": [
      "Unique values in 'waterpoint_type':\n",
      "['communal standpipe' 'communal standpipe multiple' 'hand pump' 'other'\n",
      " 'improved spring' 'cattle trough' 'dam']\n",
      "\n",
      "Unique values in 'waterpoint_type_group':\n",
      "['communal standpipe' 'hand pump' 'other' 'improved spring'\n",
      " 'cattle trough' 'dam']\n"
     ]
    }
   ],
   "source": [
    "# Unique values in 'waterpoint_type'\n",
    "print(\"Unique values in 'waterpoint_type':\")\n",
    "print(merged_data['waterpoint_type'].unique())\n",
    "\n",
    "# Unique values in 'waterpoint_type_group'\n",
    "print(\"\\nUnique values in 'waterpoint_type_group':\")\n",
    "print(merged_data['waterpoint_type_group'].unique())\n"
   ]
  },
  {
   "cell_type": "code",
   "execution_count": 21,
   "id": "1fc784a5-adc9-49f2-bdbe-ad6015f65adc",
   "metadata": {},
   "outputs": [],
   "source": [
    "# Drop the \"waterpoint_type_group\" column\n",
    "merged_data.drop(columns=['waterpoint_type_group'], inplace=True)"
   ]
  },
  {
   "cell_type": "markdown",
   "id": "483e5089-49a3-423d-9cf1-295b4c21aae6",
   "metadata": {},
   "source": [
    "#### 'Quantity_group'\n",
    "Upon examination, it was clear these two columns were identical. Therefore it was appropriate to remove one column and so 'quantity_group' was dropped."
   ]
  },
  {
   "cell_type": "code",
   "execution_count": 22,
   "id": "38769ef7-3cd5-4b9b-b0af-d3afd0ac6a39",
   "metadata": {},
   "outputs": [
    {
     "name": "stdout",
     "output_type": "stream",
     "text": [
      "Unique values in 'quantity':\n",
      "['enough' 'insufficient' 'dry' 'seasonal' 'unknown']\n",
      "\n",
      "Unique values in 'quantity_group':\n",
      "['enough' 'insufficient' 'dry' 'seasonal' 'unknown']\n",
      "Number of NaN values in 'quantity': 0\n",
      "Number of NaN values in 'quantity_group': 0\n"
     ]
    }
   ],
   "source": [
    "print(\"Unique values in 'quantity':\")\n",
    "print(merged_data['quantity'].unique())\n",
    "\n",
    "print(\"\\nUnique values in 'quantity_group':\")\n",
    "print(merged_data['quantity_group'].unique())\n",
    "print(\"Number of NaN values in 'quantity':\", merged_data['quantity'].isna().sum())\n",
    "print(\"Number of NaN values in 'quantity_group':\", merged_data['quantity_group'].isna().sum())\n",
    "\n"
   ]
  },
  {
   "cell_type": "code",
   "execution_count": 23,
   "id": "95a80a31-988f-47f1-8921-59f37bd19da0",
   "metadata": {},
   "outputs": [],
   "source": [
    "# Drop the \"quantity_group\" column\n",
    "merged_data.drop(columns=['quantity_group'], inplace=True)"
   ]
  },
  {
   "cell_type": "markdown",
   "id": "653d630c-dad4-478e-87d6-31d06a00d145",
   "metadata": {},
   "source": [
    "#### 'Quality_group'\n",
    "\n",
    "Upon examining the unique values in the 'water_quality and 'quality_group' columns, it's apparent that both columns represent the quality of water, but 'water_quality' provides more detailed distinctions with eight unique values, while 'quality_group' aggregates these into six categories.\n",
    "\n",
    "Considering the potential significance of the distinctions between different types of water quality, it may be beneficial to retain the column with more granular information ('wate_quality') and drop the column with fewer unique values ('quality_group'). By doing so, we maintain a more detailed representation of the types of quality of water in the dataset, which could potentially offer more insights during analysis or modeling."
   ]
  },
  {
   "cell_type": "code",
   "execution_count": 24,
   "id": "49dd679e-f07d-49b0-b182-52513dcd1ade",
   "metadata": {},
   "outputs": [
    {
     "name": "stdout",
     "output_type": "stream",
     "text": [
      "Unique values in 'water_quality':\n",
      "['soft' 'salty' 'milky' 'unknown' 'fluoride' 'coloured' 'salty abandoned'\n",
      " 'fluoride abandoned']\n",
      "\n",
      "Unique values in 'quality_group':\n",
      "['good' 'salty' 'milky' 'unknown' 'fluoride' 'colored']\n",
      "Number of NaN values in 'water_quality': 0\n",
      "Number of NaN values in 'quality_group': 0\n"
     ]
    }
   ],
   "source": [
    "print(\"Unique values in 'water_quality':\")\n",
    "print(merged_data['water_quality'].unique())\n",
    "\n",
    "print(\"\\nUnique values in 'quality_group':\")\n",
    "print(merged_data['quality_group'].unique())\n",
    "print(\"Number of NaN values in 'water_quality':\", merged_data['water_quality'].isna().sum())\n",
    "print(\"Number of NaN values in 'quality_group':\", merged_data['quality_group'].isna().sum())\n"
   ]
  },
  {
   "cell_type": "code",
   "execution_count": 25,
   "id": "4e72672f-9b5a-4f38-a9fc-bd54c6ee529f",
   "metadata": {},
   "outputs": [
    {
     "name": "stdout",
     "output_type": "stream",
     "text": [
      "Number of 'unknown' values in 'water_quality': 1876\n",
      "Number of 'unknown' values in 'quality_group': 1876\n"
     ]
    }
   ],
   "source": [
    "# Count occurrences of 'unknown' in 'water_quality'\n",
    "unknown_water_quality_count = merged_data['water_quality'].value_counts().get('unknown', 0)\n",
    "\n",
    "# Count occurrences of 'unknown' in 'quality_group'\n",
    "unknown_quality_group_count = merged_data['quality_group'].value_counts().get('unknown', 0)\n",
    "\n",
    "print(\"Number of 'unknown' values in 'water_quality':\", unknown_water_quality_count)\n",
    "print(\"Number of 'unknown' values in 'quality_group':\", unknown_quality_group_count)\n"
   ]
  },
  {
   "cell_type": "code",
   "execution_count": 26,
   "id": "2a31cc6d-8e44-4918-b4cc-962a9f4c893c",
   "metadata": {},
   "outputs": [],
   "source": [
    "# Drop the \"quantity_group\" column\n",
    "merged_data.drop(columns=['quality_group'], inplace=True)"
   ]
  },
  {
   "cell_type": "markdown",
   "id": "6f02650a-b02b-48cf-99d6-d639b7ffe7cc",
   "metadata": {},
   "source": [
    "#### 'recorded_by'"
   ]
  },
  {
   "cell_type": "markdown",
   "id": "1b058301-41c4-46c7-93d9-fd42325d958d",
   "metadata": {},
   "source": [
    "The 'recorded_by' column contains only one unique value, indicating that all records in the dataset were recorded by the same entity or group. Since this column does not offer any variability or meaningful information for analysis, it does not contribute to our predictive modeling task. Therefore, removing it simplifies the dataset without sacrificing any relevant information, making it more efficient for further analysis and model building."
   ]
  },
  {
   "cell_type": "code",
   "execution_count": 27,
   "id": "0821deee-e181-4eed-8028-a57263b7168a",
   "metadata": {},
   "outputs": [],
   "source": [
    "# Drop the 'recorded_by' column\n",
    "merged_data.drop(columns=['recorded_by'], inplace=True)\n"
   ]
  },
  {
   "cell_type": "markdown",
   "id": "7dbc682a-5acd-4710-85fc-256015341943",
   "metadata": {},
   "source": [
    "#### 'payment_type'\n",
    "Upon examination, it was clear these two columns were identical. Therefore it was appropriate to remove one column and so 'payment_type' was dropped."
   ]
  },
  {
   "cell_type": "code",
   "execution_count": 28,
   "id": "d9f371d3-786a-4570-aa34-2525c3b19c6b",
   "metadata": {},
   "outputs": [
    {
     "name": "stdout",
     "output_type": "stream",
     "text": [
      "Unique values in 'payment':\n",
      "['pay annually' 'never pay' 'pay per bucket' 'unknown'\n",
      " 'pay when scheme fails' 'other' 'pay monthly']\n",
      "\n",
      "Unique values in 'payment_type':\n",
      "['annually' 'never pay' 'per bucket' 'unknown' 'on failure' 'other'\n",
      " 'monthly']\n",
      "Number of NaN values in 'payment': 0\n",
      "Number of NaN values in 'payment_type': 0\n"
     ]
    }
   ],
   "source": [
    "print(\"Unique values in 'payment':\")\n",
    "print(merged_data['payment'].unique())\n",
    "\n",
    "print(\"\\nUnique values in 'payment_type':\")\n",
    "print(merged_data['payment_type'].unique())\n",
    "print(\"Number of NaN values in 'payment':\", merged_data['payment'].isna().sum())\n",
    "print(\"Number of NaN values in 'payment_type':\", merged_data['payment_type'].isna().sum())\n"
   ]
  },
  {
   "cell_type": "code",
   "execution_count": 29,
   "id": "7acf3dac-00a9-4f9b-8465-b6804b752272",
   "metadata": {},
   "outputs": [],
   "source": [
    "# Drop the \"payment_type\" column\n",
    "merged_data.drop(columns=['payment_type'], inplace=True)"
   ]
  },
  {
   "cell_type": "markdown",
   "id": "bcdc9180-bfb5-4924-9adb-0b835f67137c",
   "metadata": {},
   "source": [
    "#### 'Source_type' and 'Source_class'\n",
    "Upon examining the unique values in the 'source_type', 'source', 'source_class' columns, it's apparent that these columns represent the source of water, but 'source' provides more detailed distinctions with ten unique values, while 'source_type' has only seven catagories, and 'source_class' only has 3.\n",
    "\n",
    "Considering the potential significance of the distinctions between different sources of water, it may be beneficial to retain the column with more information ('source') and drop the other two column with fewer unique values ('source_type' and 'source_class). "
   ]
  },
  {
   "cell_type": "code",
   "execution_count": 30,
   "id": "59a43524-2d36-4cbf-97fd-43060cd864fb",
   "metadata": {},
   "outputs": [
    {
     "name": "stdout",
     "output_type": "stream",
     "text": [
      "Unique values in 'source_type':\n",
      "['spring' 'rainwater harvesting' 'dam' 'borehole' 'other' 'shallow well'\n",
      " 'river/lake']\n",
      "Unique values in 'source':\n",
      "['spring' 'rainwater harvesting' 'dam' 'machine dbh' 'other'\n",
      " 'shallow well' 'river' 'hand dtw' 'lake' 'unknown']\n",
      "Unique values in 'source_class':\n",
      "['groundwater' 'surface' 'unknown']\n"
     ]
    }
   ],
   "source": [
    "# Unique values for source_type\n",
    "print(\"Unique values in 'source_type':\")\n",
    "print(merged_data['source_type'].unique())\n",
    "\n",
    "# Unique values for source\n",
    "print(\"Unique values in 'source':\")\n",
    "print(merged_data['source'].unique())\n",
    "\n",
    "\n",
    "# Unique values for source_class\n",
    "print(\"Unique values in 'source_class':\")\n",
    "print(merged_data['source_class'].unique())"
   ]
  },
  {
   "cell_type": "code",
   "execution_count": 31,
   "id": "c1b00551-9f0f-4293-8853-679f0d5273d1",
   "metadata": {},
   "outputs": [],
   "source": [
    "# Drop the 'source_type' column\n",
    "merged_data.drop(columns=['source_type'], inplace=True)\n",
    "# Drop the 'source_class' column\n",
    "merged_data.drop(columns=['source_class'], inplace=True)"
   ]
  },
  {
   "cell_type": "markdown",
   "id": "95600a90-d874-46e3-99a8-41e7bb48e68e",
   "metadata": {},
   "source": [
    "#### 'Extraction_type_group' and 'Extraction_type_class'\n",
    "Upon examining the dataset, it's evident that the 'extraction_type' column provides a more detailed categorization with a wider range of variables compared to 'extraction_type_group' and 'extraction_type_class'. While 'extraction_type' contains 18 unique values, 'extraction_type_group' and 'extraction_type_class' have fewer categories, potentially resulting in loss of information. Hence, we have decided to retain 'extraction_type' and drop the other two columns for a more comprehensive analysis.\n"
   ]
  },
  {
   "cell_type": "code",
   "execution_count": 32,
   "id": "e14ecc72-93f7-49d0-a819-b962102f3772",
   "metadata": {},
   "outputs": [
    {
     "name": "stdout",
     "output_type": "stream",
     "text": [
      "Unique values in 'extraction_type':\n",
      "['gravity' 'submersible' 'swn 80' 'nira/tanira' 'india mark ii' 'other'\n",
      " 'ksb' 'mono' 'windmill' 'afridev' 'other - rope pump' 'india mark iii'\n",
      " 'other - swn 81' 'other - play pump' 'cemo' 'climax' 'walimi'\n",
      " 'other - mkulima/shinyanga']\n",
      "\n",
      "Unique values in 'extraction_type_group':\n",
      "['gravity' 'submersible' 'swn 80' 'nira/tanira' 'india mark ii' 'other'\n",
      " 'mono' 'wind-powered' 'afridev' 'rope pump' 'india mark iii'\n",
      " 'other handpump' 'other motorpump']\n",
      "\n",
      "Unique values in 'extraction_type_class':\n",
      "['gravity' 'submersible' 'handpump' 'other' 'motorpump' 'wind-powered'\n",
      " 'rope pump']\n"
     ]
    }
   ],
   "source": [
    "# Unique values in 'extraction_type'\n",
    "print(\"Unique values in 'extraction_type':\")\n",
    "print(merged_data['extraction_type'].unique())\n",
    "\n",
    "# Unique values in 'extraction_type_group'\n",
    "print(\"\\nUnique values in 'extraction_type_group':\")\n",
    "print(merged_data['extraction_type_group'].unique())\n",
    "\n",
    "# Unique values in 'extraction_type_class'\n",
    "print(\"\\nUnique values in 'extraction_type_class':\")\n",
    "print(merged_data['extraction_type_class'].unique())\n"
   ]
  },
  {
   "cell_type": "code",
   "execution_count": 33,
   "id": "a681daab-dd1f-4734-9d9a-8b1ffd1b93b9",
   "metadata": {},
   "outputs": [],
   "source": [
    "# Drop 'extraction_type_group' and 'extraction_type_class'\n",
    "merged_data.drop(columns=['extraction_type_group', 'extraction_type_class'], inplace=True)\n"
   ]
  },
  {
   "cell_type": "code",
   "execution_count": 34,
   "id": "b89e06b2-8ea6-4d8d-819b-9a1d311caf9a",
   "metadata": {},
   "outputs": [
    {
     "name": "stdout",
     "output_type": "stream",
     "text": [
      "Unique values in 'region_code':\n",
      "[11 20 21 90 18  4 17 14 60 10  3 15 19 16 80  1  6  2 12 13  5  7 99 24\n",
      "  9  8 40]\n",
      "\n",
      "Unique values in 'district_code':\n",
      "[ 5  2  4 63  1  8  3  6 43  7 23 33 53 62 60 30 13  0 80 67]\n"
     ]
    }
   ],
   "source": [
    "print(\"Unique values in 'region_code':\")\n",
    "print(merged_data['region_code'].unique())\n",
    "\n",
    "print(\"\\nUnique values in 'district_code':\")\n",
    "print(merged_data['district_code'].unique())\n"
   ]
  },
  {
   "cell_type": "code",
   "execution_count": 35,
   "id": "af4f1ddf-5fcd-4cd1-aa19-f580073de0ec",
   "metadata": {},
   "outputs": [
    {
     "data": {
      "text/html": [
       "<div>\n",
       "<style scoped>\n",
       "    .dataframe tbody tr th:only-of-type {\n",
       "        vertical-align: middle;\n",
       "    }\n",
       "\n",
       "    .dataframe tbody tr th {\n",
       "        vertical-align: top;\n",
       "    }\n",
       "\n",
       "    .dataframe thead th {\n",
       "        text-align: right;\n",
       "    }\n",
       "</style>\n",
       "<table border=\"1\" class=\"dataframe\">\n",
       "  <thead>\n",
       "    <tr style=\"text-align: right;\">\n",
       "      <th></th>\n",
       "      <th>id</th>\n",
       "      <th>amount_tsh</th>\n",
       "      <th>date_recorded</th>\n",
       "      <th>gps_height</th>\n",
       "      <th>longitude</th>\n",
       "      <th>latitude</th>\n",
       "      <th>num_private</th>\n",
       "      <th>basin</th>\n",
       "      <th>region</th>\n",
       "      <th>region_code</th>\n",
       "      <th>...</th>\n",
       "      <th>permit</th>\n",
       "      <th>construction_year</th>\n",
       "      <th>extraction_type</th>\n",
       "      <th>management_group</th>\n",
       "      <th>payment</th>\n",
       "      <th>water_quality</th>\n",
       "      <th>quantity</th>\n",
       "      <th>source</th>\n",
       "      <th>waterpoint_type</th>\n",
       "      <th>status_group_binary</th>\n",
       "    </tr>\n",
       "  </thead>\n",
       "  <tbody>\n",
       "    <tr>\n",
       "      <th>0</th>\n",
       "      <td>69572</td>\n",
       "      <td>6000.0</td>\n",
       "      <td>2011-03-14</td>\n",
       "      <td>1390</td>\n",
       "      <td>34.938093</td>\n",
       "      <td>-9.856322</td>\n",
       "      <td>0</td>\n",
       "      <td>Lake Nyasa</td>\n",
       "      <td>Iringa</td>\n",
       "      <td>11</td>\n",
       "      <td>...</td>\n",
       "      <td>False</td>\n",
       "      <td>1999</td>\n",
       "      <td>gravity</td>\n",
       "      <td>user-group</td>\n",
       "      <td>pay annually</td>\n",
       "      <td>soft</td>\n",
       "      <td>enough</td>\n",
       "      <td>spring</td>\n",
       "      <td>communal standpipe</td>\n",
       "      <td>1</td>\n",
       "    </tr>\n",
       "    <tr>\n",
       "      <th>1</th>\n",
       "      <td>8776</td>\n",
       "      <td>0.0</td>\n",
       "      <td>2013-03-06</td>\n",
       "      <td>1399</td>\n",
       "      <td>34.698766</td>\n",
       "      <td>-2.147466</td>\n",
       "      <td>0</td>\n",
       "      <td>Lake Victoria</td>\n",
       "      <td>Mara</td>\n",
       "      <td>20</td>\n",
       "      <td>...</td>\n",
       "      <td>True</td>\n",
       "      <td>2010</td>\n",
       "      <td>gravity</td>\n",
       "      <td>user-group</td>\n",
       "      <td>never pay</td>\n",
       "      <td>soft</td>\n",
       "      <td>insufficient</td>\n",
       "      <td>rainwater harvesting</td>\n",
       "      <td>communal standpipe</td>\n",
       "      <td>1</td>\n",
       "    </tr>\n",
       "    <tr>\n",
       "      <th>2</th>\n",
       "      <td>34310</td>\n",
       "      <td>25.0</td>\n",
       "      <td>2013-02-25</td>\n",
       "      <td>686</td>\n",
       "      <td>37.460664</td>\n",
       "      <td>-3.821329</td>\n",
       "      <td>0</td>\n",
       "      <td>Pangani</td>\n",
       "      <td>Manyara</td>\n",
       "      <td>21</td>\n",
       "      <td>...</td>\n",
       "      <td>True</td>\n",
       "      <td>2009</td>\n",
       "      <td>gravity</td>\n",
       "      <td>user-group</td>\n",
       "      <td>pay per bucket</td>\n",
       "      <td>soft</td>\n",
       "      <td>enough</td>\n",
       "      <td>dam</td>\n",
       "      <td>communal standpipe multiple</td>\n",
       "      <td>1</td>\n",
       "    </tr>\n",
       "    <tr>\n",
       "      <th>3</th>\n",
       "      <td>67743</td>\n",
       "      <td>0.0</td>\n",
       "      <td>2013-01-28</td>\n",
       "      <td>263</td>\n",
       "      <td>38.486161</td>\n",
       "      <td>-11.155298</td>\n",
       "      <td>0</td>\n",
       "      <td>Ruvuma / Southern Coast</td>\n",
       "      <td>Mtwara</td>\n",
       "      <td>90</td>\n",
       "      <td>...</td>\n",
       "      <td>True</td>\n",
       "      <td>1986</td>\n",
       "      <td>submersible</td>\n",
       "      <td>user-group</td>\n",
       "      <td>never pay</td>\n",
       "      <td>soft</td>\n",
       "      <td>dry</td>\n",
       "      <td>machine dbh</td>\n",
       "      <td>communal standpipe multiple</td>\n",
       "      <td>0</td>\n",
       "    </tr>\n",
       "    <tr>\n",
       "      <th>4</th>\n",
       "      <td>19728</td>\n",
       "      <td>0.0</td>\n",
       "      <td>2011-07-13</td>\n",
       "      <td>0</td>\n",
       "      <td>31.130847</td>\n",
       "      <td>-1.825359</td>\n",
       "      <td>0</td>\n",
       "      <td>Lake Victoria</td>\n",
       "      <td>Kagera</td>\n",
       "      <td>18</td>\n",
       "      <td>...</td>\n",
       "      <td>True</td>\n",
       "      <td>0</td>\n",
       "      <td>gravity</td>\n",
       "      <td>other</td>\n",
       "      <td>never pay</td>\n",
       "      <td>soft</td>\n",
       "      <td>seasonal</td>\n",
       "      <td>rainwater harvesting</td>\n",
       "      <td>communal standpipe</td>\n",
       "      <td>1</td>\n",
       "    </tr>\n",
       "  </tbody>\n",
       "</table>\n",
       "<p>5 rows × 26 columns</p>\n",
       "</div>"
      ],
      "text/plain": [
       "      id  amount_tsh date_recorded  gps_height  longitude   latitude  \\\n",
       "0  69572      6000.0    2011-03-14        1390  34.938093  -9.856322   \n",
       "1   8776         0.0    2013-03-06        1399  34.698766  -2.147466   \n",
       "2  34310        25.0    2013-02-25         686  37.460664  -3.821329   \n",
       "3  67743         0.0    2013-01-28         263  38.486161 -11.155298   \n",
       "4  19728         0.0    2011-07-13           0  31.130847  -1.825359   \n",
       "\n",
       "   num_private                    basin   region  region_code  ...  permit  \\\n",
       "0            0               Lake Nyasa   Iringa           11  ...   False   \n",
       "1            0            Lake Victoria     Mara           20  ...    True   \n",
       "2            0                  Pangani  Manyara           21  ...    True   \n",
       "3            0  Ruvuma / Southern Coast   Mtwara           90  ...    True   \n",
       "4            0            Lake Victoria   Kagera           18  ...    True   \n",
       "\n",
       "  construction_year extraction_type  management_group         payment  \\\n",
       "0              1999         gravity        user-group    pay annually   \n",
       "1              2010         gravity        user-group       never pay   \n",
       "2              2009         gravity        user-group  pay per bucket   \n",
       "3              1986     submersible        user-group       never pay   \n",
       "4                 0         gravity             other       never pay   \n",
       "\n",
       "  water_quality      quantity                source  \\\n",
       "0          soft        enough                spring   \n",
       "1          soft  insufficient  rainwater harvesting   \n",
       "2          soft        enough                   dam   \n",
       "3          soft           dry           machine dbh   \n",
       "4          soft      seasonal  rainwater harvesting   \n",
       "\n",
       "               waterpoint_type status_group_binary  \n",
       "0           communal standpipe                   1  \n",
       "1           communal standpipe                   1  \n",
       "2  communal standpipe multiple                   1  \n",
       "3  communal standpipe multiple                   0  \n",
       "4           communal standpipe                   1  \n",
       "\n",
       "[5 rows x 26 columns]"
      ]
     },
     "execution_count": 35,
     "metadata": {},
     "output_type": "execute_result"
    }
   ],
   "source": [
    "# Display the first few rows of the merged dataset\n",
    "merged_data.head()\n"
   ]
  },
  {
   "cell_type": "markdown",
   "id": "0f878e5d-865a-4c16-8b0c-171336524dd7",
   "metadata": {},
   "source": [
    "#### 'Ward' and 'lga'\n",
    "\n",
    "These columns had alot of individual values, and distric code had less. The geographical information was obtainied by the region instead. "
   ]
  },
  {
   "cell_type": "code",
   "execution_count": 36,
   "id": "bbbea2ec-43cb-4cdf-ae9e-e3589d318b06",
   "metadata": {},
   "outputs": [],
   "source": [
    "# Drop 'ward' and 'lga'\n",
    "merged_data.drop(columns=['ward', 'lga'], inplace=True)\n"
   ]
  },
  {
   "cell_type": "code",
   "execution_count": 37,
   "id": "1b9951c4-18b2-4226-8da1-0893132d9275",
   "metadata": {},
   "outputs": [
    {
     "data": {
      "text/html": [
       "<div>\n",
       "<style scoped>\n",
       "    .dataframe tbody tr th:only-of-type {\n",
       "        vertical-align: middle;\n",
       "    }\n",
       "\n",
       "    .dataframe tbody tr th {\n",
       "        vertical-align: top;\n",
       "    }\n",
       "\n",
       "    .dataframe thead th {\n",
       "        text-align: right;\n",
       "    }\n",
       "</style>\n",
       "<table border=\"1\" class=\"dataframe\">\n",
       "  <thead>\n",
       "    <tr style=\"text-align: right;\">\n",
       "      <th></th>\n",
       "      <th>id</th>\n",
       "      <th>amount_tsh</th>\n",
       "      <th>date_recorded</th>\n",
       "      <th>gps_height</th>\n",
       "      <th>longitude</th>\n",
       "      <th>latitude</th>\n",
       "      <th>num_private</th>\n",
       "      <th>basin</th>\n",
       "      <th>region</th>\n",
       "      <th>region_code</th>\n",
       "      <th>...</th>\n",
       "      <th>permit</th>\n",
       "      <th>construction_year</th>\n",
       "      <th>extraction_type</th>\n",
       "      <th>management_group</th>\n",
       "      <th>payment</th>\n",
       "      <th>water_quality</th>\n",
       "      <th>quantity</th>\n",
       "      <th>source</th>\n",
       "      <th>waterpoint_type</th>\n",
       "      <th>status_group_binary</th>\n",
       "    </tr>\n",
       "  </thead>\n",
       "  <tbody>\n",
       "    <tr>\n",
       "      <th>0</th>\n",
       "      <td>69572</td>\n",
       "      <td>6000.0</td>\n",
       "      <td>2011-03-14</td>\n",
       "      <td>1390</td>\n",
       "      <td>34.938093</td>\n",
       "      <td>-9.856322</td>\n",
       "      <td>0</td>\n",
       "      <td>Lake Nyasa</td>\n",
       "      <td>Iringa</td>\n",
       "      <td>11</td>\n",
       "      <td>...</td>\n",
       "      <td>False</td>\n",
       "      <td>1999</td>\n",
       "      <td>gravity</td>\n",
       "      <td>user-group</td>\n",
       "      <td>pay annually</td>\n",
       "      <td>soft</td>\n",
       "      <td>enough</td>\n",
       "      <td>spring</td>\n",
       "      <td>communal standpipe</td>\n",
       "      <td>1</td>\n",
       "    </tr>\n",
       "    <tr>\n",
       "      <th>1</th>\n",
       "      <td>8776</td>\n",
       "      <td>0.0</td>\n",
       "      <td>2013-03-06</td>\n",
       "      <td>1399</td>\n",
       "      <td>34.698766</td>\n",
       "      <td>-2.147466</td>\n",
       "      <td>0</td>\n",
       "      <td>Lake Victoria</td>\n",
       "      <td>Mara</td>\n",
       "      <td>20</td>\n",
       "      <td>...</td>\n",
       "      <td>True</td>\n",
       "      <td>2010</td>\n",
       "      <td>gravity</td>\n",
       "      <td>user-group</td>\n",
       "      <td>never pay</td>\n",
       "      <td>soft</td>\n",
       "      <td>insufficient</td>\n",
       "      <td>rainwater harvesting</td>\n",
       "      <td>communal standpipe</td>\n",
       "      <td>1</td>\n",
       "    </tr>\n",
       "    <tr>\n",
       "      <th>2</th>\n",
       "      <td>34310</td>\n",
       "      <td>25.0</td>\n",
       "      <td>2013-02-25</td>\n",
       "      <td>686</td>\n",
       "      <td>37.460664</td>\n",
       "      <td>-3.821329</td>\n",
       "      <td>0</td>\n",
       "      <td>Pangani</td>\n",
       "      <td>Manyara</td>\n",
       "      <td>21</td>\n",
       "      <td>...</td>\n",
       "      <td>True</td>\n",
       "      <td>2009</td>\n",
       "      <td>gravity</td>\n",
       "      <td>user-group</td>\n",
       "      <td>pay per bucket</td>\n",
       "      <td>soft</td>\n",
       "      <td>enough</td>\n",
       "      <td>dam</td>\n",
       "      <td>communal standpipe multiple</td>\n",
       "      <td>1</td>\n",
       "    </tr>\n",
       "    <tr>\n",
       "      <th>3</th>\n",
       "      <td>67743</td>\n",
       "      <td>0.0</td>\n",
       "      <td>2013-01-28</td>\n",
       "      <td>263</td>\n",
       "      <td>38.486161</td>\n",
       "      <td>-11.155298</td>\n",
       "      <td>0</td>\n",
       "      <td>Ruvuma / Southern Coast</td>\n",
       "      <td>Mtwara</td>\n",
       "      <td>90</td>\n",
       "      <td>...</td>\n",
       "      <td>True</td>\n",
       "      <td>1986</td>\n",
       "      <td>submersible</td>\n",
       "      <td>user-group</td>\n",
       "      <td>never pay</td>\n",
       "      <td>soft</td>\n",
       "      <td>dry</td>\n",
       "      <td>machine dbh</td>\n",
       "      <td>communal standpipe multiple</td>\n",
       "      <td>0</td>\n",
       "    </tr>\n",
       "    <tr>\n",
       "      <th>4</th>\n",
       "      <td>19728</td>\n",
       "      <td>0.0</td>\n",
       "      <td>2011-07-13</td>\n",
       "      <td>0</td>\n",
       "      <td>31.130847</td>\n",
       "      <td>-1.825359</td>\n",
       "      <td>0</td>\n",
       "      <td>Lake Victoria</td>\n",
       "      <td>Kagera</td>\n",
       "      <td>18</td>\n",
       "      <td>...</td>\n",
       "      <td>True</td>\n",
       "      <td>0</td>\n",
       "      <td>gravity</td>\n",
       "      <td>other</td>\n",
       "      <td>never pay</td>\n",
       "      <td>soft</td>\n",
       "      <td>seasonal</td>\n",
       "      <td>rainwater harvesting</td>\n",
       "      <td>communal standpipe</td>\n",
       "      <td>1</td>\n",
       "    </tr>\n",
       "  </tbody>\n",
       "</table>\n",
       "<p>5 rows × 24 columns</p>\n",
       "</div>"
      ],
      "text/plain": [
       "      id  amount_tsh date_recorded  gps_height  longitude   latitude  \\\n",
       "0  69572      6000.0    2011-03-14        1390  34.938093  -9.856322   \n",
       "1   8776         0.0    2013-03-06        1399  34.698766  -2.147466   \n",
       "2  34310        25.0    2013-02-25         686  37.460664  -3.821329   \n",
       "3  67743         0.0    2013-01-28         263  38.486161 -11.155298   \n",
       "4  19728         0.0    2011-07-13           0  31.130847  -1.825359   \n",
       "\n",
       "   num_private                    basin   region  region_code  ...  permit  \\\n",
       "0            0               Lake Nyasa   Iringa           11  ...   False   \n",
       "1            0            Lake Victoria     Mara           20  ...    True   \n",
       "2            0                  Pangani  Manyara           21  ...    True   \n",
       "3            0  Ruvuma / Southern Coast   Mtwara           90  ...    True   \n",
       "4            0            Lake Victoria   Kagera           18  ...    True   \n",
       "\n",
       "   construction_year extraction_type management_group         payment  \\\n",
       "0               1999         gravity       user-group    pay annually   \n",
       "1               2010         gravity       user-group       never pay   \n",
       "2               2009         gravity       user-group  pay per bucket   \n",
       "3               1986     submersible       user-group       never pay   \n",
       "4                  0         gravity            other       never pay   \n",
       "\n",
       "   water_quality      quantity                source  \\\n",
       "0           soft        enough                spring   \n",
       "1           soft  insufficient  rainwater harvesting   \n",
       "2           soft        enough                   dam   \n",
       "3           soft           dry           machine dbh   \n",
       "4           soft      seasonal  rainwater harvesting   \n",
       "\n",
       "               waterpoint_type status_group_binary  \n",
       "0           communal standpipe                   1  \n",
       "1           communal standpipe                   1  \n",
       "2  communal standpipe multiple                   1  \n",
       "3  communal standpipe multiple                   0  \n",
       "4           communal standpipe                   1  \n",
       "\n",
       "[5 rows x 24 columns]"
      ]
     },
     "execution_count": 37,
     "metadata": {},
     "output_type": "execute_result"
    }
   ],
   "source": [
    "# Display the first few rows of the merged dataset\n",
    "merged_data.head()\n",
    "\n",
    "\n"
   ]
  },
  {
   "cell_type": "code",
   "execution_count": 38,
   "id": "82b027b6-8e7c-46a3-8d8d-25e6416b3d3b",
   "metadata": {},
   "outputs": [
    {
     "name": "stdout",
     "output_type": "stream",
     "text": [
      "Columns in merged_data: ['id', 'amount_tsh', 'date_recorded', 'gps_height', 'longitude', 'latitude', 'num_private', 'basin', 'region', 'region_code', 'district_code', 'population', 'public_meeting', 'scheme_management', 'permit', 'construction_year', 'extraction_type', 'management_group', 'payment', 'water_quality', 'quantity', 'source', 'waterpoint_type', 'status_group_binary']\n"
     ]
    }
   ],
   "source": [
    "# Get the list of columns for merged_data\n",
    "merged_data_columns = merged_data.columns.tolist()\n",
    "\n",
    "\n",
    "\n",
    "# Display the columns for both datasets\n",
    "print(\"Columns in merged_data:\", merged_data_columns)\n",
    "\n"
   ]
  },
  {
   "cell_type": "markdown",
   "id": "d9e12159-69a9-412e-80dd-9c0d9c2869d5",
   "metadata": {},
   "source": [
    "## Reviewing Datasets for Missing and Duplicate Data\n",
    "\n",
    "Reviewing the datasets for missing or duplicate data is important to ensure data reliability. "
   ]
  },
  {
   "cell_type": "code",
   "execution_count": 39,
   "id": "01640b52-ab54-42b3-8554-6ab979a0339b",
   "metadata": {},
   "outputs": [
    {
     "name": "stdout",
     "output_type": "stream",
     "text": [
      "Missing values in merged_data:\n",
      "id                        0\n",
      "amount_tsh                0\n",
      "date_recorded             0\n",
      "gps_height                0\n",
      "longitude                 0\n",
      "latitude                  0\n",
      "num_private               0\n",
      "basin                     0\n",
      "region                    0\n",
      "region_code               0\n",
      "district_code             0\n",
      "population                0\n",
      "public_meeting         3334\n",
      "scheme_management      3877\n",
      "permit                 3056\n",
      "construction_year         0\n",
      "extraction_type           0\n",
      "management_group          0\n",
      "payment                   0\n",
      "water_quality             0\n",
      "quantity                  0\n",
      "source                    0\n",
      "waterpoint_type           0\n",
      "status_group_binary       0\n",
      "dtype: int64\n",
      "Number of duplicate rows in merged_data: 0\n"
     ]
    }
   ],
   "source": [
    "# Count missing values in merged_data\n",
    "missing_merged_data = merged_data.isnull().sum()\n",
    "print(\"Missing values in merged_data:\")\n",
    "print(missing_merged_data)\n",
    "# Check for duplicates in merged_data\n",
    "duplicate_rows = merged_data.duplicated()\n",
    "print(\"Number of duplicate rows in merged_data:\", duplicate_rows.sum())\n"
   ]
  },
  {
   "cell_type": "markdown",
   "id": "2c909df8-99b3-4a82-a06a-53ba564a9c42",
   "metadata": {},
   "source": [
    "## Handling Missing Data with KNN Imputation\n",
    "\n",
    "To address missing values in the `construction_year` column, I opted to utilize KNN (K-Nearest Neighbors) imputation. KNN imputation is a technique used to estimate missing values in a dataset by considering the values of nearby data points. \n",
    "\n",
    "In this context, KNN imputation will estimate the missing construction years based on the construction years of neighboring data points. By leveraging the similarity of neighboring observations, KNN imputation provides a reasonable approximation of the missing values.\n",
    "\n",
    "The `neighbors` parameter in KNN imputation determines the number of neighboring data points to consider when imputing missing values. I chose `neighbors=5`, which is a common choice and typically provides a good balance between accuracy and computational efficiency.\n",
    "\n",
    "Using KNN imputation allows us to retain more data and preserve the integrity of the dataset for subsequent analysis and modeling. However, it's essential to note that KNN imputation assumes that similar observations have similar values for the missing variable, which may not always hold true in practice. Therefore, the imputed values should be interpreted with caution."
   ]
  },
  {
   "cell_type": "code",
   "execution_count": 40,
   "id": "501b0e45-3afe-4f04-8dda-10f904c5fb0b",
   "metadata": {},
   "outputs": [
    {
     "name": "stdout",
     "output_type": "stream",
     "text": [
      "Construction Years:\n",
      "0       20709\n",
      "1960      102\n",
      "1961       21\n",
      "1962       30\n",
      "1963       85\n",
      "1964       40\n",
      "1965       19\n",
      "1966       17\n",
      "1967       88\n",
      "1968       77\n",
      "1969       59\n",
      "1970      411\n",
      "1971      145\n",
      "1972      708\n",
      "1973      184\n",
      "1974      676\n",
      "1975      437\n",
      "1976      414\n",
      "1977      202\n",
      "1978     1037\n",
      "1979      192\n",
      "1980      811\n",
      "1981      238\n",
      "1982      744\n",
      "1983      488\n",
      "1984      779\n",
      "1985      945\n",
      "1986      434\n",
      "1987      302\n",
      "1988      521\n",
      "1989      316\n",
      "1990      954\n",
      "1991      324\n",
      "1992      640\n",
      "1993      608\n",
      "1994      738\n",
      "1995     1014\n",
      "1996      811\n",
      "1997      644\n",
      "1998      966\n",
      "1999      979\n",
      "2000     2091\n",
      "2001      540\n",
      "2002     1075\n",
      "2003     1286\n",
      "2004     1123\n",
      "2005     1011\n",
      "2006     1471\n",
      "2007     1587\n",
      "2008     2613\n",
      "2009     2533\n",
      "2010     2645\n",
      "2011     1256\n",
      "2012     1084\n",
      "2013      176\n",
      "Name: construction_year, dtype: int64\n"
     ]
    }
   ],
   "source": [
    "construction_years = merged_data['construction_year'].value_counts().sort_index()\n",
    "print(\"Construction Years:\")\n",
    "print(construction_years)\n"
   ]
  },
  {
   "cell_type": "code",
   "execution_count": 41,
   "id": "7fa5634d-8211-4a3e-a52b-2f3a4e55751e",
   "metadata": {},
   "outputs": [
    {
     "name": "stdout",
     "output_type": "stream",
     "text": [
      "['1990s' '2010s' '2000s' '1980s' 'Unknown' '1970s' '1960s']\n"
     ]
    }
   ],
   "source": [
    "from sklearn.impute import KNNImputer\n",
    "\n",
    "# Step 1: Perform KNN imputation on the construction_year column\n",
    "imputer = KNNImputer(n_neighbors=5)  \n",
    "\n",
    "# Replace missing values with NaN\n",
    "merged_data.loc[merged_data['construction_year'] == 0, 'construction_year'] = np.nan\n",
    "\n",
    "# Apply KNN imputation\n",
    "merged_data_imputed = imputer.fit_transform(merged_data[['construction_year']])\n",
    "\n",
    "# Replace the original construction year column with the imputed values\n",
    "merged_data['construction_year'] = merged_data_imputed\n",
    "\n",
    "# Step 2: Categorize construction years into decades\n",
    "# Define the ranges for each decade\n",
    "decade_ranges = {\n",
    "    '1960s': range(1960, 1970),\n",
    "    '1970s': range(1970, 1980),\n",
    "    '1980s': range(1980, 1990),\n",
    "    '1990s': range(1990, 2000),\n",
    "    '2000s': range(2000, 2010),\n",
    "    '2010s': range(2010, 2020)\n",
    "}\n",
    "\n",
    "# Function to categorize construction years into decades\n",
    "def categorize_decade(year):\n",
    "    for decade, year_range in decade_ranges.items():\n",
    "        if year in year_range:\n",
    "            return decade\n",
    "    return 'Unknown'\n",
    "\n",
    "# Create a new column for the decade\n",
    "merged_data['decade_construction'] = merged_data['construction_year'].apply(categorize_decade)\n",
    "\n",
    "# Display the unique values in the new decade column\n",
    "unique_decades = merged_data['decade_construction'].unique()\n",
    "print(unique_decades)\n"
   ]
  },
  {
   "cell_type": "code",
   "execution_count": 42,
   "id": "2fca14da-d177-4704-99db-61e99d9c6494",
   "metadata": {},
   "outputs": [
    {
     "name": "stdout",
     "output_type": "stream",
     "text": [
      "Count of Construction Years by Decade:\n",
      "1990s: 28387\n",
      "2010s: 5161\n",
      "2000s: 15330\n",
      "1980s: 5578\n",
      "Unknown: 0\n",
      "1970s: 4406\n",
      "1960s: 538\n"
     ]
    }
   ],
   "source": [
    "# Round the construction years to the nearest whole number\n",
    "merged_data['construction_year'] = round(merged_data['construction_year'])\n",
    "\n",
    "# Recategorize construction years into decades\n",
    "merged_data['decade_construction'] = merged_data['construction_year'].apply(categorize_decade)\n",
    "\n",
    "# Display the count of construction years falling into each decade\n",
    "print(\"Count of Construction Years by Decade:\")\n",
    "for decade in unique_decades:\n",
    "    count = merged_data[merged_data['decade_construction'] == decade].shape[0]\n",
    "    print(f\"{decade}: {count}\")"
   ]
  },
  {
   "cell_type": "code",
   "execution_count": 43,
   "id": "e6445b86-864b-4181-8d71-31056fdff2a5",
   "metadata": {},
   "outputs": [
    {
     "data": {
      "image/png": "[encoded data removed]",
      "text/plain": [
       "<Figure size 1200x800 with 1 Axes>"
      ]
     },
     "metadata": {},
     "output_type": "display_data"
    }
   ],
   "source": [
    "import matplotlib.pyplot as plt\n",
    "\n",
    "# Calculate the total count of wells for each decade category\n",
    "decade_total_counts = merged_data['decade_construction'].value_counts()\n",
    "\n",
    "# Group the dataset by decade category and status group, then count the number of wells in each group\n",
    "decade_status_counts = merged_data.groupby(['decade_construction', 'status_group_binary']).size().unstack(fill_value=0)\n",
    "\n",
    "# Calculate the percentage of functional and non-functional wells within each decade category\n",
    "decade_percentages = decade_status_counts.div(decade_total_counts, axis=0) * 100\n",
    "\n",
    "# Extract decades and status groups\n",
    "decades = decade_percentages.index\n",
    "status_groups = decade_percentages.columns\n",
    "\n",
    "# Define bar width\n",
    "bar_width = 0.4\n",
    "index = range(len(decades))\n",
    "\n",
    "# Plotting\n",
    "plt.figure(figsize=(12, 8))\n",
    "\n",
    "# Plot stacked bars for functional and non-functional wells for each decade category\n",
    "plt.bar(index, decade_percentages[1], bar_width, color='b', label='Functional')\n",
    "plt.bar(index, decade_percentages[0], bar_width, color='r', bottom=decade_percentages[1], label='Non-Functional')\n",
    "\n",
    "# Add labels, title, legend, and adjust layout\n",
    "plt.xlabel('Decade of Construction')\n",
    "plt.ylabel('Percentage')\n",
    "plt.title('Percentage of Functional and Non-Functional Wells by Decade of Construction')\n",
    "plt.xticks(index, decades)\n",
    "plt.legend()\n",
    "plt.tight_layout()\n",
    "plt.show()\n",
    "\n"
   ]
  },
  {
   "cell_type": "code",
   "execution_count": 44,
   "id": "dcd5ed50-eba2-46c5-ac77-34f372f1319b",
   "metadata": {},
   "outputs": [
    {
     "name": "stdout",
     "output_type": "stream",
     "text": [
      "Total number of values in each column:\n",
      "id                     59400\n",
      "amount_tsh             59400\n",
      "date_recorded          59400\n",
      "gps_height             59400\n",
      "longitude              59400\n",
      "latitude               59400\n",
      "num_private            59400\n",
      "basin                  59400\n",
      "region                 59400\n",
      "region_code            59400\n",
      "district_code          59400\n",
      "population             59400\n",
      "public_meeting         56066\n",
      "scheme_management      55523\n",
      "permit                 56344\n",
      "construction_year      59400\n",
      "extraction_type        59400\n",
      "management_group       59400\n",
      "payment                59400\n",
      "water_quality          59400\n",
      "quantity               59400\n",
      "source                 59400\n",
      "waterpoint_type        59400\n",
      "status_group_binary    59400\n",
      "decade_construction    59400\n",
      "dtype: int64\n",
      "\n",
      "Percentage of missing values:\n",
      "{'public_meeting': 5.612794612794613, 'scheme_management': 6.526936026936027, 'permit': 5.144781144781145}\n"
     ]
    }
   ],
   "source": [
    "# Total number of values in each column\n",
    "total_values = len(merged_data)\n",
    "column_value_counts = merged_data.count()\n",
    "\n",
    "# Percentage of missing values for public_meeting, scheme_management, and permit\n",
    "missing_percentages = {\n",
    "    'public_meeting': (total_values - column_value_counts['public_meeting']) / total_values * 100,\n",
    "    'scheme_management': (total_values - column_value_counts['scheme_management']) / total_values * 100,\n",
    "    'permit': (total_values - column_value_counts['permit']) / total_values * 100\n",
    "}\n",
    "\n",
    "print(\"Total number of values in each column:\")\n",
    "print(column_value_counts)\n",
    "print(\"\\nPercentage of missing values:\")\n",
    "print(missing_percentages)\n"
   ]
  },
  {
   "cell_type": "markdown",
   "id": "7280a77c-e432-4f8a-ae2c-8276f3996e23",
   "metadata": {},
   "source": [
    "## Data Cleaning\n",
    "\n",
    "After further review, I decided to drop rows with missing values in the columns `public_meeting`, `scheme_management`, and `permit`. Although these missing values constituted a small percentage of the remaining data, it was necessary to ensure the reliability of the dataset for analysis and modeling purposes.\n",
    "\n",
    "The decision to drop rows with missing values was made after careful consideration of the potential impact on the integrity of the data and the significance of the missing values relative to the size of the dataset.\n",
    "\n"
   ]
  },
  {
   "cell_type": "code",
   "execution_count": 45,
   "id": "ad7ab041-efd7-4d1c-b985-e796b2670070",
   "metadata": {},
   "outputs": [],
   "source": [
    "# Drop rows with missing values in specified columns\n",
    "merged_data.dropna(subset=['public_meeting', 'scheme_management', 'permit'], inplace=True)\n"
   ]
  },
  {
   "cell_type": "markdown",
   "id": "92a7534c-344f-408c-b219-427edc89bb93",
   "metadata": {},
   "source": [
    "There was no obvious outliers or missing data from 'date_recorded' column. However, upon further review there weren't many years and therefore this datat was not very useful. This column was removed from the train and test data. Futher anyaliss may be needed here for seasons. Possible addtion of this column for second model."
   ]
  },
  {
   "cell_type": "code",
   "execution_count": 46,
   "id": "dfc4b46e-92d2-459a-95b6-7cc90b267d64",
   "metadata": {},
   "outputs": [],
   "source": [
    "# Drop 'date_recorded\n",
    "\n",
    "merged_data.drop(columns=['date_recorded'], inplace=True)\n"
   ]
  },
  {
   "cell_type": "code",
   "execution_count": 47,
   "id": "c388d1dc-7943-4f38-a1af-baab23e8561a",
   "metadata": {},
   "outputs": [
    {
     "name": "stdout",
     "output_type": "stream",
     "text": [
      "Gps Height Merged:\n",
      "-90      1\n",
      "-63      2\n",
      "-59      1\n",
      "-57      1\n",
      "-55      1\n",
      "        ..\n",
      " 2623    1\n",
      " 2626    2\n",
      " 2627    1\n",
      " 2628    1\n",
      " 2770    1\n",
      "Name: gps_height, Length: 2426, dtype: int64\n"
     ]
    }
   ],
   "source": [
    " \n",
    "gps_height_merged = merged_data['gps_height'].value_counts().sort_index()\n",
    "print(\"Gps Height Merged:\")\n",
    "print(gps_height_merged)"
   ]
  },
  {
   "cell_type": "code",
   "execution_count": 48,
   "id": "c059ff2b-7f7b-49d7-89e5-42a47378c916",
   "metadata": {},
   "outputs": [
    {
     "data": {
      "image/png": "[encoded data removed]",
      "text/plain": [
       "<Figure size 1000x600 with 1 Axes>"
      ]
     },
     "metadata": {},
     "output_type": "display_data"
    }
   ],
   "source": [
    "import matplotlib.pyplot as plt\n",
    "\n",
    "# Plot histogram of GPS heights\n",
    "plt.figure(figsize=(10, 6))\n",
    "plt.hist(merged_data['gps_height'], bins=20, color='skyblue', edgecolor='black')\n",
    "plt.xlabel('GPS Height')\n",
    "plt.ylabel('Frequency')\n",
    "plt.title('Histogram of GPS Heights of Merged Data')\n",
    "plt.grid(True)\n",
    "plt.show()"
   ]
  },
  {
   "cell_type": "code",
   "execution_count": 49,
   "id": "0148e955-820c-48f1-a49f-63c12f7758f6",
   "metadata": {},
   "outputs": [
    {
     "name": "stdout",
     "output_type": "stream",
     "text": [
      "['1000-1500' '500-1000' '0-500' '0 and below' '1500-2000' '2000+']\n",
      "Values in 0 and below:\n",
      "[  0 -41 -15 -21 -16 -19 -25 -45 -32 -24 -39 -17  -5 -38 -37 -30  -7  -1\n",
      " -23 -12 -13 -40 -20 -11  -8  -4  -3 -42 -18 -14 -47 -22 -27  -6 -54  -9\n",
      " -28 -36  -2 -26 -31 -44 -33 -29 -35 -48 -10 -46 -51 -59 -63 -34 -49 -43\n",
      " -50 -55 -53 -57 -52 -90]\n",
      "\n",
      "Values in 0-500:\n",
      "[263  62 200 180 240 190 406 427 159 212  18  98 445  11 471 385 350 101\n",
      " 262 217 183 128 232 205 120 373 102 165 357 338 326 201 334 290 237 482\n",
      " 330 480 161 226 260 356 442 459 362 486 375 466  57  74  30 118 277 266\n",
      " 241 306 206 288 332  19 386 104 363  93  28 495 317  72 366  45  15 458\n",
      "  99 140 360 316 289 281 294 178 189 421 109  27 284 286 439 328 282 238\n",
      " 340 231 223 235 207 403 270 369 242   6 474 372 150 323 123 425  54 353\n",
      " 202  43  35 287  36  91 428 309 278  94 337 314  20  41 245 142  53 387\n",
      "  50 380 196   1 443 261  87 148 132  66 320 293 303  26 484 319 296 346\n",
      " 405 313 177 265 447 300  82 460 108 412 295 348 351 181 343 253 193 440\n",
      " 395 377 121 426 381 179  77 424   9 208 184 322 251  55 414 318 327 400\n",
      " 358 174 368 256 224 344 155 228  63 454 324 280 359 383 110 464 255 415\n",
      " 497 126  75  12 407 259  39  65 100 438 156   7 436 192 329 264  86 473\n",
      " 342 469 176 157 487 274 432 168 269  51  17 305 333 292   3  34 149  21\n",
      "  13 339 222 127 347 304 379   2 229  90  81 299 409  84  42 479 437 408\n",
      " 371 493 341 285 146 308 390 130 419 461 276 310 413 498 213 392  40 477\n",
      " 302 312 216 133  70 209  61 219 321 465 315 139 441 175 106 331  67  71\n",
      "  38 267 411 423 352 470  14 166  16 230 429   4 355 399 468 115  32 220\n",
      " 336 164 391 455  85 171 382 254  46 494  60 435 301   8 244  25 476 325\n",
      " 422 257 188  59  44 247  79 162 114 307 404  96 433 488 451  92 389  83\n",
      " 384 393 138  76  33 374  29  10 186 271 291 141 283 311 151 361 394 446\n",
      " 125 250 349 243  52 298 131  37 227 107 457 499 153 199  89   5 170 452\n",
      " 397 453 268 365 187 492 116  80 463 490 185 103 111 163 147 182 354 129\n",
      " 117 279 145 239 215 431 378 456 467 248  56 225  24 444  69 416 204 137\n",
      " 402 218 158 420 478  68 105 122 410 275 376  78 198  58  47 335 273  64\n",
      " 500 483 472 418  49  95 401  88 154 234 449 388 214 195 396 370  23 119\n",
      " 475 489 144  22 210 124 450  48 398 364 272 203 252 258 172 491 367 112\n",
      " 417 434 481  73 143 345 211 134 194 233 197 152 249 448 173 113 297 169\n",
      " 136 135 236 191 496  97 462  31 485 430 221 160 246 167]\n",
      "\n",
      "Values in 1000-1500:\n",
      "[1390 1062 1368 1273 1443 1256 1481 1348 1007 1365 1366 1153 1331 1002\n",
      " 1471 1274 1128 1352 1409 1428 1295 1207 1191 1282 1445 1242 1231 1076\n",
      " 1485 1135 1315 1397 1232 1055 1297 1071 1201 1281 1261 1114 1421 1244\n",
      " 1257 1286 1343 1499 1415 1349 1491 1230 1479 1180 1284 1200 1177 1325\n",
      " 1185 1145 1362 1020 1455 1463 1001 1447 1038 1176 1411 1010 1437 1270\n",
      " 1066 1156 1037 1304 1243 1298 1337 1452 1391 1016 1342 1014 1267 1360\n",
      " 1170 1255 1420 1407 1224 1158 1319 1249 1061 1487 1396 1149 1279 1147\n",
      " 1252 1416 1356 1303 1248 1380 1418 1143 1328 1384 1173 1122 1211 1195\n",
      " 1150 1021 1336 1376 1136 1358 1484 1178 1294 1301 1036 1250 1050 1309\n",
      " 1287 1197 1307 1453 1276 1341 1419 1210 1237 1141 1424 1359 1011 1106\n",
      " 1095 1498 1192 1198 1335 1399 1193 1489 1318 1019 1083 1162 1263 1490\n",
      " 1245 1340 1152 1497 1111 1434 1124 1161 1247 1262 1190 1272 1386 1051\n",
      " 1361 1466 1074 1142 1312 1269 1120 1013 1323 1278 1093 1446 1288 1196\n",
      " 1119 1167 1004 1137 1388 1308 1469 1068 1355 1179 1442 1073 1393 1474\n",
      " 1113 1027 1148 1313 1354 1357 1329 1425 1377 1291 1465 1422 1493 1133\n",
      " 1220 1227 1126 1268 1467 1457 1217 1130 1475 1049 1026 1199 1240 1163\n",
      " 1292 1454 1438 1166 1028 1333 1259 1260 1206 1345 1103 1246 1426 1383\n",
      " 1212 1324 1367 1320 1082 1322 1208 1015 1293 1203 1194 1496 1436 1183\n",
      " 1084 1146 1223 1045 1169 1096 1080 1369 1290 1168 1289 1430 1330 1039\n",
      " 1236 1477 1462 1392 1258 1018 1495 1254 1266 1473 1423 1264 1483 1486\n",
      " 1154 1221 1188 1285 1064 1444 1182 1400 1213 1025 1440 1379 1006 1008\n",
      " 1017 1372 1364 1311 1079 1069 1480 1378 1441 1125 1044 1088 1238 1300\n",
      " 1202 1435 1417 1072 1395 1275 1109 1346 1186 1029 1401 1373 1433 1140\n",
      " 1024 1034 1235 1350 1174 1468 1234 1175 1450 1296 1081 1314 1410 1405\n",
      " 1460 1464 1172 1134 1406 1317 1144 1205 1305 1310 1459 1057 1030 1351\n",
      " 1225 1363 1063 1241 1187 1216 1165 1382 1060 1302 1375 1204 1042 1059\n",
      " 1043 1429 1492 1470 1476 1189 1321 1229 1226 1003 1112 1022 1218 1347\n",
      " 1306 1451 1054 1374 1414 1009 1070 1402 1332 1439 1139 1228 1089 1316\n",
      " 1108 1046 1092 1404 1012 1155 1151 1100 1215 1005 1159 1047 1413 1123\n",
      " 1494 1371 1403 1184 1299 1271 1023 1117 1087 1280 1338 1094 1164 1500\n",
      " 1115 1408 1387 1432 1394 1488 1327 1353 1326 1157 1075 1461 1032 1129\n",
      " 1251 1097 1048 1127 1065 1265 1102 1370 1077 1086 1116 1458 1398 1118\n",
      " 1121 1431 1033 1334 1389 1209 1104 1385 1131 1478 1160 1090 1214 1085\n",
      " 1099 1339 1091 1381 1132 1181 1344 1041 1222 1283 1219 1427 1239 1105\n",
      " 1449 1138 1078 1098 1053 1482 1472 1067 1456 1035 1031 1110 1253 1277\n",
      " 1171 1233 1448 1056 1052 1040 1101 1412 1107 1058]\n",
      "\n",
      "Values in 1500-2000:\n",
      "[1645 1703 1656 1763 1510 1638 1955 1803 1982 1545 1583 1670 1538 1788\n",
      " 1694 1701 1560 1603 1595 1562 1783 1592 1589 1823 1705 1712 1768 1567\n",
      " 1607 1593 1685 1897 1661 1556 1612 1790 1591 1572 1886 1564 1822 1542\n",
      " 1602 1773 1632 1715 1652 1666 1604 1849 1669 1726 1689 1580 1804 1624\n",
      " 1576 1772 1529 1680 1842 1929 1566 1874 1573 1621 1721 1600 1762 1527\n",
      " 1794 1665 1587 1711 1539 1855 1722 1912 1836 1832 1521 1888 1683 1785\n",
      " 1674 1667 1782 1989 1908 2000 1549 1531 1811 1584 1654 1605 1631 1747\n",
      " 1610 1754 1671 1526 1620 1829 1830 1517 1751 1615 1825 1864 1716 1513\n",
      " 1693 1682 1708 1629 1540 1758 1653 1691 1741 1551 1944 1757 1598 1845\n",
      " 1509 1798 1649 1535 1928 1871 1860 1821 1662 1684 1817 1634 1681 1916\n",
      " 1748 1588 1752 1859 1730 1737 1981 1717 1793 1815 1659 1512 1841 1544\n",
      " 1940 1725 1518 1530 1690 1865 1570 1516 1880 1799 1923 1582 1507 1905\n",
      " 1586 1776 1522 1910 1643 1687 1650 1647 1766 1767 1700 1819 1749 1557\n",
      " 1938 1784 1991 1801 1672 1550 1983 1900 1528 1742 1898 1739 1581 1536\n",
      " 1622 1548 1969 1885 1926 1736 1569 1745 1835 1797 1781 1735 1729 1966\n",
      " 1611 1546 1761 1973 1720 1636 1778 1688 1608 1732 1660 1710 1920 1503\n",
      " 1658 1756 1696 1651 1543 1515 1979 1907 1635 1827 1523 1596 1547 1843\n",
      " 1616 1930 1831 1506 1960 1723 1963 1769 1925 1746 1709 1802 1633 1867\n",
      " 1578 1614 1555 1807 1976 1945 1524 1553 1824 1844 1619 1677 1789 1992\n",
      " 1759 1609 1630 1750 1876 1988 1675 1733 1599 1904 1995 1727 1810 1627\n",
      " 1728 1713 1673 1919 1577 1934 1760 1868 1861 1628 1974 1641 1668 1618\n",
      " 1623 1997 1882 1972 1948 1574 1625 1676 1770 1956 1575 1601 1889 1891\n",
      " 1501 1806 1554 1563 1644 1697 1714 1951 1594 1755 1943 1875 1805 1637\n",
      " 1786 1987 1833 1657 1771 1646 1852 1613 1777 1894 1695 1779 1678 1869\n",
      " 1796 1890 1734 1753 1837 1664 1924 1800 1896 1787 1606 1858 1626 1932\n",
      " 1561 1970 1899 1533 1877 1879 1663 1502 1848 1702 1648 1718 1537 1534\n",
      " 1764 1640 1857 1950 1532 1590 1744 1585 1639 1902 1552 1809 1847 1780\n",
      " 1525 1957 1774 1884 1704 1892 1679 1946 1840 1808 1617 1893 1967 1724\n",
      " 1579 1765 1655 1565 1828 1699 1961 1812 1887 1814 1514 1508 1826 1863\n",
      " 1559 1519 1505 1927 1686 1707 1939 1937 1913 1873 1818 1917 1915 1883\n",
      " 1931 1850 1881 1953 1520 1698 1975 1942 1740 1990 1999 1851 1568 1933\n",
      " 1914 1597 1918 1947 1558 1738 1795 1838 1743 1984 1706 1775 1895 1846\n",
      " 1954 1862 1731 1964 1906 1936 1642 1571 1872 1968 1965 1903 1978 1980\n",
      " 1949 1911 1511 1504 1909 1541 1993 1692 1941 1878 1834 1853 1935 1839\n",
      " 1856 1952 1719 1816 1901 1971 1977 1791 1866 1792 1985 1922 1921 1813\n",
      " 1870 1820 1994 1854 1958 1959 1962 1998 1986 1996]\n",
      "\n",
      "Values in 2000+:\n",
      "[2216 2469 2169 2049 2328 2073 2050 2179 2623 2116 2076 2112 2501 2140\n",
      " 2052 2143 2178 2025 2171 2101 2150 2068 2004 2037 2569 2087 2108 2148\n",
      " 2123 2166 2333 2175 2545 2135 2338 2102 2082 2032 2227 2214 2036 2188\n",
      " 2075 2151 2064 2276 2130 2172 2190 2134 2361 2160 2334 2296 2126 2246\n",
      " 2154 2111 2176 2304 2044 2138 2067 2226 2122 2137 2204 2092 2104 2170\n",
      " 2223 2070 2509 2089 2266 2120 2185 2110 2219 2057 2039 2152 2029 2144\n",
      " 2156 2283 2554 2028 2106 2001 2047 2149 2161 2187 2240 2349 2053 2086\n",
      " 2145 2117 2315 2124 2290 2321 2016 2125 2041 2136 2299 2030 2289 2157\n",
      " 2100 2043 2308 2059 2177 2141 2319 2164 2238 2007 2391 2033 2103 2061\n",
      " 2173 2054 2098 2181 2189 2279 2269 2212 2253 2097 2063 2294 2013 2158\n",
      " 2232 2568 2074 2011 2348 2019 2417 2174 2267 2248 2008 2021 2180 2167\n",
      " 2192 2287 2129 2146 2303 2288 2127 2231 2153 2277 2201 2018 2420 2096\n",
      " 2401 2326 2220 2159 2034 2331 2627 2222 2211 2221 2045 2081 2046 2378\n",
      " 2147 2093 2023 2107 2165 2257 2139 2255 2218 2182 2088 2094 2196 2194\n",
      " 2351 2318 2006 2012 2559 2183 2118 2215 2457 2342 2056 2770 2010 2113\n",
      " 2048 2042 2337 2132 2250 2095 2427 2281 2162 2341 2313 2195 2237 2197\n",
      " 2184 2038 2003 2115 2142 2035 2109 2626 2026 2060 2105 2330 2252 2133\n",
      " 2193 2090 2005 2560 2264 2335 2484 2278 2191 2312 2085 2422 2163 2379\n",
      " 2077 2360 2031 2552 2002 2017 2027 2062 2198 2084 2020 2242 2353 2262\n",
      " 2099 2273 2332 2131 2009 2347 2344 2285 2199 2065 2168 2024 2200 2155\n",
      " 2274 2251 2071 2322 2306 2301 2291 2292 2407 2233 2261 2307 2186 2245\n",
      " 2066 2114 2367 2083 2236 2305 2345 2536 2325 2364 2464 2270 2317 2424\n",
      " 2079 2628 2413 2506 2402 2207 2327 2585 2119 2202 2320 2557 2576 2443\n",
      " 2015 2295 2451 2080 2128 2040 2280 2535 2213 2205 2475 2359 2014 2309\n",
      " 2388 2357 2243 2365 2521 2523 2491 2302 2405 2385 2249 2324 2263 2323\n",
      " 2286 2409 2614 2055 2310 2566 2467 2539 2022 2254 2408 2241 2567 2376\n",
      " 2072 2209 2366]\n",
      "\n",
      "Values in 500-1000:\n",
      "[ 686  672  710  783  766  962  954  905 1000  701  744  976  531  935\n",
      "  823  665  961  966  508  844  991  524  828  847  572  887  917  960\n",
      "  901  513  674  980  995  729  965  743  530  501  813  717  899  636\n",
      "  549  981  725  765  963  988  814  682  552  826  529  959  915  644\n",
      "  943  914  696  818  775  575  737  895  632  760  881  872  745  761\n",
      "  671  536  904  970  606  927  984  666  940  711  608  949  777  510\n",
      "  821  926  878  815  661  547  978  997  985  688  993  559  685  925\n",
      "  538  617  718  947  691  558  853  506  532  874  754  842  989  939\n",
      "  515  502  748  527  771  738  865  860  712  637  974  812  955  700\n",
      "  800  921  942  699  776  969  523  906  764  625  845  831  645  856\n",
      "  583  779  795  787  946  759  931  781  885  830  938  907  996  819\n",
      "  525  551  706  920  769  884  563  808  986  730  846  668  520  747\n",
      "  750  683  911  720  757  553  807  829  579  987  799  578  803  678\n",
      "  540  786  713  739  648  618  604  798  704  824  573  721  859  503\n",
      "  657  979  622  834  681  913  848  857  697  999  896  640  612  941\n",
      "  875  780  870  773  600  613  936  543  752  952  849  891  794  679\n",
      "  546  924  805  864  785  774  994  695  715  809  951  968  932  944\n",
      "  782  768  958  890  594  607  646  535  611  833  694  687  545  811\n",
      "  880  916  690  570  677  892  629  992  793  900  597  972  541  804\n",
      "  722  788  797  562  789  653  967  647  544  504  876  726  910  977\n",
      "  801  610  975  585  560  956  659  784  507  753  689  561  908  868\n",
      "  852  858  724  511  983  577  861  877  836  702  557  534  990  539\n",
      "  670  934  827  893  707  586  957  866  850  714  705  731  841  767\n",
      "  728  709  912  871  945  635  763  602  716  973  886  684  948  628\n",
      "  883  590  692  862  822  680  772  971  851  918  634  825  894  732\n",
      "  518  832  746  655  982  933  550  778  727  519  742  698  950  592\n",
      "  749  576  599  835  582  843  810  839  879  521  751  652  919  580\n",
      "  542  791  888  660  667  820  620  758  605  855  770  656  658  869\n",
      "  863  614  571  512  593  556  509  589  723  882  796  574  741  633\n",
      "  790  626  505  816  755  703  964  734  663  528  806  838  526  567\n",
      "  522  740  736  929  840  937  609  517  889  566  998  953  909  762\n",
      "  662  568  616  837  854  708  669  621  638  664  735  537  581  903\n",
      "  584  565  693  928  615  898  588  733  930  548  514  802  642  867\n",
      "  533  902  676  569  719  587  817  623  792  873  631  650  627  649\n",
      "  643  673  923  516  922  756  897  603  675  651  598  619  630  601\n",
      "  639  624  554  591  564  595  596  555  654]\n",
      "\n",
      "0 and below    18388\n",
      "1000-1500      10671\n",
      "0-500           7648\n",
      "1500-2000       7144\n",
      "500-1000        4797\n",
      "2000+           1193\n",
      "Name: gps_height_categorym, dtype: int64\n"
     ]
    }
   ],
   "source": [
    "# Define function to categorize GPS heights into subcategories\n",
    "def categorize_gps_heightm(height):\n",
    "    if height <= 0:\n",
    "        return '0 and below'\n",
    "    elif height <= 500:\n",
    "        return '0-500'\n",
    "    elif height <= 1000:\n",
    "        return '500-1000'\n",
    "    elif height <= 1500:\n",
    "        return '1000-1500'\n",
    "    elif height <= 2000:\n",
    "        return '1500-2000'\n",
    "    else:\n",
    "        return '2000+'\n",
    "\n",
    "# Apply categorization function to GPS heights and create a new column for subcategories\n",
    "merged_data['gps_height_categorym'] = merged_data['gps_height'].apply(categorize_gps_heightm)\n",
    "\n",
    "# Display unique values in the new GPS height category column\n",
    "unique_categories = merged_data['gps_height_categorym'].unique()\n",
    "print(unique_categories)\n",
    "# Group the dataset by GPS height category and display the values in each group\n",
    "gps_height_groupsm = merged_data.groupby('gps_height_categorym')['gps_height'].unique()\n",
    "\n",
    "# Display the values in each group\n",
    "for category, values in gps_height_groupsm.items():\n",
    "    print(f\"Values in {category}:\")\n",
    "    print(values)\n",
    "    print()\n",
    "# Count the occurrences of each GPS height subcategory\n",
    "gps_height_countsm = merged_data['gps_height_categorym'].value_counts()\n",
    "\n",
    "# Display the counts\n",
    "print(gps_height_countsm)"
   ]
  },
  {
   "cell_type": "code",
   "execution_count": 50,
   "id": "38562b95-e627-4d25-a406-4afdc567e81d",
   "metadata": {},
   "outputs": [
    {
     "data": {
      "image/png": "[encoded data removed]",
      "text/plain": [
       "<Figure size 1200x800 with 1 Axes>"
      ]
     },
     "metadata": {},
     "output_type": "display_data"
    }
   ],
   "source": [
    "import matplotlib.pyplot as plt\n",
    "import numpy as np\n",
    "\n",
    "# Group the dataset by GPS height category and status group, then count the number of wells in each group\n",
    "gps_height_status_countsm = merged_data.groupby(['gps_height_categorym', 'status_group_binary']).size().unstack(fill_value=0)\n",
    "\n",
    "# Extract categories and status groups\n",
    "categories = gps_height_status_countsm.index\n",
    "status_groups = gps_height_status_countsm.columns\n",
    "\n",
    "# Define bar width\n",
    "bar_width = 0.35\n",
    "index = np.arange(len(categories))\n",
    "\n",
    "# Plotting\n",
    "plt.figure(figsize=(12, 8))\n",
    "\n",
    "\n",
    "\n",
    "\n",
    "# Plot bars for non-functional wells (using red color), offsetting them by bar width to create grouped bar chart\n",
    "plt.bar(index + bar_width, gps_height_status_countsm[0], bar_width, color='r', label='Non-Functional')\n",
    "# Plot bars for functional wells (using blue color)\n",
    "plt.bar(index, gps_height_status_countsm[1], bar_width, color='b', label='Functional')\n",
    "\n",
    "\n",
    "# Add labels, title, legend, and adjust layout\n",
    "plt.xlabel('GPS Height Category')\n",
    "plt.ylabel('Count')\n",
    "plt.title('Counts of Functional and Non-Functional Wells by GPS Height Category')\n",
    "plt.xticks(index + bar_width / 2, categories, rotation=45)  # Labeling x-axis ticks with categories\n",
    "plt.legend()  # Adding legend to differentiate between blue and red bars\n",
    "plt.tight_layout()\n",
    "plt.show()\n",
    "\n"
   ]
  },
  {
   "cell_type": "code",
   "execution_count": 51,
   "id": "8fbc4ded-927d-4bdb-9874-e10c26cdcda0",
   "metadata": {},
   "outputs": [
    {
     "data": {
      "image/png": "[encoded data removed]",
      "text/plain": [
       "<Figure size 1200x800 with 1 Axes>"
      ]
     },
     "metadata": {},
     "output_type": "display_data"
    }
   ],
   "source": [
    "import matplotlib.pyplot as plt\n",
    "import numpy as np\n",
    "\n",
    "# Group the dataset by GPS height category and status group, then count the number of wells in each group\n",
    "gps_height_status_countsm = merged_data.groupby(['gps_height_categorym', 'status_group_binary']).size().unstack(fill_value=0)\n",
    "\n",
    "# Calculate the percentage of functional and non-functional wells within each GPS height subcategory\n",
    "gps_height_percentages = gps_height_status_countsm.div(gps_height_status_countsm.sum(axis=1), axis=0) * 100\n",
    "\n",
    "# Extract categories and status groups\n",
    "categories = gps_height_percentages.index\n",
    "status_groups = gps_height_percentages.columns\n",
    "\n",
    "# Define bar width\n",
    "bar_width = 0.8\n",
    "index = np.arange(len(categories))\n",
    "\n",
    "# Plotting\n",
    "plt.figure(figsize=(12, 8))\n",
    "\n",
    "# Plot stacked bars for each GPS height subcategory\n",
    "bottom = np.zeros(len(categories))  # Initialize bottom values for stacking bars\n",
    "for i, status in enumerate(status_groups):\n",
    "    plt.bar(index, gps_height_percentages[status], bar_width, bottom=bottom, label='Functional' if status == 1 else 'Non-Functional')\n",
    "    bottom += gps_height_percentages[status]\n",
    "\n",
    "# Add labels, title, legend, and adjust layout\n",
    "plt.xlabel('GPS Height Category')\n",
    "plt.ylabel('Percentage')\n",
    "plt.title('Percentage of Functional and Non-Functional Wells by GPS Height Category')\n",
    "plt.xticks(index, categories, rotation=45)  # Labeling x-axis ticks with categories\n",
    "plt.legend()  # Adding legend to differentiate between functional and non-functional wells\n",
    "plt.tight_layout()\n",
    "plt.show()\n",
    "\n"
   ]
  },
  {
   "cell_type": "code",
   "execution_count": 52,
   "id": "8bc307c2-92ab-490c-8d99-bd60746c1157",
   "metadata": {},
   "outputs": [
    {
     "name": "stdout",
     "output_type": "stream",
     "text": [
      "1    31050\n",
      "0    18791\n",
      "Name: status_group_binary, dtype: int64\n"
     ]
    }
   ],
   "source": [
    "# Check the counts of functional and non-functional wells for each status\n",
    "status_counts = merged_data['status_group_binary'].value_counts()\n",
    "print(status_counts)\n"
   ]
  },
  {
   "cell_type": "code",
   "execution_count": 53,
   "id": "d71048a4-2fe5-4bfe-a552-f6cb8955806a",
   "metadata": {},
   "outputs": [
    {
     "name": "stdout",
     "output_type": "stream",
     "text": [
      "Summary Statistics for amount_tsh:\n",
      "count     49841.000000\n",
      "mean        352.215854\n",
      "std        2793.448736\n",
      "min           0.000000\n",
      "25%           0.000000\n",
      "50%           0.000000\n",
      "75%          30.000000\n",
      "max      250000.000000\n",
      "Name: amount_tsh, dtype: float64\n"
     ]
    },
    {
     "data": {
      "image/png": "[encoded data removed]",
      "text/plain": [
       "<Figure size 1000x600 with 1 Axes>"
      ]
     },
     "metadata": {},
     "output_type": "display_data"
    }
   ],
   "source": [
    "import matplotlib.pyplot as plt\n",
    "\n",
    "# Summary statistics\n",
    "summary_stats = merged_data['amount_tsh'].describe()\n",
    "print(\"Summary Statistics for amount_tsh:\")\n",
    "print(summary_stats)\n",
    "\n",
    "import matplotlib.pyplot as plt\n",
    "\n",
    "import seaborn as sns\n",
    "\n",
    "# Define the percentiles of interest\n",
    "percentiles = [75, 95, 97, 99]\n",
    "\n",
    "# Calculate the specified percentiles for amount_tsh\n",
    "percentile_values = merged_data['amount_tsh'].quantile([p / 100 for p in percentiles])\n",
    "\n",
    "# Create a boxplot\n",
    "plt.figure(figsize=(10, 6))\n",
    "sns.boxplot(x=merged_data['amount_tsh'])\n",
    "plt.xticks(ticks=range(len(percentiles)), labels=[f'{p}th percentile\\n({int(value)} TSH)' for p, value in zip(percentiles, percentile_values)])\n",
    "plt.xlabel('Percentile')\n",
    "plt.ylabel('Amount of Water Available (TSH)')\n",
    "plt.title('Boxplot of Amount of Water Available (TSH) Across Percentiles')\n",
    "plt.grid(True, linestyle='--', alpha=0.7)\n",
    "plt.show()\n",
    "\n",
    "\n"
   ]
  },
  {
   "cell_type": "code",
   "execution_count": 54,
   "id": "39f957d0-0233-46c2-b464-bd73018705e7",
   "metadata": {},
   "outputs": [
    {
     "name": "stdout",
     "output_type": "stream",
     "text": [
      "Number of outliers beyond the 75th percentile: 12334\n",
      "Number of outliers beyond the 95th percentile: 2434\n",
      "Number of outliers beyond the 97th percentile: 1452\n",
      "Number of outliers beyond the 99th percentile: 448\n"
     ]
    }
   ],
   "source": [
    "# Calculate the number of outliers beyond each specified percentile\n",
    "outliers_counts = [merged_data[merged_data['amount_tsh'] > merged_data['amount_tsh'].quantile(p / 100)].shape[0] for p in percentiles]\n",
    "\n",
    "# Print the number of outliers\n",
    "for p, outliers_count in zip(percentiles, outliers_counts):\n",
    "    print(f'Number of outliers beyond the {p}th percentile: {outliers_count}')\n"
   ]
  },
  {
   "cell_type": "code",
   "execution_count": 55,
   "id": "1cc5cd8e-eda6-4f24-abea-9aa80f9f0ba6",
   "metadata": {},
   "outputs": [
    {
     "data": {
      "image/png": "[encoded data removed]",
      "text/plain": [
       "<Figure size 1000x600 with 1 Axes>"
      ]
     },
     "metadata": {},
     "output_type": "display_data"
    }
   ],
   "source": [
    "import matplotlib.pyplot as plt\n",
    "\n",
    "# Set figure size\n",
    "plt.figure(figsize=(10, 6))\n",
    "\n",
    "# Plot the histogram\n",
    "plt.hist(merged_data['amount_tsh'], bins=100, color='skyblue', edgecolor='black')\n",
    "\n",
    "# Add labels and title\n",
    "plt.title('Distribution of Amount TSH')\n",
    "plt.xlabel('Amount TSH')\n",
    "plt.ylabel('Frequency')\n",
    "\n",
    "# Show plot\n",
    "plt.show()\n"
   ]
  },
  {
   "cell_type": "code",
   "execution_count": 56,
   "id": "88a96b3a-e405-489a-8aed-3ae9c4194f61",
   "metadata": {},
   "outputs": [
    {
     "name": "stdout",
     "output_type": "stream",
     "text": [
      "Number of missing values in population: 0\n",
      "Unique population: [  109   250    58     1     0   345   200    35    50     4   350   210\n",
      "   156   140   260   150   180    70   100   230    30    20    10    45\n",
      "   567   130   225    54    75   900   360   441   120   280    40   221\n",
      "   950  1430   110   256   320    90   804   305   590   450    80   560\n",
      "  2500  1050    36   540   300    12   632   245   600    32    59    25\n",
      "   500   400   570   700   630   270  1000    55  1700  2530    96    86\n",
      "   240   203   215    98   160  1200   309    95    60    85   159    65\n",
      "    48  2150   220  1680   375  2000   125  3226   253    88   650   163\n",
      "   430   290  2100   285   425   155  1500   185   115   520   800   406\n",
      "   970   750   380   123   730   452  1320    14   261    82   550   348\n",
      "    89   412   530   386   278   212   340   568   370    56   516  6922\n",
      "   183     6   263   480  1250     8   321   420   620  5153  2353  1015\n",
      "   269    44   174   323   233   258   152    42   211   855    15    69\n",
      "   145    22    99   137   124   680   740   333  1180    53   355  1041\n",
      "   265   465  1632  1360   182  2395   356   580   453    46   471     9\n",
      "   819  1506    68   132   235   144   591   103   335   812   195   368\n",
      "     5   315   685   548   554    83  2200  3200  1070   415   455   850\n",
      "  1650   222   780   608   162   357  1570    87   231   135   114   531\n",
      "    57   234   101   170  1530   134    67   176   610   154    26  2013\n",
      "  1600   204   213   405   532    64   458   153  4100   126   205  1740\n",
      "  2300   749   190  1850   802  1400   595   217    23    52   365   168\n",
      "  1009   139    97  2698   143   330    84   810   640   445   634   954\n",
      "    17  1220    72  5030   720   295   341   563   310    76  1040   107\n",
      "   338   840   189   413   423   325  4005   679  1750   896  1800   710\n",
      "    61   385   362  3020   390  4500   460   459   397  4000  3500   206\n",
      "   475   346   186   164   779  3127  3000    38   542   656   181   259\n",
      "   890   769    63   759    94  7500   367   119   863   512  5000   255\n",
      "   243    49   654  6000   102   254   374  1020   264  6500   820  1486\n",
      "   574   313   432   133   569   241   602  1160   209   653   165  4900\n",
      "     2  1177   628    81   106   108   487   175   158   483   267   239\n",
      "  7000   543  3110   105   219   603  1900  4210   149    16  2445   142\n",
      "   251  1540   410   736   266   271  1930   393   117   857    39   286\n",
      "   490   147   299  3981    66   198   302   960   502   128   956   298\n",
      "   188   510    29   146   830   324    79   842   192  1440   312   495\n",
      "   274   616   825   513   293   488  2210   167  1300  5500   236   519\n",
      "   194  1614   578  1280   478  2130   536   668   318   533  1230   456\n",
      "   238   760   291   457   525   743   223   294  3800   556  1237   224\n",
      "  1030   963   287   268  4523  2700   317   246  1034   178    19  3600\n",
      "   790   742   875    18   462   273   232   470   289  1550   770   249\n",
      "   442   193   655  2400    78   658   216   296   662   226   454   670\n",
      "    13   244   589  4550   435   528   354  1185  8000   306   596   703\n",
      "  2016   592   127   358  1807   893   157   288  2129   558  4530   675\n",
      "   935   392   834   725   587    11   594   257  1100   172    73   214\n",
      "   698   467   440   588   382   112   722    92   663   136    24  3072\n",
      "  1724  4600   297    34  5200  2800    74   438   151   856   853   860\n",
      "   690   275  2385   336   352   635   798   411   897   598   865   351\n",
      "  3450   816   585   961  2560   524   161   642   361   347  1234   314\n",
      "  1150  1120   545  9865   461   177   748  1036   247   113   579   427\n",
      "   565   814   329    51  1502   927   721  2350   303   498  2620  1830\n",
      "   538   476   116   322  5400   276  6300 15300   344   621  2813   207\n",
      "   447  2020    27  4230  1450  1950   874   196   208  4200  1483   384\n",
      "    43   645   521    28    93   395   880   678  1831   122  1436   283\n",
      "  1510  1251   218   625   755  1968   227   433   714    71   537   572\n",
      "   121  1306  6800   807   463   237   407  1685  2954    33   575  2780\n",
      "   629   643  1890  8848   482   334   571    37  2684  2630   672   964\n",
      "   930  1942  3540   583   331  2314  1885   242   511   202   518   408\n",
      "   389   359  5050   652   327   523   786   723   948   517     3   735\n",
      "   184    77  6330   566   326  1860   489   281   843  8500     7   701\n",
      "   104  1590   486   148  1206   376   905   657   745   448  3050   272\n",
      "  1380   171  2514   421   369   252   141   301   428  1432  1019  6854\n",
      "   527  2652   980   823  5300   564  1265   815    41   201   712  3236\n",
      "  1375   248  3982   284  4310   402   903   686   469    47   308  5600\n",
      "   339   638   479   187   496   129   906   633  2807   503   782   364\n",
      "   535   292   660   396   882   332  1350  1710   229   756   974  3014\n",
      "   746  3821  4800   711   618  1630   169  2600  1863  1745   437  1114\n",
      "   789   492  4145 30500   431  2670   118  1056  1534  1839  3355  1274\n",
      "  1560 10000   228   870  9000   868  2511   887   485   805  4520  1018\n",
      "   504    62  3560  1010   665  1444   131  1240   669   262   497   515\n",
      "   342  2198   705   879  1619   547   731   901   514   771    21  1060\n",
      "   965  2683  1152   584   179   522  4660   910   639   506  1025  1013\n",
      "   920   609  1080  1354   940  5560  7530   615  3344  2310  1420   753\n",
      "   624   328   372  2416   687   694   304   713   343  1054   282  2345\n",
      "   934   279   436  1470  1205   379   426  2531  2230   836  3241   451\n",
      "    31  1201   349   637  1362  1625   724   403   508  2685   363  1021\n",
      "  1580   366   914  1555  2248   612   889  2050   990   864  3455  1720\n",
      "   166   552   439   422  1742   704   443  4788  1523  2880  3411  1203\n",
      "   617  1893    91  2238   378   316  1032  3568  1520   955   534   781\n",
      "  1439  6302   763  2905   975   553  1260   353  2518   688   593  3031\n",
      "   311  1144  1221 11463   444  1005   526  1545   586  2250   644  1340\n",
      "  3620  1164   605  3850  3589   936   866   697   199  2750   693   795\n",
      "   607  1325   674  1363   681   765   582   985   546  1290   197  2461\n",
      "   398   912   775   682  1244  1090  2010  3250   613   429   862  2450\n",
      "  1422  2570  4208   387  2569   541   845   976   788]\n"
     ]
    }
   ],
   "source": [
    "# Check for missing values in the population column\n",
    "missing_population = merged_data['population'].isnull().sum()\n",
    "print(\"Number of missing values in population:\", missing_population)\n",
    "\n",
    "# Inspect unique values in the population column\n",
    "unique_population = merged_data['population'].unique()\n",
    "print(\"Unique population:\", unique_population)\n",
    "\n",
    "\n"
   ]
  },
  {
   "cell_type": "code",
   "execution_count": 57,
   "id": "57e5b106-3aef-436d-a80e-67a66749cf8c",
   "metadata": {},
   "outputs": [
    {
     "name": "stdout",
     "output_type": "stream",
     "text": [
      "Number of instances where population is 0: 18088\n"
     ]
    }
   ],
   "source": [
    "# Count the number of instances where population is 0\n",
    "population_zero_count = (merged_data['population'] == 0).sum()\n",
    "print(\"Number of instances where population is 0:\", population_zero_count)\n"
   ]
  },
  {
   "cell_type": "markdown",
   "id": "b15570a2-7403-4e2a-abf7-5e9295f93a52",
   "metadata": {},
   "source": [
    "To address missing values in the `population` column, I opted to utilize KNN (K-Nearest Neighbors) imputation. KNN imputation is a technique used to estimate missing values in a dataset by considering the values of nearby data points. \n",
    "\n",
    "In this context, KNN imputation will estimate the missing population based on the population of neighboring data points. By leveraging the similarity of neighboring observations, KNN imputation provides a reasonable approximation of the missing values.\n",
    "\n"
   ]
  },
  {
   "cell_type": "code",
   "execution_count": 58,
   "id": "a47ce4df-6c43-4c83-9dd6-7bda75f2d8f9",
   "metadata": {},
   "outputs": [
    {
     "name": "stdout",
     "output_type": "stream",
     "text": [
      "0\n"
     ]
    }
   ],
   "source": [
    "from sklearn.impute import KNNImputer\n",
    "\n",
    "# Create a KNNImputer object\n",
    "imputer = KNNImputer(n_neighbors=5)  \n",
    "\n",
    "# Select the columns containing continuous variables\n",
    "continuous_columns = ['population']  \n",
    "# Replace missing values with NaN\n",
    "merged_data.loc[merged_data['population'] == 0, 'population'] = np.nan\n",
    "\n",
    "# Apply KNN imputation\n",
    "merged_data_imputed = imputer.fit_transform(merged_data[continuous_columns])\n",
    "\n",
    "# Replace the original population column with the imputed values\n",
    "merged_data['population'] = merged_data_imputed\n",
    "\n",
    "# Check the results\n",
    "print(merged_data['population'].isnull().sum())  # Ensure there are no missing values remaining"
   ]
  },
  {
   "cell_type": "code",
   "execution_count": 59,
   "id": "6352aed8-1183-4e2a-a832-b36020c36c37",
   "metadata": {},
   "outputs": [
    {
     "name": "stdout",
     "output_type": "stream",
     "text": [
      "Number of instances where population is 0: 0\n"
     ]
    }
   ],
   "source": [
    "# Count the number of instances where population is 0\n",
    "population_zero_count = (merged_data['population'] == 0).sum()\n",
    "print(\"Number of instances where population is 0:\", population_zero_count)\n"
   ]
  },
  {
   "cell_type": "code",
   "execution_count": 60,
   "id": "4bb4474a-3016-4468-84f6-7a45ebbc3e35",
   "metadata": {},
   "outputs": [
    {
     "name": "stdout",
     "output_type": "stream",
     "text": [
      "Number of instances where gps_height is 0: 17148\n"
     ]
    }
   ],
   "source": [
    "# Count the number of instances where gps_height is 0\n",
    "gps_height_zero_count = (merged_data['gps_height'] == 0).sum()\n",
    "print(\"Number of instances where gps_height is 0:\", gps_height_zero_count)\n"
   ]
  },
  {
   "cell_type": "code",
   "execution_count": 61,
   "id": "0ce63ba9-a891-4e9a-9159-5f3cad13f579",
   "metadata": {},
   "outputs": [
    {
     "name": "stdout",
     "output_type": "stream",
     "text": [
      "Number of instances where longitude is 0: 1336\n",
      "Number of instances where latitude is 0: 0\n"
     ]
    }
   ],
   "source": [
    "# Count the number of instances where longitude and latitude is 0\n",
    "longitude_zero_count = (merged_data['longitude'] == 0).sum()\n",
    "print(\"Number of instances where longitude is 0:\", longitude_zero_count)# Count the number of instances where longitude is 0\n",
    "latitude_zero_count = (merged_data['latitude'] == 0).sum()\n",
    "print(\"Number of instances where latitude is 0:\", latitude_zero_count)\n"
   ]
  },
  {
   "cell_type": "code",
   "execution_count": 62,
   "id": "cf3c8fe6-9c97-476a-b48a-7fa7e080230f",
   "metadata": {},
   "outputs": [
    {
     "name": "stdout",
     "output_type": "stream",
     "text": [
      "Number of Functional Wells: 31050\n",
      "Number of Non-Functional Wells: 18791\n"
     ]
    }
   ],
   "source": [
    "# Filter the dataset to get the latitude and longitude of functional and non-functional wells\n",
    "functional_wells = merged_data[merged_data['status_group_binary'] == 1]\n",
    "non_functional_wells = merged_data[merged_data['status_group_binary'] == 0]\n",
    "\n",
    "# Get the counts of functional and non-functional wells\n",
    "functional_count = merged_data['status_group_binary'].value_counts()[1]\n",
    "non_functional_count = merged_data['status_group_binary'].value_counts()[0]\n",
    "\n",
    "print(\"Number of Functional Wells:\", functional_count)\n",
    "print(\"Number of Non-Functional Wells:\", non_functional_count)\n",
    "\n"
   ]
  },
  {
   "cell_type": "code",
   "execution_count": 63,
   "id": "ae56d7c4-c8c6-458f-a02d-bfb3f9f27d08",
   "metadata": {},
   "outputs": [
    {
     "name": "stdout",
     "output_type": "stream",
     "text": [
      "Functional Wells:\n",
      "       id  amount_tsh  gps_height  longitude   latitude  num_private  \\\n",
      "0   69572      6000.0        1390  34.938093  -9.856322            0   \n",
      "2   34310        25.0         686  37.460664  -3.821329            0   \n",
      "5    9944        20.0           0  39.172796  -4.765587            0   \n",
      "10  49056         0.0          62  39.209518  -7.034139            0   \n",
      "11  50409       200.0        1062  35.770258 -10.574175            0   \n",
      "\n",
      "          basin   region  region_code  district_code  ...  extraction_type  \\\n",
      "0    Lake Nyasa   Iringa           11              5  ...          gravity   \n",
      "2       Pangani  Manyara           21              4  ...          gravity   \n",
      "5       Pangani    Tanga            4              8  ...      submersible   \n",
      "10  Wami / Ruvu    Pwani           60             43  ...      submersible   \n",
      "11   Lake Nyasa   Ruvuma           10              5  ...           swn 80   \n",
      "\n",
      "   management_group                payment water_quality      quantity  \\\n",
      "0        user-group           pay annually          soft        enough   \n",
      "2        user-group         pay per bucket          soft        enough   \n",
      "5        user-group         pay per bucket         salty        enough   \n",
      "10       commercial              never pay         salty        enough   \n",
      "11       user-group  pay when scheme fails          soft  insufficient   \n",
      "\n",
      "          source              waterpoint_type status_group_binary  \\\n",
      "0         spring           communal standpipe                   1   \n",
      "2            dam  communal standpipe multiple                   1   \n",
      "5          other  communal standpipe multiple                   1   \n",
      "10   machine dbh                        other                   1   \n",
      "11  shallow well                    hand pump                   1   \n",
      "\n",
      "   decade_construction gps_height_categorym  \n",
      "0                1990s            1000-1500  \n",
      "2                2000s             500-1000  \n",
      "5                2000s          0 and below  \n",
      "10               2010s                0-500  \n",
      "11               1980s            1000-1500  \n",
      "\n",
      "[5 rows x 25 columns]\n",
      "\n",
      "Non-Functional Wells:\n",
      "       id  amount_tsh  gps_height  longitude   latitude  num_private  \\\n",
      "3   67743         0.0         263  38.486161 -11.155298            0   \n",
      "6   19816         0.0           0  33.362410  -3.766365            0   \n",
      "8   53934         0.0           0  32.711100  -5.146712            0   \n",
      "16  48451       500.0        1703  34.642439  -9.106185            0   \n",
      "17  58155         0.0        1656  34.569266  -9.085515            0   \n",
      "\n",
      "                      basin     region  region_code  district_code  ...  \\\n",
      "3   Ruvuma / Southern Coast     Mtwara           90             63  ...   \n",
      "6                  Internal  Shinyanga           17              3  ...   \n",
      "8           Lake Tanganyika     Tabora           14              6  ...   \n",
      "16                   Rufiji     Iringa           11              4  ...   \n",
      "17                   Rufiji     Iringa           11              4  ...   \n",
      "\n",
      "    extraction_type management_group                payment water_quality  \\\n",
      "3       submersible       user-group              never pay          soft   \n",
      "6            swn 80       user-group              never pay          soft   \n",
      "8     india mark ii       user-group              never pay         salty   \n",
      "16          gravity       user-group            pay monthly          soft   \n",
      "17          gravity       user-group  pay when scheme fails          soft   \n",
      "\n",
      "    quantity       source              waterpoint_type status_group_binary  \\\n",
      "3        dry  machine dbh  communal standpipe multiple                   0   \n",
      "6     enough  machine dbh                    hand pump                   0   \n",
      "8   seasonal  machine dbh                    hand pump                   0   \n",
      "16       dry        river           communal standpipe                   0   \n",
      "17       dry        river           communal standpipe                   0   \n",
      "\n",
      "   decade_construction gps_height_categorym  \n",
      "3                1980s                0-500  \n",
      "6                1990s          0 and below  \n",
      "8                1990s          0 and below  \n",
      "16               1970s            1500-2000  \n",
      "17               1970s            1500-2000  \n",
      "\n",
      "[5 rows x 25 columns]\n"
     ]
    }
   ],
   "source": [
    "# Filter the dataset to get the latitude and longitude of functional and non-functional wells\n",
    "functional_wells = merged_data[merged_data['status_group_binary'] == 1]\n",
    "non_functional_wells = merged_data[merged_data['status_group_binary'] == 0]\n",
    "print(\"Functional Wells:\")\n",
    "print(functional_wells.head())\n",
    "\n",
    "print(\"\\nNon-Functional Wells:\")\n",
    "print(non_functional_wells.head())\n",
    "\n"
   ]
  },
  {
   "cell_type": "code",
   "execution_count": 64,
   "id": "641a7570-3fa3-43f1-8fc9-2fec761c16bb",
   "metadata": {},
   "outputs": [
    {
     "name": "stdout",
     "output_type": "stream",
     "text": [
      "0\n"
     ]
    }
   ],
   "source": [
    "from sklearn.impute import KNNImputer\n",
    "\n",
    "# Create a KNNImputer object\n",
    "imputer = KNNImputer(n_neighbors=5)  \n",
    "\n",
    "# Select the columns containing continuous variables\n",
    "continuous_columns = ['longitude']  \n",
    "# Replace missing values with NaN\n",
    "merged_data.loc[merged_data['longitude'] == 0, 'longitude'] = np.nan\n",
    "\n",
    "# Apply KNN imputation\n",
    "merged_data_imputed = imputer.fit_transform(merged_data[continuous_columns])\n",
    "\n",
    "# Replace the original population column with the imputed values\n",
    "merged_data['longitude'] = merged_data_imputed\n",
    "\n",
    "# Check the results\n",
    "print(merged_data['longitude'].isnull().sum())  # Ensure there are no missing values remaining"
   ]
  },
  {
   "cell_type": "code",
   "execution_count": 65,
   "id": "696f9522-9d3d-482d-90da-0cb06787e26e",
   "metadata": {},
   "outputs": [
    {
     "name": "stderr",
     "output_type": "stream",
     "text": [
      "/var/folders/6j/s4t4t49n5ns3bwtzvg_ys6xw0000gn/T/ipykernel_65545/284937305.py:14: FutureWarning: The geopandas.dataset module is deprecated and will be removed in GeoPandas 1.0. You can get the original 'naturalearth_lowres' data from https://www.naturalearthdata.com/downloads/110m-cultural-vectors/.\n",
      "  world = gpd.read_file(gpd.datasets.get_path('naturalearth_lowres'))\n"
     ]
    },
    {
     "data": {
      "image/png": "[encoded data removed]",
      "text/plain": [
       "<Figure size 1000x500 with 2 Axes>"
      ]
     },
     "metadata": {},
     "output_type": "display_data"
    }
   ],
   "source": [
    "import geopandas as gpd\n",
    "import matplotlib.pyplot as plt\n",
    "\n",
    "# Create a GeoDataFrame for all water wells\n",
    "all_wells_gdf = gpd.GeoDataFrame(merged_data, geometry=gpd.points_from_xy(merged_data.longitude, merged_data.latitude))\n",
    "\n",
    "# Filter the data to get only non-functional water wells\n",
    "non_functional_wells = merged_data[merged_data['status_group_binary'] == 0]\n",
    "non_functional_wells_gdf = gpd.GeoDataFrame(non_functional_wells, geometry=gpd.points_from_xy(non_functional_wells.longitude, non_functional_wells.latitude))\n",
    "\n",
    "# Plot the map of Tanzania with all water wells\n",
    "plt.figure(figsize=(10, 5))\n",
    "ax1 = plt.subplot(1, 2, 1)\n",
    "world = gpd.read_file(gpd.datasets.get_path('naturalearth_lowres'))\n",
    "world[world.name == 'Tanzania'].plot(ax=ax1, color='lightgrey', edgecolor='black')\n",
    "all_wells_gdf.plot(ax=ax1, color='blue', markersize=10)\n",
    "ax1.set_title('All Water Wells')\n",
    "\n",
    "# Plot the map of Tanzania with non-functional water wells\n",
    "ax2 = plt.subplot(1, 2, 2)\n",
    "world[world.name == 'Tanzania'].plot(ax=ax2, color='lightgrey', edgecolor='black')\n",
    "non_functional_wells_gdf.plot(ax=ax2, color='red', markersize=10)\n",
    "ax2.set_title('Non-Functional Water Wells')\n",
    "\n",
    "plt.tight_layout()\n",
    "plt.show()\n"
   ]
  },
  {
   "cell_type": "markdown",
   "id": "f3dbe7f3-de97-4d4d-8efc-018a70cf036e",
   "metadata": {},
   "source": [
    "## Assessment of Zero Values in GPS Height Data\n",
    "Upon discovering a significant number of zero values in the GPS height data, further investigation was conducted to determine their validity.\n",
    "\n",
    "A histogram was created to visualize the distribution of zero values in the GPS height data.\n",
    "The visualization indicated that the number of zero values is relatively equal to other values in the distribution.\n",
    "\n",
    "Based on the visual analysis, it was concluded that the zero values in the GPS height data appear to be valid and distributed similarly to other values. Therefore, the decision was made not to remove these values from the dataset.\n"
   ]
  },
  {
   "cell_type": "code",
   "execution_count": 66,
   "id": "379ad4c7-b5b5-4401-85f3-35bcfa4ec621",
   "metadata": {},
   "outputs": [
    {
     "data": {
      "image/png": "[encoded data removed]",
      "text/plain": [
       "<Figure size 1000x600 with 1 Axes>"
      ]
     },
     "metadata": {},
     "output_type": "display_data"
    }
   ],
   "source": [
    "import seaborn as sns\n",
    "import matplotlib.pyplot as plt\n",
    "\n",
    "# Filter out zero GPS height values\n",
    "non_zero_gps_height = merged_data[merged_data['gps_height'] != 0]\n",
    "\n",
    "# Plot histogram\n",
    "plt.figure(figsize=(10, 6))\n",
    "sns.histplot(data=non_zero_gps_height, x='gps_height', bins=30, kde=True)\n",
    "plt.title('Distribution of GPS Height Values (Excluding Zero)')\n",
    "plt.xlabel('GPS Height')\n",
    "plt.ylabel('Frequency')\n",
    "plt.show()\n"
   ]
  },
  {
   "cell_type": "code",
   "execution_count": 67,
   "id": "6162b704-9770-4272-b193-224e77859100",
   "metadata": {},
   "outputs": [
    {
     "name": "stdout",
     "output_type": "stream",
     "text": [
      "Number of instances where basin is 0: 0\n",
      "Number of instances where region is 0: 0\n",
      "Number of instances where region_code is 0: 0\n"
     ]
    }
   ],
   "source": [
    "# Count the number of instances where  0 is present in the columns\n",
    "basin_zero_count = (merged_data['basin'] == 0).sum()\n",
    "print(\"Number of instances where basin is 0:\", basin_zero_count)\n",
    "region_zero_count = (merged_data['region'] == 0).sum()\n",
    "print(\"Number of instances where region is 0:\", region_zero_count)\n",
    "region_code_zero_code = (merged_data['region_code'] == 0).sum()\n",
    "print(\"Number of instances where region_code is 0:\", region_code_zero_code)"
   ]
  },
  {
   "cell_type": "code",
   "execution_count": 68,
   "id": "39831e57-8696-4b37-9174-17d9dfcbfe98",
   "metadata": {},
   "outputs": [
    {
     "name": "stdout",
     "output_type": "stream",
     "text": [
      "Number of instances where extraction_type is 0: 0\n",
      "Number of instances where mangement_group is 0: 0\n"
     ]
    }
   ],
   "source": [
    "# Count the number of instances where  0 is present in the columns\n",
    "extraction_type_zero_code = (merged_data['extraction_type'] == 0).sum()\n",
    "print(\"Number of instances where extraction_type is 0:\", extraction_type_zero_code)\n",
    "management_group_zero_code = (merged_data['management_group'] == 0).sum()\n",
    "print(\"Number of instances where mangement_group is 0:\", management_group_zero_code)"
   ]
  },
  {
   "cell_type": "code",
   "execution_count": 69,
   "id": "b3923ba4-64d5-444e-bc79-48ef8dab663d",
   "metadata": {},
   "outputs": [
    {
     "name": "stdout",
     "output_type": "stream",
     "text": [
      "id                        int64\n",
      "amount_tsh              float64\n",
      "gps_height                int64\n",
      "longitude               float64\n",
      "latitude                float64\n",
      "num_private               int64\n",
      "basin                    object\n",
      "region                   object\n",
      "region_code               int64\n",
      "district_code             int64\n",
      "population              float64\n",
      "public_meeting           object\n",
      "scheme_management        object\n",
      "permit                   object\n",
      "construction_year       float64\n",
      "extraction_type          object\n",
      "management_group         object\n",
      "payment                  object\n",
      "water_quality            object\n",
      "quantity                 object\n",
      "source                   object\n",
      "waterpoint_type          object\n",
      "status_group_binary       int64\n",
      "decade_construction      object\n",
      "gps_height_categorym     object\n",
      "dtype: object\n"
     ]
    }
   ],
   "source": [
    "# Check the data types of each column\n",
    "print(merged_data.dtypes)\n"
   ]
  },
  {
   "cell_type": "code",
   "execution_count": 70,
   "id": "7c679557-107b-494c-bb22-cfbb8b62dc93",
   "metadata": {},
   "outputs": [
    {
     "name": "stdout",
     "output_type": "stream",
     "text": [
      "['basin', 'region', 'public_meeting', 'scheme_management', 'permit', 'extraction_type', 'management_group', 'payment', 'water_quality', 'quantity', 'source', 'waterpoint_type', 'decade_construction', 'gps_height_categorym']\n"
     ]
    }
   ],
   "source": [
    "# Select categorical columns\n",
    "categorical_columns = merged_data.select_dtypes(include=['object']).columns.tolist()\n",
    "print(categorical_columns)\n"
   ]
  },
  {
   "cell_type": "code",
   "execution_count": 71,
   "id": "1ca4dab5-6c56-4b23-9f56-b27c591a360e",
   "metadata": {},
   "outputs": [
    {
     "name": "stdout",
     "output_type": "stream",
     "text": [
      "      id  amount_tsh  gps_height  longitude   latitude  num_private  \\\n",
      "0  69572      6000.0        1390  34.938093  -9.856322            0   \n",
      "2  34310        25.0         686  37.460664  -3.821329            0   \n",
      "3  67743         0.0         263  38.486161 -11.155298            0   \n",
      "5   9944        20.0           0  39.172796  -4.765587            0   \n",
      "6  19816         0.0           0  33.362410  -3.766365            0   \n",
      "\n",
      "   region_code  district_code  population  construction_year  ...  \\\n",
      "0           11              5  109.000000             1999.0  ...   \n",
      "2           21              4  250.000000             2009.0  ...   \n",
      "3           90             63   58.000000             1986.0  ...   \n",
      "5            4              8    1.000000             2009.0  ...   \n",
      "6           17              3  270.268888             1997.0  ...   \n",
      "\n",
      "   decade_construction_1980s  decade_construction_1990s  \\\n",
      "0                          0                          1   \n",
      "2                          0                          0   \n",
      "3                          1                          0   \n",
      "5                          0                          0   \n",
      "6                          0                          1   \n",
      "\n",
      "   decade_construction_2000s  decade_construction_2010s  \\\n",
      "0                          0                          0   \n",
      "2                          1                          0   \n",
      "3                          0                          0   \n",
      "5                          1                          0   \n",
      "6                          0                          0   \n",
      "\n",
      "   gps_height_categorym_0 and below  gps_height_categorym_0-500  \\\n",
      "0                                 0                           0   \n",
      "2                                 0                           0   \n",
      "3                                 0                           1   \n",
      "5                                 1                           0   \n",
      "6                                 1                           0   \n",
      "\n",
      "   gps_height_categorym_1000-1500  gps_height_categorym_1500-2000  \\\n",
      "0                               1                               0   \n",
      "2                               0                               0   \n",
      "3                               0                               0   \n",
      "5                               0                               0   \n",
      "6                               0                               0   \n",
      "\n",
      "   gps_height_categorym_2000+  gps_height_categorym_500-1000  \n",
      "0                           0                              0  \n",
      "2                           0                              1  \n",
      "3                           0                              0  \n",
      "5                           0                              0  \n",
      "6                           0                              0  \n",
      "\n",
      "[5 rows x 129 columns]\n"
     ]
    }
   ],
   "source": [
    "# Dummy encode categorical columns\n",
    "merged_data_encoded = pd.get_dummies(merged_data, columns=categorical_columns)\n",
    "\n",
    "# Display the encoded dataset\n",
    "print(merged_data_encoded.head())\n"
   ]
  },
  {
   "cell_type": "code",
   "execution_count": 72,
   "id": "d840e247-f2c8-4757-b08c-b25f86e58d52",
   "metadata": {},
   "outputs": [
    {
     "name": "stdout",
     "output_type": "stream",
     "text": [
      "Index(['id', 'amount_tsh', 'gps_height', 'longitude', 'latitude',\n",
      "       'num_private', 'region_code', 'district_code', 'population',\n",
      "       'construction_year',\n",
      "       ...\n",
      "       'decade_construction_1980s', 'decade_construction_1990s',\n",
      "       'decade_construction_2000s', 'decade_construction_2010s',\n",
      "       'gps_height_categorym_0 and below', 'gps_height_categorym_0-500',\n",
      "       'gps_height_categorym_1000-1500', 'gps_height_categorym_1500-2000',\n",
      "       'gps_height_categorym_2000+', 'gps_height_categorym_500-1000'],\n",
      "      dtype='object', length=129)\n"
     ]
    }
   ],
   "source": [
    "print(merged_data_encoded.columns)\n"
   ]
  },
  {
   "cell_type": "code",
   "execution_count": 73,
   "id": "2fa1ed74-25be-4a14-96d0-47f484146fa6",
   "metadata": {},
   "outputs": [
    {
     "name": "stdout",
     "output_type": "stream",
     "text": [
      "'status_group_binary' column exists in merged_data_encoded DataFrame.\n"
     ]
    }
   ],
   "source": [
    "# Check if 'status_group_binary' column exists in merged_data_encoded\n",
    "if 'status_group_binary' in merged_data_encoded.columns:\n",
    "    print(\"'status_group_binary' column exists in merged_data_encoded DataFrame.\")\n",
    "else:\n",
    "    print(\"'status_group_binary' column does not exist in merged_data_encoded DataFrame.\")\n"
   ]
  },
  {
   "cell_type": "code",
   "execution_count": 74,
   "id": "299544e7-13f0-4e0e-8899-6a0c60b312f4",
   "metadata": {},
   "outputs": [
    {
     "name": "stdout",
     "output_type": "stream",
     "text": [
      "Shape of X_train: (39872, 128)\n",
      "Shape of X_test: (9969, 128)\n",
      "Shape of y_train: (39872,)\n",
      "Shape of y_test: (9969,)\n"
     ]
    }
   ],
   "source": [
    "from sklearn.model_selection import train_test_split\n",
    "\n",
    "# Split the data into features (X) and target variable (y)\n",
    "X = merged_data_encoded.drop(columns=['status_group_binary'])\n",
    "y = merged_data_encoded['status_group_binary']\n",
    "\n",
    "# Split the data into training and testing sets (80% train, 20% test)\n",
    "X_train, X_test, y_train, y_test = train_test_split(X, y, test_size=0.2, random_state=42)\n",
    "\n",
    "# Check the shapes of the train and test sets\n",
    "print(\"Shape of X_train:\", X_train.shape)\n",
    "print(\"Shape of X_test:\", X_test.shape)\n",
    "print(\"Shape of y_train:\", y_train.shape)\n",
    "print(\"Shape of y_test:\", y_test.shape)\n",
    "\n",
    "\n"
   ]
  },
  {
   "cell_type": "code",
   "execution_count": 75,
   "id": "98b4de26-bb33-4d15-a83c-eec59000aba0",
   "metadata": {},
   "outputs": [
    {
     "name": "stdout",
     "output_type": "stream",
     "text": [
      "Accuracy: 0.8159293810813522\n"
     ]
    }
   ],
   "source": [
    "from sklearn.tree import DecisionTreeClassifier\n",
    "from sklearn.metrics import accuracy_score\n",
    "\n",
    "# Initialize the decision tree classifier\n",
    "clf = DecisionTreeClassifier(random_state=42)\n",
    "\n",
    "# Fit the classifier to the training data\n",
    "clf.fit(X_train, y_train)\n",
    "\n",
    "# Make predictions on the test data\n",
    "y_pred = clf.predict(X_test)\n",
    "\n",
    "# Evaluate the model\n",
    "accuracy = accuracy_score(y_test, y_pred)\n",
    "print(\"Accuracy:\", accuracy)\n"
   ]
  },
  {
   "cell_type": "code",
   "execution_count": 76,
   "id": "0159df6a-faab-41f6-a965-b4c09b34a38a",
   "metadata": {},
   "outputs": [
    {
     "name": "stdout",
     "output_type": "stream",
     "text": [
      "Predicted labels for the test data:\n",
      "[1 1 0 0 0 1 1 1 1 0]\n"
     ]
    }
   ],
   "source": [
    "# Make predictions on the test data\n",
    "y_pred_test = clf.predict(X_test)\n",
    "\n",
    "# Display the first few predictions\n",
    "print(\"Predicted labels for the test data:\")\n",
    "print(y_pred_test[:10])\n"
   ]
  },
  {
   "cell_type": "code",
   "execution_count": 77,
   "id": "130145a1-a7fb-4518-ade9-85099228130b",
   "metadata": {},
   "outputs": [],
   "source": [
    "from sklearn.ensemble import RandomForestClassifier\n",
    "from sklearn.model_selection import train_test_split\n",
    "\n",
    "# Split the data into features (X) and target variable (y)\n",
    "X = merged_data_encoded.drop(columns=['status_group_binary'])\n",
    "y = merged_data_encoded['status_group_binary']\n",
    "\n",
    "# Split the data into training and testing sets (80% train, 20% test)\n",
    "X_train, X_test, y_train, y_test = train_test_split(X, y, test_size=0.2, random_state=42)\n",
    "\n",
    "# Initialize the Random Forest classifier\n",
    "rf_clf = RandomForestClassifier(n_estimators=100, random_state=42)\n",
    "\n",
    "# Train the classifier on the training data\n",
    "rf_clf.fit(X_train, y_train)\n",
    "\n",
    "# Make predictions on the test data\n",
    "y_pred_rf = rf_clf.predict(X_test)\n",
    "\n"
   ]
  },
  {
   "cell_type": "code",
   "execution_count": 78,
   "id": "d6e3e154-e919-4d48-9b1a-20acffe0d986",
   "metadata": {},
   "outputs": [
    {
     "name": "stdout",
     "output_type": "stream",
     "text": [
      "Accuracy: 0.864379576687732\n",
      "Precision: 0.8681251899118809\n",
      "Recall: 0.9219102936431107\n",
      "F1-score: 0.894209702660407\n"
     ]
    }
   ],
   "source": [
    "from sklearn.metrics import accuracy_score, precision_score, recall_score, f1_score\n",
    "\n",
    "# Calculate accuracy\n",
    "accuracy = accuracy_score(y_test, y_pred_rf)\n",
    "print(\"Accuracy:\", accuracy)\n",
    "\n",
    "# Calculate precision\n",
    "precision = precision_score(y_test, y_pred_rf)\n",
    "print(\"Precision:\", precision)\n",
    "\n",
    "# Calculate recall\n",
    "recall = recall_score(y_test, y_pred_rf)\n",
    "print(\"Recall:\", recall)\n",
    "\n",
    "# Calculate F1-score\n",
    "f1 = f1_score(y_test, y_pred_rf)\n",
    "print(\"F1-score:\", f1)\n"
   ]
  },
  {
   "cell_type": "code",
   "execution_count": 79,
   "id": "5fade664-cf16-43cf-9552-109b37aa766d",
   "metadata": {},
   "outputs": [
    {
     "name": "stdout",
     "output_type": "stream",
     "text": [
      "                   Feature  Importance\n",
      "3                longitude    0.100080\n",
      "4                 latitude    0.099561\n",
      "94            quantity_dry    0.098843\n",
      "0                       id    0.075056\n",
      "2               gps_height    0.050911\n",
      "9        construction_year    0.042433\n",
      "8               population    0.036976\n",
      "65   extraction_type_other    0.035843\n",
      "95         quantity_enough    0.031444\n",
      "115  waterpoint_type_other    0.030001\n"
     ]
    }
   ],
   "source": [
    "# Extract feature importances\n",
    "feature_importances = rf_clf.feature_importances_\n",
    "\n",
    "# Create a DataFrame to store feature importances along with their corresponding column names\n",
    "feature_importance_df = pd.DataFrame({'Feature': X_train.columns, 'Importance': feature_importances})\n",
    "\n",
    "# Sort the DataFrame by feature importances in descending order\n",
    "feature_importance_df = feature_importance_df.sort_values(by='Importance', ascending=False)\n",
    "\n",
    "# Display the top 10 most important features\n",
    "print(feature_importance_df.head(10))\n"
   ]
  },
  {
   "cell_type": "code",
   "execution_count": 80,
   "id": "7c04d040-d868-4912-9b27-c0a0945cdd37",
   "metadata": {},
   "outputs": [
    {
     "data": {
      "image/png": "[encoded data removed]",
      "text/plain": [
       "<Figure size 800x600 with 2 Axes>"
      ]
     },
     "metadata": {},
     "output_type": "display_data"
    }
   ],
   "source": [
    "from sklearn.metrics import confusion_matrix\n",
    "import seaborn as sns\n",
    "\n",
    "# Compute confusion matrix\n",
    "conf_matrix = confusion_matrix(y_test, y_pred_rf)\n",
    "\n",
    "# Plot confusion matrix\n",
    "plt.figure(figsize=(8, 6))\n",
    "sns.heatmap(conf_matrix, annot=True, fmt=\"d\", cmap=\"Blues\", \n",
    "            xticklabels=['Functional', 'Non-Functional'],\n",
    "            yticklabels=['Functional', 'Non-Functional'])\n",
    "plt.title(\"Confusion Matrix\")\n",
    "plt.xlabel(\"Predicted Label\")\n",
    "plt.ylabel(\"True Label\")\n",
    "plt.show()\n"
   ]
  },
  {
   "cell_type": "code",
   "execution_count": 81,
   "id": "6cc4a9c5-2544-448e-ada7-dfd5f092f3eb",
   "metadata": {},
   "outputs": [
    {
     "data": {
      "image/png": "[encoded data removed]",
      "text/plain": [
       "<Figure size 1000x800 with 1 Axes>"
      ]
     },
     "metadata": {},
     "output_type": "display_data"
    }
   ],
   "source": [
    "import matplotlib.pyplot as plt\n",
    "\n",
    "# Get feature importances\n",
    "feature_importances = rf_clf.feature_importances_\n",
    "features = X_train.columns\n",
    "\n",
    "# Sort feature importances in descending order\n",
    "indices = np.argsort(feature_importances)[::-1]\n",
    "\n",
    "# Rearrange feature names based on feature importances\n",
    "sorted_features = [features[i] for i in indices]\n",
    "\n",
    "# Plot the top 25 feature importances\n",
    "plt.figure(figsize=(10, 8))\n",
    "plt.title(\"Top 25 Feature Importances\")\n",
    "plt.bar(range(25), feature_importances[indices][:25], align=\"center\")\n",
    "plt.xticks(range(25), sorted_features[:25], rotation=90)\n",
    "plt.xlabel(\"Features\")\n",
    "plt.ylabel(\"Importance\")\n",
    "plt.tight_layout()\n",
    "plt.show()\n"
   ]
  },
  {
   "cell_type": "code",
   "execution_count": 82,
   "id": "1d3866f2-515f-487d-8b2f-38efc0c646f7",
   "metadata": {},
   "outputs": [
    {
     "name": "stdout",
     "output_type": "stream",
     "text": [
      "      id  amount_tsh  gps_height  longitude   latitude  num_private  \\\n",
      "0  69572      6000.0        1390  34.938093  -9.856322            0   \n",
      "2  34310        25.0         686  37.460664  -3.821329            0   \n",
      "3  67743         0.0         263  38.486161 -11.155298            0   \n",
      "5   9944        20.0           0  39.172796  -4.765587            0   \n",
      "6  19816         0.0           0  33.362410  -3.766365            0   \n",
      "\n",
      "   region_code  district_code  population  construction_year  ...  \\\n",
      "0           11              5  109.000000             1999.0  ...   \n",
      "2           21              4  250.000000             2009.0  ...   \n",
      "3           90             63   58.000000             1986.0  ...   \n",
      "5            4              8    1.000000             2009.0  ...   \n",
      "6           17              3  270.268888             1997.0  ...   \n",
      "\n",
      "   decade_construction_1980s  decade_construction_1990s  \\\n",
      "0                          0                          1   \n",
      "2                          0                          0   \n",
      "3                          1                          0   \n",
      "5                          0                          0   \n",
      "6                          0                          1   \n",
      "\n",
      "   decade_construction_2000s  decade_construction_2010s  \\\n",
      "0                          0                          0   \n",
      "2                          1                          0   \n",
      "3                          0                          0   \n",
      "5                          1                          0   \n",
      "6                          0                          0   \n",
      "\n",
      "   gps_height_categorym_0 and below  gps_height_categorym_0-500  \\\n",
      "0                                 0                           0   \n",
      "2                                 0                           0   \n",
      "3                                 0                           1   \n",
      "5                                 1                           0   \n",
      "6                                 1                           0   \n",
      "\n",
      "   gps_height_categorym_1000-1500  gps_height_categorym_1500-2000  \\\n",
      "0                               1                               0   \n",
      "2                               0                               0   \n",
      "3                               0                               0   \n",
      "5                               0                               0   \n",
      "6                               0                               0   \n",
      "\n",
      "   gps_height_categorym_2000+  gps_height_categorym_500-1000  \n",
      "0                           0                              0  \n",
      "2                           0                              1  \n",
      "3                           0                              0  \n",
      "5                           0                              0  \n",
      "6                           0                              0  \n",
      "\n",
      "[5 rows x 129 columns]\n"
     ]
    }
   ],
   "source": [
    "# One-hot encode categorical columns\n",
    "merged_data_encoded = pd.get_dummies(merged_data, columns=categorical_columns)\n",
    "\n",
    "# Display the encoded dataset\n",
    "print(merged_data_encoded.head())\n",
    "\n"
   ]
  },
  {
   "cell_type": "code",
   "execution_count": 83,
   "id": "cd1d0cd6-4969-436f-bbd5-21579361609d",
   "metadata": {},
   "outputs": [
    {
     "name": "stdout",
     "output_type": "stream",
     "text": [
      "id\n",
      "amount_tsh\n",
      "gps_height\n",
      "longitude\n",
      "latitude\n",
      "num_private\n",
      "basin\n",
      "region\n",
      "region_code\n",
      "district_code\n",
      "population\n",
      "public_meeting\n",
      "scheme_management\n",
      "permit\n",
      "construction_year\n",
      "extraction_type\n",
      "management_group\n",
      "payment\n",
      "water_quality\n",
      "quantity\n",
      "source\n",
      "waterpoint_type\n",
      "status_group_binary\n",
      "decade_construction\n",
      "gps_height_categorym\n"
     ]
    }
   ],
   "source": [
    "# Get the column names\n",
    "columns = merged_data.columns\n",
    "\n",
    "# Print all column names\n",
    "for col in columns:\n",
    "    print(col)\n",
    "\n"
   ]
  },
  {
   "cell_type": "code",
   "execution_count": 90,
   "id": "740ba930-bd06-4b10-9e54-14cc578ed53c",
   "metadata": {},
   "outputs": [
    {
     "name": "stdout",
     "output_type": "stream",
     "text": [
      "Index(['id', 'amount_tsh', 'gps_height', 'longitude', 'latitude',\n",
      "       'num_private', 'region_code', 'district_code', 'population',\n",
      "       'construction_year',\n",
      "       ...\n",
      "       'decade_construction_1980s', 'decade_construction_1990s',\n",
      "       'decade_construction_2000s', 'decade_construction_2010s',\n",
      "       'gps_height_categorym_0 and below', 'gps_height_categorym_0-500',\n",
      "       'gps_height_categorym_1000-1500', 'gps_height_categorym_1500-2000',\n",
      "       'gps_height_categorym_2000+', 'gps_height_categorym_500-1000'],\n",
      "      dtype='object', length=128)\n"
     ]
    }
   ],
   "source": [
    "print(X_train.columns)\n"
   ]
  },
  {
   "cell_type": "code",
   "execution_count": 95,
   "id": "2ae23412-58c9-42bd-88b8-0bec848700c2",
   "metadata": {},
   "outputs": [
    {
     "name": "stdout",
     "output_type": "stream",
     "text": [
      "Index(['id', 'amount_tsh', 'gps_height', 'longitude', 'latitude',\n",
      "       'num_private', 'region_code', 'district_code', 'population',\n",
      "       'construction_year',\n",
      "       ...\n",
      "       'decade_construction_1980s', 'decade_construction_1990s',\n",
      "       'decade_construction_2000s', 'decade_construction_2010s',\n",
      "       'gps_height_categorym_0 and below', 'gps_height_categorym_0-500',\n",
      "       'gps_height_categorym_1000-1500', 'gps_height_categorym_1500-2000',\n",
      "       'gps_height_categorym_2000+', 'gps_height_categorym_500-1000'],\n",
      "      dtype='object', length=129)\n"
     ]
    }
   ],
   "source": [
    "print(merged_data_encoded.columns)\n",
    "\n"
   ]
  },
  {
   "cell_type": "code",
   "execution_count": null,
   "id": "0421f844-cd7a-477c-bfc0-828cdc035813",
   "metadata": {},
   "outputs": [],
   "source": []
  }
 ],
 "metadata": {
  "kernelspec": {
   "display_name": "Python 3 (ipykernel)",
   "language": "python",
   "name": "python3"
  },
  "language_info": {
   "codemirror_mode": {
    "name": "ipython",
    "version": 3
   },
   "file_extension": ".py",
   "mimetype": "text/x-python",
   "name": "python",
   "nbconvert_exporter": "python",
   "pygments_lexer": "ipython3",
   "version": "3.8.16"
  }
 },
 "nbformat": 4,
 "nbformat_minor": 5
}
