{
 "cells": [
  {
   "cell_type": "markdown",
   "id": "7031b938-b7fe-48f1-80a1-2d1983265105",
   "metadata": {},
   "source": [
    "## Tanzania's Waterwell Problem\n",
    "This project aims to provide an overview of the water well situation in Tanzania to the Tanzanian government. The focus is on mitigating a water crisis by predicting water wells that will soon be in need of repair and planning future water well locations for maximum effectiveness.\n"
   ]
  },
  {
   "cell_type": "code",
   "execution_count": 1,
   "id": "ac1900c1-2be2-479d-b4fb-f01c3fec8ae6",
   "metadata": {},
   "outputs": [],
   "source": [
    "import matplotlib.pyplot as plt\n",
    "from matplotlib.pylab import rcParams\n",
    "import seaborn as sns\n",
    "import pandas as pd\n",
    "import numpy as np\n",
    "import sys\n",
    "\n",
    "import sklearn as sk\n",
    "from sklearn import metrics\n",
    "from sklearn.model_selection import train_test_split, ShuffleSplit, learning_curve, GridSearchCV\n",
    "from sklearn.impute import SimpleImputer\n",
    "from sklearn.preprocessing import StandardScaler\n",
    "from sklearn.feature_selection import SelectKBest\n",
    "from sklearn.pipeline import Pipeline\n",
    "from sklearn.metrics import classification_report, confusion_matrix\n",
    "from sklearn.ensemble import RandomForestClassifier, GradientBoostingClassifier\n",
    "from sklearn.linear_model import LogisticRegression\n",
    "from sklearn.svm import SVC\n"
   ]
  },
  {
   "cell_type": "code",
   "execution_count": 2,
   "id": "1d7ee9ff-d040-4f77-8239-1cb1e602e92c",
   "metadata": {},
   "outputs": [
    {
     "name": "stdout",
     "output_type": "stream",
     "text": [
      "Test Set Values:\n",
      "      id  amount_tsh date_recorded                  funder  gps_height  \\\n",
      "0  50785         0.0    2013-02-04                    Dmdd        1996   \n",
      "1  51630         0.0    2013-02-04  Government Of Tanzania        1569   \n",
      "2  17168         0.0    2013-02-01                     NaN        1567   \n",
      "3  45559         0.0    2013-01-22              Finn Water         267   \n",
      "4  49871       500.0    2013-03-27                  Bruder        1260   \n",
      "\n",
      "    installer  longitude   latitude                 wpt_name  num_private  \\\n",
      "0        DMDD  35.290799  -4.059696  Dinamu Secondary School            0   \n",
      "1         DWE  36.656709  -3.309214                  Kimnyak            0   \n",
      "2         NaN  34.767863  -5.004344           Puma Secondary            0   \n",
      "3  FINN WATER  38.058046  -9.418672           Kwa Mzee Pange            0   \n",
      "4      BRUDER  35.006123 -10.950412          Kwa Mzee Turuka            0   \n",
      "\n",
      "   ... payment_type water_quality quality_group      quantity  quantity_group  \\\n",
      "0  ...    never pay          soft          good      seasonal        seasonal   \n",
      "1  ...    never pay          soft          good  insufficient    insufficient   \n",
      "2  ...    never pay          soft          good  insufficient    insufficient   \n",
      "3  ...      unknown          soft          good           dry             dry   \n",
      "4  ...      monthly          soft          good        enough          enough   \n",
      "\n",
      "                 source           source_type  source_class  \\\n",
      "0  rainwater harvesting  rainwater harvesting       surface   \n",
      "1                spring                spring   groundwater   \n",
      "2  rainwater harvesting  rainwater harvesting       surface   \n",
      "3          shallow well          shallow well   groundwater   \n",
      "4                spring                spring   groundwater   \n",
      "\n",
      "      waterpoint_type waterpoint_type_group  \n",
      "0               other                 other  \n",
      "1  communal standpipe    communal standpipe  \n",
      "2               other                 other  \n",
      "3               other                 other  \n",
      "4  communal standpipe    communal standpipe  \n",
      "\n",
      "[5 rows x 40 columns]\n",
      "\n",
      "Training Set Labels:\n",
      "      id    status_group\n",
      "0  69572      functional\n",
      "1   8776      functional\n",
      "2  34310      functional\n",
      "3  67743  non functional\n",
      "4  19728      functional\n",
      "\n",
      "Training Set Values:\n",
      "      id  amount_tsh date_recorded        funder  gps_height     installer  \\\n",
      "0  69572      6000.0    2011-03-14         Roman        1390         Roman   \n",
      "1   8776         0.0    2013-03-06       Grumeti        1399       GRUMETI   \n",
      "2  34310        25.0    2013-02-25  Lottery Club         686  World vision   \n",
      "3  67743         0.0    2013-01-28        Unicef         263        UNICEF   \n",
      "4  19728         0.0    2011-07-13   Action In A           0       Artisan   \n",
      "\n",
      "   longitude   latitude              wpt_name  num_private  ... payment_type  \\\n",
      "0  34.938093  -9.856322                  none            0  ...     annually   \n",
      "1  34.698766  -2.147466              Zahanati            0  ...    never pay   \n",
      "2  37.460664  -3.821329           Kwa Mahundi            0  ...   per bucket   \n",
      "3  38.486161 -11.155298  Zahanati Ya Nanyumbu            0  ...    never pay   \n",
      "4  31.130847  -1.825359               Shuleni            0  ...    never pay   \n",
      "\n",
      "  water_quality quality_group      quantity  quantity_group  \\\n",
      "0          soft          good        enough          enough   \n",
      "1          soft          good  insufficient    insufficient   \n",
      "2          soft          good        enough          enough   \n",
      "3          soft          good           dry             dry   \n",
      "4          soft          good      seasonal        seasonal   \n",
      "\n",
      "                 source           source_type  source_class  \\\n",
      "0                spring                spring   groundwater   \n",
      "1  rainwater harvesting  rainwater harvesting       surface   \n",
      "2                   dam                   dam       surface   \n",
      "3           machine dbh              borehole   groundwater   \n",
      "4  rainwater harvesting  rainwater harvesting       surface   \n",
      "\n",
      "               waterpoint_type waterpoint_type_group  \n",
      "0           communal standpipe    communal standpipe  \n",
      "1           communal standpipe    communal standpipe  \n",
      "2  communal standpipe multiple    communal standpipe  \n",
      "3  communal standpipe multiple    communal standpipe  \n",
      "4           communal standpipe    communal standpipe  \n",
      "\n",
      "[5 rows x 40 columns]\n"
     ]
    }
   ],
   "source": [
    "import pandas as pd\n",
    "\n",
    "# Load the CSV files into pandas DataFrames\n",
    "testvalues = pd.read_csv('/Users/jguzzo522/Desktop/WATERWELL/testsetvalues.csv')\n",
    "trainingsetlabels = pd.read_csv('/Users/jguzzo522/Desktop/WATERWELL/trainingsetlabels.csv')\n",
    "trainingsetvalues = pd.read_csv('/Users/jguzzo522/Desktop/WATERWELL/trainingsetvalues.csv')\n",
    "\n",
    "# Display the loaded datasets\n",
    "print(\"Test Set Values:\")\n",
    "print(testvalues.head())\n",
    "print(\"\\nTraining Set Labels:\")\n",
    "print(trainingsetlabels.head())\n",
    "print(\"\\nTraining Set Values:\")\n",
    "print(trainingsetvalues.head())\n"
   ]
  },
  {
   "cell_type": "code",
   "execution_count": 3,
   "id": "b80ec94c-287e-4cb7-8851-1fb26d94d2fb",
   "metadata": {},
   "outputs": [
    {
     "name": "stdout",
     "output_type": "stream",
     "text": [
      "Number of unique IDs in Test Set Values: 14850\n",
      "Number of unique IDs in Training Set Labels: 59400\n",
      "Number of unique IDs in Training Set Values: 59400\n"
     ]
    }
   ],
   "source": [
    "# Check the number of unique IDs in each dataset\n",
    "test_ids = set(testvalues['id'])\n",
    "training_labels_ids = set(trainingsetlabels['id'])\n",
    "training_values_ids = set(trainingsetvalues['id'])\n",
    "\n",
    "print(\"Number of unique IDs in Test Set Values:\", len(test_ids))\n",
    "print(\"Number of unique IDs in Training Set Labels:\", len(training_labels_ids))\n",
    "print(\"Number of unique IDs in Training Set Values:\", len(training_values_ids))\n"
   ]
  },
  {
   "cell_type": "code",
   "execution_count": 4,
   "id": "42f0b9eb-c04f-45a5-a5df-be925a4ab993",
   "metadata": {},
   "outputs": [
    {
     "name": "stdout",
     "output_type": "stream",
     "text": [
      "          id  amount_tsh date_recorded           funder  gps_height  \\\n",
      "0      69572      6000.0    2011-03-14            Roman        1390   \n",
      "1       8776         0.0    2013-03-06          Grumeti        1399   \n",
      "2      34310        25.0    2013-02-25     Lottery Club         686   \n",
      "3      67743         0.0    2013-01-28           Unicef         263   \n",
      "4      19728         0.0    2011-07-13      Action In A           0   \n",
      "...      ...         ...           ...              ...         ...   \n",
      "59395  60739        10.0    2013-05-03  Germany Republi        1210   \n",
      "59396  27263      4700.0    2011-05-07      Cefa-njombe        1212   \n",
      "59397  37057         0.0    2011-04-11              NaN           0   \n",
      "59398  31282         0.0    2011-03-08            Malec           0   \n",
      "59399  26348         0.0    2011-03-23       World Bank         191   \n",
      "\n",
      "          installer  longitude   latitude              wpt_name  num_private  \\\n",
      "0             Roman  34.938093  -9.856322                  none            0   \n",
      "1           GRUMETI  34.698766  -2.147466              Zahanati            0   \n",
      "2      World vision  37.460664  -3.821329           Kwa Mahundi            0   \n",
      "3            UNICEF  38.486161 -11.155298  Zahanati Ya Nanyumbu            0   \n",
      "4           Artisan  31.130847  -1.825359               Shuleni            0   \n",
      "...             ...        ...        ...                   ...          ...   \n",
      "59395           CES  37.169807  -3.253847   Area Three Namba 27            0   \n",
      "59396          Cefa  35.249991  -9.070629     Kwa Yahona Kuvala            0   \n",
      "59397           NaN  34.017087  -8.750434               Mashine            0   \n",
      "59398          Musa  35.861315  -6.378573                Mshoro            0   \n",
      "59399         World  38.104048  -6.747464       Kwa Mzee Lugawa            0   \n",
      "\n",
      "       ... water_quality quality_group      quantity  quantity_group  \\\n",
      "0      ...          soft          good        enough          enough   \n",
      "1      ...          soft          good  insufficient    insufficient   \n",
      "2      ...          soft          good        enough          enough   \n",
      "3      ...          soft          good           dry             dry   \n",
      "4      ...          soft          good      seasonal        seasonal   \n",
      "...    ...           ...           ...           ...             ...   \n",
      "59395  ...          soft          good        enough          enough   \n",
      "59396  ...          soft          good        enough          enough   \n",
      "59397  ...      fluoride      fluoride        enough          enough   \n",
      "59398  ...          soft          good  insufficient    insufficient   \n",
      "59399  ...         salty         salty        enough          enough   \n",
      "\n",
      "                     source           source_type source_class  \\\n",
      "0                    spring                spring  groundwater   \n",
      "1      rainwater harvesting  rainwater harvesting      surface   \n",
      "2                       dam                   dam      surface   \n",
      "3               machine dbh              borehole  groundwater   \n",
      "4      rainwater harvesting  rainwater harvesting      surface   \n",
      "...                     ...                   ...          ...   \n",
      "59395                spring                spring  groundwater   \n",
      "59396                 river            river/lake      surface   \n",
      "59397           machine dbh              borehole  groundwater   \n",
      "59398          shallow well          shallow well  groundwater   \n",
      "59399          shallow well          shallow well  groundwater   \n",
      "\n",
      "                   waterpoint_type waterpoint_type_group    status_group  \n",
      "0               communal standpipe    communal standpipe      functional  \n",
      "1               communal standpipe    communal standpipe      functional  \n",
      "2      communal standpipe multiple    communal standpipe      functional  \n",
      "3      communal standpipe multiple    communal standpipe  non functional  \n",
      "4               communal standpipe    communal standpipe      functional  \n",
      "...                            ...                   ...             ...  \n",
      "59395           communal standpipe    communal standpipe      functional  \n",
      "59396           communal standpipe    communal standpipe      functional  \n",
      "59397                    hand pump             hand pump      functional  \n",
      "59398                    hand pump             hand pump      functional  \n",
      "59399                    hand pump             hand pump      functional  \n",
      "\n",
      "[59400 rows x 41 columns]\n"
     ]
    }
   ],
   "source": [
    "import pandas as pd\n",
    "\n",
    "# Load the CSV files into pandas DataFrames\n",
    "training_set_labels = pd.read_csv('/Users/jguzzo522/Desktop/WATERWELL/trainingsetlabels.csv')\n",
    "training_set_values = pd.read_csv('/Users/jguzzo522/Desktop/WATERWELL/trainingsetvalues.csv')\n",
    "\n",
    "# Merge the datasets on the 'id' column\n",
    "merged_data = pd.merge(training_set_values, training_set_labels, on='id', how='inner')\n",
    "\n",
    "# Display the merged dataset\n",
    "print(merged_data)\n"
   ]
  },
  {
   "cell_type": "code",
   "execution_count": 5,
   "id": "9b589f62-97d8-4196-9b9e-32c2c09a5dc1",
   "metadata": {},
   "outputs": [
    {
     "data": {
      "text/html": [
       "<div>\n",
       "<style scoped>\n",
       "    .dataframe tbody tr th:only-of-type {\n",
       "        vertical-align: middle;\n",
       "    }\n",
       "\n",
       "    .dataframe tbody tr th {\n",
       "        vertical-align: top;\n",
       "    }\n",
       "\n",
       "    .dataframe thead th {\n",
       "        text-align: right;\n",
       "    }\n",
       "</style>\n",
       "<table border=\"1\" class=\"dataframe\">\n",
       "  <thead>\n",
       "    <tr style=\"text-align: right;\">\n",
       "      <th></th>\n",
       "      <th>id</th>\n",
       "      <th>amount_tsh</th>\n",
       "      <th>date_recorded</th>\n",
       "      <th>funder</th>\n",
       "      <th>gps_height</th>\n",
       "      <th>installer</th>\n",
       "      <th>longitude</th>\n",
       "      <th>latitude</th>\n",
       "      <th>wpt_name</th>\n",
       "      <th>num_private</th>\n",
       "      <th>...</th>\n",
       "      <th>water_quality</th>\n",
       "      <th>quality_group</th>\n",
       "      <th>quantity</th>\n",
       "      <th>quantity_group</th>\n",
       "      <th>source</th>\n",
       "      <th>source_type</th>\n",
       "      <th>source_class</th>\n",
       "      <th>waterpoint_type</th>\n",
       "      <th>waterpoint_type_group</th>\n",
       "      <th>status_group</th>\n",
       "    </tr>\n",
       "  </thead>\n",
       "  <tbody>\n",
       "    <tr>\n",
       "      <th>0</th>\n",
       "      <td>69572</td>\n",
       "      <td>6000.0</td>\n",
       "      <td>2011-03-14</td>\n",
       "      <td>Roman</td>\n",
       "      <td>1390</td>\n",
       "      <td>Roman</td>\n",
       "      <td>34.938093</td>\n",
       "      <td>-9.856322</td>\n",
       "      <td>none</td>\n",
       "      <td>0</td>\n",
       "      <td>...</td>\n",
       "      <td>soft</td>\n",
       "      <td>good</td>\n",
       "      <td>enough</td>\n",
       "      <td>enough</td>\n",
       "      <td>spring</td>\n",
       "      <td>spring</td>\n",
       "      <td>groundwater</td>\n",
       "      <td>communal standpipe</td>\n",
       "      <td>communal standpipe</td>\n",
       "      <td>functional</td>\n",
       "    </tr>\n",
       "    <tr>\n",
       "      <th>1</th>\n",
       "      <td>8776</td>\n",
       "      <td>0.0</td>\n",
       "      <td>2013-03-06</td>\n",
       "      <td>Grumeti</td>\n",
       "      <td>1399</td>\n",
       "      <td>GRUMETI</td>\n",
       "      <td>34.698766</td>\n",
       "      <td>-2.147466</td>\n",
       "      <td>Zahanati</td>\n",
       "      <td>0</td>\n",
       "      <td>...</td>\n",
       "      <td>soft</td>\n",
       "      <td>good</td>\n",
       "      <td>insufficient</td>\n",
       "      <td>insufficient</td>\n",
       "      <td>rainwater harvesting</td>\n",
       "      <td>rainwater harvesting</td>\n",
       "      <td>surface</td>\n",
       "      <td>communal standpipe</td>\n",
       "      <td>communal standpipe</td>\n",
       "      <td>functional</td>\n",
       "    </tr>\n",
       "    <tr>\n",
       "      <th>2</th>\n",
       "      <td>34310</td>\n",
       "      <td>25.0</td>\n",
       "      <td>2013-02-25</td>\n",
       "      <td>Lottery Club</td>\n",
       "      <td>686</td>\n",
       "      <td>World vision</td>\n",
       "      <td>37.460664</td>\n",
       "      <td>-3.821329</td>\n",
       "      <td>Kwa Mahundi</td>\n",
       "      <td>0</td>\n",
       "      <td>...</td>\n",
       "      <td>soft</td>\n",
       "      <td>good</td>\n",
       "      <td>enough</td>\n",
       "      <td>enough</td>\n",
       "      <td>dam</td>\n",
       "      <td>dam</td>\n",
       "      <td>surface</td>\n",
       "      <td>communal standpipe multiple</td>\n",
       "      <td>communal standpipe</td>\n",
       "      <td>functional</td>\n",
       "    </tr>\n",
       "    <tr>\n",
       "      <th>3</th>\n",
       "      <td>67743</td>\n",
       "      <td>0.0</td>\n",
       "      <td>2013-01-28</td>\n",
       "      <td>Unicef</td>\n",
       "      <td>263</td>\n",
       "      <td>UNICEF</td>\n",
       "      <td>38.486161</td>\n",
       "      <td>-11.155298</td>\n",
       "      <td>Zahanati Ya Nanyumbu</td>\n",
       "      <td>0</td>\n",
       "      <td>...</td>\n",
       "      <td>soft</td>\n",
       "      <td>good</td>\n",
       "      <td>dry</td>\n",
       "      <td>dry</td>\n",
       "      <td>machine dbh</td>\n",
       "      <td>borehole</td>\n",
       "      <td>groundwater</td>\n",
       "      <td>communal standpipe multiple</td>\n",
       "      <td>communal standpipe</td>\n",
       "      <td>non functional</td>\n",
       "    </tr>\n",
       "    <tr>\n",
       "      <th>4</th>\n",
       "      <td>19728</td>\n",
       "      <td>0.0</td>\n",
       "      <td>2011-07-13</td>\n",
       "      <td>Action In A</td>\n",
       "      <td>0</td>\n",
       "      <td>Artisan</td>\n",
       "      <td>31.130847</td>\n",
       "      <td>-1.825359</td>\n",
       "      <td>Shuleni</td>\n",
       "      <td>0</td>\n",
       "      <td>...</td>\n",
       "      <td>soft</td>\n",
       "      <td>good</td>\n",
       "      <td>seasonal</td>\n",
       "      <td>seasonal</td>\n",
       "      <td>rainwater harvesting</td>\n",
       "      <td>rainwater harvesting</td>\n",
       "      <td>surface</td>\n",
       "      <td>communal standpipe</td>\n",
       "      <td>communal standpipe</td>\n",
       "      <td>functional</td>\n",
       "    </tr>\n",
       "  </tbody>\n",
       "</table>\n",
       "<p>5 rows × 41 columns</p>\n",
       "</div>"
      ],
      "text/plain": [
       "      id  amount_tsh date_recorded        funder  gps_height     installer  \\\n",
       "0  69572      6000.0    2011-03-14         Roman        1390         Roman   \n",
       "1   8776         0.0    2013-03-06       Grumeti        1399       GRUMETI   \n",
       "2  34310        25.0    2013-02-25  Lottery Club         686  World vision   \n",
       "3  67743         0.0    2013-01-28        Unicef         263        UNICEF   \n",
       "4  19728         0.0    2011-07-13   Action In A           0       Artisan   \n",
       "\n",
       "   longitude   latitude              wpt_name  num_private  ... water_quality  \\\n",
       "0  34.938093  -9.856322                  none            0  ...          soft   \n",
       "1  34.698766  -2.147466              Zahanati            0  ...          soft   \n",
       "2  37.460664  -3.821329           Kwa Mahundi            0  ...          soft   \n",
       "3  38.486161 -11.155298  Zahanati Ya Nanyumbu            0  ...          soft   \n",
       "4  31.130847  -1.825359               Shuleni            0  ...          soft   \n",
       "\n",
       "  quality_group      quantity  quantity_group                source  \\\n",
       "0          good        enough          enough                spring   \n",
       "1          good  insufficient    insufficient  rainwater harvesting   \n",
       "2          good        enough          enough                   dam   \n",
       "3          good           dry             dry           machine dbh   \n",
       "4          good      seasonal        seasonal  rainwater harvesting   \n",
       "\n",
       "            source_type source_class              waterpoint_type  \\\n",
       "0                spring  groundwater           communal standpipe   \n",
       "1  rainwater harvesting      surface           communal standpipe   \n",
       "2                   dam      surface  communal standpipe multiple   \n",
       "3              borehole  groundwater  communal standpipe multiple   \n",
       "4  rainwater harvesting      surface           communal standpipe   \n",
       "\n",
       "  waterpoint_type_group    status_group  \n",
       "0    communal standpipe      functional  \n",
       "1    communal standpipe      functional  \n",
       "2    communal standpipe      functional  \n",
       "3    communal standpipe  non functional  \n",
       "4    communal standpipe      functional  \n",
       "\n",
       "[5 rows x 41 columns]"
      ]
     },
     "execution_count": 5,
     "metadata": {},
     "output_type": "execute_result"
    }
   ],
   "source": [
    "\n",
    "# Display the first few rows of the merged dataset\n",
    "merged_data.head()\n",
    "\n"
   ]
  },
  {
   "cell_type": "code",
   "execution_count": 6,
   "id": "b662d52d-a65c-46eb-b513-04acd7f51b4c",
   "metadata": {},
   "outputs": [
    {
     "name": "stdout",
     "output_type": "stream",
     "text": [
      "          id  amount_tsh date_recorded                  funder  gps_height  \\\n",
      "0      50785         0.0    2013-02-04                    Dmdd        1996   \n",
      "1      51630         0.0    2013-02-04  Government Of Tanzania        1569   \n",
      "2      17168         0.0    2013-02-01                     NaN        1567   \n",
      "3      45559         0.0    2013-01-22              Finn Water         267   \n",
      "4      49871       500.0    2013-03-27                  Bruder        1260   \n",
      "...      ...         ...           ...                     ...         ...   \n",
      "14845  39307         0.0    2011-02-24                  Danida          34   \n",
      "14846  18990      1000.0    2011-03-21                    Hiap           0   \n",
      "14847  28749         0.0    2013-03-04                     NaN        1476   \n",
      "14848  33492         0.0    2013-02-18                 Germany         998   \n",
      "14849  68707         0.0    2013-02-13  Government Of Tanzania         481   \n",
      "\n",
      "        installer  longitude   latitude                 wpt_name  num_private  \\\n",
      "0            DMDD  35.290799  -4.059696  Dinamu Secondary School            0   \n",
      "1             DWE  36.656709  -3.309214                  Kimnyak            0   \n",
      "2             NaN  34.767863  -5.004344           Puma Secondary            0   \n",
      "3      FINN WATER  38.058046  -9.418672           Kwa Mzee Pange            0   \n",
      "4          BRUDER  35.006123 -10.950412          Kwa Mzee Turuka            0   \n",
      "...           ...        ...        ...                      ...          ...   \n",
      "14845          Da  38.852669  -6.582841                Kwambwezi            0   \n",
      "14846        HIAP  37.451633  -5.350428         Bonde La Mkondoa            0   \n",
      "14847         NaN  34.739804  -4.585587                  Bwawani            0   \n",
      "14848         DWE  35.432732 -10.584159                 Kwa John            0   \n",
      "14849  Government  34.765054 -11.226012         Kwa Mzee Chagala            0   \n",
      "\n",
      "       ... payment_type water_quality quality_group      quantity  \\\n",
      "0      ...    never pay          soft          good      seasonal   \n",
      "1      ...    never pay          soft          good  insufficient   \n",
      "2      ...    never pay          soft          good  insufficient   \n",
      "3      ...      unknown          soft          good           dry   \n",
      "4      ...      monthly          soft          good        enough   \n",
      "...    ...          ...           ...           ...           ...   \n",
      "14845  ...    never pay          soft          good        enough   \n",
      "14846  ...     annually         salty         salty  insufficient   \n",
      "14847  ...    never pay          soft          good  insufficient   \n",
      "14848  ...    never pay          soft          good  insufficient   \n",
      "14849  ...    never pay          soft          good           dry   \n",
      "\n",
      "       quantity_group                source           source_type  \\\n",
      "0            seasonal  rainwater harvesting  rainwater harvesting   \n",
      "1        insufficient                spring                spring   \n",
      "2        insufficient  rainwater harvesting  rainwater harvesting   \n",
      "3                 dry          shallow well          shallow well   \n",
      "4              enough                spring                spring   \n",
      "...               ...                   ...                   ...   \n",
      "14845          enough                 river            river/lake   \n",
      "14846    insufficient          shallow well          shallow well   \n",
      "14847    insufficient                   dam                   dam   \n",
      "14848    insufficient                 river            river/lake   \n",
      "14849             dry                spring                spring   \n",
      "\n",
      "       source_class     waterpoint_type waterpoint_type_group  \n",
      "0           surface               other                 other  \n",
      "1       groundwater  communal standpipe    communal standpipe  \n",
      "2           surface               other                 other  \n",
      "3       groundwater               other                 other  \n",
      "4       groundwater  communal standpipe    communal standpipe  \n",
      "...             ...                 ...                   ...  \n",
      "14845       surface  communal standpipe    communal standpipe  \n",
      "14846   groundwater           hand pump             hand pump  \n",
      "14847       surface  communal standpipe    communal standpipe  \n",
      "14848       surface  communal standpipe    communal standpipe  \n",
      "14849   groundwater  communal standpipe    communal standpipe  \n",
      "\n",
      "[14850 rows x 40 columns]\n"
     ]
    }
   ],
   "source": [
    "# Load the test set values dataset\n",
    "test_set_values = pd.read_csv('/Users/jguzzo522/Desktop/WATERWELL/testsetvalues.csv')\n",
    "\n",
    "# Print out the test set values dataset\n",
    "print(test_set_values)\n"
   ]
  },
  {
   "cell_type": "code",
   "execution_count": 7,
   "id": "4636d44d-a4e8-4b96-89c0-70f4e9f9a25a",
   "metadata": {},
   "outputs": [
    {
     "data": {
      "text/html": [
       "<div>\n",
       "<style scoped>\n",
       "    .dataframe tbody tr th:only-of-type {\n",
       "        vertical-align: middle;\n",
       "    }\n",
       "\n",
       "    .dataframe tbody tr th {\n",
       "        vertical-align: top;\n",
       "    }\n",
       "\n",
       "    .dataframe thead th {\n",
       "        text-align: right;\n",
       "    }\n",
       "</style>\n",
       "<table border=\"1\" class=\"dataframe\">\n",
       "  <thead>\n",
       "    <tr style=\"text-align: right;\">\n",
       "      <th></th>\n",
       "      <th>id</th>\n",
       "      <th>amount_tsh</th>\n",
       "      <th>date_recorded</th>\n",
       "      <th>funder</th>\n",
       "      <th>gps_height</th>\n",
       "      <th>installer</th>\n",
       "      <th>longitude</th>\n",
       "      <th>latitude</th>\n",
       "      <th>wpt_name</th>\n",
       "      <th>num_private</th>\n",
       "      <th>...</th>\n",
       "      <th>payment_type</th>\n",
       "      <th>water_quality</th>\n",
       "      <th>quality_group</th>\n",
       "      <th>quantity</th>\n",
       "      <th>quantity_group</th>\n",
       "      <th>source</th>\n",
       "      <th>source_type</th>\n",
       "      <th>source_class</th>\n",
       "      <th>waterpoint_type</th>\n",
       "      <th>waterpoint_type_group</th>\n",
       "    </tr>\n",
       "  </thead>\n",
       "  <tbody>\n",
       "    <tr>\n",
       "      <th>0</th>\n",
       "      <td>50785</td>\n",
       "      <td>0.0</td>\n",
       "      <td>2013-02-04</td>\n",
       "      <td>Dmdd</td>\n",
       "      <td>1996</td>\n",
       "      <td>DMDD</td>\n",
       "      <td>35.290799</td>\n",
       "      <td>-4.059696</td>\n",
       "      <td>Dinamu Secondary School</td>\n",
       "      <td>0</td>\n",
       "      <td>...</td>\n",
       "      <td>never pay</td>\n",
       "      <td>soft</td>\n",
       "      <td>good</td>\n",
       "      <td>seasonal</td>\n",
       "      <td>seasonal</td>\n",
       "      <td>rainwater harvesting</td>\n",
       "      <td>rainwater harvesting</td>\n",
       "      <td>surface</td>\n",
       "      <td>other</td>\n",
       "      <td>other</td>\n",
       "    </tr>\n",
       "    <tr>\n",
       "      <th>1</th>\n",
       "      <td>51630</td>\n",
       "      <td>0.0</td>\n",
       "      <td>2013-02-04</td>\n",
       "      <td>Government Of Tanzania</td>\n",
       "      <td>1569</td>\n",
       "      <td>DWE</td>\n",
       "      <td>36.656709</td>\n",
       "      <td>-3.309214</td>\n",
       "      <td>Kimnyak</td>\n",
       "      <td>0</td>\n",
       "      <td>...</td>\n",
       "      <td>never pay</td>\n",
       "      <td>soft</td>\n",
       "      <td>good</td>\n",
       "      <td>insufficient</td>\n",
       "      <td>insufficient</td>\n",
       "      <td>spring</td>\n",
       "      <td>spring</td>\n",
       "      <td>groundwater</td>\n",
       "      <td>communal standpipe</td>\n",
       "      <td>communal standpipe</td>\n",
       "    </tr>\n",
       "    <tr>\n",
       "      <th>2</th>\n",
       "      <td>17168</td>\n",
       "      <td>0.0</td>\n",
       "      <td>2013-02-01</td>\n",
       "      <td>NaN</td>\n",
       "      <td>1567</td>\n",
       "      <td>NaN</td>\n",
       "      <td>34.767863</td>\n",
       "      <td>-5.004344</td>\n",
       "      <td>Puma Secondary</td>\n",
       "      <td>0</td>\n",
       "      <td>...</td>\n",
       "      <td>never pay</td>\n",
       "      <td>soft</td>\n",
       "      <td>good</td>\n",
       "      <td>insufficient</td>\n",
       "      <td>insufficient</td>\n",
       "      <td>rainwater harvesting</td>\n",
       "      <td>rainwater harvesting</td>\n",
       "      <td>surface</td>\n",
       "      <td>other</td>\n",
       "      <td>other</td>\n",
       "    </tr>\n",
       "    <tr>\n",
       "      <th>3</th>\n",
       "      <td>45559</td>\n",
       "      <td>0.0</td>\n",
       "      <td>2013-01-22</td>\n",
       "      <td>Finn Water</td>\n",
       "      <td>267</td>\n",
       "      <td>FINN WATER</td>\n",
       "      <td>38.058046</td>\n",
       "      <td>-9.418672</td>\n",
       "      <td>Kwa Mzee Pange</td>\n",
       "      <td>0</td>\n",
       "      <td>...</td>\n",
       "      <td>unknown</td>\n",
       "      <td>soft</td>\n",
       "      <td>good</td>\n",
       "      <td>dry</td>\n",
       "      <td>dry</td>\n",
       "      <td>shallow well</td>\n",
       "      <td>shallow well</td>\n",
       "      <td>groundwater</td>\n",
       "      <td>other</td>\n",
       "      <td>other</td>\n",
       "    </tr>\n",
       "    <tr>\n",
       "      <th>4</th>\n",
       "      <td>49871</td>\n",
       "      <td>500.0</td>\n",
       "      <td>2013-03-27</td>\n",
       "      <td>Bruder</td>\n",
       "      <td>1260</td>\n",
       "      <td>BRUDER</td>\n",
       "      <td>35.006123</td>\n",
       "      <td>-10.950412</td>\n",
       "      <td>Kwa Mzee Turuka</td>\n",
       "      <td>0</td>\n",
       "      <td>...</td>\n",
       "      <td>monthly</td>\n",
       "      <td>soft</td>\n",
       "      <td>good</td>\n",
       "      <td>enough</td>\n",
       "      <td>enough</td>\n",
       "      <td>spring</td>\n",
       "      <td>spring</td>\n",
       "      <td>groundwater</td>\n",
       "      <td>communal standpipe</td>\n",
       "      <td>communal standpipe</td>\n",
       "    </tr>\n",
       "  </tbody>\n",
       "</table>\n",
       "<p>5 rows × 40 columns</p>\n",
       "</div>"
      ],
      "text/plain": [
       "      id  amount_tsh date_recorded                  funder  gps_height  \\\n",
       "0  50785         0.0    2013-02-04                    Dmdd        1996   \n",
       "1  51630         0.0    2013-02-04  Government Of Tanzania        1569   \n",
       "2  17168         0.0    2013-02-01                     NaN        1567   \n",
       "3  45559         0.0    2013-01-22              Finn Water         267   \n",
       "4  49871       500.0    2013-03-27                  Bruder        1260   \n",
       "\n",
       "    installer  longitude   latitude                 wpt_name  num_private  \\\n",
       "0        DMDD  35.290799  -4.059696  Dinamu Secondary School            0   \n",
       "1         DWE  36.656709  -3.309214                  Kimnyak            0   \n",
       "2         NaN  34.767863  -5.004344           Puma Secondary            0   \n",
       "3  FINN WATER  38.058046  -9.418672           Kwa Mzee Pange            0   \n",
       "4      BRUDER  35.006123 -10.950412          Kwa Mzee Turuka            0   \n",
       "\n",
       "   ... payment_type water_quality quality_group      quantity  quantity_group  \\\n",
       "0  ...    never pay          soft          good      seasonal        seasonal   \n",
       "1  ...    never pay          soft          good  insufficient    insufficient   \n",
       "2  ...    never pay          soft          good  insufficient    insufficient   \n",
       "3  ...      unknown          soft          good           dry             dry   \n",
       "4  ...      monthly          soft          good        enough          enough   \n",
       "\n",
       "                 source           source_type  source_class  \\\n",
       "0  rainwater harvesting  rainwater harvesting       surface   \n",
       "1                spring                spring   groundwater   \n",
       "2  rainwater harvesting  rainwater harvesting       surface   \n",
       "3          shallow well          shallow well   groundwater   \n",
       "4                spring                spring   groundwater   \n",
       "\n",
       "      waterpoint_type waterpoint_type_group  \n",
       "0               other                 other  \n",
       "1  communal standpipe    communal standpipe  \n",
       "2               other                 other  \n",
       "3               other                 other  \n",
       "4  communal standpipe    communal standpipe  \n",
       "\n",
       "[5 rows x 40 columns]"
      ]
     },
     "execution_count": 7,
     "metadata": {},
     "output_type": "execute_result"
    }
   ],
   "source": [
    "# Display the first few rows of the test set values dataset\n",
    "test_set_values.head()\n"
   ]
  },
  {
   "cell_type": "markdown",
   "id": "bedd2eeb-75c2-45f8-9a83-39fd1adaeaad",
   "metadata": {},
   "source": [
    "## Exploring the data\n"
   ]
  },
  {
   "cell_type": "code",
   "execution_count": 8,
   "id": "e7067276-0d40-4921-9149-23dacde6d305",
   "metadata": {},
   "outputs": [
    {
     "name": "stdout",
     "output_type": "stream",
     "text": [
      "id                       59400\n",
      "amount_tsh                  98\n",
      "date_recorded              356\n",
      "funder                    1897\n",
      "gps_height                2428\n",
      "installer                 2145\n",
      "longitude                57516\n",
      "latitude                 57517\n",
      "wpt_name                 37400\n",
      "num_private                 65\n",
      "basin                        9\n",
      "subvillage               19287\n",
      "region                      21\n",
      "region_code                 27\n",
      "district_code               20\n",
      "lga                        125\n",
      "ward                      2092\n",
      "population                1049\n",
      "public_meeting               2\n",
      "recorded_by                  1\n",
      "scheme_management           12\n",
      "scheme_name               2696\n",
      "permit                       2\n",
      "construction_year           55\n",
      "extraction_type             18\n",
      "extraction_type_group       13\n",
      "extraction_type_class        7\n",
      "management                  12\n",
      "management_group             5\n",
      "payment                      7\n",
      "payment_type                 7\n",
      "water_quality                8\n",
      "quality_group                6\n",
      "quantity                     5\n",
      "quantity_group               5\n",
      "source                      10\n",
      "source_type                  7\n",
      "source_class                 3\n",
      "waterpoint_type              7\n",
      "waterpoint_type_group        6\n",
      "status_group                 3\n",
      "dtype: int64\n"
     ]
    }
   ],
   "source": [
    "# Get the number of unique values for each column in the merged dataset\n",
    "unique_values_counts = merged_data.nunique()\n",
    "\n",
    "# Display the number of unique values for each column\n",
    "print(unique_values_counts)\n"
   ]
  },
  {
   "cell_type": "markdown",
   "id": "eeffb24a-3260-47ad-bd1a-63794c838a2a",
   "metadata": {},
   "source": [
    "## Removal of \"columns\n",
    "\n",
    "The column \"funder\" contains a large number of unique values (1897). Attempting to analyze how 1897 different companies or individuals funded the water wells would be very time-consuming and might not provide significant insights due to the sheer volume of categories. Therefore, we have opted to remove the \"funder_x\" variable from our dataset to streamline our analysis and focus on other variables with potentially more significant impact on our predictive modeling.\n",
    "\n",
    "In the initial exploration of our dataset, we identified the \"subvillage\" feature, which represents the geographic location of each waterpoint at a subvillage level. However, upon closer examination, we observed that this feature contains a large number of unique values (19,287). While capturing detailed geographic information is important for understanding the distribution of waterpoints, including such granular data in our predictive modeling may not yield meaningful insights and could introduce unnecessary complexity to our analysis.\n",
    "\n",
    "The \"wpt_name\" column contains a large number of unique values (37,400), representing different names of waterpoints. Similar to the decision to drop the \"subvillage\" column, the high cardinality of this feature could potentially lead to overfitting, increased model complexity, and reduced interpretability without significantly enhancing predictive performance. Given the sheer number of distinct names and the potential for noise or redundancy in the data, it's prudent to exclude this column from our analysis to maintain simplicity and focus on features with more meaningful predictive value.\n",
    "\n",
    "Upon examining the dataset, it is evident that both 'scheme_management' and 'scheme_name' represent the entity responsible for operating the waterpoint. However, 'scheme_management' contains only 12 unique values, whereas 'scheme_name' has 2696 unique values. Given that 'scheme_management' provides a more concise categorization with fewer unique values, we have decided to retain this variable and drop 'scheme_name' for simplicity and ease of analysis."
   ]
  },
  {
   "cell_type": "code",
   "execution_count": 9,
   "id": "8ab47bbd-4d7d-4864-8d9f-6b35a47c93d4",
   "metadata": {},
   "outputs": [
    {
     "name": "stdout",
     "output_type": "stream",
     "text": [
      "Number of unique values: 1897\n",
      "Unique values:\n",
      "['Roman' 'Grumeti' 'Lottery Club' ... 'Dina' 'Brown' 'Samlo']\n"
     ]
    }
   ],
   "source": [
    "# Count the number of unique values\n",
    "num_unique_values = merged_data['funder'].nunique()\n",
    "\n",
    "# Display the number of unique values\n",
    "print(\"Number of unique values:\", num_unique_values)\n",
    "\n",
    "# Display the unique values\n",
    "unique_values = merged_data['funder'].unique()\n",
    "print(\"Unique values:\")\n",
    "print(unique_values)\n"
   ]
  },
  {
   "cell_type": "code",
   "execution_count": 10,
   "id": "2b7ceb27-22f7-41ef-839f-b53c6e4f529b",
   "metadata": {},
   "outputs": [],
   "source": [
    "# Drop the \"funder\" column\n",
    "merged_data.drop(columns=['funder'], inplace=True)\n"
   ]
  },
  {
   "cell_type": "markdown",
   "id": "09dd3358-9014-44b9-b3e0-91a9336a03d9",
   "metadata": {},
   "source": [
    "In the initial exploration of our dataset, we identified the \"subvillage\" feature, which represents the geographic location of each waterpoint at a subvillage level. However, upon closer examination, we observed that this feature contains a large number of unique values (19,287). While capturing detailed geographic information is important for understanding the distribution of waterpoints, including such granular data in our predictive modeling may not yield meaningful insights and could introduce unnecessary complexity to our analysis.\n"
   ]
  },
  {
   "cell_type": "code",
   "execution_count": 11,
   "id": "cafa0ea9-ecd1-4267-9985-869e327702a9",
   "metadata": {},
   "outputs": [],
   "source": [
    "# Drop the \"subvillage\" column\n",
    "merged_data.drop(columns=['subvillage'], inplace=True)\n"
   ]
  },
  {
   "cell_type": "markdown",
   "id": "cd7e693a-d5b1-47d8-a1c5-b76773540d2a",
   "metadata": {},
   "source": [
    "The \"wpt_name\" column contains a large number of unique values (37,400), representing different names of waterpoints. Similar to the decision to drop the \"subvillage\" column, the high cardinality of this feature could potentially lead to overfitting, increased model complexity, and reduced interpretability without significantly enhancing predictive performance. Given the sheer number of distinct names and the potential for noise or redundancy in the data, it's prudent to exclude this column from our analysis to maintain simplicity and focus on features with more meaningful predictive value."
   ]
  },
  {
   "cell_type": "code",
   "execution_count": 12,
   "id": "b7f9d956-49f5-47a4-af52-27c017771f84",
   "metadata": {},
   "outputs": [],
   "source": [
    "# Drop the \"wpt_name\" column\n",
    "merged_data.drop(columns=['wpt_name'], inplace=True)\n"
   ]
  },
  {
   "cell_type": "markdown",
   "id": "76588798-b61d-4831-99f5-7e7f1bf6f3d6",
   "metadata": {},
   "source": [
    "Upon examining the dataset, it is evident that both 'scheme_management' and 'scheme_name' represent the entity responsible for operating the waterpoint. However, 'scheme_management' contains only 12 unique values, whereas 'scheme_name' has 2696 unique values. Given that 'scheme_management' provides a more concise categorization with fewer unique values, we have decided to retain this variable and drop 'scheme_name' for simplicity and ease of analysis."
   ]
  },
  {
   "cell_type": "code",
   "execution_count": 13,
   "id": "04a06e62-b7a6-4756-a009-768bfbcc826b",
   "metadata": {},
   "outputs": [],
   "source": [
    "# Drop the \"subvillage\" column\n",
    "merged_data.drop(columns=['scheme_name'], inplace=True)"
   ]
  },
  {
   "cell_type": "code",
   "execution_count": 14,
   "id": "3a88d0c2-fa0f-4ff5-8b27-e15b877ff601",
   "metadata": {},
   "outputs": [
    {
     "name": "stdout",
     "output_type": "stream",
     "text": [
      "Number of unique installers: 2146\n",
      "Unique installers: ['Roman' 'GRUMETI' 'World vision' 'UNICEF' 'Artisan' 'DWE' 'DWSP'\n",
      " 'Water Aid' 'Private' 'DANIDA']\n"
     ]
    }
   ],
   "source": [
    "# Check the number of unique values in the 'installer' column\n",
    "num_unique_installers = len(merged_data['installer'].unique())\n",
    "print(\"Number of unique installers:\", num_unique_installers)\n",
    "\n",
    "# Display some of the unique values in the 'installer' column\n",
    "unique_installers = merged_data['installer'].unique()\n",
    "print(\"Unique installers:\", unique_installers[:10])  # Displaying the first 10 unique values\n"
   ]
  },
  {
   "cell_type": "markdown",
   "id": "f543a04e-2b15-4834-9a5f-c12d688575ab",
   "metadata": {},
   "source": [
    "The 'installer' column contains a large number of unique values (2146), indicating a wide variety of organizations or individuals responsible for installing waterpoints. Analyzing each unique installer would be cumbersome and may not significantly contribute to our predictive modeling efforts. Furthermore, the identity of the installer might not have a direct impact on the functionality of waterpoints. Therefore, removing this column streamlines our dataset, focusing on more relevant features for predictive modeling."
   ]
  },
  {
   "cell_type": "code",
   "execution_count": 15,
   "id": "4e75c6c2-60b2-4f85-96e0-ea2e99527e95",
   "metadata": {},
   "outputs": [],
   "source": [
    "# Drop the \"installer\" column\n",
    "merged_data.drop(columns=['installer'], inplace=True)\n"
   ]
  },
  {
   "cell_type": "code",
   "execution_count": 16,
   "id": "a492970f-f75b-44bf-a945-5e78724aab0e",
   "metadata": {},
   "outputs": [
    {
     "name": "stdout",
     "output_type": "stream",
     "text": [
      "id                       59400\n",
      "amount_tsh                  98\n",
      "date_recorded              356\n",
      "gps_height                2428\n",
      "longitude                57516\n",
      "latitude                 57517\n",
      "num_private                 65\n",
      "basin                        9\n",
      "region                      21\n",
      "region_code                 27\n",
      "district_code               20\n",
      "lga                        125\n",
      "ward                      2092\n",
      "population                1049\n",
      "public_meeting               2\n",
      "recorded_by                  1\n",
      "scheme_management           12\n",
      "permit                       2\n",
      "construction_year           55\n",
      "extraction_type             18\n",
      "extraction_type_group       13\n",
      "extraction_type_class        7\n",
      "management                  12\n",
      "management_group             5\n",
      "payment                      7\n",
      "payment_type                 7\n",
      "water_quality                8\n",
      "quality_group                6\n",
      "quantity                     5\n",
      "quantity_group               5\n",
      "source                      10\n",
      "source_type                  7\n",
      "source_class                 3\n",
      "waterpoint_type              7\n",
      "waterpoint_type_group        6\n",
      "status_group                 3\n",
      "dtype: int64\n"
     ]
    }
   ],
   "source": [
    "# Get the number of unique values for each column in the merged dataset\n",
    "unique_values_counts = merged_data.nunique()\n",
    "\n",
    "# Display the number of unique values for each column\n",
    "print(unique_values_counts)"
   ]
  },
  {
   "cell_type": "code",
   "execution_count": 17,
   "id": "296765d4-954f-4a39-9fa3-bb44b7ba9592",
   "metadata": {},
   "outputs": [
    {
     "name": "stdout",
     "output_type": "stream",
     "text": [
      "Unique values in 'management':\n",
      "['vwc' 'wug' 'other' 'private operator' 'water board' 'wua' 'company'\n",
      " 'water authority' 'parastatal' 'unknown' 'other - school' 'trust']\n",
      "\n",
      "Unique values in 'management_group':\n",
      "['user-group' 'other' 'commercial' 'parastatal' 'unknown']\n"
     ]
    }
   ],
   "source": [
    "unique_management_values = merged_data['management'].unique()\n",
    "unique_management_group_values = merged_data['management_group'].unique()\n",
    "\n",
    "print(\"Unique values in 'management':\")\n",
    "print(unique_management_values)\n",
    "\n",
    "print(\"\\nUnique values in 'management_group':\")\n",
    "print(unique_management_group_values)\n"
   ]
  },
  {
   "cell_type": "markdown",
   "id": "d271ceba-02fa-4ecf-9009-ebbb93810861",
   "metadata": {},
   "source": [
    "Upon examining the dataset, it became apparent that both 'management' and 'management_group' convey information about the entity responsible for operating the waterpoint. However, 'management' encompasses a wider range of specific entities, resulting in 12 unique values, while 'management_group' provides a broader categorization with 5 unique values. Given that 'management_group' offers a more generalized classification and is easier to interpret, especially for predictive modeling, we have chosen to retain it and discard 'management'. This decision streamlines the dataset, making it more manageable for analysis and modeling purposes."
   ]
  },
  {
   "cell_type": "code",
   "execution_count": 18,
   "id": "17cf6fa8-a588-45be-86db-12b275291d90",
   "metadata": {},
   "outputs": [],
   "source": [
    "# Drop the \"managment\" column\n",
    "merged_data.drop(columns=['management'], inplace=True)"
   ]
  },
  {
   "cell_type": "code",
   "execution_count": 19,
   "id": "5ae2ded8-39f9-4c13-bd73-c4b8de561517",
   "metadata": {},
   "outputs": [
    {
     "name": "stdout",
     "output_type": "stream",
     "text": [
      "Unique values in 'waterpoint_type':\n",
      "['communal standpipe' 'communal standpipe multiple' 'hand pump' 'other'\n",
      " 'improved spring' 'cattle trough' 'dam']\n",
      "\n",
      "Unique values in 'waterpoint_type_group':\n",
      "['communal standpipe' 'hand pump' 'other' 'improved spring'\n",
      " 'cattle trough' 'dam']\n"
     ]
    }
   ],
   "source": [
    "# Unique values in 'waterpoint_type'\n",
    "print(\"Unique values in 'waterpoint_type':\")\n",
    "print(merged_data['waterpoint_type'].unique())\n",
    "\n",
    "# Unique values in 'waterpoint_type_group'\n",
    "print(\"\\nUnique values in 'waterpoint_type_group':\")\n",
    "print(merged_data['waterpoint_type_group'].unique())\n"
   ]
  },
  {
   "cell_type": "markdown",
   "id": "87794012-414c-44d2-a7ce-8821327b5791",
   "metadata": {},
   "source": [
    "Upon examining the unique values in the 'waterpoint_type' and 'waterpoint_type_group' columns, it's apparent that both columns represent categories of waterpoints, but 'waterpoint_type' provides more detailed distinctions with seven unique values, while 'waterpoint_type_group' aggregates these into six categories.\n",
    "\n",
    "Considering the potential significance of the distinctions between different types of waterpoints, it may be beneficial to retain the column with more granular information ('waterpoint_type') and drop the column with fewer unique values ('waterpoint_type_group'). By doing so, we maintain a more detailed representation of the types of waterpoints in the dataset, which could potentially offer more insights during analysis or modeling.\n",
    "\n",
    "Therefore, we have decided to drop the 'waterpoint_type_group' column to streamline the dataset while preserving the detailed categorization provided by the 'waterpoint_type' column.\n",
    "\n",
    "\n",
    "\n",
    "\n"
   ]
  },
  {
   "cell_type": "code",
   "execution_count": 20,
   "id": "1fc784a5-adc9-49f2-bdbe-ad6015f65adc",
   "metadata": {},
   "outputs": [],
   "source": [
    "# Drop the \"waterpoint_type_group\" column\n",
    "merged_data.drop(columns=['waterpoint_type_group'], inplace=True)"
   ]
  },
  {
   "cell_type": "code",
   "execution_count": 21,
   "id": "38769ef7-3cd5-4b9b-b0af-d3afd0ac6a39",
   "metadata": {},
   "outputs": [
    {
     "name": "stdout",
     "output_type": "stream",
     "text": [
      "Unique values in 'quantity':\n",
      "['enough' 'insufficient' 'dry' 'seasonal' 'unknown']\n",
      "\n",
      "Unique values in 'quantity_group':\n",
      "['enough' 'insufficient' 'dry' 'seasonal' 'unknown']\n",
      "Number of NaN values in 'quantity': 0\n",
      "Number of NaN values in 'quantity_group': 0\n"
     ]
    }
   ],
   "source": [
    "print(\"Unique values in 'quantity':\")\n",
    "print(merged_data['quantity'].unique())\n",
    "\n",
    "print(\"\\nUnique values in 'quantity_group':\")\n",
    "print(merged_data['quantity_group'].unique())\n",
    "print(\"Number of NaN values in 'quantity':\", merged_data['quantity'].isna().sum())\n",
    "print(\"Number of NaN values in 'quantity_group':\", merged_data['quantity_group'].isna().sum())\n",
    "\n"
   ]
  },
  {
   "cell_type": "markdown",
   "id": "7f7a5a38-8a9d-4c16-b3bd-ae598898c01b",
   "metadata": {},
   "source": [
    "Upon examination, it was clear these two columns were identical. Therefore it was appropriate to remove one column and so 'quantity_group' was dropped."
   ]
  },
  {
   "cell_type": "code",
   "execution_count": 22,
   "id": "95a80a31-988f-47f1-8921-59f37bd19da0",
   "metadata": {},
   "outputs": [],
   "source": [
    "# Drop the \"quantity_group\" column\n",
    "merged_data.drop(columns=['quantity_group'], inplace=True)"
   ]
  },
  {
   "cell_type": "code",
   "execution_count": 23,
   "id": "49dd679e-f07d-49b0-b182-52513dcd1ade",
   "metadata": {},
   "outputs": [
    {
     "name": "stdout",
     "output_type": "stream",
     "text": [
      "Unique values in 'water_quality':\n",
      "['soft' 'salty' 'milky' 'unknown' 'fluoride' 'coloured' 'salty abandoned'\n",
      " 'fluoride abandoned']\n",
      "\n",
      "Unique values in 'quality_group':\n",
      "['good' 'salty' 'milky' 'unknown' 'fluoride' 'colored']\n",
      "Number of NaN values in 'water_quality': 0\n",
      "Number of NaN values in 'quality_group': 0\n"
     ]
    }
   ],
   "source": [
    "print(\"Unique values in 'water_quality':\")\n",
    "print(merged_data['water_quality'].unique())\n",
    "\n",
    "print(\"\\nUnique values in 'quality_group':\")\n",
    "print(merged_data['quality_group'].unique())\n",
    "print(\"Number of NaN values in 'water_quality':\", merged_data['water_quality'].isna().sum())\n",
    "print(\"Number of NaN values in 'quality_group':\", merged_data['quality_group'].isna().sum())\n"
   ]
  },
  {
   "cell_type": "code",
   "execution_count": 24,
   "id": "4e72672f-9b5a-4f38-a9fc-bd54c6ee529f",
   "metadata": {},
   "outputs": [
    {
     "name": "stdout",
     "output_type": "stream",
     "text": [
      "Number of 'unknown' values in 'water_quality': 1876\n",
      "Number of 'unknown' values in 'quality_group': 1876\n"
     ]
    }
   ],
   "source": [
    "# Count occurrences of 'unknown' in 'water_quality'\n",
    "unknown_water_quality_count = merged_data['water_quality'].value_counts().get('unknown', 0)\n",
    "\n",
    "# Count occurrences of 'unknown' in 'quality_group'\n",
    "unknown_quality_group_count = merged_data['quality_group'].value_counts().get('unknown', 0)\n",
    "\n",
    "print(\"Number of 'unknown' values in 'water_quality':\", unknown_water_quality_count)\n",
    "print(\"Number of 'unknown' values in 'quality_group':\", unknown_quality_group_count)\n"
   ]
  },
  {
   "cell_type": "markdown",
   "id": "f1016839-e78e-494f-8794-6f631b1133c6",
   "metadata": {},
   "source": [
    "Upon examining the unique values in the 'water_quality and 'quality_group' columns, it's apparent that both columns represent the quality of water, but 'water_quality' provides more detailed distinctions with eight unique values, while 'quality_group' aggregates these into six categories.\n",
    "\n",
    "Considering the potential significance of the distinctions between different types of water quality, it may be beneficial to retain the column with more granular information ('wate_quality') and drop the column with fewer unique values ('quality_group'). By doing so, we maintain a more detailed representation of the types of quality of water in the dataset, which could potentially offer more insights during analysis or modeling.\n",
    "\n"
   ]
  },
  {
   "cell_type": "code",
   "execution_count": 25,
   "id": "2a31cc6d-8e44-4918-b4cc-962a9f4c893c",
   "metadata": {},
   "outputs": [],
   "source": [
    "# Drop the \"quantity_group\" column\n",
    "merged_data.drop(columns=['quality_group'], inplace=True)"
   ]
  },
  {
   "cell_type": "markdown",
   "id": "1b058301-41c4-46c7-93d9-fd42325d958d",
   "metadata": {},
   "source": [
    "The 'recorded_by' column contains only one unique value, indicating that all records in the dataset were recorded by the same entity or group. Since this column does not offer any variability or meaningful information for analysis, it does not contribute to our predictive modeling task. Therefore, removing it simplifies the dataset without sacrificing any relevant information, making it more efficient for further analysis and model building."
   ]
  },
  {
   "cell_type": "code",
   "execution_count": 26,
   "id": "0821deee-e181-4eed-8028-a57263b7168a",
   "metadata": {},
   "outputs": [],
   "source": [
    "# Drop the 'recorded_by' column\n",
    "merged_data.drop(columns=['recorded_by'], inplace=True)\n"
   ]
  },
  {
   "cell_type": "code",
   "execution_count": 27,
   "id": "d9f371d3-786a-4570-aa34-2525c3b19c6b",
   "metadata": {},
   "outputs": [
    {
     "name": "stdout",
     "output_type": "stream",
     "text": [
      "Unique values in 'payment':\n",
      "['pay annually' 'never pay' 'pay per bucket' 'unknown'\n",
      " 'pay when scheme fails' 'other' 'pay monthly']\n",
      "\n",
      "Unique values in 'payment_type':\n",
      "['annually' 'never pay' 'per bucket' 'unknown' 'on failure' 'other'\n",
      " 'monthly']\n",
      "Number of NaN values in 'payment': 0\n",
      "Number of NaN values in 'payment_type': 0\n"
     ]
    }
   ],
   "source": [
    "print(\"Unique values in 'payment':\")\n",
    "print(merged_data['payment'].unique())\n",
    "\n",
    "print(\"\\nUnique values in 'payment_type':\")\n",
    "print(merged_data['payment_type'].unique())\n",
    "print(\"Number of NaN values in 'payment':\", merged_data['payment'].isna().sum())\n",
    "print(\"Number of NaN values in 'payment_type':\", merged_data['payment_type'].isna().sum())\n"
   ]
  },
  {
   "cell_type": "code",
   "execution_count": 38,
   "id": "7acf3dac-00a9-4f9b-8465-b6804b752272",
   "metadata": {},
   "outputs": [],
   "source": [
    "# Drop the \"payment_type\" column\n",
    "merged_data.drop(columns=['payment_type'], inplace=True)"
   ]
  },
  {
   "cell_type": "markdown",
   "id": "2213e131-a1d5-4ca5-af21-367a5c0dc2d1",
   "metadata": {},
   "source": [
    "Upon examination, it was clear these two columns were identical. Therefore it was appropriate to remove one column and so 'payment_type' was dropped."
   ]
  },
  {
   "cell_type": "code",
   "execution_count": 29,
   "id": "90ff3efa-8e44-4a08-81c0-0b92114dd5fe",
   "metadata": {},
   "outputs": [
    {
     "name": "stdout",
     "output_type": "stream",
     "text": [
      "id                       59400\n",
      "amount_tsh                  98\n",
      "date_recorded              356\n",
      "gps_height                2428\n",
      "longitude                57516\n",
      "latitude                 57517\n",
      "num_private                 65\n",
      "basin                        9\n",
      "region                      21\n",
      "region_code                 27\n",
      "district_code               20\n",
      "lga                        125\n",
      "ward                      2092\n",
      "population                1049\n",
      "public_meeting               2\n",
      "scheme_management           12\n",
      "permit                       2\n",
      "construction_year           55\n",
      "extraction_type             18\n",
      "extraction_type_group       13\n",
      "extraction_type_class        7\n",
      "management_group             5\n",
      "payment                      7\n",
      "payment_type                 7\n",
      "water_quality                8\n",
      "quantity                     5\n",
      "source                      10\n",
      "source_type                  7\n",
      "source_class                 3\n",
      "waterpoint_type              7\n",
      "status_group                 3\n",
      "dtype: int64\n"
     ]
    }
   ],
   "source": [
    "# Get the number of unique values for each column in the merged dataset\n",
    "unique_values_counts = merged_data.nunique()\n",
    "\n",
    "# Display the number of unique values for each column\n",
    "print(unique_values_counts)"
   ]
  },
  {
   "cell_type": "code",
   "execution_count": 32,
   "id": "59a43524-2d36-4cbf-97fd-43060cd864fb",
   "metadata": {},
   "outputs": [
    {
     "name": "stdout",
     "output_type": "stream",
     "text": [
      "Unique values in 'source_type':\n",
      "['spring' 'rainwater harvesting' 'dam' 'borehole' 'other' 'shallow well'\n",
      " 'river/lake']\n",
      "Unique values in 'source':\n",
      "['spring' 'rainwater harvesting' 'dam' 'machine dbh' 'other'\n",
      " 'shallow well' 'river' 'hand dtw' 'lake' 'unknown']\n"
     ]
    }
   ],
   "source": [
    "# Unique values for source_type\n",
    "print(\"Unique values in 'source_type':\")\n",
    "print(merged_data['source_type'].unique())\n",
    "\n",
    "# Unique values for source\n",
    "print(\"Unique values in 'source':\")\n",
    "print(merged_data['source'].unique())\n"
   ]
  },
  {
   "cell_type": "markdown",
   "id": "04ce5f62-cbae-4385-ae3b-4b292b7b4d72",
   "metadata": {},
   "source": [
    "Upon examining the unique values in the 'source_type and 'source' columns, it's apparent that both columns represent the source of water, but 'source' provides more detailed distinctions with ten unique values, while 'source_type' has only seven catagories.\n",
    "\n",
    "Considering the potential significance of the distinctions between different sources of water, it may be beneficial to retain the column with more information ('source') and drop the column with fewer unique values ('source_type'). \n"
   ]
  },
  {
   "cell_type": "code",
   "execution_count": 33,
   "id": "c1b00551-9f0f-4293-8853-679f0d5273d1",
   "metadata": {},
   "outputs": [],
   "source": [
    "# Drop the 'source_type' column\n",
    "merged_data.drop(columns=['source_type'], inplace=True)"
   ]
  },
  {
   "cell_type": "code",
   "execution_count": 34,
   "id": "53c48ba2-1e36-4b9d-a2f6-ce0f6956e1e8",
   "metadata": {},
   "outputs": [
    {
     "name": "stdout",
     "output_type": "stream",
     "text": [
      "id                       59400\n",
      "amount_tsh                  98\n",
      "date_recorded              356\n",
      "gps_height                2428\n",
      "longitude                57516\n",
      "latitude                 57517\n",
      "num_private                 65\n",
      "basin                        9\n",
      "region                      21\n",
      "region_code                 27\n",
      "district_code               20\n",
      "lga                        125\n",
      "ward                      2092\n",
      "population                1049\n",
      "public_meeting               2\n",
      "scheme_management           12\n",
      "permit                       2\n",
      "construction_year           55\n",
      "extraction_type             18\n",
      "extraction_type_group       13\n",
      "extraction_type_class        7\n",
      "management_group             5\n",
      "payment                      7\n",
      "payment_type                 7\n",
      "water_quality                8\n",
      "quantity                     5\n",
      "source                      10\n",
      "source_class                 3\n",
      "waterpoint_type              7\n",
      "status_group                 3\n",
      "dtype: int64\n"
     ]
    }
   ],
   "source": [
    "# Get the number of unique values for each column in the merged dataset\n",
    "unique_values_counts = merged_data.nunique()\n",
    "\n",
    "# Display the number of unique values for each column\n",
    "print(unique_values_counts)"
   ]
  },
  {
   "cell_type": "code",
   "execution_count": 35,
   "id": "e14ecc72-93f7-49d0-a819-b962102f3772",
   "metadata": {},
   "outputs": [
    {
     "name": "stdout",
     "output_type": "stream",
     "text": [
      "Unique values in 'extraction_type':\n",
      "['gravity' 'submersible' 'swn 80' 'nira/tanira' 'india mark ii' 'other'\n",
      " 'ksb' 'mono' 'windmill' 'afridev' 'other - rope pump' 'india mark iii'\n",
      " 'other - swn 81' 'other - play pump' 'cemo' 'climax' 'walimi'\n",
      " 'other - mkulima/shinyanga']\n",
      "\n",
      "Unique values in 'extraction_type_group':\n",
      "['gravity' 'submersible' 'swn 80' 'nira/tanira' 'india mark ii' 'other'\n",
      " 'mono' 'wind-powered' 'afridev' 'rope pump' 'india mark iii'\n",
      " 'other handpump' 'other motorpump']\n",
      "\n",
      "Unique values in 'extraction_type_class':\n",
      "['gravity' 'submersible' 'handpump' 'other' 'motorpump' 'wind-powered'\n",
      " 'rope pump']\n"
     ]
    }
   ],
   "source": [
    "# Unique values in 'extraction_type'\n",
    "print(\"Unique values in 'extraction_type':\")\n",
    "print(merged_data['extraction_type'].unique())\n",
    "\n",
    "# Unique values in 'extraction_type_group'\n",
    "print(\"\\nUnique values in 'extraction_type_group':\")\n",
    "print(merged_data['extraction_type_group'].unique())\n",
    "\n",
    "# Unique values in 'extraction_type_class'\n",
    "print(\"\\nUnique values in 'extraction_type_class':\")\n",
    "print(merged_data['extraction_type_class'].unique())\n"
   ]
  },
  {
   "cell_type": "markdown",
   "id": "b4e3b260-adaa-4daa-b3f3-31b010cc2d58",
   "metadata": {},
   "source": [
    "Upon examining the dataset, it's evident that the 'extraction_type' column provides a more detailed categorization with a wider range of variables compared to 'extraction_type_group' and 'extraction_type_class'. While 'extraction_type' contains 18 unique values, 'extraction_type_group' and 'extraction_type_class' have fewer categories, potentially resulting in loss of information. Hence, we have decided to retain 'extraction_type' and drop the other two columns for a more comprehensive analysis.\n"
   ]
  },
  {
   "cell_type": "code",
   "execution_count": 36,
   "id": "a681daab-dd1f-4734-9d9a-8b1ffd1b93b9",
   "metadata": {},
   "outputs": [],
   "source": [
    "# Drop 'extraction_type_group' and 'extraction_type_class'\n",
    "merged_data.drop(columns=['extraction_type_group', 'extraction_type_class'], inplace=True)\n"
   ]
  },
  {
   "cell_type": "code",
   "execution_count": 39,
   "id": "a054dda9-6ecf-4da9-a799-958efc880b17",
   "metadata": {},
   "outputs": [
    {
     "name": "stdout",
     "output_type": "stream",
     "text": [
      "id                   59400\n",
      "amount_tsh              98\n",
      "date_recorded          356\n",
      "gps_height            2428\n",
      "longitude            57516\n",
      "latitude             57517\n",
      "num_private             65\n",
      "basin                    9\n",
      "region                  21\n",
      "region_code             27\n",
      "district_code           20\n",
      "lga                    125\n",
      "ward                  2092\n",
      "population            1049\n",
      "public_meeting           2\n",
      "scheme_management       12\n",
      "permit                   2\n",
      "construction_year       55\n",
      "extraction_type         18\n",
      "management_group         5\n",
      "payment                  7\n",
      "water_quality            8\n",
      "quantity                 5\n",
      "source                  10\n",
      "source_class             3\n",
      "waterpoint_type          7\n",
      "status_group             3\n",
      "dtype: int64\n"
     ]
    }
   ],
   "source": [
    "# Get the number of unique values for each column in the merged dataset\n",
    "unique_values_counts = merged_data.nunique()\n",
    "\n",
    "# Display the number of unique values for each column\n",
    "print(unique_values_counts)"
   ]
  },
  {
   "cell_type": "code",
   "execution_count": 40,
   "id": "b89e06b2-8ea6-4d8d-819b-9a1d311caf9a",
   "metadata": {},
   "outputs": [
    {
     "name": "stdout",
     "output_type": "stream",
     "text": [
      "Unique values in 'region_code':\n",
      "[11 20 21 90 18  4 17 14 60 10  3 15 19 16 80  1  6  2 12 13  5  7 99 24\n",
      "  9  8 40]\n",
      "\n",
      "Unique values in 'district_code':\n",
      "[ 5  2  4 63  1  8  3  6 43  7 23 33 53 62 60 30 13  0 80 67]\n"
     ]
    }
   ],
   "source": [
    "print(\"Unique values in 'region_code':\")\n",
    "print(merged_data['region_code'].unique())\n",
    "\n",
    "print(\"\\nUnique values in 'district_code':\")\n",
    "print(merged_data['district_code'].unique())\n"
   ]
  },
  {
   "cell_type": "code",
   "execution_count": null,
   "id": "af4f1ddf-5fcd-4cd1-aa19-f580073de0ec",
   "metadata": {},
   "outputs": [],
   "source": []
  }
 ],
 "metadata": {
  "kernelspec": {
   "display_name": "Python 3 (ipykernel)",
   "language": "python",
   "name": "python3"
  },
  "language_info": {
   "codemirror_mode": {
    "name": "ipython",
    "version": 3
   },
   "file_extension": ".py",
   "mimetype": "text/x-python",
   "name": "python",
   "nbconvert_exporter": "python",
   "pygments_lexer": "ipython3",
   "version": "3.8.16"
  }
 },
 "nbformat": 4,
 "nbformat_minor": 5
}
